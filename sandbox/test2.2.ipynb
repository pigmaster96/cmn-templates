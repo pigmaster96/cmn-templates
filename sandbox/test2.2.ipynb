{
 "cells": [
  {
   "cell_type": "code",
   "execution_count": 4,
   "id": "95be4606",
   "metadata": {},
   "outputs": [],
   "source": [
    "import random\n",
    "import time\n",
    "import numpy as np\n",
    "import matplotlib.pyplot as plt\n",
    "import pandas as pd\n",
    "import scipy as sk\n",
    "import pickle\n",
    "import mne\n",
    "import tqdm\n",
    "from tqdm import trange\n",
    "import os\n",
    "\n",
    "DEVICE='cuda'\n",
    "os.environ['CUDA_LAUNCH_BLOCKING'] = \"1\"\n",
    "import torch\n",
    "from torch.utils.data import DataLoader, TensorDataset\n",
    "import torch.optim as optim\n",
    "\n",
    "from torch import nn"
   ]
  },
  {
   "cell_type": "code",
   "execution_count": 6,
   "id": "658f9e62",
   "metadata": {},
   "outputs": [
    {
     "name": "stderr",
     "output_type": "stream",
     "text": [
      "<>:8: SyntaxWarning: invalid escape sequence '\\d'\n",
      "<>:8: SyntaxWarning: invalid escape sequence '\\s'\n",
      "<>:10: SyntaxWarning: invalid escape sequence '\\d'\n",
      "<>:10: SyntaxWarning: invalid escape sequence '\\s'\n",
      "<>:8: SyntaxWarning: invalid escape sequence '\\d'\n",
      "<>:8: SyntaxWarning: invalid escape sequence '\\s'\n",
      "<>:10: SyntaxWarning: invalid escape sequence '\\d'\n",
      "<>:10: SyntaxWarning: invalid escape sequence '\\s'\n",
      "C:\\Users\\malco\\AppData\\Local\\Temp\\ipykernel_20512\\2464512495.py:8: SyntaxWarning: invalid escape sequence '\\d'\n",
      "  path=f'ds005540\\derivatives\\sub-0{sub}\\ses-vid\\eeg\\sub-0{sub}_ses-vid_task-emotion_reorder.npy'\n",
      "C:\\Users\\malco\\AppData\\Local\\Temp\\ipykernel_20512\\2464512495.py:8: SyntaxWarning: invalid escape sequence '\\s'\n",
      "  path=f'ds005540\\derivatives\\sub-0{sub}\\ses-vid\\eeg\\sub-0{sub}_ses-vid_task-emotion_reorder.npy'\n",
      "C:\\Users\\malco\\AppData\\Local\\Temp\\ipykernel_20512\\2464512495.py:10: SyntaxWarning: invalid escape sequence '\\d'\n",
      "  path=f'ds005540\\derivatives\\sub-{sub}\\ses-vid\\eeg\\sub-{sub}_ses-vid_task-emotion_reorder.npy'\n",
      "C:\\Users\\malco\\AppData\\Local\\Temp\\ipykernel_20512\\2464512495.py:10: SyntaxWarning: invalid escape sequence '\\s'\n",
      "  path=f'ds005540\\derivatives\\sub-{sub}\\ses-vid\\eeg\\sub-{sub}_ses-vid_task-emotion_reorder.npy'\n"
     ]
    }
   ],
   "source": [
    "def extract_data(sub_range,verbose=False,feature_func=None,**kwargs):\n",
    "    first=sub_range[0]\n",
    "    last=sub_range[-1]\n",
    "\n",
    "    for sub in trange(first,last+1): \n",
    "        #read data\n",
    "        if sub <=9:\n",
    "            path=f'ds005540\\derivatives\\sub-0{sub}\\ses-vid\\eeg\\sub-0{sub}_ses-vid_task-emotion_reorder.npy'\n",
    "        else:\n",
    "            path=f'ds005540\\derivatives\\sub-{sub}\\ses-vid\\eeg\\sub-{sub}_ses-vid_task-emotion_reorder.npy'\n",
    "        datatemp=np.load(path,allow_pickle=True)\n",
    "        datatemp=np.permute_dims(datatemp,[1,0,2])\n",
    "\n",
    "        #if we want to convert features\n",
    "        if not feature_func==None:\n",
    "            datatemp=feature_func(datatemp,info=info)\n",
    "\n",
    "        #cat data along new dimension\n",
    "        datatemp=torch.tensor(datatemp).unsqueeze(0)\n",
    "        if sub==first:\n",
    "            data=datatemp\n",
    "        else:\n",
    "            data=torch.cat([data,datatemp],axis=0)\n",
    "\n",
    "        if verbose:\n",
    "            print(f'subject {sub} data extracted, vector size: {data.shape}')\n",
    "    return data\n",
    "\n",
    "def shuffle_and_split_data(X,y):\n",
    "    \"\"\"\n",
    "    Helper function to shuffle and split data\n",
    "\n",
    "    Args:\n",
    "        X: torch.tensor\n",
    "        Input data\n",
    "        y: torch.tensor\n",
    "        Corresponding target variables\n",
    "        seed: int\n",
    "        Set seed for reproducibility\n",
    "\n",
    "    Returns:\n",
    "        X_test: torch.tensor\n",
    "        Test data [20% of X]\n",
    "        y_test: torch.tensor\n",
    "        Labels corresponding to above mentioned test data\n",
    "        X_train: torch.tensor\n",
    "        Train data [80% of X]\n",
    "        y_train: torch.tensor\n",
    "        Labels corresponding to above mentioned train data\n",
    "    \"\"\"\n",
    "    \n",
    "    N=X.size(0)\n",
    "    shuffled_indices=torch.randperm(N) #get shuffled indices\n",
    "    X=X[shuffled_indices]\n",
    "    y=y[shuffled_indices]\n",
    "\n",
    "    # split by 20% into train-test set\n",
    "    test_size=int(0.2*N)\n",
    "    X_train=X[test_size:]\n",
    "    y_train=y[test_size:]\n",
    "    X_test=X[:test_size]\n",
    "    y_test=y[:test_size]\n",
    "\n",
    "    return X_test,y_test,X_train,y_train\n",
    "\n",
    "#create labels\n",
    "#sad-dis-fear-neu-joy-ten-ins correspond to 0-6 respectively, each sample has 21 trials, for (7 emotions x 3 trials)\n",
    "labels=np.array([])\n",
    "for i in range(0,7):\n",
    "    for n in range(0,3):\n",
    "        labels=np.concatenate([labels,np.array([i])],axis=0)\n",
    "labels=torch.tensor(labels)"
   ]
  },
  {
   "cell_type": "code",
   "execution_count": 7,
   "id": "706e6638",
   "metadata": {},
   "outputs": [
    {
     "name": "stderr",
     "output_type": "stream",
     "text": [
      "100%|██████████| 20/20 [00:03<00:00,  5.41it/s]\n"
     ]
    }
   ],
   "source": [
    "data=extract_data([1,20])"
   ]
  },
  {
   "cell_type": "code",
   "execution_count": 8,
   "id": "ca863e0b",
   "metadata": {},
   "outputs": [],
   "source": [
    "def process_data(data):\n",
    "    '''further process into trials (1 second trials, 200 points)'''\n",
    "    for trial in tqdm.tqdm(range(int(data.size(3)/200))):\n",
    "        datatrial=data[:,:,:,trial*200:(trial+1)*200]\n",
    "        datatrial=torch.unsqueeze(datatrial,2)\n",
    "        if trial==0:\n",
    "            newdata=datatrial\n",
    "        else:\n",
    "            newdata=torch.concatenate((newdata,datatrial),2)\n",
    "    return newdata"
   ]
  },
  {
   "cell_type": "code",
   "execution_count": 9,
   "id": "44552c36",
   "metadata": {},
   "outputs": [
    {
     "name": "stderr",
     "output_type": "stream",
     "text": [
      "100%|██████████| 30/30 [00:03<00:00,  8.57it/s]\n"
     ]
    },
    {
     "data": {
      "text/plain": [
       "torch.Size([20, 21, 30, 64, 200])"
      ]
     },
     "execution_count": 9,
     "metadata": {},
     "output_type": "execute_result"
    }
   ],
   "source": [
    "data=process_data(data)\n",
    "data.shape #subject,label,trials,electrodes,timepoints"
   ]
  },
  {
   "cell_type": "code",
   "execution_count": 10,
   "id": "d3f6794a",
   "metadata": {},
   "outputs": [
    {
     "name": "stderr",
     "output_type": "stream",
     "text": [
      "100%|██████████| 21/21 [00:02<00:00, 10.31it/s]\n",
      "100%|██████████| 20/20 [00:02<00:00,  9.25it/s]"
     ]
    },
    {
     "name": "stdout",
     "output_type": "stream",
     "text": [
      "torch.Size([2520, 1, 64, 200]) torch.Size([2520]) torch.Size([10080, 1, 64, 200]) torch.Size([10080])\n"
     ]
    },
    {
     "name": "stderr",
     "output_type": "stream",
     "text": [
      "\n"
     ]
    }
   ],
   "source": [
    "for label in tqdm.tqdm(range(21)): #combine labels and trials\n",
    "    temp=data[:,label,:,:,:]\n",
    "    if label==0:\n",
    "        X=temp\n",
    "        y=labels[label]*torch.ones(30,1)\n",
    "    else:\n",
    "        X=torch.concatenate((X,temp),dim=1)\n",
    "        y=torch.concatenate((y,labels[label]*torch.ones(30,1)),dim=0)\n",
    "\n",
    "#combine subjects\n",
    "for subject in tqdm.tqdm(range(X.size(0))):\n",
    "    temp=X[subject,:,:,:]\n",
    "    if subject==0:\n",
    "        X_full=temp\n",
    "        y_full=y\n",
    "    else:\n",
    "        X_full=torch.concatenate((X_full,temp),dim=0)\n",
    "        y_full=torch.concatenate((y_full,y),dim=0)\n",
    "        \n",
    "#split data\n",
    "X_test,y_test,X_train,y_train=shuffle_and_split_data(X_full.unsqueeze(1),y_full.squeeze())\n",
    "\n",
    "print(X_test.shape,y_test.shape,X_train.shape,y_train.shape)"
   ]
  },
  {
   "cell_type": "code",
   "execution_count": 11,
   "id": "8ff9f70b",
   "metadata": {},
   "outputs": [],
   "source": [
    "#now the model\n",
    "class Net(nn.Module):\n",
    "    def __init__(self,dropout):\n",
    "        super(Net,self).__init__()\n",
    "        self.conv1=nn.Conv2d(1,32,7,stride=1,padding=3)\n",
    "        self.conv2=nn.Conv2d(32,16,7,stride=1,padding=3)\n",
    "        self.conv3=nn.Conv2d(16,8,5,stride=1,padding=2)\n",
    "        self.conv4=nn.Conv2d(8,16,5,stride=1,padding=2)\n",
    "        self.conv5=nn.Conv2d(16,4,3,stride=1,padding=1)\n",
    "        self.pool1=nn.MaxPool2d(2)\n",
    "        self.pool2=nn.MaxPool2d(4)\n",
    "        self.fc1=nn.Linear(800,7)\n",
    "        self.dropout1=nn.Dropout2d(dropout)\n",
    "        self.batchnorm1=nn.BatchNorm2d(32)\n",
    "        self.batchnorm2=nn.BatchNorm2d(16)\n",
    "        self.batchnorm3=nn.BatchNorm2d(8)\n",
    "        self.batchnorm4=nn.BatchNorm2d(4)\n",
    "\n",
    "    def forward(self,x):\n",
    "        x=self.conv1(x)\n",
    "        x=self.batchnorm1(x)\n",
    "        x=self.dropout1(x)\n",
    "        x=nn.functional.relu(x)\n",
    "\n",
    "        x=self.conv2(x)\n",
    "        x=self.batchnorm2(x)\n",
    "        x=self.dropout1(x)\n",
    "        x=nn.functional.relu(x)\n",
    "        x=self.pool1(x)\n",
    "\n",
    "        x=self.conv3(x)\n",
    "        x=self.batchnorm3(x)\n",
    "        x=self.dropout1(x)\n",
    "        x=nn.functional.relu(x)\n",
    "\n",
    "        x=self.conv4(x)\n",
    "        x=self.batchnorm2(x)\n",
    "        x=self.dropout1(x)\n",
    "        x=nn.functional.relu(x)\n",
    "\n",
    "        x=self.conv5(x)\n",
    "        x=self.batchnorm4(x)\n",
    "        x=self.dropout1(x)\n",
    "        x=nn.functional.relu(x)\n",
    "        x=self.pool2(x)\n",
    "\n",
    "        x=torch.flatten(x,1)\n",
    "        x=self.fc1(x)\n",
    "        return x\n",
    "    \n",
    "\n",
    "\n",
    "def train_test(net,epochs,train_loader,test_loader,device):\n",
    "    criterion=nn.CrossEntropyLoss()\n",
    "    optimizer=optim.Adam(net.parameters(),lr=1e-2)\n",
    "    train_acc=[]\n",
    "    train_loss=[]\n",
    "    test_acc=[]\n",
    "    test_loss=[]\n",
    "    net.to(device)\n",
    "    for epoch in tqdm.tqdm(range(epochs)):\n",
    "        net.train()\n",
    "        running_loss=0.0\n",
    "        correct,total=0,0\n",
    "        for i,data in enumerate(train_loader,start=0):\n",
    "            inputs,labels=data\n",
    "            inputs=inputs.to(device).float()\n",
    "            labels=labels.to(device).long()\n",
    "            \n",
    "            #train\n",
    "            optimizer.zero_grad()\n",
    "            outputs=net.forward(inputs)\n",
    "            loss=criterion(outputs,labels)\n",
    "            loss.backward()\n",
    "            optimizer.step()\n",
    "\n",
    "            running_loss+=loss.item()\n",
    "            #training accuracy\n",
    "            _,predicted=torch.max(outputs,1)\n",
    "            total+=labels.size(0)\n",
    "            correct+=(predicted==labels).sum()\n",
    "        train_loss.append(running_loss/len(train_loader))\n",
    "        train_acc.append(correct/total)\n",
    "        print(f\"epoch {epoch} --> TRAIN loss: {running_loss/len(train_loader):.5f}, TRAIN accuracy: {correct/total:.2f}\")\n",
    "\n",
    "        #eval on test\n",
    "        net.eval()\n",
    "        running_loss=0.0\n",
    "        correct,total=0,0\n",
    "        for inputs,labels in test_loader:\n",
    "            inputs,labels=inputs.to(device).float(),labels.to(device).long()\n",
    "            outputs=net.forward(inputs)\n",
    "            loss=criterion(outputs,labels)\n",
    "            running_loss+=loss.item()\n",
    "\n",
    "            #test acc\n",
    "            _,predicted=torch.max(outputs,1)\n",
    "            total+=labels.size(0)\n",
    "            correct+=(predicted==labels).sum()\n",
    "        test_loss.append(running_loss/len(test_loader))\n",
    "        test_acc.append(correct/total)\n",
    "        print(f\"epoch {epoch} --> TEST loss: {running_loss/len(train_loader):.2f}, TEST accuracy: {correct/total:.2f}\")\n",
    "\n",
    "    return train_loss,train_acc,test_loss,test_acc\n",
    "\n",
    "\n",
    "batch_size=300\n",
    "test_data = TensorDataset(X_test, y_test)\n",
    "test_loader = DataLoader(test_data, batch_size=batch_size,\n",
    "                         shuffle=False,num_workers=1\n",
    "                         )\n",
    "\n",
    "train_data = TensorDataset(X_train, y_train)\n",
    "train_loader = DataLoader(train_data,\n",
    "                          batch_size=batch_size,\n",
    "                          drop_last=False,\n",
    "                          shuffle=True,num_workers=1\n",
    "                          )"
   ]
  },
  {
   "cell_type": "code",
   "execution_count": 12,
   "id": "08785fe5",
   "metadata": {},
   "outputs": [
    {
     "name": "stderr",
     "output_type": "stream",
     "text": [
      "  0%|          | 0/250 [00:00<?, ?it/s]"
     ]
    },
    {
     "name": "stdout",
     "output_type": "stream",
     "text": [
      "epoch 0 --> TRAIN loss: 2.10424, TRAIN accuracy: 0.14\n"
     ]
    },
    {
     "name": "stderr",
     "output_type": "stream",
     "text": [
      "  0%|          | 1/250 [00:19<1:20:42, 19.45s/it]"
     ]
    },
    {
     "name": "stdout",
     "output_type": "stream",
     "text": [
      "epoch 0 --> TEST loss: 0.52, TEST accuracy: 0.14\n",
      "epoch 1 --> TRAIN loss: 1.94633, TRAIN accuracy: 0.14\n"
     ]
    },
    {
     "name": "stderr",
     "output_type": "stream",
     "text": [
      "  1%|          | 2/250 [00:35<1:11:53, 17.39s/it]"
     ]
    },
    {
     "name": "stdout",
     "output_type": "stream",
     "text": [
      "epoch 1 --> TEST loss: 0.52, TEST accuracy: 0.13\n",
      "epoch 2 --> TRAIN loss: 1.94683, TRAIN accuracy: 0.14\n"
     ]
    },
    {
     "name": "stderr",
     "output_type": "stream",
     "text": [
      "  1%|          | 3/250 [00:51<1:08:52, 16.73s/it]"
     ]
    },
    {
     "name": "stdout",
     "output_type": "stream",
     "text": [
      "epoch 2 --> TEST loss: 0.52, TEST accuracy: 0.13\n",
      "epoch 3 --> TRAIN loss: 1.94631, TRAIN accuracy: 0.14\n"
     ]
    },
    {
     "name": "stderr",
     "output_type": "stream",
     "text": [
      "  2%|▏         | 4/250 [01:07<1:07:46, 16.53s/it]"
     ]
    },
    {
     "name": "stdout",
     "output_type": "stream",
     "text": [
      "epoch 3 --> TEST loss: 0.52, TEST accuracy: 0.13\n",
      "epoch 4 --> TRAIN loss: 1.94622, TRAIN accuracy: 0.14\n"
     ]
    },
    {
     "name": "stderr",
     "output_type": "stream",
     "text": [
      "  2%|▏         | 5/250 [01:23<1:06:41, 16.33s/it]"
     ]
    },
    {
     "name": "stdout",
     "output_type": "stream",
     "text": [
      "epoch 4 --> TEST loss: 0.52, TEST accuracy: 0.13\n",
      "epoch 5 --> TRAIN loss: 1.94610, TRAIN accuracy: 0.14\n"
     ]
    },
    {
     "name": "stderr",
     "output_type": "stream",
     "text": [
      "  2%|▏         | 6/250 [01:39<1:05:56, 16.22s/it]"
     ]
    },
    {
     "name": "stdout",
     "output_type": "stream",
     "text": [
      "epoch 5 --> TEST loss: 0.52, TEST accuracy: 0.13\n",
      "epoch 6 --> TRAIN loss: 1.94615, TRAIN accuracy: 0.15\n"
     ]
    },
    {
     "name": "stderr",
     "output_type": "stream",
     "text": [
      "  3%|▎         | 7/250 [01:55<1:05:23, 16.15s/it]"
     ]
    },
    {
     "name": "stdout",
     "output_type": "stream",
     "text": [
      "epoch 6 --> TEST loss: 0.52, TEST accuracy: 0.13\n",
      "epoch 7 --> TRAIN loss: 1.94622, TRAIN accuracy: 0.14\n"
     ]
    },
    {
     "name": "stderr",
     "output_type": "stream",
     "text": [
      "  3%|▎         | 8/250 [02:11<1:04:41, 16.04s/it]"
     ]
    },
    {
     "name": "stdout",
     "output_type": "stream",
     "text": [
      "epoch 7 --> TEST loss: 0.52, TEST accuracy: 0.13\n",
      "epoch 8 --> TRAIN loss: 1.94604, TRAIN accuracy: 0.15\n"
     ]
    },
    {
     "name": "stderr",
     "output_type": "stream",
     "text": [
      "  4%|▎         | 9/250 [02:27<1:04:44, 16.12s/it]"
     ]
    },
    {
     "name": "stdout",
     "output_type": "stream",
     "text": [
      "epoch 8 --> TEST loss: 0.52, TEST accuracy: 0.13\n",
      "epoch 9 --> TRAIN loss: 1.94607, TRAIN accuracy: 0.14\n"
     ]
    },
    {
     "name": "stderr",
     "output_type": "stream",
     "text": [
      "  4%|▍         | 10/250 [02:44<1:05:14, 16.31s/it]"
     ]
    },
    {
     "name": "stdout",
     "output_type": "stream",
     "text": [
      "epoch 9 --> TEST loss: 0.52, TEST accuracy: 0.13\n",
      "epoch 10 --> TRAIN loss: 1.94608, TRAIN accuracy: 0.14\n"
     ]
    },
    {
     "name": "stderr",
     "output_type": "stream",
     "text": [
      "  4%|▍         | 11/250 [03:01<1:06:31, 16.70s/it]"
     ]
    },
    {
     "name": "stdout",
     "output_type": "stream",
     "text": [
      "epoch 10 --> TEST loss: 0.52, TEST accuracy: 0.13\n",
      "epoch 11 --> TRAIN loss: 1.94621, TRAIN accuracy: 0.14\n"
     ]
    },
    {
     "name": "stderr",
     "output_type": "stream",
     "text": [
      "  5%|▍         | 12/250 [03:19<1:07:32, 17.03s/it]"
     ]
    },
    {
     "name": "stdout",
     "output_type": "stream",
     "text": [
      "epoch 11 --> TEST loss: 0.52, TEST accuracy: 0.13\n",
      "epoch 12 --> TRAIN loss: 1.94673, TRAIN accuracy: 0.14\n"
     ]
    },
    {
     "name": "stderr",
     "output_type": "stream",
     "text": [
      "  5%|▌         | 13/250 [03:37<1:08:19, 17.30s/it]"
     ]
    },
    {
     "name": "stdout",
     "output_type": "stream",
     "text": [
      "epoch 12 --> TEST loss: 0.52, TEST accuracy: 0.13\n",
      "epoch 13 --> TRAIN loss: 1.94609, TRAIN accuracy: 0.14\n"
     ]
    },
    {
     "name": "stderr",
     "output_type": "stream",
     "text": [
      "  6%|▌         | 14/250 [03:54<1:07:37, 17.19s/it]"
     ]
    },
    {
     "name": "stdout",
     "output_type": "stream",
     "text": [
      "epoch 13 --> TEST loss: 0.52, TEST accuracy: 0.13\n",
      "epoch 14 --> TRAIN loss: 1.94617, TRAIN accuracy: 0.14\n"
     ]
    },
    {
     "name": "stderr",
     "output_type": "stream",
     "text": [
      "  6%|▌         | 15/250 [04:10<1:06:22, 16.95s/it]"
     ]
    },
    {
     "name": "stdout",
     "output_type": "stream",
     "text": [
      "epoch 14 --> TEST loss: 0.52, TEST accuracy: 0.13\n",
      "epoch 15 --> TRAIN loss: 1.94609, TRAIN accuracy: 0.15\n"
     ]
    },
    {
     "name": "stderr",
     "output_type": "stream",
     "text": [
      "  6%|▋         | 16/250 [04:27<1:05:37, 16.83s/it]"
     ]
    },
    {
     "name": "stdout",
     "output_type": "stream",
     "text": [
      "epoch 15 --> TEST loss: 0.52, TEST accuracy: 0.13\n",
      "epoch 16 --> TRAIN loss: 1.94608, TRAIN accuracy: 0.14\n"
     ]
    },
    {
     "name": "stderr",
     "output_type": "stream",
     "text": [
      "  7%|▋         | 17/250 [04:43<1:04:38, 16.65s/it]"
     ]
    },
    {
     "name": "stdout",
     "output_type": "stream",
     "text": [
      "epoch 16 --> TEST loss: 0.52, TEST accuracy: 0.13\n",
      "epoch 17 --> TRAIN loss: 1.94614, TRAIN accuracy: 0.14\n"
     ]
    },
    {
     "name": "stderr",
     "output_type": "stream",
     "text": [
      "  7%|▋         | 18/250 [05:00<1:04:27, 16.67s/it]"
     ]
    },
    {
     "name": "stdout",
     "output_type": "stream",
     "text": [
      "epoch 17 --> TEST loss: 0.52, TEST accuracy: 0.13\n",
      "epoch 18 --> TRAIN loss: 1.94605, TRAIN accuracy: 0.15\n"
     ]
    },
    {
     "name": "stderr",
     "output_type": "stream",
     "text": [
      "  8%|▊         | 19/250 [05:16<1:03:38, 16.53s/it]"
     ]
    },
    {
     "name": "stdout",
     "output_type": "stream",
     "text": [
      "epoch 18 --> TEST loss: 0.52, TEST accuracy: 0.13\n",
      "epoch 19 --> TRAIN loss: 1.94623, TRAIN accuracy: 0.14\n"
     ]
    },
    {
     "name": "stderr",
     "output_type": "stream",
     "text": [
      "  8%|▊         | 20/250 [05:32<1:02:42, 16.36s/it]"
     ]
    },
    {
     "name": "stdout",
     "output_type": "stream",
     "text": [
      "epoch 19 --> TEST loss: 0.52, TEST accuracy: 0.13\n",
      "epoch 20 --> TRAIN loss: 1.94642, TRAIN accuracy: 0.14\n"
     ]
    },
    {
     "name": "stderr",
     "output_type": "stream",
     "text": [
      "  8%|▊         | 21/250 [05:48<1:01:54, 16.22s/it]"
     ]
    },
    {
     "name": "stdout",
     "output_type": "stream",
     "text": [
      "epoch 20 --> TEST loss: 0.52, TEST accuracy: 0.14\n",
      "epoch 21 --> TRAIN loss: 1.94612, TRAIN accuracy: 0.14\n"
     ]
    },
    {
     "name": "stderr",
     "output_type": "stream",
     "text": [
      "  9%|▉         | 22/250 [06:04<1:01:47, 16.26s/it]"
     ]
    },
    {
     "name": "stdout",
     "output_type": "stream",
     "text": [
      "epoch 21 --> TEST loss: 0.52, TEST accuracy: 0.13\n",
      "epoch 22 --> TRAIN loss: 1.94650, TRAIN accuracy: 0.14\n"
     ]
    },
    {
     "name": "stderr",
     "output_type": "stream",
     "text": [
      "  9%|▉         | 23/250 [06:21<1:01:41, 16.31s/it]"
     ]
    },
    {
     "name": "stdout",
     "output_type": "stream",
     "text": [
      "epoch 22 --> TEST loss: 0.52, TEST accuracy: 0.13\n",
      "epoch 23 --> TRAIN loss: 1.94617, TRAIN accuracy: 0.15\n"
     ]
    },
    {
     "name": "stderr",
     "output_type": "stream",
     "text": [
      " 10%|▉         | 24/250 [06:37<1:01:14, 16.26s/it]"
     ]
    },
    {
     "name": "stdout",
     "output_type": "stream",
     "text": [
      "epoch 23 --> TEST loss: 0.52, TEST accuracy: 0.13\n",
      "epoch 24 --> TRAIN loss: 1.94610, TRAIN accuracy: 0.14\n"
     ]
    },
    {
     "name": "stderr",
     "output_type": "stream",
     "text": [
      " 10%|█         | 25/250 [06:53<1:00:56, 16.25s/it]"
     ]
    },
    {
     "name": "stdout",
     "output_type": "stream",
     "text": [
      "epoch 24 --> TEST loss: 0.52, TEST accuracy: 0.13\n",
      "epoch 25 --> TRAIN loss: 1.94611, TRAIN accuracy: 0.14\n"
     ]
    },
    {
     "name": "stderr",
     "output_type": "stream",
     "text": [
      " 10%|█         | 26/250 [07:09<1:00:20, 16.16s/it]"
     ]
    },
    {
     "name": "stdout",
     "output_type": "stream",
     "text": [
      "epoch 25 --> TEST loss: 0.52, TEST accuracy: 0.13\n",
      "epoch 26 --> TRAIN loss: 1.94625, TRAIN accuracy: 0.14\n"
     ]
    },
    {
     "name": "stderr",
     "output_type": "stream",
     "text": [
      " 11%|█         | 27/250 [07:25<59:41, 16.06s/it]  "
     ]
    },
    {
     "name": "stdout",
     "output_type": "stream",
     "text": [
      "epoch 26 --> TEST loss: 0.52, TEST accuracy: 0.13\n",
      "epoch 27 --> TRAIN loss: 1.94609, TRAIN accuracy: 0.14\n"
     ]
    },
    {
     "name": "stderr",
     "output_type": "stream",
     "text": [
      " 11%|█         | 28/250 [07:41<59:17, 16.03s/it]"
     ]
    },
    {
     "name": "stdout",
     "output_type": "stream",
     "text": [
      "epoch 27 --> TEST loss: 0.52, TEST accuracy: 0.13\n",
      "epoch 28 --> TRAIN loss: 1.94601, TRAIN accuracy: 0.14\n"
     ]
    },
    {
     "name": "stderr",
     "output_type": "stream",
     "text": [
      " 12%|█▏        | 29/250 [07:57<59:05, 16.04s/it]"
     ]
    },
    {
     "name": "stdout",
     "output_type": "stream",
     "text": [
      "epoch 28 --> TEST loss: 0.52, TEST accuracy: 0.13\n",
      "epoch 29 --> TRAIN loss: 1.94608, TRAIN accuracy: 0.15\n"
     ]
    },
    {
     "name": "stderr",
     "output_type": "stream",
     "text": [
      " 12%|█▏        | 30/250 [08:13<58:55, 16.07s/it]"
     ]
    },
    {
     "name": "stdout",
     "output_type": "stream",
     "text": [
      "epoch 29 --> TEST loss: 0.52, TEST accuracy: 0.13\n",
      "epoch 30 --> TRAIN loss: 1.94629, TRAIN accuracy: 0.14\n"
     ]
    },
    {
     "name": "stderr",
     "output_type": "stream",
     "text": [
      " 12%|█▏        | 31/250 [08:29<58:51, 16.12s/it]"
     ]
    },
    {
     "name": "stdout",
     "output_type": "stream",
     "text": [
      "epoch 30 --> TEST loss: 0.52, TEST accuracy: 0.13\n",
      "epoch 31 --> TRAIN loss: 1.94613, TRAIN accuracy: 0.14\n"
     ]
    },
    {
     "name": "stderr",
     "output_type": "stream",
     "text": [
      " 13%|█▎        | 32/250 [08:46<58:53, 16.21s/it]"
     ]
    },
    {
     "name": "stdout",
     "output_type": "stream",
     "text": [
      "epoch 31 --> TEST loss: 0.52, TEST accuracy: 0.13\n",
      "epoch 32 --> TRAIN loss: 1.94626, TRAIN accuracy: 0.14\n"
     ]
    },
    {
     "name": "stderr",
     "output_type": "stream",
     "text": [
      " 13%|█▎        | 33/250 [09:02<58:35, 16.20s/it]"
     ]
    },
    {
     "name": "stdout",
     "output_type": "stream",
     "text": [
      "epoch 32 --> TEST loss: 0.52, TEST accuracy: 0.13\n",
      "epoch 33 --> TRAIN loss: 1.94614, TRAIN accuracy: 0.14\n"
     ]
    },
    {
     "name": "stderr",
     "output_type": "stream",
     "text": [
      " 14%|█▎        | 34/250 [09:18<57:51, 16.07s/it]"
     ]
    },
    {
     "name": "stdout",
     "output_type": "stream",
     "text": [
      "epoch 33 --> TEST loss: 0.52, TEST accuracy: 0.13\n",
      "epoch 34 --> TRAIN loss: 1.94622, TRAIN accuracy: 0.14\n"
     ]
    },
    {
     "name": "stderr",
     "output_type": "stream",
     "text": [
      " 14%|█▍        | 35/250 [09:34<57:46, 16.12s/it]"
     ]
    },
    {
     "name": "stdout",
     "output_type": "stream",
     "text": [
      "epoch 34 --> TEST loss: 0.52, TEST accuracy: 0.13\n",
      "epoch 35 --> TRAIN loss: 1.94637, TRAIN accuracy: 0.14\n"
     ]
    },
    {
     "name": "stderr",
     "output_type": "stream",
     "text": [
      " 14%|█▍        | 36/250 [09:50<57:35, 16.15s/it]"
     ]
    },
    {
     "name": "stdout",
     "output_type": "stream",
     "text": [
      "epoch 35 --> TEST loss: 0.52, TEST accuracy: 0.13\n",
      "epoch 36 --> TRAIN loss: 1.94639, TRAIN accuracy: 0.14\n"
     ]
    },
    {
     "name": "stderr",
     "output_type": "stream",
     "text": [
      " 15%|█▍        | 37/250 [10:07<57:34, 16.22s/it]"
     ]
    },
    {
     "name": "stdout",
     "output_type": "stream",
     "text": [
      "epoch 36 --> TEST loss: 0.52, TEST accuracy: 0.14\n",
      "epoch 37 --> TRAIN loss: 1.94640, TRAIN accuracy: 0.14\n"
     ]
    },
    {
     "name": "stderr",
     "output_type": "stream",
     "text": [
      " 15%|█▌        | 38/250 [10:23<57:00, 16.14s/it]"
     ]
    },
    {
     "name": "stdout",
     "output_type": "stream",
     "text": [
      "epoch 37 --> TEST loss: 0.52, TEST accuracy: 0.13\n",
      "epoch 38 --> TRAIN loss: 1.94609, TRAIN accuracy: 0.15\n"
     ]
    },
    {
     "name": "stderr",
     "output_type": "stream",
     "text": [
      " 16%|█▌        | 39/250 [10:39<57:05, 16.24s/it]"
     ]
    },
    {
     "name": "stdout",
     "output_type": "stream",
     "text": [
      "epoch 38 --> TEST loss: 0.52, TEST accuracy: 0.13\n",
      "epoch 39 --> TRAIN loss: 1.94609, TRAIN accuracy: 0.14\n"
     ]
    },
    {
     "name": "stderr",
     "output_type": "stream",
     "text": [
      " 16%|█▌        | 40/250 [10:55<56:44, 16.21s/it]"
     ]
    },
    {
     "name": "stdout",
     "output_type": "stream",
     "text": [
      "epoch 39 --> TEST loss: 0.52, TEST accuracy: 0.13\n",
      "epoch 40 --> TRAIN loss: 1.94627, TRAIN accuracy: 0.15\n"
     ]
    },
    {
     "name": "stderr",
     "output_type": "stream",
     "text": [
      " 16%|█▋        | 41/250 [11:11<56:22, 16.18s/it]"
     ]
    },
    {
     "name": "stdout",
     "output_type": "stream",
     "text": [
      "epoch 40 --> TEST loss: 0.52, TEST accuracy: 0.13\n",
      "epoch 41 --> TRAIN loss: 1.94622, TRAIN accuracy: 0.14\n"
     ]
    },
    {
     "name": "stderr",
     "output_type": "stream",
     "text": [
      " 17%|█▋        | 42/250 [11:27<55:30, 16.01s/it]"
     ]
    },
    {
     "name": "stdout",
     "output_type": "stream",
     "text": [
      "epoch 41 --> TEST loss: 0.52, TEST accuracy: 0.13\n",
      "epoch 42 --> TRAIN loss: 1.94633, TRAIN accuracy: 0.14\n"
     ]
    },
    {
     "name": "stderr",
     "output_type": "stream",
     "text": [
      " 17%|█▋        | 43/250 [11:43<55:07, 15.98s/it]"
     ]
    },
    {
     "name": "stdout",
     "output_type": "stream",
     "text": [
      "epoch 42 --> TEST loss: 0.52, TEST accuracy: 0.13\n",
      "epoch 43 --> TRAIN loss: 1.94630, TRAIN accuracy: 0.14\n"
     ]
    },
    {
     "name": "stderr",
     "output_type": "stream",
     "text": [
      " 18%|█▊        | 44/250 [11:59<55:14, 16.09s/it]"
     ]
    },
    {
     "name": "stdout",
     "output_type": "stream",
     "text": [
      "epoch 43 --> TEST loss: 0.52, TEST accuracy: 0.13\n",
      "epoch 44 --> TRAIN loss: 1.94617, TRAIN accuracy: 0.14\n"
     ]
    },
    {
     "name": "stderr",
     "output_type": "stream",
     "text": [
      " 18%|█▊        | 45/250 [12:15<54:47, 16.04s/it]"
     ]
    },
    {
     "name": "stdout",
     "output_type": "stream",
     "text": [
      "epoch 44 --> TEST loss: 0.52, TEST accuracy: 0.13\n",
      "epoch 45 --> TRAIN loss: 1.94616, TRAIN accuracy: 0.14\n"
     ]
    },
    {
     "name": "stderr",
     "output_type": "stream",
     "text": [
      " 18%|█▊        | 46/250 [12:31<54:15, 15.96s/it]"
     ]
    },
    {
     "name": "stdout",
     "output_type": "stream",
     "text": [
      "epoch 45 --> TEST loss: 0.52, TEST accuracy: 0.13\n",
      "epoch 46 --> TRAIN loss: 1.94615, TRAIN accuracy: 0.15\n"
     ]
    },
    {
     "name": "stderr",
     "output_type": "stream",
     "text": [
      " 19%|█▉        | 47/250 [12:47<53:58, 15.95s/it]"
     ]
    },
    {
     "name": "stdout",
     "output_type": "stream",
     "text": [
      "epoch 46 --> TEST loss: 0.52, TEST accuracy: 0.13\n",
      "epoch 47 --> TRAIN loss: 1.94622, TRAIN accuracy: 0.14\n"
     ]
    },
    {
     "name": "stderr",
     "output_type": "stream",
     "text": [
      " 19%|█▉        | 48/250 [13:03<54:03, 16.06s/it]"
     ]
    },
    {
     "name": "stdout",
     "output_type": "stream",
     "text": [
      "epoch 47 --> TEST loss: 0.52, TEST accuracy: 0.13\n",
      "epoch 48 --> TRAIN loss: 1.94637, TRAIN accuracy: 0.13\n"
     ]
    },
    {
     "name": "stderr",
     "output_type": "stream",
     "text": [
      " 20%|█▉        | 49/250 [13:19<53:43, 16.04s/it]"
     ]
    },
    {
     "name": "stdout",
     "output_type": "stream",
     "text": [
      "epoch 48 --> TEST loss: 0.52, TEST accuracy: 0.13\n",
      "epoch 49 --> TRAIN loss: 1.94627, TRAIN accuracy: 0.14\n"
     ]
    },
    {
     "name": "stderr",
     "output_type": "stream",
     "text": [
      " 20%|██        | 50/250 [13:35<53:26, 16.03s/it]"
     ]
    },
    {
     "name": "stdout",
     "output_type": "stream",
     "text": [
      "epoch 49 --> TEST loss: 0.52, TEST accuracy: 0.14\n",
      "epoch 50 --> TRAIN loss: 1.94625, TRAIN accuracy: 0.14\n"
     ]
    },
    {
     "name": "stderr",
     "output_type": "stream",
     "text": [
      " 20%|██        | 51/250 [13:51<53:06, 16.01s/it]"
     ]
    },
    {
     "name": "stdout",
     "output_type": "stream",
     "text": [
      "epoch 50 --> TEST loss: 0.52, TEST accuracy: 0.13\n",
      "epoch 51 --> TRAIN loss: 1.94617, TRAIN accuracy: 0.14\n"
     ]
    },
    {
     "name": "stderr",
     "output_type": "stream",
     "text": [
      " 21%|██        | 52/250 [14:07<52:37, 15.95s/it]"
     ]
    },
    {
     "name": "stdout",
     "output_type": "stream",
     "text": [
      "epoch 51 --> TEST loss: 0.52, TEST accuracy: 0.13\n",
      "epoch 52 --> TRAIN loss: 1.94634, TRAIN accuracy: 0.15\n"
     ]
    },
    {
     "name": "stderr",
     "output_type": "stream",
     "text": [
      " 21%|██        | 53/250 [14:23<52:14, 15.91s/it]"
     ]
    },
    {
     "name": "stdout",
     "output_type": "stream",
     "text": [
      "epoch 52 --> TEST loss: 0.52, TEST accuracy: 0.13\n",
      "epoch 53 --> TRAIN loss: 1.94610, TRAIN accuracy: 0.15\n"
     ]
    },
    {
     "name": "stderr",
     "output_type": "stream",
     "text": [
      " 22%|██▏       | 54/250 [14:39<52:02, 15.93s/it]"
     ]
    },
    {
     "name": "stdout",
     "output_type": "stream",
     "text": [
      "epoch 53 --> TEST loss: 0.52, TEST accuracy: 0.13\n",
      "epoch 54 --> TRAIN loss: 1.94627, TRAIN accuracy: 0.14\n"
     ]
    },
    {
     "name": "stderr",
     "output_type": "stream",
     "text": [
      " 22%|██▏       | 55/250 [14:55<52:07, 16.04s/it]"
     ]
    },
    {
     "name": "stdout",
     "output_type": "stream",
     "text": [
      "epoch 54 --> TEST loss: 0.52, TEST accuracy: 0.13\n",
      "epoch 55 --> TRAIN loss: 1.94619, TRAIN accuracy: 0.15\n"
     ]
    },
    {
     "name": "stderr",
     "output_type": "stream",
     "text": [
      " 22%|██▏       | 56/250 [15:11<51:44, 16.00s/it]"
     ]
    },
    {
     "name": "stdout",
     "output_type": "stream",
     "text": [
      "epoch 55 --> TEST loss: 0.52, TEST accuracy: 0.13\n",
      "epoch 56 --> TRAIN loss: 1.94629, TRAIN accuracy: 0.14\n"
     ]
    },
    {
     "name": "stderr",
     "output_type": "stream",
     "text": [
      " 23%|██▎       | 57/250 [15:27<51:23, 15.98s/it]"
     ]
    },
    {
     "name": "stdout",
     "output_type": "stream",
     "text": [
      "epoch 56 --> TEST loss: 0.52, TEST accuracy: 0.13\n",
      "epoch 57 --> TRAIN loss: 1.94628, TRAIN accuracy: 0.14\n"
     ]
    },
    {
     "name": "stderr",
     "output_type": "stream",
     "text": [
      " 23%|██▎       | 58/250 [15:43<51:00, 15.94s/it]"
     ]
    },
    {
     "name": "stdout",
     "output_type": "stream",
     "text": [
      "epoch 57 --> TEST loss: 0.52, TEST accuracy: 0.13\n",
      "epoch 58 --> TRAIN loss: 1.94637, TRAIN accuracy: 0.15\n"
     ]
    },
    {
     "name": "stderr",
     "output_type": "stream",
     "text": [
      " 24%|██▎       | 59/250 [15:59<50:48, 15.96s/it]"
     ]
    },
    {
     "name": "stdout",
     "output_type": "stream",
     "text": [
      "epoch 58 --> TEST loss: 0.52, TEST accuracy: 0.13\n",
      "epoch 59 --> TRAIN loss: 1.94623, TRAIN accuracy: 0.13\n"
     ]
    },
    {
     "name": "stderr",
     "output_type": "stream",
     "text": [
      " 24%|██▍       | 60/250 [16:15<50:48, 16.04s/it]"
     ]
    },
    {
     "name": "stdout",
     "output_type": "stream",
     "text": [
      "epoch 59 --> TEST loss: 0.52, TEST accuracy: 0.13\n",
      "epoch 60 --> TRAIN loss: 1.94618, TRAIN accuracy: 0.15\n"
     ]
    },
    {
     "name": "stderr",
     "output_type": "stream",
     "text": [
      " 24%|██▍       | 61/250 [16:31<50:28, 16.02s/it]"
     ]
    },
    {
     "name": "stdout",
     "output_type": "stream",
     "text": [
      "epoch 60 --> TEST loss: 0.52, TEST accuracy: 0.13\n",
      "epoch 61 --> TRAIN loss: 1.94638, TRAIN accuracy: 0.14\n"
     ]
    },
    {
     "name": "stderr",
     "output_type": "stream",
     "text": [
      " 25%|██▍       | 62/250 [16:47<50:11, 16.02s/it]"
     ]
    },
    {
     "name": "stdout",
     "output_type": "stream",
     "text": [
      "epoch 61 --> TEST loss: 0.52, TEST accuracy: 0.13\n",
      "epoch 62 --> TRAIN loss: 1.94616, TRAIN accuracy: 0.15\n"
     ]
    },
    {
     "name": "stderr",
     "output_type": "stream",
     "text": [
      " 25%|██▌       | 63/250 [17:03<49:49, 15.99s/it]"
     ]
    },
    {
     "name": "stdout",
     "output_type": "stream",
     "text": [
      "epoch 62 --> TEST loss: 0.52, TEST accuracy: 0.13\n",
      "epoch 63 --> TRAIN loss: 1.94620, TRAIN accuracy: 0.14\n"
     ]
    },
    {
     "name": "stderr",
     "output_type": "stream",
     "text": [
      " 26%|██▌       | 64/250 [17:19<49:24, 15.94s/it]"
     ]
    },
    {
     "name": "stdout",
     "output_type": "stream",
     "text": [
      "epoch 63 --> TEST loss: 0.52, TEST accuracy: 0.13\n",
      "epoch 64 --> TRAIN loss: 1.94618, TRAIN accuracy: 0.14\n"
     ]
    },
    {
     "name": "stderr",
     "output_type": "stream",
     "text": [
      " 26%|██▌       | 65/250 [17:35<49:09, 15.94s/it]"
     ]
    },
    {
     "name": "stdout",
     "output_type": "stream",
     "text": [
      "epoch 64 --> TEST loss: 0.52, TEST accuracy: 0.13\n",
      "epoch 65 --> TRAIN loss: 1.94603, TRAIN accuracy: 0.15\n"
     ]
    },
    {
     "name": "stderr",
     "output_type": "stream",
     "text": [
      " 26%|██▋       | 66/250 [17:50<48:45, 15.90s/it]"
     ]
    },
    {
     "name": "stdout",
     "output_type": "stream",
     "text": [
      "epoch 65 --> TEST loss: 0.52, TEST accuracy: 0.13\n",
      "epoch 66 --> TRAIN loss: 1.94618, TRAIN accuracy: 0.14\n"
     ]
    },
    {
     "name": "stderr",
     "output_type": "stream",
     "text": [
      " 27%|██▋       | 67/250 [18:06<48:17, 15.83s/it]"
     ]
    },
    {
     "name": "stdout",
     "output_type": "stream",
     "text": [
      "epoch 66 --> TEST loss: 0.52, TEST accuracy: 0.13\n",
      "epoch 67 --> TRAIN loss: 1.94615, TRAIN accuracy: 0.14\n"
     ]
    },
    {
     "name": "stderr",
     "output_type": "stream",
     "text": [
      " 27%|██▋       | 68/250 [18:22<47:45, 15.74s/it]"
     ]
    },
    {
     "name": "stdout",
     "output_type": "stream",
     "text": [
      "epoch 67 --> TEST loss: 0.52, TEST accuracy: 0.13\n",
      "epoch 68 --> TRAIN loss: 1.94639, TRAIN accuracy: 0.14\n"
     ]
    },
    {
     "name": "stderr",
     "output_type": "stream",
     "text": [
      " 28%|██▊       | 69/250 [18:37<47:36, 15.78s/it]"
     ]
    },
    {
     "name": "stdout",
     "output_type": "stream",
     "text": [
      "epoch 68 --> TEST loss: 0.52, TEST accuracy: 0.13\n",
      "epoch 69 --> TRAIN loss: 1.94621, TRAIN accuracy: 0.14\n"
     ]
    },
    {
     "name": "stderr",
     "output_type": "stream",
     "text": [
      " 28%|██▊       | 70/250 [18:53<47:27, 15.82s/it]"
     ]
    },
    {
     "name": "stdout",
     "output_type": "stream",
     "text": [
      "epoch 69 --> TEST loss: 0.52, TEST accuracy: 0.13\n",
      "epoch 70 --> TRAIN loss: 1.94637, TRAIN accuracy: 0.15\n"
     ]
    },
    {
     "name": "stderr",
     "output_type": "stream",
     "text": [
      " 28%|██▊       | 71/250 [19:09<47:14, 15.83s/it]"
     ]
    },
    {
     "name": "stdout",
     "output_type": "stream",
     "text": [
      "epoch 70 --> TEST loss: 0.52, TEST accuracy: 0.13\n",
      "epoch 71 --> TRAIN loss: 1.94608, TRAIN accuracy: 0.14\n"
     ]
    },
    {
     "name": "stderr",
     "output_type": "stream",
     "text": [
      " 29%|██▉       | 72/250 [19:25<47:18, 15.95s/it]"
     ]
    },
    {
     "name": "stdout",
     "output_type": "stream",
     "text": [
      "epoch 71 --> TEST loss: 0.52, TEST accuracy: 0.13\n",
      "epoch 72 --> TRAIN loss: 1.94608, TRAIN accuracy: 0.14\n"
     ]
    },
    {
     "name": "stderr",
     "output_type": "stream",
     "text": [
      " 29%|██▉       | 73/250 [19:41<47:02, 15.95s/it]"
     ]
    },
    {
     "name": "stdout",
     "output_type": "stream",
     "text": [
      "epoch 72 --> TEST loss: 0.52, TEST accuracy: 0.13\n",
      "epoch 73 --> TRAIN loss: 1.94630, TRAIN accuracy: 0.14\n"
     ]
    },
    {
     "name": "stderr",
     "output_type": "stream",
     "text": [
      " 30%|██▉       | 74/250 [19:57<46:47, 15.95s/it]"
     ]
    },
    {
     "name": "stdout",
     "output_type": "stream",
     "text": [
      "epoch 73 --> TEST loss: 0.52, TEST accuracy: 0.13\n",
      "epoch 74 --> TRAIN loss: 1.94613, TRAIN accuracy: 0.14\n"
     ]
    },
    {
     "name": "stderr",
     "output_type": "stream",
     "text": [
      " 30%|███       | 75/250 [20:13<46:34, 15.97s/it]"
     ]
    },
    {
     "name": "stdout",
     "output_type": "stream",
     "text": [
      "epoch 74 --> TEST loss: 0.52, TEST accuracy: 0.13\n",
      "epoch 75 --> TRAIN loss: 1.94625, TRAIN accuracy: 0.14\n"
     ]
    },
    {
     "name": "stderr",
     "output_type": "stream",
     "text": [
      " 30%|███       | 76/250 [20:29<46:23, 16.00s/it]"
     ]
    },
    {
     "name": "stdout",
     "output_type": "stream",
     "text": [
      "epoch 75 --> TEST loss: 0.52, TEST accuracy: 0.13\n",
      "epoch 76 --> TRAIN loss: 1.94606, TRAIN accuracy: 0.14\n"
     ]
    },
    {
     "name": "stderr",
     "output_type": "stream",
     "text": [
      " 31%|███       | 77/250 [20:45<46:13, 16.03s/it]"
     ]
    },
    {
     "name": "stdout",
     "output_type": "stream",
     "text": [
      "epoch 76 --> TEST loss: 0.52, TEST accuracy: 0.13\n",
      "epoch 77 --> TRAIN loss: 1.94613, TRAIN accuracy: 0.15\n"
     ]
    },
    {
     "name": "stderr",
     "output_type": "stream",
     "text": [
      " 31%|███       | 78/250 [21:02<46:20, 16.16s/it]"
     ]
    },
    {
     "name": "stdout",
     "output_type": "stream",
     "text": [
      "epoch 77 --> TEST loss: 0.52, TEST accuracy: 0.13\n",
      "epoch 78 --> TRAIN loss: 1.94612, TRAIN accuracy: 0.15\n"
     ]
    },
    {
     "name": "stderr",
     "output_type": "stream",
     "text": [
      " 32%|███▏      | 79/250 [21:18<46:05, 16.17s/it]"
     ]
    },
    {
     "name": "stdout",
     "output_type": "stream",
     "text": [
      "epoch 78 --> TEST loss: 0.52, TEST accuracy: 0.13\n",
      "epoch 79 --> TRAIN loss: 1.94608, TRAIN accuracy: 0.14\n"
     ]
    },
    {
     "name": "stderr",
     "output_type": "stream",
     "text": [
      " 32%|███▏      | 80/250 [21:34<45:42, 16.13s/it]"
     ]
    },
    {
     "name": "stdout",
     "output_type": "stream",
     "text": [
      "epoch 79 --> TEST loss: 0.52, TEST accuracy: 0.13\n",
      "epoch 80 --> TRAIN loss: 1.94636, TRAIN accuracy: 0.15\n"
     ]
    },
    {
     "name": "stderr",
     "output_type": "stream",
     "text": [
      " 32%|███▏      | 81/250 [21:50<45:28, 16.15s/it]"
     ]
    },
    {
     "name": "stdout",
     "output_type": "stream",
     "text": [
      "epoch 80 --> TEST loss: 0.52, TEST accuracy: 0.13\n",
      "epoch 81 --> TRAIN loss: 1.94607, TRAIN accuracy: 0.14\n"
     ]
    },
    {
     "name": "stderr",
     "output_type": "stream",
     "text": [
      " 33%|███▎      | 82/250 [22:07<45:29, 16.24s/it]"
     ]
    },
    {
     "name": "stdout",
     "output_type": "stream",
     "text": [
      "epoch 81 --> TEST loss: 0.52, TEST accuracy: 0.13\n",
      "epoch 82 --> TRAIN loss: 1.94618, TRAIN accuracy: 0.15\n"
     ]
    },
    {
     "name": "stderr",
     "output_type": "stream",
     "text": [
      " 33%|███▎      | 83/250 [22:23<45:17, 16.27s/it]"
     ]
    },
    {
     "name": "stdout",
     "output_type": "stream",
     "text": [
      "epoch 82 --> TEST loss: 0.52, TEST accuracy: 0.13\n",
      "epoch 83 --> TRAIN loss: 1.94625, TRAIN accuracy: 0.14\n"
     ]
    },
    {
     "name": "stderr",
     "output_type": "stream",
     "text": [
      " 34%|███▎      | 84/250 [22:40<45:23, 16.41s/it]"
     ]
    },
    {
     "name": "stdout",
     "output_type": "stream",
     "text": [
      "epoch 83 --> TEST loss: 0.52, TEST accuracy: 0.13\n",
      "epoch 84 --> TRAIN loss: 1.94624, TRAIN accuracy: 0.14\n"
     ]
    },
    {
     "name": "stderr",
     "output_type": "stream",
     "text": [
      " 34%|███▍      | 85/250 [22:56<44:57, 16.35s/it]"
     ]
    },
    {
     "name": "stdout",
     "output_type": "stream",
     "text": [
      "epoch 84 --> TEST loss: 0.52, TEST accuracy: 0.13\n",
      "epoch 85 --> TRAIN loss: 1.94638, TRAIN accuracy: 0.14\n"
     ]
    },
    {
     "name": "stderr",
     "output_type": "stream",
     "text": [
      " 34%|███▍      | 86/250 [23:12<44:23, 16.24s/it]"
     ]
    },
    {
     "name": "stdout",
     "output_type": "stream",
     "text": [
      "epoch 85 --> TEST loss: 0.52, TEST accuracy: 0.13\n",
      "epoch 86 --> TRAIN loss: 1.94612, TRAIN accuracy: 0.15\n"
     ]
    },
    {
     "name": "stderr",
     "output_type": "stream",
     "text": [
      " 35%|███▍      | 87/250 [23:28<43:42, 16.09s/it]"
     ]
    },
    {
     "name": "stdout",
     "output_type": "stream",
     "text": [
      "epoch 86 --> TEST loss: 0.52, TEST accuracy: 0.13\n",
      "epoch 87 --> TRAIN loss: 1.94623, TRAIN accuracy: 0.14\n"
     ]
    },
    {
     "name": "stderr",
     "output_type": "stream",
     "text": [
      " 35%|███▌      | 88/250 [23:43<43:02, 15.94s/it]"
     ]
    },
    {
     "name": "stdout",
     "output_type": "stream",
     "text": [
      "epoch 87 --> TEST loss: 0.52, TEST accuracy: 0.13\n",
      "epoch 88 --> TRAIN loss: 1.94627, TRAIN accuracy: 0.14\n"
     ]
    },
    {
     "name": "stderr",
     "output_type": "stream",
     "text": [
      " 36%|███▌      | 89/250 [23:59<42:39, 15.90s/it]"
     ]
    },
    {
     "name": "stdout",
     "output_type": "stream",
     "text": [
      "epoch 88 --> TEST loss: 0.52, TEST accuracy: 0.14\n",
      "epoch 89 --> TRAIN loss: 1.94609, TRAIN accuracy: 0.14\n"
     ]
    },
    {
     "name": "stderr",
     "output_type": "stream",
     "text": [
      " 36%|███▌      | 90/250 [24:15<42:20, 15.88s/it]"
     ]
    },
    {
     "name": "stdout",
     "output_type": "stream",
     "text": [
      "epoch 89 --> TEST loss: 0.52, TEST accuracy: 0.13\n",
      "epoch 90 --> TRAIN loss: 1.94630, TRAIN accuracy: 0.15\n"
     ]
    },
    {
     "name": "stderr",
     "output_type": "stream",
     "text": [
      " 36%|███▋      | 91/250 [24:31<41:57, 15.83s/it]"
     ]
    },
    {
     "name": "stdout",
     "output_type": "stream",
     "text": [
      "epoch 90 --> TEST loss: 0.52, TEST accuracy: 0.13\n",
      "epoch 91 --> TRAIN loss: 1.94623, TRAIN accuracy: 0.14\n"
     ]
    },
    {
     "name": "stderr",
     "output_type": "stream",
     "text": [
      " 37%|███▋      | 92/250 [24:47<41:59, 15.95s/it]"
     ]
    },
    {
     "name": "stdout",
     "output_type": "stream",
     "text": [
      "epoch 91 --> TEST loss: 0.52, TEST accuracy: 0.14\n",
      "epoch 92 --> TRAIN loss: 1.94621, TRAIN accuracy: 0.14\n"
     ]
    },
    {
     "name": "stderr",
     "output_type": "stream",
     "text": [
      " 37%|███▋      | 93/250 [25:03<41:38, 15.91s/it]"
     ]
    },
    {
     "name": "stdout",
     "output_type": "stream",
     "text": [
      "epoch 92 --> TEST loss: 0.52, TEST accuracy: 0.13\n",
      "epoch 93 --> TRAIN loss: 1.94625, TRAIN accuracy: 0.14\n"
     ]
    },
    {
     "name": "stderr",
     "output_type": "stream",
     "text": [
      " 38%|███▊      | 94/250 [25:19<41:17, 15.88s/it]"
     ]
    },
    {
     "name": "stdout",
     "output_type": "stream",
     "text": [
      "epoch 93 --> TEST loss: 0.52, TEST accuracy: 0.13\n",
      "epoch 94 --> TRAIN loss: 1.94639, TRAIN accuracy: 0.13\n"
     ]
    },
    {
     "name": "stderr",
     "output_type": "stream",
     "text": [
      " 38%|███▊      | 95/250 [25:34<40:56, 15.85s/it]"
     ]
    },
    {
     "name": "stdout",
     "output_type": "stream",
     "text": [
      "epoch 94 --> TEST loss: 0.52, TEST accuracy: 0.13\n",
      "epoch 95 --> TRAIN loss: 1.94624, TRAIN accuracy: 0.15\n"
     ]
    },
    {
     "name": "stderr",
     "output_type": "stream",
     "text": [
      " 38%|███▊      | 96/250 [25:50<40:28, 15.77s/it]"
     ]
    },
    {
     "name": "stdout",
     "output_type": "stream",
     "text": [
      "epoch 95 --> TEST loss: 0.52, TEST accuracy: 0.13\n",
      "epoch 96 --> TRAIN loss: 1.94627, TRAIN accuracy: 0.14\n"
     ]
    },
    {
     "name": "stderr",
     "output_type": "stream",
     "text": [
      " 39%|███▉      | 97/250 [26:06<40:15, 15.79s/it]"
     ]
    },
    {
     "name": "stdout",
     "output_type": "stream",
     "text": [
      "epoch 96 --> TEST loss: 0.52, TEST accuracy: 0.13\n",
      "epoch 97 --> TRAIN loss: 1.94642, TRAIN accuracy: 0.14\n"
     ]
    },
    {
     "name": "stderr",
     "output_type": "stream",
     "text": [
      " 39%|███▉      | 98/250 [26:22<40:09, 15.85s/it]"
     ]
    },
    {
     "name": "stdout",
     "output_type": "stream",
     "text": [
      "epoch 97 --> TEST loss: 0.52, TEST accuracy: 0.13\n",
      "epoch 98 --> TRAIN loss: 1.94633, TRAIN accuracy: 0.14\n"
     ]
    },
    {
     "name": "stderr",
     "output_type": "stream",
     "text": [
      " 40%|███▉      | 99/250 [26:38<39:50, 15.83s/it]"
     ]
    },
    {
     "name": "stdout",
     "output_type": "stream",
     "text": [
      "epoch 98 --> TEST loss: 0.52, TEST accuracy: 0.13\n",
      "epoch 99 --> TRAIN loss: 1.94618, TRAIN accuracy: 0.14\n"
     ]
    },
    {
     "name": "stderr",
     "output_type": "stream",
     "text": [
      " 40%|████      | 100/250 [26:53<39:25, 15.77s/it]"
     ]
    },
    {
     "name": "stdout",
     "output_type": "stream",
     "text": [
      "epoch 99 --> TEST loss: 0.52, TEST accuracy: 0.13\n",
      "epoch 100 --> TRAIN loss: 1.94615, TRAIN accuracy: 0.14\n"
     ]
    },
    {
     "name": "stderr",
     "output_type": "stream",
     "text": [
      " 40%|████      | 101/250 [27:09<39:00, 15.71s/it]"
     ]
    },
    {
     "name": "stdout",
     "output_type": "stream",
     "text": [
      "epoch 100 --> TEST loss: 0.52, TEST accuracy: 0.13\n",
      "epoch 101 --> TRAIN loss: 1.94615, TRAIN accuracy: 0.15\n"
     ]
    },
    {
     "name": "stderr",
     "output_type": "stream",
     "text": [
      " 41%|████      | 102/250 [27:25<38:47, 15.73s/it]"
     ]
    },
    {
     "name": "stdout",
     "output_type": "stream",
     "text": [
      "epoch 101 --> TEST loss: 0.52, TEST accuracy: 0.13\n",
      "epoch 102 --> TRAIN loss: 1.94625, TRAIN accuracy: 0.14\n"
     ]
    },
    {
     "name": "stderr",
     "output_type": "stream",
     "text": [
      " 41%|████      | 103/250 [27:40<38:36, 15.76s/it]"
     ]
    },
    {
     "name": "stdout",
     "output_type": "stream",
     "text": [
      "epoch 102 --> TEST loss: 0.52, TEST accuracy: 0.13\n",
      "epoch 103 --> TRAIN loss: 1.94635, TRAIN accuracy: 0.14\n"
     ]
    },
    {
     "name": "stderr",
     "output_type": "stream",
     "text": [
      " 42%|████▏     | 104/250 [27:56<38:32, 15.84s/it]"
     ]
    },
    {
     "name": "stdout",
     "output_type": "stream",
     "text": [
      "epoch 103 --> TEST loss: 0.52, TEST accuracy: 0.13\n",
      "epoch 104 --> TRAIN loss: 1.94625, TRAIN accuracy: 0.15\n"
     ]
    },
    {
     "name": "stderr",
     "output_type": "stream",
     "text": [
      " 42%|████▏     | 105/250 [28:12<38:20, 15.86s/it]"
     ]
    },
    {
     "name": "stdout",
     "output_type": "stream",
     "text": [
      "epoch 104 --> TEST loss: 0.52, TEST accuracy: 0.13\n",
      "epoch 105 --> TRAIN loss: 1.94631, TRAIN accuracy: 0.14\n"
     ]
    },
    {
     "name": "stderr",
     "output_type": "stream",
     "text": [
      " 42%|████▏     | 106/250 [28:28<37:53, 15.79s/it]"
     ]
    },
    {
     "name": "stdout",
     "output_type": "stream",
     "text": [
      "epoch 105 --> TEST loss: 0.52, TEST accuracy: 0.13\n",
      "epoch 106 --> TRAIN loss: 1.94622, TRAIN accuracy: 0.14\n"
     ]
    },
    {
     "name": "stderr",
     "output_type": "stream",
     "text": [
      " 43%|████▎     | 107/250 [28:44<37:38, 15.79s/it]"
     ]
    },
    {
     "name": "stdout",
     "output_type": "stream",
     "text": [
      "epoch 106 --> TEST loss: 0.52, TEST accuracy: 0.13\n",
      "epoch 107 --> TRAIN loss: 1.94620, TRAIN accuracy: 0.14\n"
     ]
    },
    {
     "name": "stderr",
     "output_type": "stream",
     "text": [
      " 43%|████▎     | 108/250 [28:59<37:15, 15.74s/it]"
     ]
    },
    {
     "name": "stdout",
     "output_type": "stream",
     "text": [
      "epoch 107 --> TEST loss: 0.52, TEST accuracy: 0.13\n",
      "epoch 108 --> TRAIN loss: 1.94642, TRAIN accuracy: 0.14\n"
     ]
    },
    {
     "name": "stderr",
     "output_type": "stream",
     "text": [
      " 44%|████▎     | 109/250 [29:15<36:52, 15.69s/it]"
     ]
    },
    {
     "name": "stdout",
     "output_type": "stream",
     "text": [
      "epoch 108 --> TEST loss: 0.52, TEST accuracy: 0.13\n",
      "epoch 109 --> TRAIN loss: 1.94617, TRAIN accuracy: 0.14\n"
     ]
    },
    {
     "name": "stderr",
     "output_type": "stream",
     "text": [
      " 44%|████▍     | 110/250 [29:31<36:40, 15.72s/it]"
     ]
    },
    {
     "name": "stdout",
     "output_type": "stream",
     "text": [
      "epoch 109 --> TEST loss: 0.52, TEST accuracy: 0.13\n",
      "epoch 110 --> TRAIN loss: 1.94618, TRAIN accuracy: 0.14\n"
     ]
    },
    {
     "name": "stderr",
     "output_type": "stream",
     "text": [
      " 44%|████▍     | 111/250 [29:47<36:26, 15.73s/it]"
     ]
    },
    {
     "name": "stdout",
     "output_type": "stream",
     "text": [
      "epoch 110 --> TEST loss: 0.52, TEST accuracy: 0.13\n",
      "epoch 111 --> TRAIN loss: 1.94630, TRAIN accuracy: 0.14\n"
     ]
    },
    {
     "name": "stderr",
     "output_type": "stream",
     "text": [
      " 45%|████▍     | 112/250 [30:03<36:25, 15.84s/it]"
     ]
    },
    {
     "name": "stdout",
     "output_type": "stream",
     "text": [
      "epoch 111 --> TEST loss: 0.52, TEST accuracy: 0.13\n",
      "epoch 112 --> TRAIN loss: 1.94628, TRAIN accuracy: 0.15\n"
     ]
    },
    {
     "name": "stderr",
     "output_type": "stream",
     "text": [
      " 45%|████▌     | 113/250 [30:19<36:23, 15.93s/it]"
     ]
    },
    {
     "name": "stdout",
     "output_type": "stream",
     "text": [
      "epoch 112 --> TEST loss: 0.52, TEST accuracy: 0.13\n",
      "epoch 113 --> TRAIN loss: 1.94625, TRAIN accuracy: 0.14\n"
     ]
    },
    {
     "name": "stderr",
     "output_type": "stream",
     "text": [
      " 46%|████▌     | 114/250 [30:35<36:10, 15.96s/it]"
     ]
    },
    {
     "name": "stdout",
     "output_type": "stream",
     "text": [
      "epoch 113 --> TEST loss: 0.52, TEST accuracy: 0.13\n",
      "epoch 114 --> TRAIN loss: 1.94624, TRAIN accuracy: 0.15\n"
     ]
    },
    {
     "name": "stderr",
     "output_type": "stream",
     "text": [
      " 46%|████▌     | 115/250 [30:51<36:03, 16.02s/it]"
     ]
    },
    {
     "name": "stdout",
     "output_type": "stream",
     "text": [
      "epoch 114 --> TEST loss: 0.52, TEST accuracy: 0.13\n",
      "epoch 115 --> TRAIN loss: 1.94626, TRAIN accuracy: 0.14\n"
     ]
    },
    {
     "name": "stderr",
     "output_type": "stream",
     "text": [
      " 46%|████▋     | 116/250 [31:07<35:47, 16.02s/it]"
     ]
    },
    {
     "name": "stdout",
     "output_type": "stream",
     "text": [
      "epoch 115 --> TEST loss: 0.52, TEST accuracy: 0.13\n"
     ]
    },
    {
     "name": "stderr",
     "output_type": "stream",
     "text": [
      " 46%|████▋     | 116/250 [31:09<35:59, 16.12s/it]\n"
     ]
    },
    {
     "ename": "KeyboardInterrupt",
     "evalue": "",
     "output_type": "error",
     "traceback": [
      "\u001b[31m---------------------------------------------------------------------------\u001b[39m",
      "\u001b[31mKeyboardInterrupt\u001b[39m                         Traceback (most recent call last)",
      "\u001b[36mCell\u001b[39m\u001b[36m \u001b[39m\u001b[32mIn[12]\u001b[39m\u001b[32m, line 2\u001b[39m\n\u001b[32m      1\u001b[39m net=Net(dropout=\u001b[32m0.3\u001b[39m)\n\u001b[32m----> \u001b[39m\u001b[32m2\u001b[39m train_loss,train_acc,test_loss,test_acc=\u001b[43mtrain_test\u001b[49m\u001b[43m(\u001b[49m\u001b[43mnet\u001b[49m\u001b[43m,\u001b[49m\u001b[32;43m250\u001b[39;49m\u001b[43m,\u001b[49m\u001b[43mtrain_loader\u001b[49m\u001b[43m=\u001b[49m\u001b[43mtrain_loader\u001b[49m\u001b[43m,\u001b[49m\u001b[43mtest_loader\u001b[49m\u001b[43m=\u001b[49m\u001b[43mtest_loader\u001b[49m\u001b[43m,\u001b[49m\u001b[43mdevice\u001b[49m\u001b[43m=\u001b[49m\u001b[43mDEVICE\u001b[49m\u001b[43m)\u001b[49m\n",
      "\u001b[36mCell\u001b[39m\u001b[36m \u001b[39m\u001b[32mIn[11]\u001b[39m\u001b[32m, line 65\u001b[39m, in \u001b[36mtrain_test\u001b[39m\u001b[34m(net, epochs, train_loader, test_loader, device)\u001b[39m\n\u001b[32m     63\u001b[39m running_loss=\u001b[32m0.0\u001b[39m\n\u001b[32m     64\u001b[39m correct,total=\u001b[32m0\u001b[39m,\u001b[32m0\u001b[39m\n\u001b[32m---> \u001b[39m\u001b[32m65\u001b[39m \u001b[43m\u001b[49m\u001b[38;5;28;43;01mfor\u001b[39;49;00m\u001b[43m \u001b[49m\u001b[43mi\u001b[49m\u001b[43m,\u001b[49m\u001b[43mdata\u001b[49m\u001b[43m \u001b[49m\u001b[38;5;129;43;01min\u001b[39;49;00m\u001b[43m \u001b[49m\u001b[38;5;28;43menumerate\u001b[39;49m\u001b[43m(\u001b[49m\u001b[43mtrain_loader\u001b[49m\u001b[43m,\u001b[49m\u001b[43mstart\u001b[49m\u001b[43m=\u001b[49m\u001b[32;43m0\u001b[39;49m\u001b[43m)\u001b[49m\u001b[43m:\u001b[49m\n\u001b[32m     66\u001b[39m \u001b[43m    \u001b[49m\u001b[43minputs\u001b[49m\u001b[43m,\u001b[49m\u001b[43mlabels\u001b[49m\u001b[43m=\u001b[49m\u001b[43mdata\u001b[49m\n\u001b[32m     67\u001b[39m \u001b[43m    \u001b[49m\u001b[43minputs\u001b[49m\u001b[43m=\u001b[49m\u001b[43minputs\u001b[49m\u001b[43m.\u001b[49m\u001b[43mto\u001b[49m\u001b[43m(\u001b[49m\u001b[43mdevice\u001b[49m\u001b[43m)\u001b[49m\u001b[43m.\u001b[49m\u001b[43mfloat\u001b[49m\u001b[43m(\u001b[49m\u001b[43m)\u001b[49m\n",
      "\u001b[36mFile \u001b[39m\u001b[32mc:\\Users\\malco\\Documents\\cmn-templates\\sandbox\\.venv\\Lib\\site-packages\\torch\\utils\\data\\dataloader.py:733\u001b[39m, in \u001b[36m_BaseDataLoaderIter.__next__\u001b[39m\u001b[34m(self)\u001b[39m\n\u001b[32m    730\u001b[39m \u001b[38;5;28;01mif\u001b[39;00m \u001b[38;5;28mself\u001b[39m._sampler_iter \u001b[38;5;129;01mis\u001b[39;00m \u001b[38;5;28;01mNone\u001b[39;00m:\n\u001b[32m    731\u001b[39m     \u001b[38;5;66;03m# TODO(https://github.com/pytorch/pytorch/issues/76750)\u001b[39;00m\n\u001b[32m    732\u001b[39m     \u001b[38;5;28mself\u001b[39m._reset()  \u001b[38;5;66;03m# type: ignore[call-arg]\u001b[39;00m\n\u001b[32m--> \u001b[39m\u001b[32m733\u001b[39m data = \u001b[38;5;28;43mself\u001b[39;49m\u001b[43m.\u001b[49m\u001b[43m_next_data\u001b[49m\u001b[43m(\u001b[49m\u001b[43m)\u001b[49m\n\u001b[32m    734\u001b[39m \u001b[38;5;28mself\u001b[39m._num_yielded += \u001b[32m1\u001b[39m\n\u001b[32m    735\u001b[39m \u001b[38;5;28;01mif\u001b[39;00m (\n\u001b[32m    736\u001b[39m     \u001b[38;5;28mself\u001b[39m._dataset_kind == _DatasetKind.Iterable\n\u001b[32m    737\u001b[39m     \u001b[38;5;129;01mand\u001b[39;00m \u001b[38;5;28mself\u001b[39m._IterableDataset_len_called \u001b[38;5;129;01mis\u001b[39;00m \u001b[38;5;129;01mnot\u001b[39;00m \u001b[38;5;28;01mNone\u001b[39;00m\n\u001b[32m    738\u001b[39m     \u001b[38;5;129;01mand\u001b[39;00m \u001b[38;5;28mself\u001b[39m._num_yielded > \u001b[38;5;28mself\u001b[39m._IterableDataset_len_called\n\u001b[32m    739\u001b[39m ):\n",
      "\u001b[36mFile \u001b[39m\u001b[32mc:\\Users\\malco\\Documents\\cmn-templates\\sandbox\\.venv\\Lib\\site-packages\\torch\\utils\\data\\dataloader.py:1491\u001b[39m, in \u001b[36m_MultiProcessingDataLoaderIter._next_data\u001b[39m\u001b[34m(self)\u001b[39m\n\u001b[32m   1488\u001b[39m     \u001b[38;5;28;01mreturn\u001b[39;00m \u001b[38;5;28mself\u001b[39m._process_data(data, worker_id)\n\u001b[32m   1490\u001b[39m \u001b[38;5;28;01massert\u001b[39;00m \u001b[38;5;129;01mnot\u001b[39;00m \u001b[38;5;28mself\u001b[39m._shutdown \u001b[38;5;129;01mand\u001b[39;00m \u001b[38;5;28mself\u001b[39m._tasks_outstanding > \u001b[32m0\u001b[39m\n\u001b[32m-> \u001b[39m\u001b[32m1491\u001b[39m idx, data = \u001b[38;5;28;43mself\u001b[39;49m\u001b[43m.\u001b[49m\u001b[43m_get_data\u001b[49m\u001b[43m(\u001b[49m\u001b[43m)\u001b[49m\n\u001b[32m   1492\u001b[39m \u001b[38;5;28mself\u001b[39m._tasks_outstanding -= \u001b[32m1\u001b[39m\n\u001b[32m   1493\u001b[39m \u001b[38;5;28;01mif\u001b[39;00m \u001b[38;5;28mself\u001b[39m._dataset_kind == _DatasetKind.Iterable:\n\u001b[32m   1494\u001b[39m     \u001b[38;5;66;03m# Check for _IterableDatasetStopIteration\u001b[39;00m\n",
      "\u001b[36mFile \u001b[39m\u001b[32mc:\\Users\\malco\\Documents\\cmn-templates\\sandbox\\.venv\\Lib\\site-packages\\torch\\utils\\data\\dataloader.py:1453\u001b[39m, in \u001b[36m_MultiProcessingDataLoaderIter._get_data\u001b[39m\u001b[34m(self)\u001b[39m\n\u001b[32m   1449\u001b[39m     \u001b[38;5;66;03m# In this case, `self._data_queue` is a `queue.Queue`,. But we don't\u001b[39;00m\n\u001b[32m   1450\u001b[39m     \u001b[38;5;66;03m# need to call `.task_done()` because we don't use `.join()`.\u001b[39;00m\n\u001b[32m   1451\u001b[39m \u001b[38;5;28;01melse\u001b[39;00m:\n\u001b[32m   1452\u001b[39m     \u001b[38;5;28;01mwhile\u001b[39;00m \u001b[38;5;28;01mTrue\u001b[39;00m:\n\u001b[32m-> \u001b[39m\u001b[32m1453\u001b[39m         success, data = \u001b[38;5;28;43mself\u001b[39;49m\u001b[43m.\u001b[49m\u001b[43m_try_get_data\u001b[49m\u001b[43m(\u001b[49m\u001b[43m)\u001b[49m\n\u001b[32m   1454\u001b[39m         \u001b[38;5;28;01mif\u001b[39;00m success:\n\u001b[32m   1455\u001b[39m             \u001b[38;5;28;01mreturn\u001b[39;00m data\n",
      "\u001b[36mFile \u001b[39m\u001b[32mc:\\Users\\malco\\Documents\\cmn-templates\\sandbox\\.venv\\Lib\\site-packages\\torch\\utils\\data\\dataloader.py:1284\u001b[39m, in \u001b[36m_MultiProcessingDataLoaderIter._try_get_data\u001b[39m\u001b[34m(self, timeout)\u001b[39m\n\u001b[32m   1271\u001b[39m \u001b[38;5;28;01mdef\u001b[39;00m\u001b[38;5;250m \u001b[39m\u001b[34m_try_get_data\u001b[39m(\u001b[38;5;28mself\u001b[39m, timeout=_utils.MP_STATUS_CHECK_INTERVAL):\n\u001b[32m   1272\u001b[39m     \u001b[38;5;66;03m# Tries to fetch data from `self._data_queue` once for a given timeout.\u001b[39;00m\n\u001b[32m   1273\u001b[39m     \u001b[38;5;66;03m# This can also be used as inner loop of fetching without timeout, with\u001b[39;00m\n\u001b[32m   (...)\u001b[39m\u001b[32m   1281\u001b[39m     \u001b[38;5;66;03m# Returns a 2-tuple:\u001b[39;00m\n\u001b[32m   1282\u001b[39m     \u001b[38;5;66;03m#   (bool: whether successfully get data, any: data if successful else None)\u001b[39;00m\n\u001b[32m   1283\u001b[39m     \u001b[38;5;28;01mtry\u001b[39;00m:\n\u001b[32m-> \u001b[39m\u001b[32m1284\u001b[39m         data = \u001b[38;5;28;43mself\u001b[39;49m\u001b[43m.\u001b[49m\u001b[43m_data_queue\u001b[49m\u001b[43m.\u001b[49m\u001b[43mget\u001b[49m\u001b[43m(\u001b[49m\u001b[43mtimeout\u001b[49m\u001b[43m=\u001b[49m\u001b[43mtimeout\u001b[49m\u001b[43m)\u001b[49m\n\u001b[32m   1285\u001b[39m         \u001b[38;5;28;01mreturn\u001b[39;00m (\u001b[38;5;28;01mTrue\u001b[39;00m, data)\n\u001b[32m   1286\u001b[39m     \u001b[38;5;28;01mexcept\u001b[39;00m \u001b[38;5;167;01mException\u001b[39;00m \u001b[38;5;28;01mas\u001b[39;00m e:\n\u001b[32m   1287\u001b[39m         \u001b[38;5;66;03m# At timeout and error, we manually check whether any worker has\u001b[39;00m\n\u001b[32m   1288\u001b[39m         \u001b[38;5;66;03m# failed. Note that this is the only mechanism for Windows to detect\u001b[39;00m\n\u001b[32m   1289\u001b[39m         \u001b[38;5;66;03m# worker failures.\u001b[39;00m\n",
      "\u001b[36mFile \u001b[39m\u001b[32m~\\AppData\\Local\\Programs\\Python\\Python313\\Lib\\multiprocessing\\queues.py:111\u001b[39m, in \u001b[36mQueue.get\u001b[39m\u001b[34m(self, block, timeout)\u001b[39m\n\u001b[32m    109\u001b[39m \u001b[38;5;28;01mif\u001b[39;00m block:\n\u001b[32m    110\u001b[39m     timeout = deadline - time.monotonic()\n\u001b[32m--> \u001b[39m\u001b[32m111\u001b[39m     \u001b[38;5;28;01mif\u001b[39;00m \u001b[38;5;129;01mnot\u001b[39;00m \u001b[38;5;28;43mself\u001b[39;49m\u001b[43m.\u001b[49m\u001b[43m_poll\u001b[49m\u001b[43m(\u001b[49m\u001b[43mtimeout\u001b[49m\u001b[43m)\u001b[49m:\n\u001b[32m    112\u001b[39m         \u001b[38;5;28;01mraise\u001b[39;00m Empty\n\u001b[32m    113\u001b[39m \u001b[38;5;28;01melif\u001b[39;00m \u001b[38;5;129;01mnot\u001b[39;00m \u001b[38;5;28mself\u001b[39m._poll():\n",
      "\u001b[36mFile \u001b[39m\u001b[32m~\\AppData\\Local\\Programs\\Python\\Python313\\Lib\\multiprocessing\\connection.py:257\u001b[39m, in \u001b[36m_ConnectionBase.poll\u001b[39m\u001b[34m(self, timeout)\u001b[39m\n\u001b[32m    255\u001b[39m \u001b[38;5;28mself\u001b[39m._check_closed()\n\u001b[32m    256\u001b[39m \u001b[38;5;28mself\u001b[39m._check_readable()\n\u001b[32m--> \u001b[39m\u001b[32m257\u001b[39m \u001b[38;5;28;01mreturn\u001b[39;00m \u001b[38;5;28;43mself\u001b[39;49m\u001b[43m.\u001b[49m\u001b[43m_poll\u001b[49m\u001b[43m(\u001b[49m\u001b[43mtimeout\u001b[49m\u001b[43m)\u001b[49m\n",
      "\u001b[36mFile \u001b[39m\u001b[32m~\\AppData\\Local\\Programs\\Python\\Python313\\Lib\\multiprocessing\\connection.py:346\u001b[39m, in \u001b[36mPipeConnection._poll\u001b[39m\u001b[34m(self, timeout)\u001b[39m\n\u001b[32m    343\u001b[39m \u001b[38;5;28;01mif\u001b[39;00m (\u001b[38;5;28mself\u001b[39m._got_empty_message \u001b[38;5;129;01mor\u001b[39;00m\n\u001b[32m    344\u001b[39m             _winapi.PeekNamedPipe(\u001b[38;5;28mself\u001b[39m._handle)[\u001b[32m0\u001b[39m] != \u001b[32m0\u001b[39m):\n\u001b[32m    345\u001b[39m     \u001b[38;5;28;01mreturn\u001b[39;00m \u001b[38;5;28;01mTrue\u001b[39;00m\n\u001b[32m--> \u001b[39m\u001b[32m346\u001b[39m \u001b[38;5;28;01mreturn\u001b[39;00m \u001b[38;5;28mbool\u001b[39m(\u001b[43mwait\u001b[49m\u001b[43m(\u001b[49m\u001b[43m[\u001b[49m\u001b[38;5;28;43mself\u001b[39;49m\u001b[43m]\u001b[49m\u001b[43m,\u001b[49m\u001b[43m \u001b[49m\u001b[43mtimeout\u001b[49m\u001b[43m)\u001b[49m)\n",
      "\u001b[36mFile \u001b[39m\u001b[32m~\\AppData\\Local\\Programs\\Python\\Python313\\Lib\\multiprocessing\\connection.py:1096\u001b[39m, in \u001b[36mwait\u001b[39m\u001b[34m(object_list, timeout)\u001b[39m\n\u001b[32m   1093\u001b[39m                 ready_objects.add(o)\n\u001b[32m   1094\u001b[39m                 timeout = \u001b[32m0\u001b[39m\n\u001b[32m-> \u001b[39m\u001b[32m1096\u001b[39m     ready_handles = \u001b[43m_exhaustive_wait\u001b[49m\u001b[43m(\u001b[49m\u001b[43mwaithandle_to_obj\u001b[49m\u001b[43m.\u001b[49m\u001b[43mkeys\u001b[49m\u001b[43m(\u001b[49m\u001b[43m)\u001b[49m\u001b[43m,\u001b[49m\u001b[43m \u001b[49m\u001b[43mtimeout\u001b[49m\u001b[43m)\u001b[49m\n\u001b[32m   1097\u001b[39m \u001b[38;5;28;01mfinally\u001b[39;00m:\n\u001b[32m   1098\u001b[39m     \u001b[38;5;66;03m# request that overlapped reads stop\u001b[39;00m\n\u001b[32m   1099\u001b[39m     \u001b[38;5;28;01mfor\u001b[39;00m ov \u001b[38;5;129;01min\u001b[39;00m ov_list:\n",
      "\u001b[36mFile \u001b[39m\u001b[32m~\\AppData\\Local\\Programs\\Python\\Python313\\Lib\\multiprocessing\\connection.py:1028\u001b[39m, in \u001b[36m_exhaustive_wait\u001b[39m\u001b[34m(handles, timeout)\u001b[39m\n\u001b[32m   1026\u001b[39m \u001b[38;5;28;01mwhile\u001b[39;00m L:\n\u001b[32m   1027\u001b[39m     short_L = L[:\u001b[32m60\u001b[39m] \u001b[38;5;28;01mif\u001b[39;00m \u001b[38;5;28mlen\u001b[39m(L) > \u001b[32m60\u001b[39m \u001b[38;5;28;01melse\u001b[39;00m L\n\u001b[32m-> \u001b[39m\u001b[32m1028\u001b[39m     res = \u001b[43m_winapi\u001b[49m\u001b[43m.\u001b[49m\u001b[43mWaitForMultipleObjects\u001b[49m\u001b[43m(\u001b[49m\u001b[43mshort_L\u001b[49m\u001b[43m,\u001b[49m\u001b[43m \u001b[49m\u001b[38;5;28;43;01mFalse\u001b[39;49;00m\u001b[43m,\u001b[49m\u001b[43m \u001b[49m\u001b[43mtimeout\u001b[49m\u001b[43m)\u001b[49m\n\u001b[32m   1029\u001b[39m     \u001b[38;5;28;01mif\u001b[39;00m res == WAIT_TIMEOUT:\n\u001b[32m   1030\u001b[39m         \u001b[38;5;28;01mbreak\u001b[39;00m\n",
      "\u001b[31mKeyboardInterrupt\u001b[39m: "
     ]
    }
   ],
   "source": [
    "net=Net(dropout=0.3)\n",
    "train_loss,train_acc,test_loss,test_acc=train_test(net,250,train_loader=train_loader,test_loader=test_loader,device=DEVICE)"
   ]
  },
  {
   "cell_type": "code",
   "execution_count": null,
   "id": "3f848f01",
   "metadata": {},
   "outputs": [
    {
     "data": {
      "text/plain": [
       "[<matplotlib.lines.Line2D at 0x28707223390>]"
      ]
     },
     "execution_count": 14,
     "metadata": {},
     "output_type": "execute_result"
    },
    {
     "data": {
      "image/png": "[encoded data removed]",
      "text/plain": [
       "<Figure size 640x480 with 1 Axes>"
      ]
     },
     "metadata": {},
     "output_type": "display_data"
    }
   ],
   "source": [
    "plt.plot(train_loss)\n",
    "plt.plot(test_loss)"
   ]
  },
  {
   "cell_type": "code",
   "execution_count": null,
   "id": "8c3d3671",
   "metadata": {},
   "outputs": [
    {
     "name": "stdout",
     "output_type": "stream",
     "text": [
      "[tensor(0.1413), tensor(0.1425), tensor(0.1462), tensor(0.1456), tensor(0.1500), tensor(0.1500), tensor(0.1500), tensor(0.1500), tensor(0.1500), tensor(0.1341), tensor(0.1496), tensor(0.1534), tensor(0.1488), tensor(0.1540), tensor(0.1619), tensor(0.1653), tensor(0.1560), tensor(0.1569), tensor(0.1639), tensor(0.1528), tensor(0.1504), tensor(0.1780), tensor(0.1740), tensor(0.1607), tensor(0.1702), tensor(0.1633), tensor(0.1665), tensor(0.1633), tensor(0.1696), tensor(0.1736), tensor(0.1720), tensor(0.1726), tensor(0.1778), tensor(0.1712), tensor(0.1659), tensor(0.1774), tensor(0.1730), tensor(0.1796), tensor(0.1639), tensor(0.1683), tensor(0.1752), tensor(0.1746), tensor(0.1812), tensor(0.1810), tensor(0.1812), tensor(0.1708), tensor(0.1774), tensor(0.1798), tensor(0.1833), tensor(0.1812), tensor(0.1847), tensor(0.1800), tensor(0.1756), tensor(0.1808), tensor(0.1810), tensor(0.1786), tensor(0.1677), tensor(0.1829), tensor(0.1738), tensor(0.1722), tensor(0.1784), tensor(0.1867), tensor(0.1746), tensor(0.1851), tensor(0.1790), tensor(0.1698), tensor(0.1714), tensor(0.1893), tensor(0.1825), tensor(0.1869), tensor(0.1877), tensor(0.1891), tensor(0.1873), tensor(0.1905), tensor(0.1923), tensor(0.1933), tensor(0.1919), tensor(0.1968), tensor(0.1938), tensor(0.1823), tensor(0.1899), tensor(0.1998), tensor(0.2004), tensor(0.1962), tensor(0.1897), tensor(0.1859), tensor(0.1919), tensor(0.1990), tensor(0.1942), tensor(0.1944), tensor(0.2008), tensor(0.1901), tensor(0.1891), tensor(0.2030), tensor(0.1921), tensor(0.1982), tensor(0.1919), tensor(0.2022), tensor(0.1970), tensor(0.2020), tensor(0.1885), tensor(0.1960), tensor(0.2020), tensor(0.1849), tensor(0.2024), tensor(0.1885), tensor(0.1954), tensor(0.1919), tensor(0.1927), tensor(0.1897), tensor(0.1937), tensor(0.1990), tensor(0.2091), tensor(0.1937), tensor(0.2006), tensor(0.1988), tensor(0.1996), tensor(0.2032), tensor(0.2024), tensor(0.2063), tensor(0.2026), tensor(0.2006), tensor(0.1956), tensor(0.1952), tensor(0.2083), tensor(0.1956), tensor(0.2040), tensor(0.2010), tensor(0.2006), tensor(0.2028), tensor(0.1984), tensor(0.1952), tensor(0.1917), tensor(0.1980), tensor(0.2048), tensor(0.1966), tensor(0.2020), tensor(0.2018), tensor(0.2030), tensor(0.2022), tensor(0.2022), tensor(0.1982), tensor(0.2065), tensor(0.2089), tensor(0.1966), tensor(0.2073), tensor(0.1994), tensor(0.1988), tensor(0.1958), tensor(0.1970), tensor(0.2008), tensor(0.1994), tensor(0.2018), tensor(0.2044), tensor(0.2002), tensor(0.1966), tensor(0.2056), tensor(0.1986), tensor(0.2067), tensor(0.1972), tensor(0.1976), tensor(0.1990), tensor(0.1996), tensor(0.2022), tensor(0.1921), tensor(0.2121), tensor(0.2012), tensor(0.2093), tensor(0.2026), tensor(0.2079), tensor(0.2046), tensor(0.2032), tensor(0.1978), tensor(0.2044), tensor(0.2121), tensor(0.1952), tensor(0.2056), tensor(0.1998), tensor(0.2099), tensor(0.2046), tensor(0.2012), tensor(0.2089), tensor(0.2034), tensor(0.2071), tensor(0.2008), tensor(0.2129), tensor(0.2087), tensor(0.2065), tensor(0.2032), tensor(0.2036), tensor(0.2101), tensor(0.2151), tensor(0.2111), tensor(0.2119), tensor(0.2103), tensor(0.2095), tensor(0.2073), tensor(0.2075), tensor(0.2060), tensor(0.2020), tensor(0.2091), tensor(0.2014), tensor(0.2133), tensor(0.2063), tensor(0.2038), tensor(0.2058), tensor(0.2004), tensor(0.1972), tensor(0.2127), tensor(0.2087), tensor(0.2099), tensor(0.2071), tensor(0.2081), tensor(0.2109), tensor(0.2101), tensor(0.1998), tensor(0.2081), tensor(0.2109), tensor(0.1986), tensor(0.2087), tensor(0.2048), tensor(0.2058), tensor(0.2030), tensor(0.2024), tensor(0.2038), tensor(0.2091), tensor(0.2139), tensor(0.2089), tensor(0.2032), tensor(0.2042), tensor(0.2093), tensor(0.1998), tensor(0.2075), tensor(0.2083), tensor(0.2050), tensor(0.2089), tensor(0.2018), tensor(0.2085), tensor(0.2075), tensor(0.2077), tensor(0.2071), tensor(0.2099), tensor(0.2093), tensor(0.2020), tensor(0.2054), tensor(0.2099), tensor(0.2065), tensor(0.2085), tensor(0.2067), tensor(0.1994), tensor(0.2139), tensor(0.2010), tensor(0.2135), tensor(0.2127), tensor(0.2081), tensor(0.2133), tensor(0.2099), tensor(0.2103), tensor(0.2089), tensor(0.2117), tensor(0.2095), tensor(0.2026), tensor(0.2155), tensor(0.2054), tensor(0.2115), tensor(0.2093), tensor(0.2139), tensor(0.2004), tensor(0.2147), tensor(0.2091), tensor(0.2058), tensor(0.2190), tensor(0.2095), tensor(0.2044), tensor(0.2141), tensor(0.2125), tensor(0.2062), tensor(0.2111), tensor(0.2048), tensor(0.2079), tensor(0.2097), tensor(0.2181), tensor(0.2097), tensor(0.2113), tensor(0.2099), tensor(0.2077), tensor(0.2165), tensor(0.2139), tensor(0.2159), tensor(0.2157), tensor(0.2095), tensor(0.2056), tensor(0.2129), tensor(0.2141), tensor(0.2153), tensor(0.2103), tensor(0.2077), tensor(0.2063), tensor(0.2212), tensor(0.2149), tensor(0.2111), tensor(0.2145), tensor(0.2216), tensor(0.2250), tensor(0.2107), tensor(0.2103), tensor(0.2139), tensor(0.2105), tensor(0.2143), tensor(0.2065), tensor(0.2048), tensor(0.2099), tensor(0.2242), tensor(0.2095), tensor(0.2242), tensor(0.2105), tensor(0.2115), tensor(0.2145), tensor(0.2165), tensor(0.2137), tensor(0.2109), tensor(0.2050), tensor(0.2157), tensor(0.2093), tensor(0.2081), tensor(0.2099), tensor(0.2095), tensor(0.2101), tensor(0.2159), tensor(0.2117), tensor(0.2155), tensor(0.2093), tensor(0.2107), tensor(0.2097), tensor(0.2109), tensor(0.2109), tensor(0.2123), tensor(0.2153), tensor(0.2117), tensor(0.2131), tensor(0.2135), tensor(0.2256), tensor(0.2188), tensor(0.2093), tensor(0.2063), tensor(0.2183), tensor(0.2187), tensor(0.2131), tensor(0.2151), tensor(0.2093), tensor(0.2234), tensor(0.2103), tensor(0.2071), tensor(0.2107), tensor(0.2127), tensor(0.2113), tensor(0.2069), tensor(0.2141), tensor(0.2111), tensor(0.2109), tensor(0.2081), tensor(0.2188), tensor(0.2048), tensor(0.2101), tensor(0.2159), tensor(0.2097), tensor(0.2060), tensor(0.2133), tensor(0.2163), tensor(0.2123), tensor(0.2105), tensor(0.2071), tensor(0.2141), tensor(0.2149), tensor(0.2145), tensor(0.2117), tensor(0.2163), tensor(0.2115), tensor(0.2105), tensor(0.2127), tensor(0.2125), tensor(0.2103), tensor(0.2040), tensor(0.2111), tensor(0.2046), tensor(0.2089), tensor(0.2052), tensor(0.2131), tensor(0.2204), tensor(0.2183), tensor(0.2085), tensor(0.2127), tensor(0.2123), tensor(0.2101), tensor(0.2117), tensor(0.2056), tensor(0.2103), tensor(0.2115), tensor(0.2109), tensor(0.2069), tensor(0.2139), tensor(0.2159), tensor(0.2091), tensor(0.2135), tensor(0.2119), tensor(0.2054), tensor(0.2083), tensor(0.2073), tensor(0.2137), tensor(0.2115), tensor(0.2083), tensor(0.2095), tensor(0.2048), tensor(0.2135), tensor(0.2149), tensor(0.2081), tensor(0.2210), tensor(0.2123), tensor(0.2081), tensor(0.2137), tensor(0.2194), tensor(0.2139), tensor(0.2147), tensor(0.2141), tensor(0.2190), tensor(0.2117), tensor(0.2161), tensor(0.2177), tensor(0.2058), tensor(0.2113), tensor(0.2151), tensor(0.2115), tensor(0.2095), tensor(0.2060), tensor(0.2179), tensor(0.2171), tensor(0.2117), tensor(0.2183), tensor(0.2141), tensor(0.2145), tensor(0.2107), tensor(0.2034), tensor(0.2141), tensor(0.2230), tensor(0.2139), tensor(0.2085), tensor(0.2091), tensor(0.2129), tensor(0.2187), tensor(0.2107), tensor(0.2097), tensor(0.2169), tensor(0.2183), tensor(0.2111), tensor(0.2097), tensor(0.2159), tensor(0.2147), tensor(0.2244), tensor(0.2071), tensor(0.2069), tensor(0.2155), tensor(0.2137), tensor(0.2095), tensor(0.2149), tensor(0.2115), tensor(0.2117), tensor(0.2111), tensor(0.2196), tensor(0.2135), tensor(0.2099), tensor(0.2169), tensor(0.2137), tensor(0.2147), tensor(0.2129), tensor(0.2099), tensor(0.2117), tensor(0.2073), tensor(0.2163), tensor(0.2190), tensor(0.2073), tensor(0.2121), tensor(0.2141), tensor(0.2079), tensor(0.2163), tensor(0.2179), tensor(0.2127), tensor(0.2123), tensor(0.2022), tensor(0.2111), tensor(0.2169), tensor(0.2099), tensor(0.2099), tensor(0.2105), tensor(0.2179), tensor(0.2056), tensor(0.2177), tensor(0.2103), tensor(0.2127), tensor(0.2155), tensor(0.2159), tensor(0.2165), tensor(0.2188), tensor(0.2107), tensor(0.2192), tensor(0.2137), tensor(0.2103), tensor(0.2143), tensor(0.2161), tensor(0.2149), tensor(0.2103), tensor(0.2188), tensor(0.2097), tensor(0.2046), tensor(0.2101), tensor(0.2153), tensor(0.2163), tensor(0.2169), tensor(0.2077), tensor(0.2185), tensor(0.2097), tensor(0.2151), tensor(0.2073), tensor(0.2141), tensor(0.2137), tensor(0.2143), tensor(0.2157), tensor(0.2125), tensor(0.2036), tensor(0.2169), tensor(0.2145), tensor(0.2091), tensor(0.2073), tensor(0.2171), tensor(0.2085), tensor(0.2099), tensor(0.2054), tensor(0.2175), tensor(0.2040), tensor(0.2125), tensor(0.2081), tensor(0.2155), tensor(0.2151), tensor(0.2135), tensor(0.2085), tensor(0.2060), tensor(0.2105), tensor(0.2159), tensor(0.2268), tensor(0.2127), tensor(0.2115), tensor(0.2183), tensor(0.2151), tensor(0.2054), tensor(0.2161), tensor(0.2058), tensor(0.2123), tensor(0.2141), tensor(0.2091), tensor(0.2050), tensor(0.2137), tensor(0.2139), tensor(0.2123), tensor(0.2127), tensor(0.2085), tensor(0.2058), tensor(0.2069), tensor(0.2145), tensor(0.2222), tensor(0.2071), tensor(0.2173), tensor(0.2117), tensor(0.2123), tensor(0.2175), tensor(0.2085), tensor(0.2131), tensor(0.2159), tensor(0.2167), tensor(0.2192), tensor(0.2115), tensor(0.2147), tensor(0.2159), tensor(0.2163), tensor(0.2091), tensor(0.2149), tensor(0.2173), tensor(0.2081), tensor(0.2190), tensor(0.2167), tensor(0.2202), tensor(0.2125), tensor(0.2091), tensor(0.2113), tensor(0.2091), tensor(0.2139), tensor(0.2163), tensor(0.2159), tensor(0.2147), tensor(0.2145), tensor(0.2115), tensor(0.2105), tensor(0.2117), tensor(0.2119), tensor(0.2097), tensor(0.2125), tensor(0.2125), tensor(0.2085), tensor(0.2137), tensor(0.2123), tensor(0.2081), tensor(0.2143), tensor(0.2115), tensor(0.2121), tensor(0.2119), tensor(0.2119), tensor(0.2181), tensor(0.2141), tensor(0.2065), tensor(0.2141), tensor(0.2115), tensor(0.2129), tensor(0.2058), tensor(0.2081), tensor(0.2091), tensor(0.2143), tensor(0.2149), tensor(0.2139), tensor(0.2167), tensor(0.2137), tensor(0.2117), tensor(0.2165), tensor(0.2143), tensor(0.2214), tensor(0.2139), tensor(0.2135), tensor(0.2121), tensor(0.2204), tensor(0.2155), tensor(0.2200), tensor(0.2161), tensor(0.2159), tensor(0.2234), tensor(0.2179), tensor(0.2145), tensor(0.2145), tensor(0.2212), tensor(0.2234), tensor(0.2218), tensor(0.2206), tensor(0.2151), tensor(0.2141), tensor(0.2175), tensor(0.2175), tensor(0.2165), tensor(0.2196), tensor(0.2113), tensor(0.2113), tensor(0.2153), tensor(0.2161), tensor(0.2151), tensor(0.2107), tensor(0.2179), tensor(0.2127), tensor(0.2274), tensor(0.2185), tensor(0.2117), tensor(0.2179), tensor(0.2165), tensor(0.2161), tensor(0.2153), tensor(0.2131), tensor(0.2135), tensor(0.2190), tensor(0.2167), tensor(0.2115), tensor(0.2105), tensor(0.2202), tensor(0.2105), tensor(0.2145), tensor(0.2139), tensor(0.2137), tensor(0.2133), tensor(0.2183), tensor(0.2137), tensor(0.2181), tensor(0.2222), tensor(0.2236), tensor(0.2175), tensor(0.2202), tensor(0.2153), tensor(0.2200), tensor(0.2115), tensor(0.2175), tensor(0.2135), tensor(0.2153), tensor(0.2177), tensor(0.2133), tensor(0.2063), tensor(0.2125), tensor(0.2107), tensor(0.2224), tensor(0.2173), tensor(0.2185), tensor(0.2260), tensor(0.2149), tensor(0.2175), tensor(0.2190), tensor(0.2188), tensor(0.2115), tensor(0.2169), tensor(0.2175), tensor(0.2163), tensor(0.2153), tensor(0.2121), tensor(0.2169), tensor(0.2181), tensor(0.2194), tensor(0.2190), tensor(0.2159), tensor(0.2133), tensor(0.2099), tensor(0.2220), tensor(0.2187), tensor(0.2139), tensor(0.2081), tensor(0.2157), tensor(0.2046), tensor(0.2125), tensor(0.2204), tensor(0.2183), tensor(0.2224), tensor(0.2109), tensor(0.2187), tensor(0.2099), tensor(0.2115), tensor(0.2173), tensor(0.2139), tensor(0.2159), tensor(0.2127), tensor(0.2095), tensor(0.2179), tensor(0.2137), tensor(0.2127), tensor(0.2169), tensor(0.2212), tensor(0.2200), tensor(0.2167), tensor(0.2133), tensor(0.2117), tensor(0.2204), tensor(0.2198), tensor(0.2149), tensor(0.2200), tensor(0.2240), tensor(0.2220), tensor(0.2155), tensor(0.2175), tensor(0.2155), tensor(0.2159), tensor(0.2109), tensor(0.2163), tensor(0.2139), tensor(0.2083), tensor(0.2026), tensor(0.2117), tensor(0.2206), tensor(0.2230), tensor(0.2131), tensor(0.2183), tensor(0.2175), tensor(0.2183), tensor(0.2149), tensor(0.2153), tensor(0.2167), tensor(0.2196), tensor(0.2169), tensor(0.2218), tensor(0.2234), tensor(0.2113), tensor(0.2101), tensor(0.2133), tensor(0.2087), tensor(0.2183), tensor(0.2121), tensor(0.2131), tensor(0.2169), tensor(0.2161), tensor(0.2198), tensor(0.2183), tensor(0.2200), tensor(0.2169), tensor(0.2183), tensor(0.2153), tensor(0.2147), tensor(0.2192), tensor(0.2188), tensor(0.2224), tensor(0.2163), tensor(0.2188), tensor(0.2151), tensor(0.2149), tensor(0.2226), tensor(0.2194), tensor(0.2192), tensor(0.2194), tensor(0.2177), tensor(0.2248), tensor(0.2179), tensor(0.2175), tensor(0.2131), tensor(0.2163), tensor(0.2165), tensor(0.2113), tensor(0.2212), tensor(0.2113), tensor(0.2139), tensor(0.2177), tensor(0.2153), tensor(0.2188), tensor(0.2200), tensor(0.2095), tensor(0.2185), tensor(0.2185), tensor(0.2169), tensor(0.2157), tensor(0.2192), tensor(0.2111), tensor(0.2147), tensor(0.2135), tensor(0.2171), tensor(0.2083), tensor(0.2155), tensor(0.2173), tensor(0.2190), tensor(0.2210), tensor(0.2244), tensor(0.2198), tensor(0.2188), tensor(0.2127), tensor(0.2103), tensor(0.2087), tensor(0.2149), tensor(0.2183), tensor(0.2165), tensor(0.2155), tensor(0.2125), tensor(0.2190), tensor(0.2208), tensor(0.2103), tensor(0.2179), tensor(0.2196), tensor(0.2206), tensor(0.2121), tensor(0.2165), tensor(0.2157), tensor(0.2242), tensor(0.2224), tensor(0.2179), tensor(0.2123), tensor(0.2159), tensor(0.2167), tensor(0.2149), tensor(0.2133), tensor(0.2091), tensor(0.2151), tensor(0.2179), tensor(0.2194), tensor(0.2228), tensor(0.2188), tensor(0.2121), tensor(0.2153), tensor(0.2119), tensor(0.2177), tensor(0.2208), tensor(0.2192), tensor(0.2196), tensor(0.2139), tensor(0.2181), tensor(0.2185), tensor(0.2131), tensor(0.2145), tensor(0.2125), tensor(0.2147), tensor(0.2187), tensor(0.2163), tensor(0.2147), tensor(0.2228), tensor(0.2206), tensor(0.2179), tensor(0.2177), tensor(0.2113), tensor(0.2107), tensor(0.2175), tensor(0.2187), tensor(0.2200), tensor(0.2153), tensor(0.2192), tensor(0.2161), tensor(0.2185), tensor(0.2161), tensor(0.2175), tensor(0.2248), tensor(0.2157), tensor(0.2177), tensor(0.2131), tensor(0.2137), tensor(0.2175), tensor(0.2163), tensor(0.2210), tensor(0.2149), tensor(0.2179), tensor(0.2214), tensor(0.2097), tensor(0.2190), tensor(0.2206), tensor(0.2183), tensor(0.2167), tensor(0.2153), tensor(0.2179), tensor(0.2216), tensor(0.2167), tensor(0.2157), tensor(0.2194), tensor(0.2234), tensor(0.2073), tensor(0.2222), tensor(0.2149), tensor(0.2169), tensor(0.2159), tensor(0.2153), tensor(0.2192), tensor(0.2141), tensor(0.2192), tensor(0.2198), tensor(0.2113), tensor(0.2183), tensor(0.2190), tensor(0.2125), tensor(0.2147), tensor(0.2157), tensor(0.2194), tensor(0.2187), tensor(0.2187), tensor(0.2153), tensor(0.2173), tensor(0.2194), tensor(0.2143), tensor(0.2117), tensor(0.2089), tensor(0.2179), tensor(0.2183), tensor(0.2149), tensor(0.2155), tensor(0.2117), tensor(0.2147), tensor(0.2161), tensor(0.2181), tensor(0.2175), tensor(0.2171), tensor(0.2175), tensor(0.2185), tensor(0.2167), tensor(0.2109), tensor(0.2165), tensor(0.2187), tensor(0.2175), tensor(0.2181), tensor(0.2105), tensor(0.2192), tensor(0.2145), tensor(0.2210), tensor(0.2202), tensor(0.2188), tensor(0.2135), tensor(0.2202), tensor(0.2206), tensor(0.2177), tensor(0.2149), tensor(0.2240), tensor(0.2187), tensor(0.2157), tensor(0.2173), tensor(0.2135), tensor(0.2155), tensor(0.2181), tensor(0.2169), tensor(0.2204), tensor(0.2185), tensor(0.2220), tensor(0.2173), tensor(0.2224), tensor(0.2224), tensor(0.2216), tensor(0.2220), tensor(0.2171), tensor(0.2131), tensor(0.2200), tensor(0.2153), tensor(0.2198), tensor(0.2179), tensor(0.2167)]\n",
      "[tensor(0.1445), tensor(0.1452), tensor(0.1479), tensor(0.1498), tensor(0.1431), tensor(0.1478), tensor(0.1457), tensor(0.1475), tensor(0.1478), tensor(0.1486), tensor(0.1501), tensor(0.1526), tensor(0.1540), tensor(0.1588), tensor(0.1599), tensor(0.1628), tensor(0.1616), tensor(0.1668), tensor(0.1676), tensor(0.1695), tensor(0.1697), tensor(0.1698), tensor(0.1703), tensor(0.1752), tensor(0.1745), tensor(0.1707), tensor(0.1772), tensor(0.1759), tensor(0.1808), tensor(0.1806), tensor(0.1854), tensor(0.1853), tensor(0.1843), tensor(0.1846), tensor(0.1841), tensor(0.1860), tensor(0.1908), tensor(0.1862), tensor(0.1934), tensor(0.1885), tensor(0.1955), tensor(0.1966), tensor(0.1985), tensor(0.1994), tensor(0.2001), tensor(0.1993), tensor(0.1971), tensor(0.2043), tensor(0.2068), tensor(0.2055), tensor(0.2004), tensor(0.2054), tensor(0.2058), tensor(0.2063), tensor(0.2067), tensor(0.2074), tensor(0.2056), tensor(0.2098), tensor(0.2103), tensor(0.2081), tensor(0.2095), tensor(0.2097), tensor(0.2127), tensor(0.2137), tensor(0.2115), tensor(0.2207), tensor(0.2177), tensor(0.2166), tensor(0.2162), tensor(0.2187), tensor(0.2161), tensor(0.2200), tensor(0.2186), tensor(0.2201), tensor(0.2294), tensor(0.2226), tensor(0.2246), tensor(0.2261), tensor(0.2268), tensor(0.2296), tensor(0.2237), tensor(0.2275), tensor(0.2282), tensor(0.2272), tensor(0.2277), tensor(0.2273), tensor(0.2297), tensor(0.2302), tensor(0.2299), tensor(0.2295), tensor(0.2270), tensor(0.2294), tensor(0.2286), tensor(0.2331), tensor(0.2395), tensor(0.2358), tensor(0.2331), tensor(0.2304), tensor(0.2383), tensor(0.2345), tensor(0.2314), tensor(0.2370), tensor(0.2359), tensor(0.2356), tensor(0.2325), tensor(0.2386), tensor(0.2382), tensor(0.2376), tensor(0.2371), tensor(0.2419), tensor(0.2431), tensor(0.2436), tensor(0.2359), tensor(0.2423), tensor(0.2393), tensor(0.2485), tensor(0.2416), tensor(0.2431), tensor(0.2446), tensor(0.2447), tensor(0.2436), tensor(0.2479), tensor(0.2492), tensor(0.2476), tensor(0.2441), tensor(0.2450), tensor(0.2447), tensor(0.2496), tensor(0.2470), tensor(0.2479), tensor(0.2427), tensor(0.2507), tensor(0.2487), tensor(0.2494), tensor(0.2453), tensor(0.2448), tensor(0.2494), tensor(0.2467), tensor(0.2530), tensor(0.2478), tensor(0.2461), tensor(0.2526), tensor(0.2492), tensor(0.2538), tensor(0.2505), tensor(0.2517), tensor(0.2502), tensor(0.2468), tensor(0.2553), tensor(0.2564), tensor(0.2521), tensor(0.2539), tensor(0.2564), tensor(0.2559), tensor(0.2564), tensor(0.2573), tensor(0.2531), tensor(0.2537), tensor(0.2579), tensor(0.2547), tensor(0.2559), tensor(0.2598), tensor(0.2582), tensor(0.2604), tensor(0.2583), tensor(0.2561), tensor(0.2591), tensor(0.2565), tensor(0.2553), tensor(0.2560), tensor(0.2571), tensor(0.2640), tensor(0.2562), tensor(0.2605), tensor(0.2598), tensor(0.2594), tensor(0.2631), tensor(0.2593), tensor(0.2628), tensor(0.2525), tensor(0.2670), tensor(0.2596), tensor(0.2608), tensor(0.2657), tensor(0.2600), tensor(0.2628), tensor(0.2624), tensor(0.2666), tensor(0.2663), tensor(0.2603), tensor(0.2598), tensor(0.2720), tensor(0.2638), tensor(0.2691), tensor(0.2634), tensor(0.2690), tensor(0.2643), tensor(0.2662), tensor(0.2648), tensor(0.2667), tensor(0.2662), tensor(0.2695), tensor(0.2661), tensor(0.2648), tensor(0.2653), tensor(0.2679), tensor(0.2699), tensor(0.2664), tensor(0.2709), tensor(0.2669), tensor(0.2685), tensor(0.2662), tensor(0.2676), tensor(0.2727), tensor(0.2667), tensor(0.2684), tensor(0.2623), tensor(0.2677), tensor(0.2723), tensor(0.2708), tensor(0.2690), tensor(0.2685), tensor(0.2719), tensor(0.2669), tensor(0.2696), tensor(0.2656), tensor(0.2656), tensor(0.2690), tensor(0.2673), tensor(0.2718), tensor(0.2738), tensor(0.2719), tensor(0.2705), tensor(0.2665), tensor(0.2751), tensor(0.2756), tensor(0.2739), tensor(0.2736), tensor(0.2729), tensor(0.2714), tensor(0.2760), tensor(0.2711), tensor(0.2722), tensor(0.2715), tensor(0.2736), tensor(0.2690), tensor(0.2754), tensor(0.2731), tensor(0.2718), tensor(0.2721), tensor(0.2712), tensor(0.2736), tensor(0.2707), tensor(0.2757), tensor(0.2768), tensor(0.2717), tensor(0.2720), tensor(0.2720), tensor(0.2712), tensor(0.2685), tensor(0.2750), tensor(0.2737), tensor(0.2760), tensor(0.2747), tensor(0.2737), tensor(0.2727), tensor(0.2759), tensor(0.2772), tensor(0.2746), tensor(0.2769), tensor(0.2725), tensor(0.2751), tensor(0.2762), tensor(0.2714), tensor(0.2784), tensor(0.2737), tensor(0.2786), tensor(0.2734), tensor(0.2733), tensor(0.2732), tensor(0.2765), tensor(0.2757), tensor(0.2787), tensor(0.2753), tensor(0.2810), tensor(0.2746), tensor(0.2798), tensor(0.2801), tensor(0.2808), tensor(0.2792), tensor(0.2806), tensor(0.2798), tensor(0.2815), tensor(0.2784), tensor(0.2767), tensor(0.2805), tensor(0.2823), tensor(0.2828), tensor(0.2794), tensor(0.2831), tensor(0.2746), tensor(0.2798), tensor(0.2782), tensor(0.2814), tensor(0.2794), tensor(0.2812), tensor(0.2792), tensor(0.2818), tensor(0.2844), tensor(0.2779), tensor(0.2745), tensor(0.2773), tensor(0.2820), tensor(0.2777), tensor(0.2803), tensor(0.2839), tensor(0.2828), tensor(0.2808), tensor(0.2798), tensor(0.2826), tensor(0.2819), tensor(0.2816), tensor(0.2741), tensor(0.2827), tensor(0.2855), tensor(0.2792), tensor(0.2849), tensor(0.2867), tensor(0.2808), tensor(0.2786), tensor(0.2857), tensor(0.2810), tensor(0.2805), tensor(0.2838), tensor(0.2867), tensor(0.2827), tensor(0.2807), tensor(0.2807), tensor(0.2781), tensor(0.2823), tensor(0.2807), tensor(0.2812), tensor(0.2820), tensor(0.2781), tensor(0.2820), tensor(0.2819), tensor(0.2849), tensor(0.2822), tensor(0.2836), tensor(0.2821), tensor(0.2831), tensor(0.2865), tensor(0.2861), tensor(0.2838), tensor(0.2830), tensor(0.2901), tensor(0.2786), tensor(0.2846), tensor(0.2873), tensor(0.2880), tensor(0.2797), tensor(0.2885), tensor(0.2815), tensor(0.2846), tensor(0.2825), tensor(0.2832), tensor(0.2851), tensor(0.2844), tensor(0.2830), tensor(0.2892), tensor(0.2820), tensor(0.2915), tensor(0.2834), tensor(0.2857), tensor(0.2831), tensor(0.2885), tensor(0.2853), tensor(0.2798), tensor(0.2810), tensor(0.2909), tensor(0.2815), tensor(0.2844), tensor(0.2878), tensor(0.2856), tensor(0.2866), tensor(0.2861), tensor(0.2868), tensor(0.2892), tensor(0.2851), tensor(0.2857), tensor(0.2895), tensor(0.2888), tensor(0.2863), tensor(0.2798), tensor(0.2874), tensor(0.2911), tensor(0.2914), tensor(0.2812), tensor(0.2858), tensor(0.2892), tensor(0.2882), tensor(0.2886), tensor(0.2897), tensor(0.2899), tensor(0.2891), tensor(0.2902), tensor(0.2902), tensor(0.2922), tensor(0.2880), tensor(0.2894), tensor(0.2856), tensor(0.2874), tensor(0.2911), tensor(0.2905), tensor(0.2888), tensor(0.2919), tensor(0.2845), tensor(0.2917), tensor(0.2878), tensor(0.2922), tensor(0.2897), tensor(0.2926), tensor(0.2906), tensor(0.2907), tensor(0.2893), tensor(0.2920), tensor(0.2940), tensor(0.2932), tensor(0.2920), tensor(0.2875), tensor(0.2876), tensor(0.2935), tensor(0.2929), tensor(0.2885), tensor(0.2954), tensor(0.2866), tensor(0.2933), tensor(0.2921), tensor(0.2922), tensor(0.2859), tensor(0.2942), tensor(0.2943), tensor(0.2918), tensor(0.2880), tensor(0.2900), tensor(0.2987), tensor(0.2939), tensor(0.2958), tensor(0.2909), tensor(0.2891), tensor(0.2898), tensor(0.2920), tensor(0.2841), tensor(0.2909), tensor(0.2901), tensor(0.2911), tensor(0.2902), tensor(0.2900), tensor(0.2958), tensor(0.2913), tensor(0.2914), tensor(0.2895), tensor(0.2948), tensor(0.2882), tensor(0.2976), tensor(0.2954), tensor(0.2949), tensor(0.2946), tensor(0.2917), tensor(0.2976), tensor(0.2961), tensor(0.2955), tensor(0.2945), tensor(0.2970), tensor(0.2967), tensor(0.2925), tensor(0.2950), tensor(0.2978), tensor(0.2947), tensor(0.2975), tensor(0.2905), tensor(0.2953), tensor(0.2948), tensor(0.2884), tensor(0.2912), tensor(0.2929), tensor(0.2953), tensor(0.2956), tensor(0.2938), tensor(0.2884), tensor(0.2938), tensor(0.2958), tensor(0.2975), tensor(0.2942), tensor(0.2948), tensor(0.2952), tensor(0.2954), tensor(0.2938), tensor(0.2950), tensor(0.2914), tensor(0.2978), tensor(0.2959), tensor(0.2968), tensor(0.3001), tensor(0.2912), tensor(0.2977), tensor(0.2978), tensor(0.2951), tensor(0.2937), tensor(0.3015), tensor(0.2949), tensor(0.3001), tensor(0.3027), tensor(0.2955), tensor(0.2942), tensor(0.2981), tensor(0.2990), tensor(0.2952), tensor(0.2981), tensor(0.2938), tensor(0.2927), tensor(0.2914), tensor(0.2963), tensor(0.2962), tensor(0.2984), tensor(0.2962), tensor(0.2965), tensor(0.2990), tensor(0.2989), tensor(0.2980), tensor(0.2967), tensor(0.2976), tensor(0.2989), tensor(0.2949), tensor(0.3016), tensor(0.2967), tensor(0.2958), tensor(0.2965), tensor(0.3003), tensor(0.2933), tensor(0.2971), tensor(0.2957), tensor(0.3017), tensor(0.3015), tensor(0.2977), tensor(0.3008), tensor(0.2978), tensor(0.2959), tensor(0.2967), tensor(0.3009), tensor(0.2989), tensor(0.2974), tensor(0.2990), tensor(0.2970), tensor(0.2925), tensor(0.3031), tensor(0.2978), tensor(0.3024), tensor(0.2978), tensor(0.2947), tensor(0.2981), tensor(0.3015), tensor(0.2952), tensor(0.3012), tensor(0.3009), tensor(0.3052), tensor(0.2999), tensor(0.2990), tensor(0.2994), tensor(0.2957), tensor(0.3001), tensor(0.2969), tensor(0.2994), tensor(0.2963), tensor(0.2983), tensor(0.3000), tensor(0.3033), tensor(0.2979), tensor(0.3006), tensor(0.2978), tensor(0.3023), tensor(0.2972), tensor(0.2939), tensor(0.3001), tensor(0.3047), tensor(0.3011), tensor(0.2990), tensor(0.3008), tensor(0.2981), tensor(0.3012), tensor(0.2968), tensor(0.3026), tensor(0.2996), tensor(0.3014), tensor(0.3022), tensor(0.3033), tensor(0.3008), tensor(0.2972), tensor(0.2978), tensor(0.2984), tensor(0.3006), tensor(0.2982), tensor(0.2963), tensor(0.2979), tensor(0.3014), tensor(0.3009), tensor(0.3007), tensor(0.3022), tensor(0.2976), tensor(0.3005), tensor(0.2988), tensor(0.3074), tensor(0.3035), tensor(0.2970), tensor(0.3059), tensor(0.3079), tensor(0.2951), tensor(0.3017), tensor(0.3069), tensor(0.3022), tensor(0.3016), tensor(0.3040), tensor(0.2977), tensor(0.3059), tensor(0.3068), tensor(0.3011), tensor(0.2997), tensor(0.2957), tensor(0.2984), tensor(0.2964), tensor(0.3051), tensor(0.2979), tensor(0.3018), tensor(0.3029), tensor(0.3000), tensor(0.3037), tensor(0.3070), tensor(0.3037), tensor(0.3032), tensor(0.3038), tensor(0.3017), tensor(0.3037), tensor(0.3002), tensor(0.2987), tensor(0.3062), tensor(0.3013), tensor(0.2987), tensor(0.2994), tensor(0.3041), tensor(0.2976), tensor(0.3001), tensor(0.2997), tensor(0.3031), tensor(0.3029), tensor(0.3053), tensor(0.3017), tensor(0.3028), tensor(0.3048), tensor(0.3070), tensor(0.3035), tensor(0.3003), tensor(0.3022), tensor(0.3026), tensor(0.3062), tensor(0.3015), tensor(0.3030), tensor(0.3034), tensor(0.3049), tensor(0.3082), tensor(0.3033), tensor(0.3032), tensor(0.3004), tensor(0.3044), tensor(0.3026), tensor(0.3046), tensor(0.3013), tensor(0.3044), tensor(0.2990), tensor(0.3024), tensor(0.3041), tensor(0.3049), tensor(0.3050), tensor(0.3011), tensor(0.3044), tensor(0.3007), tensor(0.3113), tensor(0.3008), tensor(0.2998), tensor(0.3051), tensor(0.3068), tensor(0.3033), tensor(0.3058), tensor(0.3023), tensor(0.3018), tensor(0.3002), tensor(0.3026), tensor(0.3038), tensor(0.3026), tensor(0.3021), tensor(0.3051), tensor(0.3074), tensor(0.3071), tensor(0.3011), tensor(0.3092), tensor(0.3077), tensor(0.3063), tensor(0.3014), tensor(0.3025), tensor(0.3063), tensor(0.3066), tensor(0.3048), tensor(0.3079), tensor(0.3060), tensor(0.3050), tensor(0.3027), tensor(0.3062), tensor(0.3123), tensor(0.3059), tensor(0.3023), tensor(0.3053), tensor(0.3055), tensor(0.3090), tensor(0.3083), tensor(0.3064), tensor(0.3093), tensor(0.3061), tensor(0.3063), tensor(0.3041), tensor(0.3000), tensor(0.3048), tensor(0.3056), tensor(0.3086), tensor(0.3075), tensor(0.3100), tensor(0.3011), tensor(0.3052), tensor(0.3058), tensor(0.3100), tensor(0.3046), tensor(0.3063), tensor(0.3024), tensor(0.3065), tensor(0.3116), tensor(0.3036), tensor(0.3075), tensor(0.3084), tensor(0.3064), tensor(0.3066), tensor(0.3124), tensor(0.3044), tensor(0.3070), tensor(0.3101), tensor(0.3052), tensor(0.3104), tensor(0.3076), tensor(0.3117), tensor(0.3077), tensor(0.3030), tensor(0.3056), tensor(0.3102), tensor(0.3070), tensor(0.3094), tensor(0.3069), tensor(0.3098), tensor(0.3015), tensor(0.3073), tensor(0.3040), tensor(0.3052), tensor(0.3067), tensor(0.3057), tensor(0.3072), tensor(0.3070), tensor(0.3089), tensor(0.3089), tensor(0.3053), tensor(0.3080), tensor(0.3088), tensor(0.3071), tensor(0.3102), tensor(0.3095), tensor(0.3022), tensor(0.3087), tensor(0.3052), tensor(0.3096), tensor(0.3031), tensor(0.3110), tensor(0.3115), tensor(0.3085), tensor(0.3067), tensor(0.3115), tensor(0.3059), tensor(0.3117), tensor(0.3081), tensor(0.3088), tensor(0.3049), tensor(0.3073), tensor(0.3056), tensor(0.3027), tensor(0.3075), tensor(0.3059), tensor(0.3026), tensor(0.3071), tensor(0.3067), tensor(0.3081), tensor(0.3090), tensor(0.3082), tensor(0.3040), tensor(0.3049), tensor(0.3042), tensor(0.3049), tensor(0.3044), tensor(0.3090), tensor(0.3064), tensor(0.3078), tensor(0.3126), tensor(0.3078), tensor(0.3103), tensor(0.3063), tensor(0.3068), tensor(0.3092), tensor(0.3063), tensor(0.3079), tensor(0.3084), tensor(0.3068), tensor(0.3106), tensor(0.3079), tensor(0.3097), tensor(0.3056), tensor(0.3100), tensor(0.3104), tensor(0.3086), tensor(0.3170), tensor(0.3066), tensor(0.3110), tensor(0.3129), tensor(0.3098), tensor(0.3115), tensor(0.3061), tensor(0.3111), tensor(0.3049), tensor(0.3124), tensor(0.3068), tensor(0.3022), tensor(0.3081), tensor(0.3156), tensor(0.3075), tensor(0.3048), tensor(0.3096), tensor(0.3156), tensor(0.3065), tensor(0.3139), tensor(0.3075), tensor(0.3110), tensor(0.3122), tensor(0.3092), tensor(0.3126), tensor(0.3118), tensor(0.3150), tensor(0.3124), tensor(0.3065), tensor(0.3130), tensor(0.3133), tensor(0.3076), tensor(0.3131), tensor(0.3113), tensor(0.3107), tensor(0.3165), tensor(0.3117), tensor(0.3119), tensor(0.3114), tensor(0.3152), tensor(0.3080), tensor(0.3118), tensor(0.3117), tensor(0.3108), tensor(0.3109), tensor(0.3131), tensor(0.3111), tensor(0.3087), tensor(0.3173), tensor(0.3083), tensor(0.3120), tensor(0.3099), tensor(0.3094), tensor(0.3087), tensor(0.3074), tensor(0.3082), tensor(0.3124), tensor(0.3027), tensor(0.3133), tensor(0.3158), tensor(0.3162), tensor(0.3144), tensor(0.3125), tensor(0.3098), tensor(0.3112), tensor(0.3107), tensor(0.3118), tensor(0.3152), tensor(0.3104), tensor(0.3118), tensor(0.3122), tensor(0.3076), tensor(0.3070), tensor(0.3099), tensor(0.3133), tensor(0.3142), tensor(0.3107), tensor(0.3145), tensor(0.3168), tensor(0.3100), tensor(0.3132), tensor(0.3132), tensor(0.3096), tensor(0.3146), tensor(0.3098), tensor(0.3114), tensor(0.3158), tensor(0.3125), tensor(0.3169), tensor(0.3149), tensor(0.3116), tensor(0.3188), tensor(0.3039), tensor(0.3098), tensor(0.3154), tensor(0.3119), tensor(0.3134), tensor(0.3121), tensor(0.3130), tensor(0.3165), tensor(0.3101), tensor(0.3150), tensor(0.3078), tensor(0.3147), tensor(0.3083), tensor(0.3108), tensor(0.3137), tensor(0.3103), tensor(0.3066), tensor(0.3114), tensor(0.3169), tensor(0.3159), tensor(0.3141), tensor(0.3172), tensor(0.3048), tensor(0.3178), tensor(0.3129), tensor(0.3124), tensor(0.3161), tensor(0.3143), tensor(0.3105), tensor(0.3140), tensor(0.3132), tensor(0.3131), tensor(0.3151), tensor(0.3124), tensor(0.3138), tensor(0.3108), tensor(0.3163), tensor(0.3113), tensor(0.3130), tensor(0.3136), tensor(0.3101), tensor(0.3099), tensor(0.3141), tensor(0.3131), tensor(0.3085), tensor(0.3155), tensor(0.3098), tensor(0.3167), tensor(0.3154), tensor(0.3176), tensor(0.3134), tensor(0.3183), tensor(0.3107), tensor(0.3156), tensor(0.3162), tensor(0.3185), tensor(0.3129), tensor(0.3196), tensor(0.3117), tensor(0.3121), tensor(0.3053), tensor(0.3188), tensor(0.3163), tensor(0.3113), tensor(0.3104), tensor(0.3125), tensor(0.3163), tensor(0.3168), tensor(0.3148), tensor(0.3125), tensor(0.3168), tensor(0.3140), tensor(0.3122), tensor(0.3111), tensor(0.3184), tensor(0.3122), tensor(0.3172)]\n"
     ]
    }
   ],
   "source": [
    "test=[]\n",
    "train=[]\n",
    "for i in range(len(train_acc)):\n",
    "    train.append(train_acc[i].to('cpu'))\n",
    "    test.append(test_acc[i].to('cpu'))\n",
    "print(test)\n",
    "print(train)"
   ]
  },
  {
   "cell_type": "code",
   "execution_count": null,
   "id": "dfc4122a",
   "metadata": {},
   "outputs": [
    {
     "data": {
      "text/plain": [
       "[<matplotlib.lines.Line2D at 0x2870fc6cb90>]"
      ]
     },
     "execution_count": 26,
     "metadata": {},
     "output_type": "execute_result"
    },
    {
     "data": {
      "image/png": "[encoded data removed]",
      "text/plain": [
       "<Figure size 640x480 with 1 Axes>"
      ]
     },
     "metadata": {},
     "output_type": "display_data"
    }
   ],
   "source": [
    "plt.plot(train)\n",
    "plt.plot(test)"
   ]
  }
 ],
 "metadata": {
  "kernelspec": {
   "display_name": ".venv",
   "language": "python",
   "name": "python3"
  },
  "language_info": {
   "codemirror_mode": {
    "name": "ipython",
    "version": 3
   },
   "file_extension": ".py",
   "mimetype": "text/x-python",
   "name": "python",
   "nbconvert_exporter": "python",
   "pygments_lexer": "ipython3",
   "version": "3.13.5"
  }
 },
 "nbformat": 4,
 "nbformat_minor": 5
}
