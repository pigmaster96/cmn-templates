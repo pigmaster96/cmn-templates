{
 "cells": [
  {
   "cell_type": "code",
   "execution_count": 1,
   "id": "62037688",
   "metadata": {},
   "outputs": [],
   "source": [
    "import random\n",
    "import time\n",
    "import numpy as np\n",
    "import matplotlib.pyplot as plt\n",
    "import pandas as pd\n",
    "import scipy as sk\n",
    "import pickle\n",
    "import mne\n",
    "import tqdm\n",
    "from tqdm import trange\n",
    "\n",
    "import torch\n",
    "from torch.utils.data import DataLoader, TensorDataset\n",
    "import torch.optim as optim\n",
    "\n",
    "from torch import nn"
   ]
  },
  {
   "cell_type": "code",
   "execution_count": 2,
   "id": "73034eb7",
   "metadata": {},
   "outputs": [
    {
     "name": "stderr",
     "output_type": "stream",
     "text": [
      "<>:1: SyntaxWarning: invalid escape sequence '\\d'\n",
      "<>:1: SyntaxWarning: invalid escape sequence '\\d'\n",
      "C:\\Users\\malco\\AppData\\Local\\Temp\\ipykernel_2140\\2897069369.py:1: SyntaxWarning: invalid escape sequence '\\d'\n",
      "  path=\"ds005540\\derivatives\\sub-01\\ses-vid\\eeg\\sub-01_ses-vid_task-emotion_reorder.npy\"\n"
     ]
    }
   ],
   "source": [
    "path=\"ds005540\\derivatives\\sub-01\\ses-vid\\eeg\\sub-01_ses-vid_task-emotion_reorder.npy\"\n",
    "datatemp=np.load(path,allow_pickle=True)\n",
    "datatemp=np.permute_dims(datatemp,[1,0,2])"
   ]
  },
  {
   "cell_type": "code",
   "execution_count": 3,
   "id": "00f81cee",
   "metadata": {},
   "outputs": [
    {
     "data": {
      "text/plain": [
       "True"
      ]
     },
     "execution_count": 3,
     "metadata": {},
     "output_type": "execute_result"
    }
   ],
   "source": [
    "torch.cuda.is_available()\n"
   ]
  }
 ],
 "metadata": {
  "kernelspec": {
   "display_name": ".venv",
   "language": "python",
   "name": "python3"
  },
  "language_info": {
   "codemirror_mode": {
    "name": "ipython",
    "version": 3
   },
   "file_extension": ".py",
   "mimetype": "text/x-python",
   "name": "python",
   "nbconvert_exporter": "python",
   "pygments_lexer": "ipython3",
   "version": "3.13.5"
  }
 },
 "nbformat": 4,
 "nbformat_minor": 5
}
