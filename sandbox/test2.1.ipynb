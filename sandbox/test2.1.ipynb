{
 "cells": [
  {
   "cell_type": "code",
   "execution_count": 7,
   "id": "95be4606",
   "metadata": {},
   "outputs": [],
   "source": [
    "import random\n",
    "import time\n",
    "import numpy as np\n",
    "import matplotlib.pyplot as plt\n",
    "import pandas as pd\n",
    "import scipy as sk\n",
    "import pickle\n",
    "import mne\n",
    "import tqdm\n",
    "from tqdm import trange\n",
    "import os\n",
    "\n",
    "DEVICE='cuda'\n",
    "os.environ['CUDA_LAUNCH_BLOCKING'] = \"1\"\n",
    "import torch\n",
    "from torch.utils.data import DataLoader, TensorDataset\n",
    "import torch.optim as optim\n",
    "\n",
    "from torch import nn"
   ]
  },
  {
   "cell_type": "code",
   "execution_count": 8,
   "id": "658f9e62",
   "metadata": {},
   "outputs": [
    {
     "name": "stderr",
     "output_type": "stream",
     "text": [
      "<>:8: SyntaxWarning: invalid escape sequence '\\d'\n",
      "<>:8: SyntaxWarning: invalid escape sequence '\\s'\n",
      "<>:10: SyntaxWarning: invalid escape sequence '\\d'\n",
      "<>:10: SyntaxWarning: invalid escape sequence '\\s'\n",
      "<>:8: SyntaxWarning: invalid escape sequence '\\d'\n",
      "<>:8: SyntaxWarning: invalid escape sequence '\\s'\n",
      "<>:10: SyntaxWarning: invalid escape sequence '\\d'\n",
      "<>:10: SyntaxWarning: invalid escape sequence '\\s'\n",
      "C:\\Users\\malco\\AppData\\Local\\Temp\\ipykernel_5184\\213190029.py:8: SyntaxWarning: invalid escape sequence '\\d'\n",
      "  path=f'ds005540\\derivatives\\sub-0{sub}\\ses-vid\\eeg\\sub-0{sub}_ses-vid_task-emotion_reorder.npy'\n",
      "C:\\Users\\malco\\AppData\\Local\\Temp\\ipykernel_5184\\213190029.py:8: SyntaxWarning: invalid escape sequence '\\s'\n",
      "  path=f'ds005540\\derivatives\\sub-0{sub}\\ses-vid\\eeg\\sub-0{sub}_ses-vid_task-emotion_reorder.npy'\n",
      "C:\\Users\\malco\\AppData\\Local\\Temp\\ipykernel_5184\\213190029.py:10: SyntaxWarning: invalid escape sequence '\\d'\n",
      "  path=f'ds005540\\derivatives\\sub-{sub}\\ses-vid\\eeg\\sub-{sub}_ses-vid_task-emotion_reorder.npy'\n",
      "C:\\Users\\malco\\AppData\\Local\\Temp\\ipykernel_5184\\213190029.py:10: SyntaxWarning: invalid escape sequence '\\s'\n",
      "  path=f'ds005540\\derivatives\\sub-{sub}\\ses-vid\\eeg\\sub-{sub}_ses-vid_task-emotion_reorder.npy'\n"
     ]
    }
   ],
   "source": [
    "def extract_data(sub_range,verbose=False,feature_func=None,**kwargs):\n",
    "    first=sub_range[0]\n",
    "    last=sub_range[-1]\n",
    "\n",
    "    for sub in trange(first,last+1): \n",
    "        #read data\n",
    "        if sub <=9:\n",
    "            path=f'ds005540\\derivatives\\sub-0{sub}\\ses-vid\\eeg\\sub-0{sub}_ses-vid_task-emotion_reorder.npy'\n",
    "        else:\n",
    "            path=f'ds005540\\derivatives\\sub-{sub}\\ses-vid\\eeg\\sub-{sub}_ses-vid_task-emotion_reorder.npy'\n",
    "        datatemp=np.load(path,allow_pickle=True)\n",
    "        datatemp=np.permute_dims(datatemp,[1,0,2])\n",
    "\n",
    "        #if we want to convert features\n",
    "        if not feature_func==None:\n",
    "            datatemp=feature_func(datatemp,info=info)\n",
    "\n",
    "        #cat data along new dimension\n",
    "        datatemp=torch.tensor(datatemp).unsqueeze(0)\n",
    "        if sub==first:\n",
    "            data=datatemp\n",
    "        else:\n",
    "            data=torch.cat([data,datatemp],axis=0)\n",
    "\n",
    "        if verbose:\n",
    "            print(f'subject {sub} data extracted, vector size: {data.shape}')\n",
    "    return data\n",
    "\n",
    "def shuffle_and_split_data(X,y):\n",
    "    #get shuffled train/test/val in 8:1:1 ratio\n",
    "\n",
    "    N=X.size(0)\n",
    "    shuffled_indices=torch.randperm(N) #get shuffled indices\n",
    "    X=X[shuffled_indices]\n",
    "    y=y[shuffled_indices]\n",
    "\n",
    "    # split 80% train set\n",
    "    train_size=int(0.8*N)\n",
    "    X_train=X[:train_size]\n",
    "    y_train=y[:train_size]\n",
    "    X_rest=X[train_size:]\n",
    "    y_rest=y[train_size:]\n",
    "\n",
    "    #split remainder by half for test and val\n",
    "    splitind=int(len(X_rest)/2)\n",
    "    X_val=X_rest[:splitind]\n",
    "    y_val=y_rest[:splitind]\n",
    "    X_test=X_rest[splitind:]\n",
    "    y_test=y_rest[splitind:]\n",
    "\n",
    "    return X_test,y_test,X_val,y_val,X_train,y_train\n",
    "\n",
    "#create labels\n",
    "#sad-dis-fear-neu-joy-ten-ins correspond to 0-6 respectively, each sample has 21 trials, for (7 emotions x 3 trials)\n",
    "labels=np.array([])\n",
    "for i in range(0,7):\n",
    "    for n in range(0,3):\n",
    "        labels=np.concatenate([labels,np.array([i])],axis=0)\n",
    "labels=torch.tensor(labels)"
   ]
  },
  {
   "cell_type": "code",
   "execution_count": 9,
   "id": "706e6638",
   "metadata": {},
   "outputs": [
    {
     "name": "stderr",
     "output_type": "stream",
     "text": [
      "100%|██████████| 25/25 [00:05<00:00,  4.72it/s]\n"
     ]
    }
   ],
   "source": [
    "data=extract_data([1,25])"
   ]
  },
  {
   "cell_type": "code",
   "execution_count": 10,
   "id": "ca863e0b",
   "metadata": {},
   "outputs": [],
   "source": [
    "def process_data(data):\n",
    "    '''0-10s, 5-15s, 10-20s, 15-25, 20-30s ---> 5 samples per trial'''\n",
    "    for interval in tqdm.tqdm(range(0,5)):\n",
    "        datatrial=data[:,:,:,interval*1000:(interval+2)*1000]\n",
    "        datatrial=torch.unsqueeze(datatrial,2)\n",
    "        if interval==0:\n",
    "            newdata=datatrial\n",
    "        else:\n",
    "            newdata=torch.concatenate((newdata,datatrial),2)\n",
    "    return newdata"
   ]
  },
  {
   "cell_type": "code",
   "execution_count": 11,
   "id": "44552c36",
   "metadata": {},
   "outputs": [
    {
     "name": "stderr",
     "output_type": "stream",
     "text": [
      "  0%|          | 0/5 [00:00<?, ?it/s]"
     ]
    },
    {
     "name": "stderr",
     "output_type": "stream",
     "text": [
      "100%|██████████| 5/5 [00:06<00:00,  1.20s/it]\n"
     ]
    },
    {
     "data": {
      "text/plain": [
       "torch.Size([25, 21, 5, 64, 2000])"
      ]
     },
     "execution_count": 11,
     "metadata": {},
     "output_type": "execute_result"
    }
   ],
   "source": [
    "data=process_data(data)\n",
    "data.shape #subject,label,trials,electrodes,timepoints"
   ]
  },
  {
   "cell_type": "code",
   "execution_count": 12,
   "id": "d3f6794a",
   "metadata": {},
   "outputs": [
    {
     "name": "stderr",
     "output_type": "stream",
     "text": [
      "100%|██████████| 21/21 [00:06<00:00,  3.37it/s]\n",
      "100%|██████████| 25/25 [00:08<00:00,  2.88it/s]\n"
     ]
    },
    {
     "name": "stdout",
     "output_type": "stream",
     "text": [
      "torch.Size([2625, 64, 2000])\n",
      "torch.Size([2625, 1])\n",
      "torch.Size([263, 1, 64, 2000]) torch.Size([263]) torch.Size([262, 1, 64, 2000]) torch.Size([262]) torch.Size([2100, 1, 64, 2000]) torch.Size([2100])\n"
     ]
    }
   ],
   "source": [
    "for label in tqdm.tqdm(range(21)): #combine labels and trials\n",
    "    temp=data[:,label,:,:,:]\n",
    "    if label==0:\n",
    "        X=temp\n",
    "        y=labels[label]*torch.ones(5,1)\n",
    "    else:\n",
    "        X=torch.concatenate((X,temp),dim=1)\n",
    "        y=torch.concatenate((y,labels[label]*torch.ones(5,1)),dim=0)\n",
    "\n",
    "#combine subjects\n",
    "for subject in tqdm.tqdm(range(X.size(0))):\n",
    "    temp=X[subject,:,:,:]\n",
    "    if subject==0:\n",
    "        X_full=temp\n",
    "        y_full=y\n",
    "    else:\n",
    "        X_full=torch.concatenate((X_full,temp),dim=0)\n",
    "        y_full=torch.concatenate((y_full,y),dim=0)\n",
    "\n",
    "print(X_full.shape)\n",
    "print(y_full.shape)\n",
    "\n",
    "#split data\n",
    "X_test,y_test,X_val,y_val,X_train,y_train=shuffle_and_split_data(X_full.unsqueeze(1),y_full.squeeze())\n",
    "\n",
    "print(X_test.shape,y_test.shape,\n",
    "      X_val.shape,y_val.shape,\n",
    "      X_train.shape,y_train.shape)"
   ]
  },
  {
   "cell_type": "code",
   "execution_count": 13,
   "id": "8ff9f70b",
   "metadata": {},
   "outputs": [],
   "source": [
    "#now the model\n",
    "class Net(nn.Module):\n",
    "    def __init__(self,dropout):\n",
    "        super(Net,self).__init__()\n",
    "        self.conv1=nn.Conv2d(1,32,3,stride=1,padding=1)\n",
    "        self.conv2=nn.Conv2d(32,12,3,stride=1,padding=1)\n",
    "        self.conv3=nn.Conv2d(12,16,5,stride=1,padding=2)\n",
    "        self.conv4=nn.Conv2d(16,12,3,stride=1,padding=1)\n",
    "        self.conv5=nn.Conv2d(12,4,3,stride=1,padding=1)\n",
    "        self.pool1=nn.MaxPool2d(4)\n",
    "        self.fc1=nn.Linear(2000,7)\n",
    "        self.dropout1=nn.Dropout2d(dropout)\n",
    "        self.batchnorm1=nn.BatchNorm2d(32)\n",
    "        self.batchnorm2=nn.BatchNorm2d(12)\n",
    "        self.batchnorm3=nn.BatchNorm2d(16)\n",
    "        self.batchnorm4=nn.BatchNorm2d(4)\n",
    "\n",
    "    def forward(self,x):\n",
    "        x=self.conv1(x)\n",
    "        x=self.batchnorm1(x)\n",
    "        x=self.dropout1(x)\n",
    "        x=nn.functional.relu(x)\n",
    "        x=self.conv2(x)\n",
    "        x=self.batchnorm2(x)\n",
    "        x=self.dropout1(x)\n",
    "        x=nn.functional.relu(x)\n",
    "        x=self.pool1(x)\n",
    "        x=self.conv3(x)\n",
    "        x=self.batchnorm3(x)\n",
    "        x=self.dropout1(x)\n",
    "        x=nn.functional.relu(x)\n",
    "        x=self.conv4(x)\n",
    "        x=self.batchnorm2(x)\n",
    "        x=self.dropout1(x)\n",
    "        x=nn.functional.relu(x)\n",
    "        x=self.conv5(x)\n",
    "        x=self.batchnorm4(x)\n",
    "        x=self.dropout1(x)\n",
    "        x=nn.functional.relu(x)\n",
    "        x=self.pool1(x)\n",
    "        x=torch.flatten(x,1)\n",
    "        x=self.fc1(x)\n",
    "        return x\n",
    "    \n",
    "\n",
    "\n",
    "def train_test(net,epochs,train_loader,test_loader,device):\n",
    "    criterion=nn.CrossEntropyLoss()\n",
    "    optimizer=optim.Adam(net.parameters(),lr=1e-3)\n",
    "    train_acc=[]\n",
    "    train_loss=[]\n",
    "    test_acc=[]\n",
    "    test_loss=[]\n",
    "    net.to(device)\n",
    "    for epoch in tqdm.tqdm(range(epochs)):\n",
    "        net.train()\n",
    "        running_loss=0.0\n",
    "        correct,total=0,0\n",
    "        for i,data in enumerate(train_loader,start=0):\n",
    "            inputs,labels=data\n",
    "            inputs=inputs.to(device).float()\n",
    "            labels=labels.to(device).long()\n",
    "            \n",
    "            #train\n",
    "            optimizer.zero_grad()\n",
    "            outputs=net.forward(inputs)\n",
    "            loss=criterion(outputs,labels)\n",
    "            loss.backward()\n",
    "            optimizer.step()\n",
    "\n",
    "            running_loss+=loss.item()\n",
    "            #training accuracy\n",
    "            _,predicted=torch.max(outputs,1)\n",
    "            total+=labels.size(0)\n",
    "            correct+=(predicted==labels).sum()\n",
    "        train_loss.append(running_loss/len(train_loader))\n",
    "        train_acc.append(correct/total)\n",
    "        print(f\"epoch {epoch} --> TRAIN loss: {running_loss/len(train_loader):.6f}, TRAIN accuracy: {correct/total:.2f}\")\n",
    "\n",
    "        #eval on test\n",
    "        net.eval()\n",
    "        running_loss=0.0\n",
    "        correct,total=0,0\n",
    "        for inputs,labels in test_loader:\n",
    "            inputs,labels=inputs.to(device).float(),labels.to(device).long()\n",
    "            outputs=net.forward(inputs)\n",
    "            loss=criterion(outputs,labels)\n",
    "            running_loss+=loss.item()\n",
    "\n",
    "            #test acc\n",
    "            _,predicted=torch.max(outputs,1)\n",
    "            total+=labels.size(0)\n",
    "            correct+=(predicted==labels).sum()\n",
    "        test_loss.append(running_loss/len(test_loader))\n",
    "        test_acc.append(correct/total)\n",
    "        print(f\"epoch {epoch} --> TEST loss: {running_loss/len(train_loader):.2f}, TEST accuracy: {correct/total:.2f}\")\n",
    "\n",
    "    return train_loss,train_acc,test_loss,test_acc\n",
    "\n",
    "\n",
    "batch_size=150\n",
    "test_data = TensorDataset(X_test, y_test)\n",
    "test_loader = DataLoader(test_data, batch_size=batch_size,\n",
    "                         shuffle=False,num_workers=0\n",
    "                         )\n",
    "\n",
    "train_data = TensorDataset(X_train, y_train)\n",
    "train_loader = DataLoader(train_data,\n",
    "                          batch_size=batch_size,\n",
    "                          drop_last=False,\n",
    "                          shuffle=True,num_workers=0\n",
    "                          )"
   ]
  },
  {
   "cell_type": "code",
   "execution_count": 14,
   "id": "08785fe5",
   "metadata": {},
   "outputs": [
    {
     "name": "stderr",
     "output_type": "stream",
     "text": [
      "  0%|          | 0/150 [00:00<?, ?it/s]"
     ]
    },
    {
     "name": "stdout",
     "output_type": "stream",
     "text": [
      "epoch 0 --> TRAIN loss: 2.271819, TRAIN accuracy: 0.14\n"
     ]
    },
    {
     "name": "stderr",
     "output_type": "stream",
     "text": [
      "  1%|          | 1/150 [00:09<24:00,  9.67s/it]"
     ]
    },
    {
     "name": "stdout",
     "output_type": "stream",
     "text": [
      "epoch 0 --> TEST loss: 0.28, TEST accuracy: 0.14\n",
      "epoch 1 --> TRAIN loss: 2.048028, TRAIN accuracy: 0.14\n"
     ]
    },
    {
     "name": "stderr",
     "output_type": "stream",
     "text": [
      "  1%|▏         | 2/150 [00:56<1:17:27, 31.40s/it]"
     ]
    },
    {
     "name": "stdout",
     "output_type": "stream",
     "text": [
      "epoch 1 --> TEST loss: 0.28, TEST accuracy: 0.17\n",
      "epoch 2 --> TRAIN loss: 1.981871, TRAIN accuracy: 0.16\n"
     ]
    },
    {
     "name": "stderr",
     "output_type": "stream",
     "text": [
      "  2%|▏         | 3/150 [01:35<1:25:31, 34.91s/it]"
     ]
    },
    {
     "name": "stdout",
     "output_type": "stream",
     "text": [
      "epoch 2 --> TEST loss: 0.28, TEST accuracy: 0.13\n",
      "epoch 3 --> TRAIN loss: 1.972720, TRAIN accuracy: 0.17\n"
     ]
    },
    {
     "name": "stderr",
     "output_type": "stream",
     "text": [
      "  3%|▎         | 4/150 [02:14<1:28:39, 36.43s/it]"
     ]
    },
    {
     "name": "stdout",
     "output_type": "stream",
     "text": [
      "epoch 3 --> TEST loss: 0.28, TEST accuracy: 0.13\n",
      "epoch 4 --> TRAIN loss: 1.973667, TRAIN accuracy: 0.16\n"
     ]
    },
    {
     "name": "stderr",
     "output_type": "stream",
     "text": [
      "  3%|▎         | 5/150 [02:53<1:30:29, 37.44s/it]"
     ]
    },
    {
     "name": "stdout",
     "output_type": "stream",
     "text": [
      "epoch 4 --> TEST loss: 0.28, TEST accuracy: 0.14\n",
      "epoch 5 --> TRAIN loss: 1.953385, TRAIN accuracy: 0.16\n"
     ]
    },
    {
     "name": "stderr",
     "output_type": "stream",
     "text": [
      "  4%|▍         | 6/150 [03:32<1:31:09, 37.98s/it]"
     ]
    },
    {
     "name": "stdout",
     "output_type": "stream",
     "text": [
      "epoch 5 --> TEST loss: 0.28, TEST accuracy: 0.13\n",
      "epoch 6 --> TRAIN loss: 1.953198, TRAIN accuracy: 0.16\n"
     ]
    },
    {
     "name": "stderr",
     "output_type": "stream",
     "text": [
      "  5%|▍         | 7/150 [04:10<1:30:59, 38.18s/it]"
     ]
    },
    {
     "name": "stdout",
     "output_type": "stream",
     "text": [
      "epoch 6 --> TEST loss: 0.28, TEST accuracy: 0.16\n",
      "epoch 7 --> TRAIN loss: 1.957938, TRAIN accuracy: 0.17\n"
     ]
    },
    {
     "name": "stderr",
     "output_type": "stream",
     "text": [
      "  5%|▌         | 8/150 [04:49<1:30:37, 38.29s/it]"
     ]
    },
    {
     "name": "stdout",
     "output_type": "stream",
     "text": [
      "epoch 7 --> TEST loss: 0.28, TEST accuracy: 0.14\n",
      "epoch 8 --> TRAIN loss: 1.949055, TRAIN accuracy: 0.16\n"
     ]
    },
    {
     "name": "stderr",
     "output_type": "stream",
     "text": [
      "  6%|▌         | 9/150 [05:27<1:30:04, 38.33s/it]"
     ]
    },
    {
     "name": "stdout",
     "output_type": "stream",
     "text": [
      "epoch 8 --> TEST loss: 0.28, TEST accuracy: 0.14\n",
      "epoch 9 --> TRAIN loss: 1.929253, TRAIN accuracy: 0.16\n"
     ]
    },
    {
     "name": "stderr",
     "output_type": "stream",
     "text": [
      "  7%|▋         | 10/150 [06:06<1:29:30, 38.36s/it]"
     ]
    },
    {
     "name": "stdout",
     "output_type": "stream",
     "text": [
      "epoch 9 --> TEST loss: 0.28, TEST accuracy: 0.15\n",
      "epoch 10 --> TRAIN loss: 1.946913, TRAIN accuracy: 0.16\n"
     ]
    },
    {
     "name": "stderr",
     "output_type": "stream",
     "text": [
      "  7%|▋         | 11/150 [06:44<1:28:56, 38.39s/it]"
     ]
    },
    {
     "name": "stdout",
     "output_type": "stream",
     "text": [
      "epoch 10 --> TEST loss: 0.28, TEST accuracy: 0.14\n",
      "epoch 11 --> TRAIN loss: 1.936640, TRAIN accuracy: 0.17\n"
     ]
    },
    {
     "name": "stderr",
     "output_type": "stream",
     "text": [
      "  8%|▊         | 12/150 [07:23<1:28:25, 38.45s/it]"
     ]
    },
    {
     "name": "stdout",
     "output_type": "stream",
     "text": [
      "epoch 11 --> TEST loss: 0.28, TEST accuracy: 0.12\n",
      "epoch 12 --> TRAIN loss: 1.915481, TRAIN accuracy: 0.18\n"
     ]
    },
    {
     "name": "stderr",
     "output_type": "stream",
     "text": [
      "  9%|▊         | 13/150 [08:01<1:27:30, 38.33s/it]"
     ]
    },
    {
     "name": "stdout",
     "output_type": "stream",
     "text": [
      "epoch 12 --> TEST loss: 0.28, TEST accuracy: 0.15\n",
      "epoch 13 --> TRAIN loss: 1.917199, TRAIN accuracy: 0.20\n"
     ]
    },
    {
     "name": "stderr",
     "output_type": "stream",
     "text": [
      "  9%|▉         | 14/150 [08:40<1:27:07, 38.44s/it]"
     ]
    },
    {
     "name": "stdout",
     "output_type": "stream",
     "text": [
      "epoch 13 --> TEST loss: 0.28, TEST accuracy: 0.14\n",
      "epoch 14 --> TRAIN loss: 1.929544, TRAIN accuracy: 0.18\n"
     ]
    },
    {
     "name": "stderr",
     "output_type": "stream",
     "text": [
      " 10%|█         | 15/150 [09:18<1:26:29, 38.44s/it]"
     ]
    },
    {
     "name": "stdout",
     "output_type": "stream",
     "text": [
      "epoch 14 --> TEST loss: 0.28, TEST accuracy: 0.15\n",
      "epoch 15 --> TRAIN loss: 1.912499, TRAIN accuracy: 0.19\n"
     ]
    },
    {
     "name": "stderr",
     "output_type": "stream",
     "text": [
      " 11%|█         | 16/150 [09:56<1:25:49, 38.43s/it]"
     ]
    },
    {
     "name": "stdout",
     "output_type": "stream",
     "text": [
      "epoch 15 --> TEST loss: 0.28, TEST accuracy: 0.15\n",
      "epoch 16 --> TRAIN loss: 1.908287, TRAIN accuracy: 0.19\n"
     ]
    },
    {
     "name": "stderr",
     "output_type": "stream",
     "text": [
      " 11%|█▏        | 17/150 [10:35<1:25:13, 38.44s/it]"
     ]
    },
    {
     "name": "stdout",
     "output_type": "stream",
     "text": [
      "epoch 16 --> TEST loss: 0.28, TEST accuracy: 0.14\n",
      "epoch 17 --> TRAIN loss: 1.897423, TRAIN accuracy: 0.20\n"
     ]
    },
    {
     "name": "stderr",
     "output_type": "stream",
     "text": [
      " 12%|█▏        | 18/150 [11:14<1:25:17, 38.77s/it]"
     ]
    },
    {
     "name": "stdout",
     "output_type": "stream",
     "text": [
      "epoch 17 --> TEST loss: 0.28, TEST accuracy: 0.18\n",
      "epoch 18 --> TRAIN loss: 1.891055, TRAIN accuracy: 0.21\n"
     ]
    },
    {
     "name": "stderr",
     "output_type": "stream",
     "text": [
      " 13%|█▎        | 19/150 [11:54<1:25:07, 38.99s/it]"
     ]
    },
    {
     "name": "stdout",
     "output_type": "stream",
     "text": [
      "epoch 18 --> TEST loss: 0.28, TEST accuracy: 0.17\n",
      "epoch 19 --> TRAIN loss: 1.895894, TRAIN accuracy: 0.21\n"
     ]
    },
    {
     "name": "stderr",
     "output_type": "stream",
     "text": [
      " 13%|█▎        | 20/150 [12:32<1:24:03, 38.79s/it]"
     ]
    },
    {
     "name": "stdout",
     "output_type": "stream",
     "text": [
      "epoch 19 --> TEST loss: 0.28, TEST accuracy: 0.19\n",
      "epoch 20 --> TRAIN loss: 1.887508, TRAIN accuracy: 0.22\n"
     ]
    },
    {
     "name": "stderr",
     "output_type": "stream",
     "text": [
      " 14%|█▍        | 21/150 [13:11<1:23:12, 38.70s/it]"
     ]
    },
    {
     "name": "stdout",
     "output_type": "stream",
     "text": [
      "epoch 20 --> TEST loss: 0.28, TEST accuracy: 0.15\n",
      "epoch 21 --> TRAIN loss: 1.881059, TRAIN accuracy: 0.22\n"
     ]
    },
    {
     "name": "stderr",
     "output_type": "stream",
     "text": [
      " 15%|█▍        | 22/150 [13:50<1:22:34, 38.70s/it]"
     ]
    },
    {
     "name": "stdout",
     "output_type": "stream",
     "text": [
      "epoch 21 --> TEST loss: 0.28, TEST accuracy: 0.17\n",
      "epoch 22 --> TRAIN loss: 1.888076, TRAIN accuracy: 0.21\n"
     ]
    },
    {
     "name": "stderr",
     "output_type": "stream",
     "text": [
      " 15%|█▌        | 23/150 [14:28<1:21:49, 38.65s/it]"
     ]
    },
    {
     "name": "stdout",
     "output_type": "stream",
     "text": [
      "epoch 22 --> TEST loss: 0.29, TEST accuracy: 0.15\n",
      "epoch 23 --> TRAIN loss: 1.883987, TRAIN accuracy: 0.21\n"
     ]
    },
    {
     "name": "stderr",
     "output_type": "stream",
     "text": [
      " 16%|█▌        | 24/150 [15:07<1:21:05, 38.62s/it]"
     ]
    },
    {
     "name": "stdout",
     "output_type": "stream",
     "text": [
      "epoch 23 --> TEST loss: 0.28, TEST accuracy: 0.17\n",
      "epoch 24 --> TRAIN loss: 1.862268, TRAIN accuracy: 0.22\n"
     ]
    },
    {
     "name": "stderr",
     "output_type": "stream",
     "text": [
      " 17%|█▋        | 25/150 [15:45<1:20:14, 38.51s/it]"
     ]
    },
    {
     "name": "stdout",
     "output_type": "stream",
     "text": [
      "epoch 24 --> TEST loss: 0.28, TEST accuracy: 0.20\n",
      "epoch 25 --> TRAIN loss: 1.856043, TRAIN accuracy: 0.24\n"
     ]
    },
    {
     "name": "stderr",
     "output_type": "stream",
     "text": [
      " 17%|█▋        | 26/150 [16:23<1:19:36, 38.52s/it]"
     ]
    },
    {
     "name": "stdout",
     "output_type": "stream",
     "text": [
      "epoch 25 --> TEST loss: 0.29, TEST accuracy: 0.19\n",
      "epoch 26 --> TRAIN loss: 1.864437, TRAIN accuracy: 0.23\n"
     ]
    },
    {
     "name": "stderr",
     "output_type": "stream",
     "text": [
      " 18%|█▊        | 27/150 [17:02<1:18:59, 38.53s/it]"
     ]
    },
    {
     "name": "stdout",
     "output_type": "stream",
     "text": [
      "epoch 26 --> TEST loss: 0.28, TEST accuracy: 0.18\n",
      "epoch 27 --> TRAIN loss: 1.851648, TRAIN accuracy: 0.24\n"
     ]
    },
    {
     "name": "stderr",
     "output_type": "stream",
     "text": [
      " 19%|█▊        | 28/150 [17:40<1:18:15, 38.49s/it]"
     ]
    },
    {
     "name": "stdout",
     "output_type": "stream",
     "text": [
      "epoch 27 --> TEST loss: 0.29, TEST accuracy: 0.19\n",
      "epoch 28 --> TRAIN loss: 1.860507, TRAIN accuracy: 0.24\n"
     ]
    },
    {
     "name": "stderr",
     "output_type": "stream",
     "text": [
      " 19%|█▉        | 29/150 [18:18<1:17:20, 38.35s/it]"
     ]
    },
    {
     "name": "stdout",
     "output_type": "stream",
     "text": [
      "epoch 28 --> TEST loss: 0.28, TEST accuracy: 0.17\n",
      "epoch 29 --> TRAIN loss: 1.856949, TRAIN accuracy: 0.24\n"
     ]
    },
    {
     "name": "stderr",
     "output_type": "stream",
     "text": [
      " 20%|██        | 30/150 [18:57<1:16:47, 38.40s/it]"
     ]
    },
    {
     "name": "stdout",
     "output_type": "stream",
     "text": [
      "epoch 29 --> TEST loss: 0.28, TEST accuracy: 0.19\n",
      "epoch 30 --> TRAIN loss: 1.874816, TRAIN accuracy: 0.23\n"
     ]
    },
    {
     "name": "stderr",
     "output_type": "stream",
     "text": [
      " 21%|██        | 31/150 [19:35<1:16:04, 38.36s/it]"
     ]
    },
    {
     "name": "stdout",
     "output_type": "stream",
     "text": [
      "epoch 30 --> TEST loss: 0.29, TEST accuracy: 0.19\n",
      "epoch 31 --> TRAIN loss: 1.834100, TRAIN accuracy: 0.25\n"
     ]
    },
    {
     "name": "stderr",
     "output_type": "stream",
     "text": [
      " 21%|██▏       | 32/150 [20:14<1:15:43, 38.51s/it]"
     ]
    },
    {
     "name": "stdout",
     "output_type": "stream",
     "text": [
      "epoch 31 --> TEST loss: 0.29, TEST accuracy: 0.19\n",
      "epoch 32 --> TRAIN loss: 1.834514, TRAIN accuracy: 0.26\n"
     ]
    },
    {
     "name": "stderr",
     "output_type": "stream",
     "text": [
      " 22%|██▏       | 33/150 [20:53<1:15:12, 38.57s/it]"
     ]
    },
    {
     "name": "stdout",
     "output_type": "stream",
     "text": [
      "epoch 32 --> TEST loss: 0.29, TEST accuracy: 0.18\n",
      "epoch 33 --> TRAIN loss: 1.839765, TRAIN accuracy: 0.26\n"
     ]
    },
    {
     "name": "stderr",
     "output_type": "stream",
     "text": [
      " 23%|██▎       | 34/150 [21:32<1:15:02, 38.82s/it]"
     ]
    },
    {
     "name": "stdout",
     "output_type": "stream",
     "text": [
      "epoch 33 --> TEST loss: 0.28, TEST accuracy: 0.18\n",
      "epoch 34 --> TRAIN loss: 1.843725, TRAIN accuracy: 0.25\n"
     ]
    },
    {
     "name": "stderr",
     "output_type": "stream",
     "text": [
      " 23%|██▎       | 35/150 [22:11<1:14:39, 38.95s/it]"
     ]
    },
    {
     "name": "stdout",
     "output_type": "stream",
     "text": [
      "epoch 34 --> TEST loss: 0.29, TEST accuracy: 0.19\n",
      "epoch 35 --> TRAIN loss: 1.836202, TRAIN accuracy: 0.27\n"
     ]
    },
    {
     "name": "stderr",
     "output_type": "stream",
     "text": [
      " 24%|██▍       | 36/150 [22:52<1:14:45, 39.34s/it]"
     ]
    },
    {
     "name": "stdout",
     "output_type": "stream",
     "text": [
      "epoch 35 --> TEST loss: 0.29, TEST accuracy: 0.18\n",
      "epoch 36 --> TRAIN loss: 1.808443, TRAIN accuracy: 0.27\n"
     ]
    },
    {
     "name": "stderr",
     "output_type": "stream",
     "text": [
      " 25%|██▍       | 37/150 [23:30<1:13:43, 39.15s/it]"
     ]
    },
    {
     "name": "stdout",
     "output_type": "stream",
     "text": [
      "epoch 36 --> TEST loss: 0.29, TEST accuracy: 0.19\n",
      "epoch 37 --> TRAIN loss: 1.808096, TRAIN accuracy: 0.27\n"
     ]
    },
    {
     "name": "stderr",
     "output_type": "stream",
     "text": [
      " 25%|██▌       | 38/150 [24:09<1:12:51, 39.03s/it]"
     ]
    },
    {
     "name": "stdout",
     "output_type": "stream",
     "text": [
      "epoch 37 --> TEST loss: 0.29, TEST accuracy: 0.17\n",
      "epoch 38 --> TRAIN loss: 1.812246, TRAIN accuracy: 0.29\n"
     ]
    },
    {
     "name": "stderr",
     "output_type": "stream",
     "text": [
      " 26%|██▌       | 39/150 [24:48<1:12:00, 38.92s/it]"
     ]
    },
    {
     "name": "stdout",
     "output_type": "stream",
     "text": [
      "epoch 38 --> TEST loss: 0.29, TEST accuracy: 0.16\n",
      "epoch 39 --> TRAIN loss: 1.794885, TRAIN accuracy: 0.29\n"
     ]
    },
    {
     "name": "stderr",
     "output_type": "stream",
     "text": [
      " 27%|██▋       | 40/150 [25:27<1:11:21, 38.92s/it]"
     ]
    },
    {
     "name": "stdout",
     "output_type": "stream",
     "text": [
      "epoch 39 --> TEST loss: 0.29, TEST accuracy: 0.17\n",
      "epoch 40 --> TRAIN loss: 1.805074, TRAIN accuracy: 0.30\n"
     ]
    },
    {
     "name": "stderr",
     "output_type": "stream",
     "text": [
      " 27%|██▋       | 41/150 [26:06<1:10:47, 38.97s/it]"
     ]
    },
    {
     "name": "stdout",
     "output_type": "stream",
     "text": [
      "epoch 40 --> TEST loss: 0.29, TEST accuracy: 0.18\n",
      "epoch 41 --> TRAIN loss: 1.776436, TRAIN accuracy: 0.30\n"
     ]
    },
    {
     "name": "stderr",
     "output_type": "stream",
     "text": [
      " 28%|██▊       | 42/150 [26:44<1:09:47, 38.78s/it]"
     ]
    },
    {
     "name": "stdout",
     "output_type": "stream",
     "text": [
      "epoch 41 --> TEST loss: 0.29, TEST accuracy: 0.18\n",
      "epoch 42 --> TRAIN loss: 1.781550, TRAIN accuracy: 0.30\n"
     ]
    },
    {
     "name": "stderr",
     "output_type": "stream",
     "text": [
      " 29%|██▊       | 43/150 [27:22<1:08:53, 38.63s/it]"
     ]
    },
    {
     "name": "stdout",
     "output_type": "stream",
     "text": [
      "epoch 42 --> TEST loss: 0.29, TEST accuracy: 0.18\n",
      "epoch 43 --> TRAIN loss: 1.770055, TRAIN accuracy: 0.31\n"
     ]
    },
    {
     "name": "stderr",
     "output_type": "stream",
     "text": [
      " 29%|██▉       | 44/150 [28:01<1:08:05, 38.54s/it]"
     ]
    },
    {
     "name": "stdout",
     "output_type": "stream",
     "text": [
      "epoch 43 --> TEST loss: 0.29, TEST accuracy: 0.15\n",
      "epoch 44 --> TRAIN loss: 1.774204, TRAIN accuracy: 0.31\n"
     ]
    },
    {
     "name": "stderr",
     "output_type": "stream",
     "text": [
      " 30%|███       | 45/150 [28:39<1:07:16, 38.44s/it]"
     ]
    },
    {
     "name": "stdout",
     "output_type": "stream",
     "text": [
      "epoch 44 --> TEST loss: 0.29, TEST accuracy: 0.17\n",
      "epoch 45 --> TRAIN loss: 1.749674, TRAIN accuracy: 0.32\n"
     ]
    },
    {
     "name": "stderr",
     "output_type": "stream",
     "text": [
      " 31%|███       | 46/150 [29:17<1:06:26, 38.34s/it]"
     ]
    },
    {
     "name": "stdout",
     "output_type": "stream",
     "text": [
      "epoch 45 --> TEST loss: 0.29, TEST accuracy: 0.16\n",
      "epoch 46 --> TRAIN loss: 1.748939, TRAIN accuracy: 0.30\n"
     ]
    },
    {
     "name": "stderr",
     "output_type": "stream",
     "text": [
      " 31%|███▏      | 47/150 [29:55<1:05:39, 38.25s/it]"
     ]
    },
    {
     "name": "stdout",
     "output_type": "stream",
     "text": [
      "epoch 46 --> TEST loss: 0.29, TEST accuracy: 0.14\n",
      "epoch 47 --> TRAIN loss: 1.749330, TRAIN accuracy: 0.31\n"
     ]
    },
    {
     "name": "stderr",
     "output_type": "stream",
     "text": [
      " 32%|███▏      | 48/150 [30:34<1:05:14, 38.37s/it]"
     ]
    },
    {
     "name": "stdout",
     "output_type": "stream",
     "text": [
      "epoch 47 --> TEST loss: 0.29, TEST accuracy: 0.15\n",
      "epoch 48 --> TRAIN loss: 1.759582, TRAIN accuracy: 0.31\n"
     ]
    },
    {
     "name": "stderr",
     "output_type": "stream",
     "text": [
      " 33%|███▎      | 49/150 [31:12<1:04:48, 38.50s/it]"
     ]
    },
    {
     "name": "stdout",
     "output_type": "stream",
     "text": [
      "epoch 48 --> TEST loss: 0.29, TEST accuracy: 0.16\n",
      "epoch 49 --> TRAIN loss: 1.745487, TRAIN accuracy: 0.33\n"
     ]
    },
    {
     "name": "stderr",
     "output_type": "stream",
     "text": [
      " 33%|███▎      | 50/150 [31:52<1:04:53, 38.93s/it]"
     ]
    },
    {
     "name": "stdout",
     "output_type": "stream",
     "text": [
      "epoch 49 --> TEST loss: 0.30, TEST accuracy: 0.16\n",
      "epoch 50 --> TRAIN loss: 1.726506, TRAIN accuracy: 0.32\n"
     ]
    },
    {
     "name": "stderr",
     "output_type": "stream",
     "text": [
      " 34%|███▍      | 51/150 [32:32<1:04:26, 39.06s/it]"
     ]
    },
    {
     "name": "stdout",
     "output_type": "stream",
     "text": [
      "epoch 50 --> TEST loss: 0.30, TEST accuracy: 0.11\n",
      "epoch 51 --> TRAIN loss: 1.705094, TRAIN accuracy: 0.33\n"
     ]
    },
    {
     "name": "stderr",
     "output_type": "stream",
     "text": [
      " 35%|███▍      | 52/150 [33:11<1:03:52, 39.11s/it]"
     ]
    },
    {
     "name": "stdout",
     "output_type": "stream",
     "text": [
      "epoch 51 --> TEST loss: 0.30, TEST accuracy: 0.13\n",
      "epoch 52 --> TRAIN loss: 1.709896, TRAIN accuracy: 0.34\n"
     ]
    },
    {
     "name": "stderr",
     "output_type": "stream",
     "text": [
      " 35%|███▌      | 53/150 [33:50<1:02:58, 38.96s/it]"
     ]
    },
    {
     "name": "stdout",
     "output_type": "stream",
     "text": [
      "epoch 52 --> TEST loss: 0.30, TEST accuracy: 0.15\n",
      "epoch 53 --> TRAIN loss: 1.695126, TRAIN accuracy: 0.35\n"
     ]
    },
    {
     "name": "stderr",
     "output_type": "stream",
     "text": [
      " 36%|███▌      | 54/150 [34:28<1:02:07, 38.83s/it]"
     ]
    },
    {
     "name": "stdout",
     "output_type": "stream",
     "text": [
      "epoch 53 --> TEST loss: 0.30, TEST accuracy: 0.13\n",
      "epoch 54 --> TRAIN loss: 1.682635, TRAIN accuracy: 0.35\n"
     ]
    },
    {
     "name": "stderr",
     "output_type": "stream",
     "text": [
      " 37%|███▋      | 55/150 [35:07<1:01:17, 38.72s/it]"
     ]
    },
    {
     "name": "stdout",
     "output_type": "stream",
     "text": [
      "epoch 54 --> TEST loss: 0.30, TEST accuracy: 0.14\n",
      "epoch 55 --> TRAIN loss: 1.675242, TRAIN accuracy: 0.34\n"
     ]
    },
    {
     "name": "stderr",
     "output_type": "stream",
     "text": [
      " 37%|███▋      | 56/150 [35:45<1:00:42, 38.74s/it]"
     ]
    },
    {
     "name": "stdout",
     "output_type": "stream",
     "text": [
      "epoch 55 --> TEST loss: 0.30, TEST accuracy: 0.14\n",
      "epoch 56 --> TRAIN loss: 1.685150, TRAIN accuracy: 0.37\n"
     ]
    },
    {
     "name": "stderr",
     "output_type": "stream",
     "text": [
      " 38%|███▊      | 57/150 [36:24<1:00:01, 38.73s/it]"
     ]
    },
    {
     "name": "stdout",
     "output_type": "stream",
     "text": [
      "epoch 56 --> TEST loss: 0.30, TEST accuracy: 0.13\n",
      "epoch 57 --> TRAIN loss: 1.703214, TRAIN accuracy: 0.34\n"
     ]
    },
    {
     "name": "stderr",
     "output_type": "stream",
     "text": [
      " 39%|███▊      | 58/150 [37:03<59:16, 38.66s/it]  "
     ]
    },
    {
     "name": "stdout",
     "output_type": "stream",
     "text": [
      "epoch 57 --> TEST loss: 0.30, TEST accuracy: 0.14\n",
      "epoch 58 --> TRAIN loss: 1.667397, TRAIN accuracy: 0.36\n"
     ]
    },
    {
     "name": "stderr",
     "output_type": "stream",
     "text": [
      " 39%|███▉      | 59/150 [37:41<58:28, 38.55s/it]"
     ]
    },
    {
     "name": "stdout",
     "output_type": "stream",
     "text": [
      "epoch 58 --> TEST loss: 0.30, TEST accuracy: 0.15\n",
      "epoch 59 --> TRAIN loss: 1.657791, TRAIN accuracy: 0.36\n"
     ]
    },
    {
     "name": "stderr",
     "output_type": "stream",
     "text": [
      " 40%|████      | 60/150 [38:20<57:57, 38.64s/it]"
     ]
    },
    {
     "name": "stdout",
     "output_type": "stream",
     "text": [
      "epoch 59 --> TEST loss: 0.30, TEST accuracy: 0.15\n",
      "epoch 60 --> TRAIN loss: 1.679106, TRAIN accuracy: 0.37\n"
     ]
    },
    {
     "name": "stderr",
     "output_type": "stream",
     "text": [
      " 41%|████      | 61/150 [38:58<57:19, 38.64s/it]"
     ]
    },
    {
     "name": "stdout",
     "output_type": "stream",
     "text": [
      "epoch 60 --> TEST loss: 0.31, TEST accuracy: 0.14\n",
      "epoch 61 --> TRAIN loss: 1.656876, TRAIN accuracy: 0.36\n"
     ]
    },
    {
     "name": "stderr",
     "output_type": "stream",
     "text": [
      " 41%|████▏     | 62/150 [39:37<56:38, 38.62s/it]"
     ]
    },
    {
     "name": "stdout",
     "output_type": "stream",
     "text": [
      "epoch 61 --> TEST loss: 0.30, TEST accuracy: 0.14\n",
      "epoch 62 --> TRAIN loss: 1.619414, TRAIN accuracy: 0.39\n"
     ]
    },
    {
     "name": "stderr",
     "output_type": "stream",
     "text": [
      " 42%|████▏     | 63/150 [40:16<56:03, 38.66s/it]"
     ]
    },
    {
     "name": "stdout",
     "output_type": "stream",
     "text": [
      "epoch 62 --> TEST loss: 0.30, TEST accuracy: 0.14\n",
      "epoch 63 --> TRAIN loss: 1.638388, TRAIN accuracy: 0.37\n"
     ]
    },
    {
     "name": "stderr",
     "output_type": "stream",
     "text": [
      " 43%|████▎     | 64/150 [40:55<55:29, 38.72s/it]"
     ]
    },
    {
     "name": "stdout",
     "output_type": "stream",
     "text": [
      "epoch 63 --> TEST loss: 0.30, TEST accuracy: 0.14\n",
      "epoch 64 --> TRAIN loss: 1.610759, TRAIN accuracy: 0.40\n"
     ]
    },
    {
     "name": "stderr",
     "output_type": "stream",
     "text": [
      " 43%|████▎     | 65/150 [41:33<54:50, 38.71s/it]"
     ]
    },
    {
     "name": "stdout",
     "output_type": "stream",
     "text": [
      "epoch 64 --> TEST loss: 0.30, TEST accuracy: 0.13\n",
      "epoch 65 --> TRAIN loss: 1.603018, TRAIN accuracy: 0.40\n"
     ]
    },
    {
     "name": "stderr",
     "output_type": "stream",
     "text": [
      " 44%|████▍     | 66/150 [42:12<54:02, 38.60s/it]"
     ]
    },
    {
     "name": "stdout",
     "output_type": "stream",
     "text": [
      "epoch 65 --> TEST loss: 0.31, TEST accuracy: 0.14\n",
      "epoch 66 --> TRAIN loss: 1.593655, TRAIN accuracy: 0.40\n"
     ]
    },
    {
     "name": "stderr",
     "output_type": "stream",
     "text": [
      " 45%|████▍     | 67/150 [42:50<53:13, 38.48s/it]"
     ]
    },
    {
     "name": "stdout",
     "output_type": "stream",
     "text": [
      "epoch 66 --> TEST loss: 0.30, TEST accuracy: 0.15\n",
      "epoch 67 --> TRAIN loss: 1.587658, TRAIN accuracy: 0.41\n"
     ]
    },
    {
     "name": "stderr",
     "output_type": "stream",
     "text": [
      " 45%|████▌     | 68/150 [43:28<52:33, 38.46s/it]"
     ]
    },
    {
     "name": "stdout",
     "output_type": "stream",
     "text": [
      "epoch 67 --> TEST loss: 0.30, TEST accuracy: 0.12\n",
      "epoch 68 --> TRAIN loss: 1.579430, TRAIN accuracy: 0.39\n"
     ]
    },
    {
     "name": "stderr",
     "output_type": "stream",
     "text": [
      " 46%|████▌     | 69/150 [44:06<51:50, 38.40s/it]"
     ]
    },
    {
     "name": "stdout",
     "output_type": "stream",
     "text": [
      "epoch 68 --> TEST loss: 0.31, TEST accuracy: 0.13\n",
      "epoch 69 --> TRAIN loss: 1.571046, TRAIN accuracy: 0.41\n"
     ]
    },
    {
     "name": "stderr",
     "output_type": "stream",
     "text": [
      " 47%|████▋     | 70/150 [44:45<51:08, 38.36s/it]"
     ]
    },
    {
     "name": "stdout",
     "output_type": "stream",
     "text": [
      "epoch 69 --> TEST loss: 0.31, TEST accuracy: 0.13\n",
      "epoch 70 --> TRAIN loss: 1.534807, TRAIN accuracy: 0.43\n"
     ]
    },
    {
     "name": "stderr",
     "output_type": "stream",
     "text": [
      " 47%|████▋     | 71/150 [45:23<50:31, 38.38s/it]"
     ]
    },
    {
     "name": "stdout",
     "output_type": "stream",
     "text": [
      "epoch 70 --> TEST loss: 0.31, TEST accuracy: 0.14\n",
      "epoch 71 --> TRAIN loss: 1.553725, TRAIN accuracy: 0.42\n"
     ]
    },
    {
     "name": "stderr",
     "output_type": "stream",
     "text": [
      " 48%|████▊     | 72/150 [46:01<49:50, 38.34s/it]"
     ]
    },
    {
     "name": "stdout",
     "output_type": "stream",
     "text": [
      "epoch 71 --> TEST loss: 0.31, TEST accuracy: 0.12\n",
      "epoch 72 --> TRAIN loss: 1.557586, TRAIN accuracy: 0.42\n"
     ]
    },
    {
     "name": "stderr",
     "output_type": "stream",
     "text": [
      " 49%|████▊     | 73/150 [46:40<49:26, 38.53s/it]"
     ]
    },
    {
     "name": "stdout",
     "output_type": "stream",
     "text": [
      "epoch 72 --> TEST loss: 0.31, TEST accuracy: 0.13\n",
      "epoch 73 --> TRAIN loss: 1.556828, TRAIN accuracy: 0.41\n"
     ]
    },
    {
     "name": "stderr",
     "output_type": "stream",
     "text": [
      " 49%|████▉     | 74/150 [47:20<49:12, 38.85s/it]"
     ]
    },
    {
     "name": "stdout",
     "output_type": "stream",
     "text": [
      "epoch 73 --> TEST loss: 0.31, TEST accuracy: 0.12\n",
      "epoch 74 --> TRAIN loss: 1.519343, TRAIN accuracy: 0.43\n"
     ]
    },
    {
     "name": "stderr",
     "output_type": "stream",
     "text": [
      " 50%|█████     | 75/150 [48:01<49:12, 39.37s/it]"
     ]
    },
    {
     "name": "stdout",
     "output_type": "stream",
     "text": [
      "epoch 74 --> TEST loss: 0.31, TEST accuracy: 0.14\n",
      "epoch 75 --> TRAIN loss: 1.505902, TRAIN accuracy: 0.45\n"
     ]
    },
    {
     "name": "stderr",
     "output_type": "stream",
     "text": [
      " 51%|█████     | 76/150 [48:40<48:30, 39.33s/it]"
     ]
    },
    {
     "name": "stdout",
     "output_type": "stream",
     "text": [
      "epoch 75 --> TEST loss: 0.30, TEST accuracy: 0.12\n",
      "epoch 76 --> TRAIN loss: 1.490651, TRAIN accuracy: 0.46\n"
     ]
    },
    {
     "name": "stderr",
     "output_type": "stream",
     "text": [
      " 51%|█████▏    | 77/150 [49:19<47:51, 39.33s/it]"
     ]
    },
    {
     "name": "stdout",
     "output_type": "stream",
     "text": [
      "epoch 76 --> TEST loss: 0.32, TEST accuracy: 0.12\n",
      "epoch 77 --> TRAIN loss: 1.514487, TRAIN accuracy: 0.44\n"
     ]
    },
    {
     "name": "stderr",
     "output_type": "stream",
     "text": [
      " 52%|█████▏    | 78/150 [49:59<47:15, 39.39s/it]"
     ]
    },
    {
     "name": "stdout",
     "output_type": "stream",
     "text": [
      "epoch 77 --> TEST loss: 0.30, TEST accuracy: 0.13\n",
      "epoch 78 --> TRAIN loss: 1.499596, TRAIN accuracy: 0.44\n"
     ]
    },
    {
     "name": "stderr",
     "output_type": "stream",
     "text": [
      " 53%|█████▎    | 79/150 [50:38<46:26, 39.25s/it]"
     ]
    },
    {
     "name": "stdout",
     "output_type": "stream",
     "text": [
      "epoch 78 --> TEST loss: 0.32, TEST accuracy: 0.13\n",
      "epoch 79 --> TRAIN loss: 1.449144, TRAIN accuracy: 0.46\n"
     ]
    },
    {
     "name": "stderr",
     "output_type": "stream",
     "text": [
      " 53%|█████▎    | 80/150 [51:16<45:36, 39.09s/it]"
     ]
    },
    {
     "name": "stdout",
     "output_type": "stream",
     "text": [
      "epoch 79 --> TEST loss: 0.32, TEST accuracy: 0.11\n",
      "epoch 80 --> TRAIN loss: 1.473734, TRAIN accuracy: 0.46\n"
     ]
    },
    {
     "name": "stderr",
     "output_type": "stream",
     "text": [
      " 54%|█████▍    | 81/150 [51:55<44:53, 39.04s/it]"
     ]
    },
    {
     "name": "stdout",
     "output_type": "stream",
     "text": [
      "epoch 80 --> TEST loss: 0.31, TEST accuracy: 0.12\n",
      "epoch 81 --> TRAIN loss: 1.439157, TRAIN accuracy: 0.47\n"
     ]
    },
    {
     "name": "stderr",
     "output_type": "stream",
     "text": [
      " 55%|█████▍    | 82/150 [52:34<44:17, 39.07s/it]"
     ]
    },
    {
     "name": "stdout",
     "output_type": "stream",
     "text": [
      "epoch 81 --> TEST loss: 0.31, TEST accuracy: 0.13\n",
      "epoch 82 --> TRAIN loss: 1.433481, TRAIN accuracy: 0.47\n"
     ]
    },
    {
     "name": "stderr",
     "output_type": "stream",
     "text": [
      " 55%|█████▌    | 83/150 [53:14<43:49, 39.25s/it]"
     ]
    },
    {
     "name": "stdout",
     "output_type": "stream",
     "text": [
      "epoch 82 --> TEST loss: 0.31, TEST accuracy: 0.13\n",
      "epoch 83 --> TRAIN loss: 1.444054, TRAIN accuracy: 0.47\n"
     ]
    },
    {
     "name": "stderr",
     "output_type": "stream",
     "text": [
      " 56%|█████▌    | 84/150 [53:54<43:17, 39.35s/it]"
     ]
    },
    {
     "name": "stdout",
     "output_type": "stream",
     "text": [
      "epoch 83 --> TEST loss: 0.31, TEST accuracy: 0.13\n",
      "epoch 84 --> TRAIN loss: 1.436960, TRAIN accuracy: 0.48\n"
     ]
    },
    {
     "name": "stderr",
     "output_type": "stream",
     "text": [
      " 57%|█████▋    | 85/150 [54:32<42:25, 39.17s/it]"
     ]
    },
    {
     "name": "stdout",
     "output_type": "stream",
     "text": [
      "epoch 84 --> TEST loss: 0.32, TEST accuracy: 0.13\n",
      "epoch 85 --> TRAIN loss: 1.409953, TRAIN accuracy: 0.48\n"
     ]
    },
    {
     "name": "stderr",
     "output_type": "stream",
     "text": [
      " 57%|█████▋    | 86/150 [55:11<41:31, 38.93s/it]"
     ]
    },
    {
     "name": "stdout",
     "output_type": "stream",
     "text": [
      "epoch 85 --> TEST loss: 0.32, TEST accuracy: 0.13\n"
     ]
    },
    {
     "name": "stderr",
     "output_type": "stream",
     "text": [
      " 57%|█████▋    | 86/150 [55:50<41:33, 38.95s/it]\n"
     ]
    },
    {
     "ename": "KeyboardInterrupt",
     "evalue": "",
     "output_type": "error",
     "traceback": [
      "\u001b[31m---------------------------------------------------------------------------\u001b[39m",
      "\u001b[31mKeyboardInterrupt\u001b[39m                         Traceback (most recent call last)",
      "\u001b[36mCell\u001b[39m\u001b[36m \u001b[39m\u001b[32mIn[14]\u001b[39m\u001b[32m, line 2\u001b[39m\n\u001b[32m      1\u001b[39m net=Net(dropout=\u001b[32m0.4\u001b[39m)\n\u001b[32m----> \u001b[39m\u001b[32m2\u001b[39m train_loss,train_acc,test_loss,test_acc=\u001b[43mtrain_test\u001b[49m\u001b[43m(\u001b[49m\u001b[43mnet\u001b[49m\u001b[43m,\u001b[49m\u001b[32;43m150\u001b[39;49m\u001b[43m,\u001b[49m\u001b[43mtrain_loader\u001b[49m\u001b[43m=\u001b[49m\u001b[43mtrain_loader\u001b[49m\u001b[43m,\u001b[49m\u001b[43mtest_loader\u001b[49m\u001b[43m=\u001b[49m\u001b[43mtest_loader\u001b[49m\u001b[43m,\u001b[49m\u001b[43mdevice\u001b[49m\u001b[43m=\u001b[49m\u001b[43mDEVICE\u001b[49m\u001b[43m)\u001b[49m\n",
      "\u001b[36mCell\u001b[39m\u001b[36m \u001b[39m\u001b[32mIn[13]\u001b[39m\u001b[32m, line 68\u001b[39m, in \u001b[36mtrain_test\u001b[39m\u001b[34m(net, epochs, train_loader, test_loader, device)\u001b[39m\n\u001b[32m     66\u001b[39m outputs=net.forward(inputs)\n\u001b[32m     67\u001b[39m loss=criterion(outputs,labels)\n\u001b[32m---> \u001b[39m\u001b[32m68\u001b[39m \u001b[43mloss\u001b[49m\u001b[43m.\u001b[49m\u001b[43mbackward\u001b[49m\u001b[43m(\u001b[49m\u001b[43m)\u001b[49m\n\u001b[32m     69\u001b[39m optimizer.step()\n\u001b[32m     71\u001b[39m running_loss+=loss.item()\n",
      "\u001b[36mFile \u001b[39m\u001b[32mc:\\Users\\malco\\Documents\\cmn-templates\\sandbox\\.venv\\Lib\\site-packages\\torch\\_tensor.py:648\u001b[39m, in \u001b[36mTensor.backward\u001b[39m\u001b[34m(self, gradient, retain_graph, create_graph, inputs)\u001b[39m\n\u001b[32m    638\u001b[39m \u001b[38;5;28;01mif\u001b[39;00m has_torch_function_unary(\u001b[38;5;28mself\u001b[39m):\n\u001b[32m    639\u001b[39m     \u001b[38;5;28;01mreturn\u001b[39;00m handle_torch_function(\n\u001b[32m    640\u001b[39m         Tensor.backward,\n\u001b[32m    641\u001b[39m         (\u001b[38;5;28mself\u001b[39m,),\n\u001b[32m   (...)\u001b[39m\u001b[32m    646\u001b[39m         inputs=inputs,\n\u001b[32m    647\u001b[39m     )\n\u001b[32m--> \u001b[39m\u001b[32m648\u001b[39m \u001b[43mtorch\u001b[49m\u001b[43m.\u001b[49m\u001b[43mautograd\u001b[49m\u001b[43m.\u001b[49m\u001b[43mbackward\u001b[49m\u001b[43m(\u001b[49m\n\u001b[32m    649\u001b[39m \u001b[43m    \u001b[49m\u001b[38;5;28;43mself\u001b[39;49m\u001b[43m,\u001b[49m\u001b[43m \u001b[49m\u001b[43mgradient\u001b[49m\u001b[43m,\u001b[49m\u001b[43m \u001b[49m\u001b[43mretain_graph\u001b[49m\u001b[43m,\u001b[49m\u001b[43m \u001b[49m\u001b[43mcreate_graph\u001b[49m\u001b[43m,\u001b[49m\u001b[43m \u001b[49m\u001b[43minputs\u001b[49m\u001b[43m=\u001b[49m\u001b[43minputs\u001b[49m\n\u001b[32m    650\u001b[39m \u001b[43m\u001b[49m\u001b[43m)\u001b[49m\n",
      "\u001b[36mFile \u001b[39m\u001b[32mc:\\Users\\malco\\Documents\\cmn-templates\\sandbox\\.venv\\Lib\\site-packages\\torch\\autograd\\__init__.py:353\u001b[39m, in \u001b[36mbackward\u001b[39m\u001b[34m(tensors, grad_tensors, retain_graph, create_graph, grad_variables, inputs)\u001b[39m\n\u001b[32m    348\u001b[39m     retain_graph = create_graph\n\u001b[32m    350\u001b[39m \u001b[38;5;66;03m# The reason we repeat the same comment below is that\u001b[39;00m\n\u001b[32m    351\u001b[39m \u001b[38;5;66;03m# some Python versions print out the first line of a multi-line function\u001b[39;00m\n\u001b[32m    352\u001b[39m \u001b[38;5;66;03m# calls in the traceback and some print out the last line\u001b[39;00m\n\u001b[32m--> \u001b[39m\u001b[32m353\u001b[39m \u001b[43m_engine_run_backward\u001b[49m\u001b[43m(\u001b[49m\n\u001b[32m    354\u001b[39m \u001b[43m    \u001b[49m\u001b[43mtensors\u001b[49m\u001b[43m,\u001b[49m\n\u001b[32m    355\u001b[39m \u001b[43m    \u001b[49m\u001b[43mgrad_tensors_\u001b[49m\u001b[43m,\u001b[49m\n\u001b[32m    356\u001b[39m \u001b[43m    \u001b[49m\u001b[43mretain_graph\u001b[49m\u001b[43m,\u001b[49m\n\u001b[32m    357\u001b[39m \u001b[43m    \u001b[49m\u001b[43mcreate_graph\u001b[49m\u001b[43m,\u001b[49m\n\u001b[32m    358\u001b[39m \u001b[43m    \u001b[49m\u001b[43minputs\u001b[49m\u001b[43m,\u001b[49m\n\u001b[32m    359\u001b[39m \u001b[43m    \u001b[49m\u001b[43mallow_unreachable\u001b[49m\u001b[43m=\u001b[49m\u001b[38;5;28;43;01mTrue\u001b[39;49;00m\u001b[43m,\u001b[49m\n\u001b[32m    360\u001b[39m \u001b[43m    \u001b[49m\u001b[43maccumulate_grad\u001b[49m\u001b[43m=\u001b[49m\u001b[38;5;28;43;01mTrue\u001b[39;49;00m\u001b[43m,\u001b[49m\n\u001b[32m    361\u001b[39m \u001b[43m\u001b[49m\u001b[43m)\u001b[49m\n",
      "\u001b[36mFile \u001b[39m\u001b[32mc:\\Users\\malco\\Documents\\cmn-templates\\sandbox\\.venv\\Lib\\site-packages\\torch\\autograd\\graph.py:824\u001b[39m, in \u001b[36m_engine_run_backward\u001b[39m\u001b[34m(t_outputs, *args, **kwargs)\u001b[39m\n\u001b[32m    822\u001b[39m     unregister_hooks = _register_logging_hooks_on_whole_graph(t_outputs)\n\u001b[32m    823\u001b[39m \u001b[38;5;28;01mtry\u001b[39;00m:\n\u001b[32m--> \u001b[39m\u001b[32m824\u001b[39m     \u001b[38;5;28;01mreturn\u001b[39;00m \u001b[43mVariable\u001b[49m\u001b[43m.\u001b[49m\u001b[43m_execution_engine\u001b[49m\u001b[43m.\u001b[49m\u001b[43mrun_backward\u001b[49m\u001b[43m(\u001b[49m\u001b[43m  \u001b[49m\u001b[38;5;66;43;03m# Calls into the C++ engine to run the backward pass\u001b[39;49;00m\n\u001b[32m    825\u001b[39m \u001b[43m        \u001b[49m\u001b[43mt_outputs\u001b[49m\u001b[43m,\u001b[49m\u001b[43m \u001b[49m\u001b[43m*\u001b[49m\u001b[43margs\u001b[49m\u001b[43m,\u001b[49m\u001b[43m \u001b[49m\u001b[43m*\u001b[49m\u001b[43m*\u001b[49m\u001b[43mkwargs\u001b[49m\n\u001b[32m    826\u001b[39m \u001b[43m    \u001b[49m\u001b[43m)\u001b[49m  \u001b[38;5;66;03m# Calls into the C++ engine to run the backward pass\u001b[39;00m\n\u001b[32m    827\u001b[39m \u001b[38;5;28;01mfinally\u001b[39;00m:\n\u001b[32m    828\u001b[39m     \u001b[38;5;28;01mif\u001b[39;00m attach_logging_hooks:\n",
      "\u001b[31mKeyboardInterrupt\u001b[39m: "
     ]
    }
   ],
   "source": [
    "net=Net(dropout=0.4)\n",
    "train_loss,train_acc,test_loss,test_acc=train_test(net,150,train_loader=train_loader,test_loader=test_loader,device=DEVICE)"
   ]
  }
 ],
 "metadata": {
  "kernelspec": {
   "display_name": ".venv",
   "language": "python",
   "name": "python3"
  },
  "language_info": {
   "codemirror_mode": {
    "name": "ipython",
    "version": 3
   },
   "file_extension": ".py",
   "mimetype": "text/x-python",
   "name": "python",
   "nbconvert_exporter": "python",
   "pygments_lexer": "ipython3",
   "version": "3.13.5"
  }
 },
 "nbformat": 4,
 "nbformat_minor": 5
}
