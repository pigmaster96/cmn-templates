{
 "cells": [
  {
   "cell_type": "code",
   "execution_count": 1,
   "id": "95be4606",
   "metadata": {},
   "outputs": [],
   "source": [
    "import random\n",
    "import time\n",
    "import numpy as np\n",
    "import matplotlib.pyplot as plt\n",
    "import pandas as pd\n",
    "import scipy as sk\n",
    "import pickle\n",
    "import mne\n",
    "import tqdm\n",
    "from tqdm import trange\n",
    "import os\n",
    "\n",
    "DEVICE='cuda'\n",
    "os.environ['CUDA_LAUNCH_BLOCKING'] = \"1\"\n",
    "import torch\n",
    "from torch.utils.data import DataLoader, TensorDataset\n",
    "import torch.optim as optim\n",
    "\n",
    "from torch import nn"
   ]
  },
  {
   "cell_type": "code",
   "execution_count": 2,
   "id": "658f9e62",
   "metadata": {},
   "outputs": [
    {
     "name": "stderr",
     "output_type": "stream",
     "text": [
      "<>:8: SyntaxWarning: invalid escape sequence '\\d'\n",
      "<>:8: SyntaxWarning: invalid escape sequence '\\s'\n",
      "<>:10: SyntaxWarning: invalid escape sequence '\\d'\n",
      "<>:10: SyntaxWarning: invalid escape sequence '\\s'\n",
      "<>:8: SyntaxWarning: invalid escape sequence '\\d'\n",
      "<>:8: SyntaxWarning: invalid escape sequence '\\s'\n",
      "<>:10: SyntaxWarning: invalid escape sequence '\\d'\n",
      "<>:10: SyntaxWarning: invalid escape sequence '\\s'\n",
      "C:\\Users\\malco\\AppData\\Local\\Temp\\ipykernel_8656\\2464512495.py:8: SyntaxWarning: invalid escape sequence '\\d'\n",
      "  path=f'ds005540\\derivatives\\sub-0{sub}\\ses-vid\\eeg\\sub-0{sub}_ses-vid_task-emotion_reorder.npy'\n",
      "C:\\Users\\malco\\AppData\\Local\\Temp\\ipykernel_8656\\2464512495.py:8: SyntaxWarning: invalid escape sequence '\\s'\n",
      "  path=f'ds005540\\derivatives\\sub-0{sub}\\ses-vid\\eeg\\sub-0{sub}_ses-vid_task-emotion_reorder.npy'\n",
      "C:\\Users\\malco\\AppData\\Local\\Temp\\ipykernel_8656\\2464512495.py:10: SyntaxWarning: invalid escape sequence '\\d'\n",
      "  path=f'ds005540\\derivatives\\sub-{sub}\\ses-vid\\eeg\\sub-{sub}_ses-vid_task-emotion_reorder.npy'\n",
      "C:\\Users\\malco\\AppData\\Local\\Temp\\ipykernel_8656\\2464512495.py:10: SyntaxWarning: invalid escape sequence '\\s'\n",
      "  path=f'ds005540\\derivatives\\sub-{sub}\\ses-vid\\eeg\\sub-{sub}_ses-vid_task-emotion_reorder.npy'\n"
     ]
    }
   ],
   "source": [
    "def extract_data(sub_range,verbose=False,feature_func=None,**kwargs):\n",
    "    first=sub_range[0]\n",
    "    last=sub_range[-1]\n",
    "\n",
    "    for sub in trange(first,last+1): \n",
    "        #read data\n",
    "        if sub <=9:\n",
    "            path=f'ds005540\\derivatives\\sub-0{sub}\\ses-vid\\eeg\\sub-0{sub}_ses-vid_task-emotion_reorder.npy'\n",
    "        else:\n",
    "            path=f'ds005540\\derivatives\\sub-{sub}\\ses-vid\\eeg\\sub-{sub}_ses-vid_task-emotion_reorder.npy'\n",
    "        datatemp=np.load(path,allow_pickle=True)\n",
    "        datatemp=np.permute_dims(datatemp,[1,0,2])\n",
    "\n",
    "        #if we want to convert features\n",
    "        if not feature_func==None:\n",
    "            datatemp=feature_func(datatemp,info=info)\n",
    "\n",
    "        #cat data along new dimension\n",
    "        datatemp=torch.tensor(datatemp).unsqueeze(0)\n",
    "        if sub==first:\n",
    "            data=datatemp\n",
    "        else:\n",
    "            data=torch.cat([data,datatemp],axis=0)\n",
    "\n",
    "        if verbose:\n",
    "            print(f'subject {sub} data extracted, vector size: {data.shape}')\n",
    "    return data\n",
    "\n",
    "def shuffle_and_split_data(X,y):\n",
    "    \"\"\"\n",
    "    Helper function to shuffle and split data\n",
    "\n",
    "    Args:\n",
    "        X: torch.tensor\n",
    "        Input data\n",
    "        y: torch.tensor\n",
    "        Corresponding target variables\n",
    "        seed: int\n",
    "        Set seed for reproducibility\n",
    "\n",
    "    Returns:\n",
    "        X_test: torch.tensor\n",
    "        Test data [20% of X]\n",
    "        y_test: torch.tensor\n",
    "        Labels corresponding to above mentioned test data\n",
    "        X_train: torch.tensor\n",
    "        Train data [80% of X]\n",
    "        y_train: torch.tensor\n",
    "        Labels corresponding to above mentioned train data\n",
    "    \"\"\"\n",
    "    \n",
    "    N=X.size(0)\n",
    "    shuffled_indices=torch.randperm(N) #get shuffled indices\n",
    "    X=X[shuffled_indices]\n",
    "    y=y[shuffled_indices]\n",
    "\n",
    "    # split by 20% into train-test set\n",
    "    test_size=int(0.2*N)\n",
    "    X_train=X[test_size:]\n",
    "    y_train=y[test_size:]\n",
    "    X_test=X[:test_size]\n",
    "    y_test=y[:test_size]\n",
    "\n",
    "    return X_test,y_test,X_train,y_train\n",
    "\n",
    "#create labels\n",
    "#sad-dis-fear-neu-joy-ten-ins correspond to 0-6 respectively, each sample has 21 trials, for (7 emotions x 3 trials)\n",
    "labels=np.array([])\n",
    "for i in range(0,7):\n",
    "    for n in range(0,3):\n",
    "        labels=np.concatenate([labels,np.array([i])],axis=0)\n",
    "labels=torch.tensor(labels)"
   ]
  },
  {
   "cell_type": "code",
   "execution_count": 3,
   "id": "706e6638",
   "metadata": {},
   "outputs": [
    {
     "name": "stderr",
     "output_type": "stream",
     "text": [
      "100%|██████████| 40/40 [00:15<00:00,  2.58it/s]\n"
     ]
    }
   ],
   "source": [
    "data=extract_data([1,40])"
   ]
  },
  {
   "cell_type": "code",
   "execution_count": 4,
   "id": "ca863e0b",
   "metadata": {},
   "outputs": [],
   "source": [
    "def process_data(data):\n",
    "    '''further process into trials (1 second trials, 200 points)'''\n",
    "    for trial in tqdm.tqdm(range(int(data.size(3)/200))):\n",
    "        datatrial=data[:,:,:,trial*200:(trial+1)*200]\n",
    "        datatrial=torch.unsqueeze(datatrial,2)\n",
    "        if trial==0:\n",
    "            newdata=datatrial\n",
    "        else:\n",
    "            newdata=torch.concatenate((newdata,datatrial),2)\n",
    "    return newdata"
   ]
  },
  {
   "cell_type": "code",
   "execution_count": 5,
   "id": "44552c36",
   "metadata": {},
   "outputs": [
    {
     "name": "stderr",
     "output_type": "stream",
     "text": [
      "100%|██████████| 30/30 [00:10<00:00,  2.89it/s]\n"
     ]
    },
    {
     "data": {
      "text/plain": [
       "torch.Size([40, 21, 30, 64, 200])"
      ]
     },
     "execution_count": 5,
     "metadata": {},
     "output_type": "execute_result"
    }
   ],
   "source": [
    "data=process_data(data)\n",
    "data.shape #subject,label,trials,electrodes,timepoints"
   ]
  },
  {
   "cell_type": "code",
   "execution_count": 6,
   "id": "d3f6794a",
   "metadata": {},
   "outputs": [
    {
     "name": "stderr",
     "output_type": "stream",
     "text": [
      "100%|██████████| 21/21 [00:06<00:00,  3.41it/s]\n",
      "100%|██████████| 40/40 [00:10<00:00,  3.64it/s]\n"
     ]
    },
    {
     "name": "stdout",
     "output_type": "stream",
     "text": [
      "torch.Size([25200, 64, 200])\n",
      "torch.Size([25200, 1])\n",
      "torch.Size([5040, 1, 64, 200]) torch.Size([5040]) torch.Size([20160, 1, 64, 200]) torch.Size([20160])\n"
     ]
    }
   ],
   "source": [
    "for label in tqdm.tqdm(range(21)): #combine labels and trials\n",
    "    temp=data[:,label,:,:,:]\n",
    "    if label==0:\n",
    "        X=temp\n",
    "        y=labels[label]*torch.ones(30,1)\n",
    "    else:\n",
    "        X=torch.concatenate((X,temp),dim=1)\n",
    "        y=torch.concatenate((y,labels[label]*torch.ones(30,1)),dim=0)\n",
    "\n",
    "#combine subjects\n",
    "for subject in tqdm.tqdm(range(X.size(0))):\n",
    "    temp=X[subject,:,:,:]\n",
    "    if subject==0:\n",
    "        X_full=temp\n",
    "        y_full=y\n",
    "    else:\n",
    "        X_full=torch.concatenate((X_full,temp),dim=0)\n",
    "        y_full=torch.concatenate((y_full,y),dim=0)\n",
    "\n",
    "print(X_full.shape)\n",
    "print(y_full.shape)\n",
    "\n",
    "#split data\n",
    "X_test,y_test,X_train,y_train=shuffle_and_split_data(X_full.unsqueeze(1),y_full.squeeze())\n",
    "\n",
    "print(X_test.shape,y_test.shape,X_train.shape,y_train.shape)"
   ]
  },
  {
   "cell_type": "code",
   "execution_count": 7,
   "id": "8ff9f70b",
   "metadata": {},
   "outputs": [],
   "source": [
    "#now the model\n",
    "class Net(nn.Module):\n",
    "    def __init__(self):\n",
    "        super(Net,self).__init__()\n",
    "        self.conv1=nn.Conv2d(1,16,3,stride=1,padding=1)\n",
    "        self.conv2=nn.Conv2d(16,12,3,stride=1,padding=1)\n",
    "        self.conv3=nn.Conv2d(12,2,3,stride=1,padding=1)\n",
    "        self.pool1=nn.MaxPool2d(4)\n",
    "        self.pool2=nn.MaxPool2d(2)\n",
    "        self.fc1=nn.Linear(400,200)\n",
    "        self.fc2=nn.Linear(200,128)\n",
    "        self.fc3=nn.Linear(128,7)\n",
    "        self.dropout1=nn.Dropout2d(0.3)\n",
    "        self.dropout2=nn.Dropout(0.2)\n",
    "        self.batchnorm1=nn.BatchNorm2d(16)\n",
    "        self.batchnorm2=nn.BatchNorm2d(12)\n",
    "\n",
    "    def forward(self,x):\n",
    "        x=self.conv1(x)\n",
    "        x=self.batchnorm1(x)\n",
    "        x=self.dropout1(x)\n",
    "        x=nn.functional.relu(x)\n",
    "        x=self.conv2(x)\n",
    "        self.batchnorm2(x)\n",
    "        x=self.dropout1(x)\n",
    "        x=nn.functional.relu(x)\n",
    "        x=self.pool1(x)\n",
    "        x=self.conv3(x)\n",
    "        x=self.dropout1(x)\n",
    "        x=nn.functional.relu(x)\n",
    "        x=self.pool2(x)\n",
    "        x=torch.flatten(x,1)\n",
    "        x=self.fc1(x)\n",
    "        self.dropout2(x)\n",
    "        x=nn.functional.relu(x)\n",
    "        x=self.fc2(x)\n",
    "        x=self.dropout2(x)\n",
    "        x=nn.functional.relu(x)\n",
    "        x=self.fc3(x)\n",
    "        x=nn.functional.relu(x)\n",
    "        return x\n",
    "    \n",
    "\n",
    "\n",
    "def train_test(net,epochs,train_loader,test_loader,device):\n",
    "    criterion=nn.CrossEntropyLoss()\n",
    "    optimizer=optim.Adam(net.parameters(),lr=3e-4)\n",
    "    train_acc=[]\n",
    "    train_loss=[]\n",
    "    test_acc=[]\n",
    "    test_loss=[]\n",
    "    net.to(device)\n",
    "    for epoch in tqdm.tqdm(range(epochs)):\n",
    "        net.train()\n",
    "        running_loss=0.0\n",
    "        correct,total=0,0\n",
    "        for i,data in enumerate(train_loader,start=0):\n",
    "            inputs,labels=data\n",
    "            inputs=inputs.to(device).float()\n",
    "            labels=labels.to(device).long()\n",
    "            \n",
    "            #train\n",
    "            optimizer.zero_grad()\n",
    "            outputs=net.forward(inputs)\n",
    "            loss=criterion(outputs,labels)\n",
    "            loss.backward()\n",
    "            optimizer.step()\n",
    "\n",
    "            running_loss+=loss.item()\n",
    "            #training accuracy\n",
    "            _,predicted=torch.max(outputs,1)\n",
    "            total+=labels.size(0)\n",
    "            correct+=(predicted==labels).sum()\n",
    "        train_loss.append(running_loss/len(train_loader))\n",
    "        train_acc.append(correct/total)\n",
    "        print(f\"epoch {epoch} --> TRAIN loss: {running_loss/len(train_loader):.2f}, TRAIN accuracy: {correct/total:.2f}\")\n",
    "\n",
    "        #eval on test\n",
    "        net.eval()\n",
    "        running_loss=0.0\n",
    "        correct,total=0,0\n",
    "        for inputs,labels in test_loader:\n",
    "            inputs,labels=inputs.to(device).float(),labels.to(device).long()\n",
    "            outputs=net.forward(inputs)\n",
    "            loss=criterion(outputs,labels)\n",
    "            running_loss+=loss.item()\n",
    "\n",
    "            #test acc\n",
    "            _,predicted=torch.max(outputs,1)\n",
    "            total+=labels.size(0)\n",
    "            correct+=(predicted==labels).sum()\n",
    "        test_loss.append(running_loss/len(test_loader))\n",
    "        test_acc.append(correct/total)\n",
    "        print(f\"epoch {epoch} --> TEST loss: {running_loss/len(train_loader):.2f}, TEST accuracy: {correct/total:.2f}\")\n",
    "\n",
    "    return train_loss,train_acc,test_loss,test_acc\n",
    "\n",
    "\n",
    "batch_size=150\n",
    "test_data = TensorDataset(X_test, y_test)\n",
    "test_loader = DataLoader(test_data, batch_size=batch_size,\n",
    "                         shuffle=False\n",
    "                         )\n",
    "\n",
    "train_data = TensorDataset(X_train, y_train)\n",
    "train_loader = DataLoader(train_data,\n",
    "                          batch_size=batch_size,\n",
    "                          drop_last=False,\n",
    "                          shuffle=True\n",
    "                          )"
   ]
  },
  {
   "cell_type": "code",
   "execution_count": 8,
   "id": "08785fe5",
   "metadata": {},
   "outputs": [
    {
     "name": "stderr",
     "output_type": "stream",
     "text": [
      "  0%|          | 0/250 [00:00<?, ?it/s]"
     ]
    },
    {
     "name": "stdout",
     "output_type": "stream",
     "text": [
      "epoch 0 --> TRAIN loss: 1.95, TRAIN accuracy: 0.14\n"
     ]
    },
    {
     "name": "stderr",
     "output_type": "stream",
     "text": [
      "  0%|          | 1/250 [00:06<28:21,  6.83s/it]"
     ]
    },
    {
     "name": "stdout",
     "output_type": "stream",
     "text": [
      "epoch 0 --> TEST loss: 0.49, TEST accuracy: 0.14\n",
      "epoch 1 --> TRAIN loss: 1.95, TRAIN accuracy: 0.14\n"
     ]
    },
    {
     "name": "stderr",
     "output_type": "stream",
     "text": [
      "  1%|          | 2/250 [00:12<24:20,  5.89s/it]"
     ]
    },
    {
     "name": "stdout",
     "output_type": "stream",
     "text": [
      "epoch 1 --> TEST loss: 0.49, TEST accuracy: 0.14\n",
      "epoch 2 --> TRAIN loss: 1.95, TRAIN accuracy: 0.14\n"
     ]
    },
    {
     "name": "stderr",
     "output_type": "stream",
     "text": [
      "  1%|          | 3/250 [00:17<22:52,  5.56s/it]"
     ]
    },
    {
     "name": "stdout",
     "output_type": "stream",
     "text": [
      "epoch 2 --> TEST loss: 0.49, TEST accuracy: 0.14\n",
      "epoch 3 --> TRAIN loss: 1.95, TRAIN accuracy: 0.15\n"
     ]
    },
    {
     "name": "stderr",
     "output_type": "stream",
     "text": [
      "  2%|▏         | 4/250 [00:22<22:04,  5.38s/it]"
     ]
    },
    {
     "name": "stdout",
     "output_type": "stream",
     "text": [
      "epoch 3 --> TEST loss: 0.49, TEST accuracy: 0.14\n",
      "epoch 4 --> TRAIN loss: 1.95, TRAIN accuracy: 0.14\n"
     ]
    },
    {
     "name": "stderr",
     "output_type": "stream",
     "text": [
      "  2%|▏         | 5/250 [00:27<21:31,  5.27s/it]"
     ]
    },
    {
     "name": "stdout",
     "output_type": "stream",
     "text": [
      "epoch 4 --> TEST loss: 0.49, TEST accuracy: 0.14\n",
      "epoch 5 --> TRAIN loss: 1.95, TRAIN accuracy: 0.14\n"
     ]
    },
    {
     "name": "stderr",
     "output_type": "stream",
     "text": [
      "  2%|▏         | 6/250 [00:32<21:07,  5.19s/it]"
     ]
    },
    {
     "name": "stdout",
     "output_type": "stream",
     "text": [
      "epoch 5 --> TEST loss: 0.49, TEST accuracy: 0.14\n",
      "epoch 6 --> TRAIN loss: 1.95, TRAIN accuracy: 0.14\n"
     ]
    },
    {
     "name": "stderr",
     "output_type": "stream",
     "text": [
      "  3%|▎         | 7/250 [00:37<20:49,  5.14s/it]"
     ]
    },
    {
     "name": "stdout",
     "output_type": "stream",
     "text": [
      "epoch 6 --> TEST loss: 0.49, TEST accuracy: 0.14\n",
      "epoch 7 --> TRAIN loss: 1.95, TRAIN accuracy: 0.14\n"
     ]
    },
    {
     "name": "stderr",
     "output_type": "stream",
     "text": [
      "  3%|▎         | 8/250 [00:42<20:31,  5.09s/it]"
     ]
    },
    {
     "name": "stdout",
     "output_type": "stream",
     "text": [
      "epoch 7 --> TEST loss: 0.49, TEST accuracy: 0.14\n",
      "epoch 8 --> TRAIN loss: 1.95, TRAIN accuracy: 0.14\n"
     ]
    },
    {
     "name": "stderr",
     "output_type": "stream",
     "text": [
      "  4%|▎         | 9/250 [00:47<20:18,  5.06s/it]"
     ]
    },
    {
     "name": "stdout",
     "output_type": "stream",
     "text": [
      "epoch 8 --> TEST loss: 0.49, TEST accuracy: 0.14\n",
      "epoch 9 --> TRAIN loss: 1.95, TRAIN accuracy: 0.14\n"
     ]
    },
    {
     "name": "stderr",
     "output_type": "stream",
     "text": [
      "  4%|▍         | 10/250 [00:52<20:05,  5.02s/it]"
     ]
    },
    {
     "name": "stdout",
     "output_type": "stream",
     "text": [
      "epoch 9 --> TEST loss: 0.49, TEST accuracy: 0.14\n",
      "epoch 10 --> TRAIN loss: 1.95, TRAIN accuracy: 0.14\n"
     ]
    },
    {
     "name": "stderr",
     "output_type": "stream",
     "text": [
      "  4%|▍         | 11/250 [00:57<20:14,  5.08s/it]"
     ]
    },
    {
     "name": "stdout",
     "output_type": "stream",
     "text": [
      "epoch 10 --> TEST loss: 0.49, TEST accuracy: 0.14\n",
      "epoch 11 --> TRAIN loss: 1.95, TRAIN accuracy: 0.14\n"
     ]
    },
    {
     "name": "stderr",
     "output_type": "stream",
     "text": [
      "  5%|▍         | 12/250 [01:03<20:39,  5.21s/it]"
     ]
    },
    {
     "name": "stdout",
     "output_type": "stream",
     "text": [
      "epoch 11 --> TEST loss: 0.49, TEST accuracy: 0.14\n",
      "epoch 12 --> TRAIN loss: 1.95, TRAIN accuracy: 0.14\n"
     ]
    },
    {
     "name": "stderr",
     "output_type": "stream",
     "text": [
      "  5%|▌         | 13/250 [01:08<20:42,  5.24s/it]"
     ]
    },
    {
     "name": "stdout",
     "output_type": "stream",
     "text": [
      "epoch 12 --> TEST loss: 0.49, TEST accuracy: 0.14\n",
      "epoch 13 --> TRAIN loss: 1.95, TRAIN accuracy: 0.14\n"
     ]
    },
    {
     "name": "stderr",
     "output_type": "stream",
     "text": [
      "  6%|▌         | 14/250 [01:13<20:32,  5.22s/it]"
     ]
    },
    {
     "name": "stdout",
     "output_type": "stream",
     "text": [
      "epoch 13 --> TEST loss: 0.49, TEST accuracy: 0.14\n",
      "epoch 14 --> TRAIN loss: 1.95, TRAIN accuracy: 0.14\n"
     ]
    },
    {
     "name": "stderr",
     "output_type": "stream",
     "text": [
      "  6%|▌         | 15/250 [01:18<20:20,  5.19s/it]"
     ]
    },
    {
     "name": "stdout",
     "output_type": "stream",
     "text": [
      "epoch 14 --> TEST loss: 0.49, TEST accuracy: 0.15\n",
      "epoch 15 --> TRAIN loss: 1.95, TRAIN accuracy: 0.14\n"
     ]
    },
    {
     "name": "stderr",
     "output_type": "stream",
     "text": [
      "  6%|▋         | 16/250 [01:23<20:16,  5.20s/it]"
     ]
    },
    {
     "name": "stdout",
     "output_type": "stream",
     "text": [
      "epoch 15 --> TEST loss: 0.49, TEST accuracy: 0.14\n",
      "epoch 16 --> TRAIN loss: 1.95, TRAIN accuracy: 0.14\n"
     ]
    },
    {
     "name": "stderr",
     "output_type": "stream",
     "text": [
      "  7%|▋         | 17/250 [01:29<20:04,  5.17s/it]"
     ]
    },
    {
     "name": "stdout",
     "output_type": "stream",
     "text": [
      "epoch 16 --> TEST loss: 0.49, TEST accuracy: 0.14\n",
      "epoch 17 --> TRAIN loss: 1.95, TRAIN accuracy: 0.14\n"
     ]
    },
    {
     "name": "stderr",
     "output_type": "stream",
     "text": [
      "  7%|▋         | 18/250 [01:34<19:50,  5.13s/it]"
     ]
    },
    {
     "name": "stdout",
     "output_type": "stream",
     "text": [
      "epoch 17 --> TEST loss: 0.49, TEST accuracy: 0.14\n",
      "epoch 18 --> TRAIN loss: 1.95, TRAIN accuracy: 0.14\n"
     ]
    },
    {
     "name": "stderr",
     "output_type": "stream",
     "text": [
      "  8%|▊         | 19/250 [01:39<19:42,  5.12s/it]"
     ]
    },
    {
     "name": "stdout",
     "output_type": "stream",
     "text": [
      "epoch 18 --> TEST loss: 0.49, TEST accuracy: 0.15\n",
      "epoch 19 --> TRAIN loss: 1.95, TRAIN accuracy: 0.15\n"
     ]
    },
    {
     "name": "stderr",
     "output_type": "stream",
     "text": [
      "  8%|▊         | 20/250 [01:44<19:33,  5.10s/it]"
     ]
    },
    {
     "name": "stdout",
     "output_type": "stream",
     "text": [
      "epoch 19 --> TEST loss: 0.49, TEST accuracy: 0.14\n",
      "epoch 20 --> TRAIN loss: 1.95, TRAIN accuracy: 0.14\n"
     ]
    },
    {
     "name": "stderr",
     "output_type": "stream",
     "text": [
      "  8%|▊         | 21/250 [01:49<19:41,  5.16s/it]"
     ]
    },
    {
     "name": "stdout",
     "output_type": "stream",
     "text": [
      "epoch 20 --> TEST loss: 0.49, TEST accuracy: 0.14\n",
      "epoch 21 --> TRAIN loss: 1.95, TRAIN accuracy: 0.14\n"
     ]
    },
    {
     "name": "stderr",
     "output_type": "stream",
     "text": [
      "  9%|▉         | 22/250 [01:54<19:34,  5.15s/it]"
     ]
    },
    {
     "name": "stdout",
     "output_type": "stream",
     "text": [
      "epoch 21 --> TEST loss: 0.49, TEST accuracy: 0.15\n",
      "epoch 22 --> TRAIN loss: 1.95, TRAIN accuracy: 0.15\n"
     ]
    },
    {
     "name": "stderr",
     "output_type": "stream",
     "text": [
      "  9%|▉         | 23/250 [01:59<19:26,  5.14s/it]"
     ]
    },
    {
     "name": "stdout",
     "output_type": "stream",
     "text": [
      "epoch 22 --> TEST loss: 0.49, TEST accuracy: 0.15\n",
      "epoch 23 --> TRAIN loss: 1.95, TRAIN accuracy: 0.15\n"
     ]
    },
    {
     "name": "stderr",
     "output_type": "stream",
     "text": [
      " 10%|▉         | 24/250 [02:04<19:15,  5.11s/it]"
     ]
    },
    {
     "name": "stdout",
     "output_type": "stream",
     "text": [
      "epoch 23 --> TEST loss: 0.49, TEST accuracy: 0.15\n",
      "epoch 24 --> TRAIN loss: 1.95, TRAIN accuracy: 0.15\n"
     ]
    },
    {
     "name": "stderr",
     "output_type": "stream",
     "text": [
      " 10%|█         | 25/250 [02:09<19:14,  5.13s/it]"
     ]
    },
    {
     "name": "stdout",
     "output_type": "stream",
     "text": [
      "epoch 24 --> TEST loss: 0.49, TEST accuracy: 0.15\n",
      "epoch 25 --> TRAIN loss: 1.94, TRAIN accuracy: 0.15\n"
     ]
    },
    {
     "name": "stderr",
     "output_type": "stream",
     "text": [
      " 10%|█         | 26/250 [02:15<19:15,  5.16s/it]"
     ]
    },
    {
     "name": "stdout",
     "output_type": "stream",
     "text": [
      "epoch 25 --> TEST loss: 0.49, TEST accuracy: 0.15\n",
      "epoch 26 --> TRAIN loss: 1.94, TRAIN accuracy: 0.15\n"
     ]
    },
    {
     "name": "stderr",
     "output_type": "stream",
     "text": [
      " 11%|█         | 27/250 [02:20<19:08,  5.15s/it]"
     ]
    },
    {
     "name": "stdout",
     "output_type": "stream",
     "text": [
      "epoch 26 --> TEST loss: 0.49, TEST accuracy: 0.15\n",
      "epoch 27 --> TRAIN loss: 1.94, TRAIN accuracy: 0.15\n"
     ]
    },
    {
     "name": "stderr",
     "output_type": "stream",
     "text": [
      " 11%|█         | 28/250 [02:25<19:08,  5.17s/it]"
     ]
    },
    {
     "name": "stdout",
     "output_type": "stream",
     "text": [
      "epoch 27 --> TEST loss: 0.49, TEST accuracy: 0.15\n",
      "epoch 28 --> TRAIN loss: 1.94, TRAIN accuracy: 0.15\n"
     ]
    },
    {
     "name": "stderr",
     "output_type": "stream",
     "text": [
      " 12%|█▏        | 29/250 [02:30<18:57,  5.15s/it]"
     ]
    },
    {
     "name": "stdout",
     "output_type": "stream",
     "text": [
      "epoch 28 --> TEST loss: 0.49, TEST accuracy: 0.15\n",
      "epoch 29 --> TRAIN loss: 1.94, TRAIN accuracy: 0.15\n"
     ]
    },
    {
     "name": "stderr",
     "output_type": "stream",
     "text": [
      " 12%|█▏        | 30/250 [02:35<18:53,  5.15s/it]"
     ]
    },
    {
     "name": "stdout",
     "output_type": "stream",
     "text": [
      "epoch 29 --> TEST loss: 0.49, TEST accuracy: 0.15\n",
      "epoch 30 --> TRAIN loss: 1.94, TRAIN accuracy: 0.15\n"
     ]
    },
    {
     "name": "stderr",
     "output_type": "stream",
     "text": [
      " 12%|█▏        | 31/250 [02:41<19:12,  5.26s/it]"
     ]
    },
    {
     "name": "stdout",
     "output_type": "stream",
     "text": [
      "epoch 30 --> TEST loss: 0.49, TEST accuracy: 0.15\n",
      "epoch 31 --> TRAIN loss: 1.94, TRAIN accuracy: 0.15\n"
     ]
    },
    {
     "name": "stderr",
     "output_type": "stream",
     "text": [
      " 13%|█▎        | 32/250 [02:47<19:47,  5.45s/it]"
     ]
    },
    {
     "name": "stdout",
     "output_type": "stream",
     "text": [
      "epoch 31 --> TEST loss: 0.49, TEST accuracy: 0.15\n",
      "epoch 32 --> TRAIN loss: 1.94, TRAIN accuracy: 0.15\n"
     ]
    },
    {
     "name": "stderr",
     "output_type": "stream",
     "text": [
      " 13%|█▎        | 33/250 [02:53<20:15,  5.60s/it]"
     ]
    },
    {
     "name": "stdout",
     "output_type": "stream",
     "text": [
      "epoch 32 --> TEST loss: 0.49, TEST accuracy: 0.16\n",
      "epoch 33 --> TRAIN loss: 1.94, TRAIN accuracy: 0.16\n"
     ]
    },
    {
     "name": "stderr",
     "output_type": "stream",
     "text": [
      " 14%|█▎        | 34/250 [02:58<20:10,  5.60s/it]"
     ]
    },
    {
     "name": "stdout",
     "output_type": "stream",
     "text": [
      "epoch 33 --> TEST loss: 0.49, TEST accuracy: 0.16\n",
      "epoch 34 --> TRAIN loss: 1.94, TRAIN accuracy: 0.16\n"
     ]
    },
    {
     "name": "stderr",
     "output_type": "stream",
     "text": [
      " 14%|█▍        | 35/250 [03:03<19:32,  5.45s/it]"
     ]
    },
    {
     "name": "stdout",
     "output_type": "stream",
     "text": [
      "epoch 34 --> TEST loss: 0.49, TEST accuracy: 0.17\n",
      "epoch 35 --> TRAIN loss: 1.94, TRAIN accuracy: 0.17\n"
     ]
    },
    {
     "name": "stderr",
     "output_type": "stream",
     "text": [
      " 14%|█▍        | 36/250 [03:09<19:23,  5.44s/it]"
     ]
    },
    {
     "name": "stdout",
     "output_type": "stream",
     "text": [
      "epoch 35 --> TEST loss: 0.49, TEST accuracy: 0.17\n",
      "epoch 36 --> TRAIN loss: 1.94, TRAIN accuracy: 0.17\n"
     ]
    },
    {
     "name": "stderr",
     "output_type": "stream",
     "text": [
      " 15%|█▍        | 37/250 [03:14<19:11,  5.41s/it]"
     ]
    },
    {
     "name": "stdout",
     "output_type": "stream",
     "text": [
      "epoch 36 --> TEST loss: 0.49, TEST accuracy: 0.18\n",
      "epoch 37 --> TRAIN loss: 1.93, TRAIN accuracy: 0.18\n"
     ]
    },
    {
     "name": "stderr",
     "output_type": "stream",
     "text": [
      " 15%|█▌        | 38/250 [03:19<18:44,  5.31s/it]"
     ]
    },
    {
     "name": "stdout",
     "output_type": "stream",
     "text": [
      "epoch 37 --> TEST loss: 0.49, TEST accuracy: 0.17\n",
      "epoch 38 --> TRAIN loss: 1.93, TRAIN accuracy: 0.19\n"
     ]
    },
    {
     "name": "stderr",
     "output_type": "stream",
     "text": [
      " 16%|█▌        | 39/250 [03:24<18:23,  5.23s/it]"
     ]
    },
    {
     "name": "stdout",
     "output_type": "stream",
     "text": [
      "epoch 38 --> TEST loss: 0.49, TEST accuracy: 0.18\n",
      "epoch 39 --> TRAIN loss: 1.93, TRAIN accuracy: 0.19\n"
     ]
    },
    {
     "name": "stderr",
     "output_type": "stream",
     "text": [
      " 16%|█▌        | 40/250 [03:29<18:13,  5.21s/it]"
     ]
    },
    {
     "name": "stdout",
     "output_type": "stream",
     "text": [
      "epoch 39 --> TEST loss: 0.49, TEST accuracy: 0.19\n",
      "epoch 40 --> TRAIN loss: 1.92, TRAIN accuracy: 0.19\n"
     ]
    },
    {
     "name": "stderr",
     "output_type": "stream",
     "text": [
      " 16%|█▋        | 41/250 [03:35<18:05,  5.19s/it]"
     ]
    },
    {
     "name": "stdout",
     "output_type": "stream",
     "text": [
      "epoch 40 --> TEST loss: 0.49, TEST accuracy: 0.18\n",
      "epoch 41 --> TRAIN loss: 1.92, TRAIN accuracy: 0.20\n"
     ]
    },
    {
     "name": "stderr",
     "output_type": "stream",
     "text": [
      " 17%|█▋        | 42/250 [03:40<17:49,  5.14s/it]"
     ]
    },
    {
     "name": "stdout",
     "output_type": "stream",
     "text": [
      "epoch 41 --> TEST loss: 0.48, TEST accuracy: 0.19\n",
      "epoch 42 --> TRAIN loss: 1.91, TRAIN accuracy: 0.20\n"
     ]
    },
    {
     "name": "stderr",
     "output_type": "stream",
     "text": [
      " 17%|█▋        | 43/250 [03:45<17:44,  5.14s/it]"
     ]
    },
    {
     "name": "stdout",
     "output_type": "stream",
     "text": [
      "epoch 42 --> TEST loss: 0.48, TEST accuracy: 0.19\n",
      "epoch 43 --> TRAIN loss: 1.91, TRAIN accuracy: 0.21\n"
     ]
    },
    {
     "name": "stderr",
     "output_type": "stream",
     "text": [
      " 18%|█▊        | 44/250 [03:50<17:37,  5.14s/it]"
     ]
    },
    {
     "name": "stdout",
     "output_type": "stream",
     "text": [
      "epoch 43 --> TEST loss: 0.48, TEST accuracy: 0.18\n",
      "epoch 44 --> TRAIN loss: 1.91, TRAIN accuracy: 0.21\n"
     ]
    },
    {
     "name": "stderr",
     "output_type": "stream",
     "text": [
      " 18%|█▊        | 45/250 [03:55<17:32,  5.14s/it]"
     ]
    },
    {
     "name": "stdout",
     "output_type": "stream",
     "text": [
      "epoch 44 --> TEST loss: 0.48, TEST accuracy: 0.19\n",
      "epoch 45 --> TRAIN loss: 1.90, TRAIN accuracy: 0.21\n"
     ]
    },
    {
     "name": "stderr",
     "output_type": "stream",
     "text": [
      " 18%|█▊        | 46/250 [04:00<17:30,  5.15s/it]"
     ]
    },
    {
     "name": "stdout",
     "output_type": "stream",
     "text": [
      "epoch 45 --> TEST loss: 0.48, TEST accuracy: 0.19\n",
      "epoch 46 --> TRAIN loss: 1.89, TRAIN accuracy: 0.22\n"
     ]
    },
    {
     "name": "stderr",
     "output_type": "stream",
     "text": [
      " 19%|█▉        | 47/250 [04:05<17:21,  5.13s/it]"
     ]
    },
    {
     "name": "stdout",
     "output_type": "stream",
     "text": [
      "epoch 46 --> TEST loss: 0.48, TEST accuracy: 0.20\n",
      "epoch 47 --> TRAIN loss: 1.89, TRAIN accuracy: 0.22\n"
     ]
    },
    {
     "name": "stderr",
     "output_type": "stream",
     "text": [
      " 19%|█▉        | 48/250 [04:10<17:10,  5.10s/it]"
     ]
    },
    {
     "name": "stdout",
     "output_type": "stream",
     "text": [
      "epoch 47 --> TEST loss: 0.48, TEST accuracy: 0.20\n",
      "epoch 48 --> TRAIN loss: 1.89, TRAIN accuracy: 0.22\n"
     ]
    },
    {
     "name": "stderr",
     "output_type": "stream",
     "text": [
      " 20%|█▉        | 49/250 [04:15<17:05,  5.10s/it]"
     ]
    },
    {
     "name": "stdout",
     "output_type": "stream",
     "text": [
      "epoch 48 --> TEST loss: 0.48, TEST accuracy: 0.20\n",
      "epoch 49 --> TRAIN loss: 1.88, TRAIN accuracy: 0.23\n"
     ]
    },
    {
     "name": "stderr",
     "output_type": "stream",
     "text": [
      " 20%|██        | 50/250 [04:21<17:01,  5.11s/it]"
     ]
    },
    {
     "name": "stdout",
     "output_type": "stream",
     "text": [
      "epoch 49 --> TEST loss: 0.48, TEST accuracy: 0.20\n",
      "epoch 50 --> TRAIN loss: 1.88, TRAIN accuracy: 0.23\n"
     ]
    },
    {
     "name": "stderr",
     "output_type": "stream",
     "text": [
      " 20%|██        | 51/250 [04:26<16:53,  5.09s/it]"
     ]
    },
    {
     "name": "stdout",
     "output_type": "stream",
     "text": [
      "epoch 50 --> TEST loss: 0.48, TEST accuracy: 0.20\n",
      "epoch 51 --> TRAIN loss: 1.87, TRAIN accuracy: 0.23\n"
     ]
    },
    {
     "name": "stderr",
     "output_type": "stream",
     "text": [
      " 21%|██        | 52/250 [04:31<16:55,  5.13s/it]"
     ]
    },
    {
     "name": "stdout",
     "output_type": "stream",
     "text": [
      "epoch 51 --> TEST loss: 0.48, TEST accuracy: 0.20\n",
      "epoch 52 --> TRAIN loss: 1.87, TRAIN accuracy: 0.24\n"
     ]
    },
    {
     "name": "stderr",
     "output_type": "stream",
     "text": [
      " 21%|██        | 53/250 [04:36<17:05,  5.20s/it]"
     ]
    },
    {
     "name": "stdout",
     "output_type": "stream",
     "text": [
      "epoch 52 --> TEST loss: 0.48, TEST accuracy: 0.20\n",
      "epoch 53 --> TRAIN loss: 1.86, TRAIN accuracy: 0.24\n"
     ]
    },
    {
     "name": "stderr",
     "output_type": "stream",
     "text": [
      " 22%|██▏       | 54/250 [04:42<17:09,  5.25s/it]"
     ]
    },
    {
     "name": "stdout",
     "output_type": "stream",
     "text": [
      "epoch 53 --> TEST loss: 0.48, TEST accuracy: 0.21\n",
      "epoch 54 --> TRAIN loss: 1.86, TRAIN accuracy: 0.25\n"
     ]
    },
    {
     "name": "stderr",
     "output_type": "stream",
     "text": [
      " 22%|██▏       | 55/250 [04:47<16:56,  5.21s/it]"
     ]
    },
    {
     "name": "stdout",
     "output_type": "stream",
     "text": [
      "epoch 54 --> TEST loss: 0.48, TEST accuracy: 0.20\n",
      "epoch 55 --> TRAIN loss: 1.85, TRAIN accuracy: 0.25\n"
     ]
    },
    {
     "name": "stderr",
     "output_type": "stream",
     "text": [
      " 22%|██▏       | 56/250 [04:52<16:49,  5.21s/it]"
     ]
    },
    {
     "name": "stdout",
     "output_type": "stream",
     "text": [
      "epoch 55 --> TEST loss: 0.48, TEST accuracy: 0.21\n",
      "epoch 56 --> TRAIN loss: 1.84, TRAIN accuracy: 0.25\n"
     ]
    },
    {
     "name": "stderr",
     "output_type": "stream",
     "text": [
      " 23%|██▎       | 57/250 [04:57<16:41,  5.19s/it]"
     ]
    },
    {
     "name": "stdout",
     "output_type": "stream",
     "text": [
      "epoch 56 --> TEST loss: 0.48, TEST accuracy: 0.21\n",
      "epoch 57 --> TRAIN loss: 1.84, TRAIN accuracy: 0.26\n"
     ]
    },
    {
     "name": "stderr",
     "output_type": "stream",
     "text": [
      " 23%|██▎       | 58/250 [05:02<16:36,  5.19s/it]"
     ]
    },
    {
     "name": "stdout",
     "output_type": "stream",
     "text": [
      "epoch 57 --> TEST loss: 0.48, TEST accuracy: 0.20\n",
      "epoch 58 --> TRAIN loss: 1.84, TRAIN accuracy: 0.26\n"
     ]
    },
    {
     "name": "stderr",
     "output_type": "stream",
     "text": [
      " 24%|██▎       | 59/250 [05:07<16:34,  5.21s/it]"
     ]
    },
    {
     "name": "stdout",
     "output_type": "stream",
     "text": [
      "epoch 58 --> TEST loss: 0.48, TEST accuracy: 0.21\n",
      "epoch 59 --> TRAIN loss: 1.83, TRAIN accuracy: 0.27\n"
     ]
    },
    {
     "name": "stderr",
     "output_type": "stream",
     "text": [
      " 24%|██▍       | 60/250 [05:13<16:26,  5.19s/it]"
     ]
    },
    {
     "name": "stdout",
     "output_type": "stream",
     "text": [
      "epoch 59 --> TEST loss: 0.48, TEST accuracy: 0.21\n",
      "epoch 60 --> TRAIN loss: 1.83, TRAIN accuracy: 0.27\n"
     ]
    },
    {
     "name": "stderr",
     "output_type": "stream",
     "text": [
      " 24%|██▍       | 61/250 [05:18<16:13,  5.15s/it]"
     ]
    },
    {
     "name": "stdout",
     "output_type": "stream",
     "text": [
      "epoch 60 --> TEST loss: 0.48, TEST accuracy: 0.21\n",
      "epoch 61 --> TRAIN loss: 1.82, TRAIN accuracy: 0.27\n"
     ]
    },
    {
     "name": "stderr",
     "output_type": "stream",
     "text": [
      " 25%|██▍       | 62/250 [05:23<16:10,  5.16s/it]"
     ]
    },
    {
     "name": "stdout",
     "output_type": "stream",
     "text": [
      "epoch 61 --> TEST loss: 0.48, TEST accuracy: 0.21\n",
      "epoch 62 --> TRAIN loss: 1.81, TRAIN accuracy: 0.27\n"
     ]
    },
    {
     "name": "stderr",
     "output_type": "stream",
     "text": [
      " 25%|██▌       | 63/250 [05:28<16:03,  5.15s/it]"
     ]
    },
    {
     "name": "stdout",
     "output_type": "stream",
     "text": [
      "epoch 62 --> TEST loss: 0.48, TEST accuracy: 0.20\n",
      "epoch 63 --> TRAIN loss: 1.80, TRAIN accuracy: 0.28\n"
     ]
    },
    {
     "name": "stderr",
     "output_type": "stream",
     "text": [
      " 26%|██▌       | 64/250 [05:33<16:00,  5.17s/it]"
     ]
    },
    {
     "name": "stdout",
     "output_type": "stream",
     "text": [
      "epoch 63 --> TEST loss: 0.49, TEST accuracy: 0.20\n",
      "epoch 64 --> TRAIN loss: 1.80, TRAIN accuracy: 0.28\n"
     ]
    },
    {
     "name": "stderr",
     "output_type": "stream",
     "text": [
      " 26%|██▌       | 65/250 [05:38<15:51,  5.15s/it]"
     ]
    },
    {
     "name": "stdout",
     "output_type": "stream",
     "text": [
      "epoch 64 --> TEST loss: 0.49, TEST accuracy: 0.21\n",
      "epoch 65 --> TRAIN loss: 1.80, TRAIN accuracy: 0.28\n"
     ]
    },
    {
     "name": "stderr",
     "output_type": "stream",
     "text": [
      " 26%|██▋       | 66/250 [05:43<15:43,  5.13s/it]"
     ]
    },
    {
     "name": "stdout",
     "output_type": "stream",
     "text": [
      "epoch 65 --> TEST loss: 0.48, TEST accuracy: 0.21\n",
      "epoch 66 --> TRAIN loss: 1.79, TRAIN accuracy: 0.28\n"
     ]
    },
    {
     "name": "stderr",
     "output_type": "stream",
     "text": [
      " 27%|██▋       | 67/250 [05:48<15:34,  5.11s/it]"
     ]
    },
    {
     "name": "stdout",
     "output_type": "stream",
     "text": [
      "epoch 66 --> TEST loss: 0.48, TEST accuracy: 0.20\n",
      "epoch 67 --> TRAIN loss: 1.78, TRAIN accuracy: 0.29\n"
     ]
    },
    {
     "name": "stderr",
     "output_type": "stream",
     "text": [
      " 27%|██▋       | 68/250 [05:54<15:33,  5.13s/it]"
     ]
    },
    {
     "name": "stdout",
     "output_type": "stream",
     "text": [
      "epoch 67 --> TEST loss: 0.49, TEST accuracy: 0.21\n",
      "epoch 68 --> TRAIN loss: 1.78, TRAIN accuracy: 0.29\n"
     ]
    },
    {
     "name": "stderr",
     "output_type": "stream",
     "text": [
      " 28%|██▊       | 69/250 [05:59<15:25,  5.11s/it]"
     ]
    },
    {
     "name": "stdout",
     "output_type": "stream",
     "text": [
      "epoch 68 --> TEST loss: 0.48, TEST accuracy: 0.21\n",
      "epoch 69 --> TRAIN loss: 1.77, TRAIN accuracy: 0.29\n"
     ]
    },
    {
     "name": "stderr",
     "output_type": "stream",
     "text": [
      " 28%|██▊       | 70/250 [06:04<15:15,  5.09s/it]"
     ]
    },
    {
     "name": "stdout",
     "output_type": "stream",
     "text": [
      "epoch 69 --> TEST loss: 0.48, TEST accuracy: 0.21\n",
      "epoch 70 --> TRAIN loss: 1.77, TRAIN accuracy: 0.29\n"
     ]
    },
    {
     "name": "stderr",
     "output_type": "stream",
     "text": [
      " 28%|██▊       | 71/250 [06:09<15:06,  5.07s/it]"
     ]
    },
    {
     "name": "stdout",
     "output_type": "stream",
     "text": [
      "epoch 70 --> TEST loss: 0.49, TEST accuracy: 0.22\n",
      "epoch 71 --> TRAIN loss: 1.76, TRAIN accuracy: 0.30\n"
     ]
    },
    {
     "name": "stderr",
     "output_type": "stream",
     "text": [
      " 29%|██▉       | 72/250 [06:14<15:01,  5.06s/it]"
     ]
    },
    {
     "name": "stdout",
     "output_type": "stream",
     "text": [
      "epoch 71 --> TEST loss: 0.48, TEST accuracy: 0.21\n",
      "epoch 72 --> TRAIN loss: 1.75, TRAIN accuracy: 0.30\n"
     ]
    },
    {
     "name": "stderr",
     "output_type": "stream",
     "text": [
      " 29%|██▉       | 73/250 [06:19<14:52,  5.04s/it]"
     ]
    },
    {
     "name": "stdout",
     "output_type": "stream",
     "text": [
      "epoch 72 --> TEST loss: 0.49, TEST accuracy: 0.22\n",
      "epoch 73 --> TRAIN loss: 1.75, TRAIN accuracy: 0.30\n"
     ]
    },
    {
     "name": "stderr",
     "output_type": "stream",
     "text": [
      " 30%|██▉       | 74/250 [06:24<14:46,  5.04s/it]"
     ]
    },
    {
     "name": "stdout",
     "output_type": "stream",
     "text": [
      "epoch 73 --> TEST loss: 0.48, TEST accuracy: 0.21\n",
      "epoch 74 --> TRAIN loss: 1.74, TRAIN accuracy: 0.31\n"
     ]
    },
    {
     "name": "stderr",
     "output_type": "stream",
     "text": [
      " 30%|███       | 75/250 [06:29<14:47,  5.07s/it]"
     ]
    },
    {
     "name": "stdout",
     "output_type": "stream",
     "text": [
      "epoch 74 --> TEST loss: 0.49, TEST accuracy: 0.21\n",
      "epoch 75 --> TRAIN loss: 1.74, TRAIN accuracy: 0.31\n"
     ]
    },
    {
     "name": "stderr",
     "output_type": "stream",
     "text": [
      " 30%|███       | 76/250 [06:34<14:40,  5.06s/it]"
     ]
    },
    {
     "name": "stdout",
     "output_type": "stream",
     "text": [
      "epoch 75 --> TEST loss: 0.49, TEST accuracy: 0.21\n",
      "epoch 76 --> TRAIN loss: 1.73, TRAIN accuracy: 0.31\n"
     ]
    },
    {
     "name": "stderr",
     "output_type": "stream",
     "text": [
      " 31%|███       | 77/250 [06:39<14:40,  5.09s/it]"
     ]
    },
    {
     "name": "stdout",
     "output_type": "stream",
     "text": [
      "epoch 76 --> TEST loss: 0.49, TEST accuracy: 0.22\n",
      "epoch 77 --> TRAIN loss: 1.72, TRAIN accuracy: 0.32\n"
     ]
    },
    {
     "name": "stderr",
     "output_type": "stream",
     "text": [
      " 31%|███       | 78/250 [06:44<14:35,  5.09s/it]"
     ]
    },
    {
     "name": "stdout",
     "output_type": "stream",
     "text": [
      "epoch 77 --> TEST loss: 0.49, TEST accuracy: 0.21\n",
      "epoch 78 --> TRAIN loss: 1.72, TRAIN accuracy: 0.32\n"
     ]
    },
    {
     "name": "stderr",
     "output_type": "stream",
     "text": [
      " 32%|███▏      | 79/250 [06:49<14:34,  5.11s/it]"
     ]
    },
    {
     "name": "stdout",
     "output_type": "stream",
     "text": [
      "epoch 78 --> TEST loss: 0.49, TEST accuracy: 0.22\n",
      "epoch 79 --> TRAIN loss: 1.72, TRAIN accuracy: 0.32\n"
     ]
    },
    {
     "name": "stderr",
     "output_type": "stream",
     "text": [
      " 32%|███▏      | 80/250 [06:55<14:33,  5.14s/it]"
     ]
    },
    {
     "name": "stdout",
     "output_type": "stream",
     "text": [
      "epoch 79 --> TEST loss: 0.49, TEST accuracy: 0.21\n",
      "epoch 80 --> TRAIN loss: 1.71, TRAIN accuracy: 0.32\n"
     ]
    },
    {
     "name": "stderr",
     "output_type": "stream",
     "text": [
      " 32%|███▏      | 81/250 [07:00<14:33,  5.17s/it]"
     ]
    },
    {
     "name": "stdout",
     "output_type": "stream",
     "text": [
      "epoch 80 --> TEST loss: 0.49, TEST accuracy: 0.22\n",
      "epoch 81 --> TRAIN loss: 1.70, TRAIN accuracy: 0.32\n"
     ]
    },
    {
     "name": "stderr",
     "output_type": "stream",
     "text": [
      " 33%|███▎      | 82/250 [07:05<14:28,  5.17s/it]"
     ]
    },
    {
     "name": "stdout",
     "output_type": "stream",
     "text": [
      "epoch 81 --> TEST loss: 0.49, TEST accuracy: 0.22\n",
      "epoch 82 --> TRAIN loss: 1.70, TRAIN accuracy: 0.33\n"
     ]
    },
    {
     "name": "stderr",
     "output_type": "stream",
     "text": [
      " 33%|███▎      | 83/250 [07:10<14:26,  5.19s/it]"
     ]
    },
    {
     "name": "stdout",
     "output_type": "stream",
     "text": [
      "epoch 82 --> TEST loss: 0.50, TEST accuracy: 0.21\n",
      "epoch 83 --> TRAIN loss: 1.70, TRAIN accuracy: 0.33\n"
     ]
    },
    {
     "name": "stderr",
     "output_type": "stream",
     "text": [
      " 34%|███▎      | 84/250 [07:15<14:18,  5.17s/it]"
     ]
    },
    {
     "name": "stdout",
     "output_type": "stream",
     "text": [
      "epoch 83 --> TEST loss: 0.49, TEST accuracy: 0.21\n",
      "epoch 84 --> TRAIN loss: 1.68, TRAIN accuracy: 0.34\n"
     ]
    },
    {
     "name": "stderr",
     "output_type": "stream",
     "text": [
      " 34%|███▍      | 85/250 [07:21<14:14,  5.18s/it]"
     ]
    },
    {
     "name": "stdout",
     "output_type": "stream",
     "text": [
      "epoch 84 --> TEST loss: 0.50, TEST accuracy: 0.22\n",
      "epoch 85 --> TRAIN loss: 1.68, TRAIN accuracy: 0.33\n"
     ]
    },
    {
     "name": "stderr",
     "output_type": "stream",
     "text": [
      " 34%|███▍      | 86/250 [07:26<14:07,  5.17s/it]"
     ]
    },
    {
     "name": "stdout",
     "output_type": "stream",
     "text": [
      "epoch 85 --> TEST loss: 0.50, TEST accuracy: 0.21\n",
      "epoch 86 --> TRAIN loss: 1.68, TRAIN accuracy: 0.33\n"
     ]
    },
    {
     "name": "stderr",
     "output_type": "stream",
     "text": [
      " 35%|███▍      | 87/250 [07:31<14:01,  5.16s/it]"
     ]
    },
    {
     "name": "stdout",
     "output_type": "stream",
     "text": [
      "epoch 86 --> TEST loss: 0.49, TEST accuracy: 0.22\n",
      "epoch 87 --> TRAIN loss: 1.67, TRAIN accuracy: 0.34\n"
     ]
    },
    {
     "name": "stderr",
     "output_type": "stream",
     "text": [
      " 35%|███▌      | 88/250 [07:36<13:55,  5.16s/it]"
     ]
    },
    {
     "name": "stdout",
     "output_type": "stream",
     "text": [
      "epoch 87 --> TEST loss: 0.50, TEST accuracy: 0.22\n",
      "epoch 88 --> TRAIN loss: 1.67, TRAIN accuracy: 0.34\n"
     ]
    },
    {
     "name": "stderr",
     "output_type": "stream",
     "text": [
      " 36%|███▌      | 89/250 [07:41<13:46,  5.13s/it]"
     ]
    },
    {
     "name": "stdout",
     "output_type": "stream",
     "text": [
      "epoch 88 --> TEST loss: 0.50, TEST accuracy: 0.22\n",
      "epoch 89 --> TRAIN loss: 1.67, TRAIN accuracy: 0.34\n"
     ]
    },
    {
     "name": "stderr",
     "output_type": "stream",
     "text": [
      " 36%|███▌      | 90/250 [07:46<13:39,  5.12s/it]"
     ]
    },
    {
     "name": "stdout",
     "output_type": "stream",
     "text": [
      "epoch 89 --> TEST loss: 0.50, TEST accuracy: 0.22\n",
      "epoch 90 --> TRAIN loss: 1.66, TRAIN accuracy: 0.34\n"
     ]
    },
    {
     "name": "stderr",
     "output_type": "stream",
     "text": [
      " 36%|███▋      | 91/250 [07:52<14:04,  5.31s/it]"
     ]
    },
    {
     "name": "stdout",
     "output_type": "stream",
     "text": [
      "epoch 90 --> TEST loss: 0.49, TEST accuracy: 0.21\n",
      "epoch 91 --> TRAIN loss: 1.65, TRAIN accuracy: 0.34\n"
     ]
    },
    {
     "name": "stderr",
     "output_type": "stream",
     "text": [
      " 37%|███▋      | 92/250 [07:57<13:58,  5.30s/it]"
     ]
    },
    {
     "name": "stdout",
     "output_type": "stream",
     "text": [
      "epoch 91 --> TEST loss: 0.50, TEST accuracy: 0.21\n",
      "epoch 92 --> TRAIN loss: 1.64, TRAIN accuracy: 0.35\n"
     ]
    },
    {
     "name": "stderr",
     "output_type": "stream",
     "text": [
      " 37%|███▋      | 93/250 [08:02<13:47,  5.27s/it]"
     ]
    },
    {
     "name": "stdout",
     "output_type": "stream",
     "text": [
      "epoch 92 --> TEST loss: 0.50, TEST accuracy: 0.22\n",
      "epoch 93 --> TRAIN loss: 1.64, TRAIN accuracy: 0.35\n"
     ]
    },
    {
     "name": "stderr",
     "output_type": "stream",
     "text": [
      " 38%|███▊      | 94/250 [08:07<13:33,  5.21s/it]"
     ]
    },
    {
     "name": "stdout",
     "output_type": "stream",
     "text": [
      "epoch 93 --> TEST loss: 0.50, TEST accuracy: 0.22\n",
      "epoch 94 --> TRAIN loss: 1.64, TRAIN accuracy: 0.35\n"
     ]
    },
    {
     "name": "stderr",
     "output_type": "stream",
     "text": [
      " 38%|███▊      | 95/250 [08:13<13:23,  5.18s/it]"
     ]
    },
    {
     "name": "stdout",
     "output_type": "stream",
     "text": [
      "epoch 94 --> TEST loss: 0.50, TEST accuracy: 0.22\n",
      "epoch 95 --> TRAIN loss: 1.63, TRAIN accuracy: 0.35\n"
     ]
    },
    {
     "name": "stderr",
     "output_type": "stream",
     "text": [
      " 38%|███▊      | 96/250 [08:18<13:17,  5.18s/it]"
     ]
    },
    {
     "name": "stdout",
     "output_type": "stream",
     "text": [
      "epoch 95 --> TEST loss: 0.50, TEST accuracy: 0.22\n",
      "epoch 96 --> TRAIN loss: 1.63, TRAIN accuracy: 0.36\n"
     ]
    },
    {
     "name": "stderr",
     "output_type": "stream",
     "text": [
      " 39%|███▉      | 97/250 [08:23<13:04,  5.13s/it]"
     ]
    },
    {
     "name": "stdout",
     "output_type": "stream",
     "text": [
      "epoch 96 --> TEST loss: 0.50, TEST accuracy: 0.22\n",
      "epoch 97 --> TRAIN loss: 1.63, TRAIN accuracy: 0.35\n"
     ]
    },
    {
     "name": "stderr",
     "output_type": "stream",
     "text": [
      " 39%|███▉      | 98/250 [08:28<13:03,  5.15s/it]"
     ]
    },
    {
     "name": "stdout",
     "output_type": "stream",
     "text": [
      "epoch 97 --> TEST loss: 0.50, TEST accuracy: 0.22\n",
      "epoch 98 --> TRAIN loss: 1.62, TRAIN accuracy: 0.36\n"
     ]
    },
    {
     "name": "stderr",
     "output_type": "stream",
     "text": [
      " 40%|███▉      | 99/250 [08:33<13:00,  5.17s/it]"
     ]
    },
    {
     "name": "stdout",
     "output_type": "stream",
     "text": [
      "epoch 98 --> TEST loss: 0.50, TEST accuracy: 0.21\n",
      "epoch 99 --> TRAIN loss: 1.62, TRAIN accuracy: 0.36\n"
     ]
    },
    {
     "name": "stderr",
     "output_type": "stream",
     "text": [
      " 40%|████      | 100/250 [08:38<12:58,  5.19s/it]"
     ]
    },
    {
     "name": "stdout",
     "output_type": "stream",
     "text": [
      "epoch 99 --> TEST loss: 0.50, TEST accuracy: 0.21\n",
      "epoch 100 --> TRAIN loss: 1.60, TRAIN accuracy: 0.37\n"
     ]
    },
    {
     "name": "stderr",
     "output_type": "stream",
     "text": [
      " 40%|████      | 101/250 [08:44<12:53,  5.19s/it]"
     ]
    },
    {
     "name": "stdout",
     "output_type": "stream",
     "text": [
      "epoch 100 --> TEST loss: 0.50, TEST accuracy: 0.21\n",
      "epoch 101 --> TRAIN loss: 1.61, TRAIN accuracy: 0.37\n"
     ]
    },
    {
     "name": "stderr",
     "output_type": "stream",
     "text": [
      " 41%|████      | 102/250 [08:49<12:44,  5.16s/it]"
     ]
    },
    {
     "name": "stdout",
     "output_type": "stream",
     "text": [
      "epoch 101 --> TEST loss: 0.51, TEST accuracy: 0.22\n",
      "epoch 102 --> TRAIN loss: 1.60, TRAIN accuracy: 0.37\n"
     ]
    },
    {
     "name": "stderr",
     "output_type": "stream",
     "text": [
      " 41%|████      | 103/250 [08:54<12:39,  5.17s/it]"
     ]
    },
    {
     "name": "stdout",
     "output_type": "stream",
     "text": [
      "epoch 102 --> TEST loss: 0.51, TEST accuracy: 0.22\n",
      "epoch 103 --> TRAIN loss: 1.59, TRAIN accuracy: 0.37\n"
     ]
    },
    {
     "name": "stderr",
     "output_type": "stream",
     "text": [
      " 42%|████▏     | 104/250 [08:59<12:37,  5.19s/it]"
     ]
    },
    {
     "name": "stdout",
     "output_type": "stream",
     "text": [
      "epoch 103 --> TEST loss: 0.51, TEST accuracy: 0.21\n",
      "epoch 104 --> TRAIN loss: 1.59, TRAIN accuracy: 0.37\n"
     ]
    },
    {
     "name": "stderr",
     "output_type": "stream",
     "text": [
      " 42%|████▏     | 105/250 [09:04<12:27,  5.15s/it]"
     ]
    },
    {
     "name": "stdout",
     "output_type": "stream",
     "text": [
      "epoch 104 --> TEST loss: 0.51, TEST accuracy: 0.21\n",
      "epoch 105 --> TRAIN loss: 1.59, TRAIN accuracy: 0.37\n"
     ]
    },
    {
     "name": "stderr",
     "output_type": "stream",
     "text": [
      " 42%|████▏     | 106/250 [09:09<12:19,  5.14s/it]"
     ]
    },
    {
     "name": "stdout",
     "output_type": "stream",
     "text": [
      "epoch 105 --> TEST loss: 0.51, TEST accuracy: 0.21\n",
      "epoch 106 --> TRAIN loss: 1.58, TRAIN accuracy: 0.37\n"
     ]
    },
    {
     "name": "stderr",
     "output_type": "stream",
     "text": [
      " 43%|████▎     | 107/250 [09:14<12:10,  5.11s/it]"
     ]
    },
    {
     "name": "stdout",
     "output_type": "stream",
     "text": [
      "epoch 106 --> TEST loss: 0.52, TEST accuracy: 0.22\n",
      "epoch 107 --> TRAIN loss: 1.57, TRAIN accuracy: 0.38\n"
     ]
    },
    {
     "name": "stderr",
     "output_type": "stream",
     "text": [
      " 43%|████▎     | 108/250 [09:19<12:03,  5.09s/it]"
     ]
    },
    {
     "name": "stdout",
     "output_type": "stream",
     "text": [
      "epoch 107 --> TEST loss: 0.51, TEST accuracy: 0.21\n",
      "epoch 108 --> TRAIN loss: 1.58, TRAIN accuracy: 0.37\n"
     ]
    },
    {
     "name": "stderr",
     "output_type": "stream",
     "text": [
      " 44%|████▎     | 109/250 [09:25<12:02,  5.12s/it]"
     ]
    },
    {
     "name": "stdout",
     "output_type": "stream",
     "text": [
      "epoch 108 --> TEST loss: 0.51, TEST accuracy: 0.21\n",
      "epoch 109 --> TRAIN loss: 1.58, TRAIN accuracy: 0.37\n"
     ]
    },
    {
     "name": "stderr",
     "output_type": "stream",
     "text": [
      " 44%|████▍     | 110/250 [09:30<12:04,  5.17s/it]"
     ]
    },
    {
     "name": "stdout",
     "output_type": "stream",
     "text": [
      "epoch 109 --> TEST loss: 0.51, TEST accuracy: 0.22\n",
      "epoch 110 --> TRAIN loss: 1.58, TRAIN accuracy: 0.37\n"
     ]
    },
    {
     "name": "stderr",
     "output_type": "stream",
     "text": [
      " 44%|████▍     | 111/250 [09:35<11:58,  5.17s/it]"
     ]
    },
    {
     "name": "stdout",
     "output_type": "stream",
     "text": [
      "epoch 110 --> TEST loss: 0.51, TEST accuracy: 0.21\n",
      "epoch 111 --> TRAIN loss: 1.56, TRAIN accuracy: 0.38\n"
     ]
    },
    {
     "name": "stderr",
     "output_type": "stream",
     "text": [
      " 45%|████▍     | 112/250 [09:40<11:49,  5.14s/it]"
     ]
    },
    {
     "name": "stdout",
     "output_type": "stream",
     "text": [
      "epoch 111 --> TEST loss: 0.51, TEST accuracy: 0.22\n",
      "epoch 112 --> TRAIN loss: 1.56, TRAIN accuracy: 0.38\n"
     ]
    },
    {
     "name": "stderr",
     "output_type": "stream",
     "text": [
      " 45%|████▌     | 113/250 [09:45<11:40,  5.11s/it]"
     ]
    },
    {
     "name": "stdout",
     "output_type": "stream",
     "text": [
      "epoch 112 --> TEST loss: 0.51, TEST accuracy: 0.22\n",
      "epoch 113 --> TRAIN loss: 1.56, TRAIN accuracy: 0.38\n"
     ]
    },
    {
     "name": "stderr",
     "output_type": "stream",
     "text": [
      " 46%|████▌     | 114/250 [09:50<11:33,  5.10s/it]"
     ]
    },
    {
     "name": "stdout",
     "output_type": "stream",
     "text": [
      "epoch 113 --> TEST loss: 0.52, TEST accuracy: 0.21\n",
      "epoch 114 --> TRAIN loss: 1.55, TRAIN accuracy: 0.38\n"
     ]
    },
    {
     "name": "stderr",
     "output_type": "stream",
     "text": [
      " 46%|████▌     | 115/250 [09:55<11:28,  5.10s/it]"
     ]
    },
    {
     "name": "stdout",
     "output_type": "stream",
     "text": [
      "epoch 114 --> TEST loss: 0.52, TEST accuracy: 0.22\n",
      "epoch 115 --> TRAIN loss: 1.54, TRAIN accuracy: 0.39\n"
     ]
    },
    {
     "name": "stderr",
     "output_type": "stream",
     "text": [
      " 46%|████▋     | 116/250 [10:00<11:23,  5.10s/it]"
     ]
    },
    {
     "name": "stdout",
     "output_type": "stream",
     "text": [
      "epoch 115 --> TEST loss: 0.52, TEST accuracy: 0.21\n",
      "epoch 116 --> TRAIN loss: 1.55, TRAIN accuracy: 0.38\n"
     ]
    },
    {
     "name": "stderr",
     "output_type": "stream",
     "text": [
      " 47%|████▋     | 117/250 [10:06<11:18,  5.10s/it]"
     ]
    },
    {
     "name": "stdout",
     "output_type": "stream",
     "text": [
      "epoch 116 --> TEST loss: 0.52, TEST accuracy: 0.21\n",
      "epoch 117 --> TRAIN loss: 1.54, TRAIN accuracy: 0.38\n"
     ]
    },
    {
     "name": "stderr",
     "output_type": "stream",
     "text": [
      " 47%|████▋     | 118/250 [10:11<11:17,  5.13s/it]"
     ]
    },
    {
     "name": "stdout",
     "output_type": "stream",
     "text": [
      "epoch 117 --> TEST loss: 0.52, TEST accuracy: 0.21\n",
      "epoch 118 --> TRAIN loss: 1.53, TRAIN accuracy: 0.39\n"
     ]
    },
    {
     "name": "stderr",
     "output_type": "stream",
     "text": [
      " 48%|████▊     | 119/250 [10:16<11:11,  5.13s/it]"
     ]
    },
    {
     "name": "stdout",
     "output_type": "stream",
     "text": [
      "epoch 118 --> TEST loss: 0.52, TEST accuracy: 0.21\n",
      "epoch 119 --> TRAIN loss: 1.54, TRAIN accuracy: 0.38\n"
     ]
    },
    {
     "name": "stderr",
     "output_type": "stream",
     "text": [
      " 48%|████▊     | 120/250 [10:21<11:05,  5.12s/it]"
     ]
    },
    {
     "name": "stdout",
     "output_type": "stream",
     "text": [
      "epoch 119 --> TEST loss: 0.53, TEST accuracy: 0.21\n",
      "epoch 120 --> TRAIN loss: 1.53, TRAIN accuracy: 0.39\n"
     ]
    },
    {
     "name": "stderr",
     "output_type": "stream",
     "text": [
      " 48%|████▊     | 121/250 [10:27<11:22,  5.29s/it]"
     ]
    },
    {
     "name": "stdout",
     "output_type": "stream",
     "text": [
      "epoch 120 --> TEST loss: 0.53, TEST accuracy: 0.22\n",
      "epoch 121 --> TRAIN loss: 1.53, TRAIN accuracy: 0.39\n"
     ]
    },
    {
     "name": "stderr",
     "output_type": "stream",
     "text": [
      " 49%|████▉     | 122/250 [10:32<11:31,  5.40s/it]"
     ]
    },
    {
     "name": "stdout",
     "output_type": "stream",
     "text": [
      "epoch 121 --> TEST loss: 0.53, TEST accuracy: 0.21\n",
      "epoch 122 --> TRAIN loss: 1.52, TRAIN accuracy: 0.39\n"
     ]
    },
    {
     "name": "stderr",
     "output_type": "stream",
     "text": [
      " 49%|████▉     | 123/250 [10:38<11:35,  5.48s/it]"
     ]
    },
    {
     "name": "stdout",
     "output_type": "stream",
     "text": [
      "epoch 122 --> TEST loss: 0.54, TEST accuracy: 0.21\n",
      "epoch 123 --> TRAIN loss: 1.52, TRAIN accuracy: 0.39\n"
     ]
    },
    {
     "name": "stderr",
     "output_type": "stream",
     "text": [
      " 50%|████▉     | 124/250 [10:44<11:37,  5.54s/it]"
     ]
    },
    {
     "name": "stdout",
     "output_type": "stream",
     "text": [
      "epoch 123 --> TEST loss: 0.53, TEST accuracy: 0.21\n",
      "epoch 124 --> TRAIN loss: 1.51, TRAIN accuracy: 0.39\n"
     ]
    },
    {
     "name": "stderr",
     "output_type": "stream",
     "text": [
      " 50%|█████     | 125/250 [10:49<11:39,  5.59s/it]"
     ]
    },
    {
     "name": "stdout",
     "output_type": "stream",
     "text": [
      "epoch 124 --> TEST loss: 0.53, TEST accuracy: 0.21\n",
      "epoch 125 --> TRAIN loss: 1.51, TRAIN accuracy: 0.40\n"
     ]
    },
    {
     "name": "stderr",
     "output_type": "stream",
     "text": [
      " 50%|█████     | 126/250 [10:55<11:49,  5.72s/it]"
     ]
    },
    {
     "name": "stdout",
     "output_type": "stream",
     "text": [
      "epoch 125 --> TEST loss: 0.53, TEST accuracy: 0.21\n",
      "epoch 126 --> TRAIN loss: 1.51, TRAIN accuracy: 0.40\n"
     ]
    },
    {
     "name": "stderr",
     "output_type": "stream",
     "text": [
      " 51%|█████     | 127/250 [11:01<11:46,  5.74s/it]"
     ]
    },
    {
     "name": "stdout",
     "output_type": "stream",
     "text": [
      "epoch 126 --> TEST loss: 0.53, TEST accuracy: 0.21\n",
      "epoch 127 --> TRAIN loss: 1.50, TRAIN accuracy: 0.40\n"
     ]
    },
    {
     "name": "stderr",
     "output_type": "stream",
     "text": [
      " 51%|█████     | 128/250 [11:07<11:38,  5.72s/it]"
     ]
    },
    {
     "name": "stdout",
     "output_type": "stream",
     "text": [
      "epoch 127 --> TEST loss: 0.53, TEST accuracy: 0.22\n",
      "epoch 128 --> TRAIN loss: 1.52, TRAIN accuracy: 0.39\n"
     ]
    },
    {
     "name": "stderr",
     "output_type": "stream",
     "text": [
      " 52%|█████▏    | 129/250 [11:13<11:31,  5.71s/it]"
     ]
    },
    {
     "name": "stdout",
     "output_type": "stream",
     "text": [
      "epoch 128 --> TEST loss: 0.54, TEST accuracy: 0.21\n",
      "epoch 129 --> TRAIN loss: 1.50, TRAIN accuracy: 0.40\n"
     ]
    },
    {
     "name": "stderr",
     "output_type": "stream",
     "text": [
      " 52%|█████▏    | 130/250 [11:19<11:35,  5.79s/it]"
     ]
    },
    {
     "name": "stdout",
     "output_type": "stream",
     "text": [
      "epoch 129 --> TEST loss: 0.54, TEST accuracy: 0.21\n",
      "epoch 130 --> TRAIN loss: 1.50, TRAIN accuracy: 0.40\n"
     ]
    },
    {
     "name": "stderr",
     "output_type": "stream",
     "text": [
      " 52%|█████▏    | 131/250 [11:24<11:24,  5.75s/it]"
     ]
    },
    {
     "name": "stdout",
     "output_type": "stream",
     "text": [
      "epoch 130 --> TEST loss: 0.54, TEST accuracy: 0.21\n",
      "epoch 131 --> TRAIN loss: 1.49, TRAIN accuracy: 0.40\n"
     ]
    },
    {
     "name": "stderr",
     "output_type": "stream",
     "text": [
      " 53%|█████▎    | 132/250 [11:30<11:15,  5.73s/it]"
     ]
    },
    {
     "name": "stdout",
     "output_type": "stream",
     "text": [
      "epoch 131 --> TEST loss: 0.54, TEST accuracy: 0.21\n",
      "epoch 132 --> TRAIN loss: 1.49, TRAIN accuracy: 0.41\n"
     ]
    },
    {
     "name": "stderr",
     "output_type": "stream",
     "text": [
      " 53%|█████▎    | 133/250 [11:36<11:07,  5.71s/it]"
     ]
    },
    {
     "name": "stdout",
     "output_type": "stream",
     "text": [
      "epoch 132 --> TEST loss: 0.54, TEST accuracy: 0.21\n",
      "epoch 133 --> TRAIN loss: 1.49, TRAIN accuracy: 0.40\n"
     ]
    },
    {
     "name": "stderr",
     "output_type": "stream",
     "text": [
      " 54%|█████▎    | 134/250 [11:41<11:01,  5.70s/it]"
     ]
    },
    {
     "name": "stdout",
     "output_type": "stream",
     "text": [
      "epoch 133 --> TEST loss: 0.55, TEST accuracy: 0.21\n",
      "epoch 134 --> TRAIN loss: 1.48, TRAIN accuracy: 0.41\n"
     ]
    },
    {
     "name": "stderr",
     "output_type": "stream",
     "text": [
      " 54%|█████▍    | 135/250 [11:47<10:51,  5.67s/it]"
     ]
    },
    {
     "name": "stdout",
     "output_type": "stream",
     "text": [
      "epoch 134 --> TEST loss: 0.54, TEST accuracy: 0.21\n",
      "epoch 135 --> TRAIN loss: 1.49, TRAIN accuracy: 0.40\n"
     ]
    },
    {
     "name": "stderr",
     "output_type": "stream",
     "text": [
      " 54%|█████▍    | 136/250 [11:52<10:43,  5.65s/it]"
     ]
    },
    {
     "name": "stdout",
     "output_type": "stream",
     "text": [
      "epoch 135 --> TEST loss: 0.54, TEST accuracy: 0.21\n",
      "epoch 136 --> TRAIN loss: 1.48, TRAIN accuracy: 0.40\n"
     ]
    },
    {
     "name": "stderr",
     "output_type": "stream",
     "text": [
      " 55%|█████▍    | 137/250 [11:58<10:42,  5.69s/it]"
     ]
    },
    {
     "name": "stdout",
     "output_type": "stream",
     "text": [
      "epoch 136 --> TEST loss: 0.55, TEST accuracy: 0.21\n",
      "epoch 137 --> TRAIN loss: 1.48, TRAIN accuracy: 0.41\n"
     ]
    },
    {
     "name": "stderr",
     "output_type": "stream",
     "text": [
      " 55%|█████▌    | 138/250 [12:04<10:50,  5.81s/it]"
     ]
    },
    {
     "name": "stdout",
     "output_type": "stream",
     "text": [
      "epoch 137 --> TEST loss: 0.54, TEST accuracy: 0.21\n",
      "epoch 138 --> TRAIN loss: 1.48, TRAIN accuracy: 0.40\n"
     ]
    },
    {
     "name": "stderr",
     "output_type": "stream",
     "text": [
      " 56%|█████▌    | 139/250 [12:10<10:39,  5.76s/it]"
     ]
    },
    {
     "name": "stdout",
     "output_type": "stream",
     "text": [
      "epoch 138 --> TEST loss: 0.55, TEST accuracy: 0.21\n",
      "epoch 139 --> TRAIN loss: 1.47, TRAIN accuracy: 0.41\n"
     ]
    },
    {
     "name": "stderr",
     "output_type": "stream",
     "text": [
      " 56%|█████▌    | 140/250 [12:16<10:29,  5.73s/it]"
     ]
    },
    {
     "name": "stdout",
     "output_type": "stream",
     "text": [
      "epoch 139 --> TEST loss: 0.57, TEST accuracy: 0.21\n",
      "epoch 140 --> TRAIN loss: 1.48, TRAIN accuracy: 0.41\n"
     ]
    },
    {
     "name": "stderr",
     "output_type": "stream",
     "text": [
      " 56%|█████▋    | 141/250 [12:21<10:19,  5.68s/it]"
     ]
    },
    {
     "name": "stdout",
     "output_type": "stream",
     "text": [
      "epoch 140 --> TEST loss: 0.56, TEST accuracy: 0.21\n",
      "epoch 141 --> TRAIN loss: 1.47, TRAIN accuracy: 0.41\n"
     ]
    },
    {
     "name": "stderr",
     "output_type": "stream",
     "text": [
      " 57%|█████▋    | 142/250 [12:27<10:12,  5.67s/it]"
     ]
    },
    {
     "name": "stdout",
     "output_type": "stream",
     "text": [
      "epoch 141 --> TEST loss: 0.55, TEST accuracy: 0.21\n",
      "epoch 142 --> TRAIN loss: 1.47, TRAIN accuracy: 0.41\n"
     ]
    },
    {
     "name": "stderr",
     "output_type": "stream",
     "text": [
      " 57%|█████▋    | 143/250 [12:33<10:12,  5.73s/it]"
     ]
    },
    {
     "name": "stdout",
     "output_type": "stream",
     "text": [
      "epoch 142 --> TEST loss: 0.54, TEST accuracy: 0.21\n",
      "epoch 143 --> TRAIN loss: 1.46, TRAIN accuracy: 0.42\n"
     ]
    },
    {
     "name": "stderr",
     "output_type": "stream",
     "text": [
      " 58%|█████▊    | 144/250 [12:39<10:11,  5.77s/it]"
     ]
    },
    {
     "name": "stdout",
     "output_type": "stream",
     "text": [
      "epoch 143 --> TEST loss: 0.56, TEST accuracy: 0.21\n",
      "epoch 144 --> TRAIN loss: 1.46, TRAIN accuracy: 0.42\n"
     ]
    },
    {
     "name": "stderr",
     "output_type": "stream",
     "text": [
      " 58%|█████▊    | 145/250 [12:44<10:05,  5.76s/it]"
     ]
    },
    {
     "name": "stdout",
     "output_type": "stream",
     "text": [
      "epoch 144 --> TEST loss: 0.56, TEST accuracy: 0.21\n",
      "epoch 145 --> TRAIN loss: 1.45, TRAIN accuracy: 0.41\n"
     ]
    },
    {
     "name": "stderr",
     "output_type": "stream",
     "text": [
      " 58%|█████▊    | 146/250 [12:50<10:01,  5.79s/it]"
     ]
    },
    {
     "name": "stdout",
     "output_type": "stream",
     "text": [
      "epoch 145 --> TEST loss: 0.56, TEST accuracy: 0.21\n",
      "epoch 146 --> TRAIN loss: 1.45, TRAIN accuracy: 0.42\n"
     ]
    },
    {
     "name": "stderr",
     "output_type": "stream",
     "text": [
      " 59%|█████▉    | 147/250 [12:56<10:01,  5.84s/it]"
     ]
    },
    {
     "name": "stdout",
     "output_type": "stream",
     "text": [
      "epoch 146 --> TEST loss: 0.55, TEST accuracy: 0.21\n",
      "epoch 147 --> TRAIN loss: 1.46, TRAIN accuracy: 0.41\n"
     ]
    },
    {
     "name": "stderr",
     "output_type": "stream",
     "text": [
      " 59%|█████▉    | 148/250 [13:02<10:10,  5.99s/it]"
     ]
    },
    {
     "name": "stdout",
     "output_type": "stream",
     "text": [
      "epoch 147 --> TEST loss: 0.55, TEST accuracy: 0.21\n",
      "epoch 148 --> TRAIN loss: 1.45, TRAIN accuracy: 0.42\n"
     ]
    },
    {
     "name": "stderr",
     "output_type": "stream",
     "text": [
      " 60%|█████▉    | 149/250 [13:09<10:07,  6.01s/it]"
     ]
    },
    {
     "name": "stdout",
     "output_type": "stream",
     "text": [
      "epoch 148 --> TEST loss: 0.56, TEST accuracy: 0.21\n",
      "epoch 149 --> TRAIN loss: 1.45, TRAIN accuracy: 0.42\n"
     ]
    },
    {
     "name": "stderr",
     "output_type": "stream",
     "text": [
      " 60%|██████    | 150/250 [13:14<09:48,  5.89s/it]"
     ]
    },
    {
     "name": "stdout",
     "output_type": "stream",
     "text": [
      "epoch 149 --> TEST loss: 0.57, TEST accuracy: 0.21\n",
      "epoch 150 --> TRAIN loss: 1.44, TRAIN accuracy: 0.42\n"
     ]
    },
    {
     "name": "stderr",
     "output_type": "stream",
     "text": [
      " 60%|██████    | 151/250 [13:20<09:52,  5.99s/it]"
     ]
    },
    {
     "name": "stdout",
     "output_type": "stream",
     "text": [
      "epoch 150 --> TEST loss: 0.56, TEST accuracy: 0.21\n",
      "epoch 151 --> TRAIN loss: 1.45, TRAIN accuracy: 0.42\n"
     ]
    },
    {
     "name": "stderr",
     "output_type": "stream",
     "text": [
      " 61%|██████    | 152/250 [13:26<09:51,  6.03s/it]"
     ]
    },
    {
     "name": "stdout",
     "output_type": "stream",
     "text": [
      "epoch 151 --> TEST loss: 0.57, TEST accuracy: 0.21\n",
      "epoch 152 --> TRAIN loss: 1.45, TRAIN accuracy: 0.42\n"
     ]
    },
    {
     "name": "stderr",
     "output_type": "stream",
     "text": [
      " 61%|██████    | 153/250 [13:32<09:44,  6.03s/it]"
     ]
    },
    {
     "name": "stdout",
     "output_type": "stream",
     "text": [
      "epoch 152 --> TEST loss: 0.56, TEST accuracy: 0.21\n",
      "epoch 153 --> TRAIN loss: 1.43, TRAIN accuracy: 0.43\n"
     ]
    },
    {
     "name": "stderr",
     "output_type": "stream",
     "text": [
      " 62%|██████▏   | 154/250 [13:38<09:30,  5.94s/it]"
     ]
    },
    {
     "name": "stdout",
     "output_type": "stream",
     "text": [
      "epoch 153 --> TEST loss: 0.57, TEST accuracy: 0.21\n",
      "epoch 154 --> TRAIN loss: 1.43, TRAIN accuracy: 0.42\n"
     ]
    },
    {
     "name": "stderr",
     "output_type": "stream",
     "text": [
      " 62%|██████▏   | 155/250 [13:44<09:19,  5.88s/it]"
     ]
    },
    {
     "name": "stdout",
     "output_type": "stream",
     "text": [
      "epoch 154 --> TEST loss: 0.56, TEST accuracy: 0.21\n",
      "epoch 155 --> TRAIN loss: 1.44, TRAIN accuracy: 0.42\n"
     ]
    },
    {
     "name": "stderr",
     "output_type": "stream",
     "text": [
      " 62%|██████▏   | 156/250 [13:50<09:15,  5.91s/it]"
     ]
    },
    {
     "name": "stdout",
     "output_type": "stream",
     "text": [
      "epoch 155 --> TEST loss: 0.55, TEST accuracy: 0.21\n",
      "epoch 156 --> TRAIN loss: 1.43, TRAIN accuracy: 0.42\n"
     ]
    },
    {
     "name": "stderr",
     "output_type": "stream",
     "text": [
      " 63%|██████▎   | 157/250 [13:56<09:05,  5.86s/it]"
     ]
    },
    {
     "name": "stdout",
     "output_type": "stream",
     "text": [
      "epoch 156 --> TEST loss: 0.57, TEST accuracy: 0.21\n",
      "epoch 157 --> TRAIN loss: 1.42, TRAIN accuracy: 0.43\n"
     ]
    },
    {
     "name": "stderr",
     "output_type": "stream",
     "text": [
      " 63%|██████▎   | 158/250 [14:01<08:57,  5.84s/it]"
     ]
    },
    {
     "name": "stdout",
     "output_type": "stream",
     "text": [
      "epoch 157 --> TEST loss: 0.57, TEST accuracy: 0.21\n",
      "epoch 158 --> TRAIN loss: 1.43, TRAIN accuracy: 0.42\n"
     ]
    },
    {
     "name": "stderr",
     "output_type": "stream",
     "text": [
      " 64%|██████▎   | 159/250 [14:08<09:01,  5.95s/it]"
     ]
    },
    {
     "name": "stdout",
     "output_type": "stream",
     "text": [
      "epoch 158 --> TEST loss: 0.57, TEST accuracy: 0.21\n",
      "epoch 159 --> TRAIN loss: 1.43, TRAIN accuracy: 0.42\n"
     ]
    },
    {
     "name": "stderr",
     "output_type": "stream",
     "text": [
      " 64%|██████▍   | 160/250 [14:14<08:54,  5.94s/it]"
     ]
    },
    {
     "name": "stdout",
     "output_type": "stream",
     "text": [
      "epoch 159 --> TEST loss: 0.56, TEST accuracy: 0.21\n",
      "epoch 160 --> TRAIN loss: 1.43, TRAIN accuracy: 0.43\n"
     ]
    },
    {
     "name": "stderr",
     "output_type": "stream",
     "text": [
      " 64%|██████▍   | 161/250 [14:19<08:42,  5.87s/it]"
     ]
    },
    {
     "name": "stdout",
     "output_type": "stream",
     "text": [
      "epoch 160 --> TEST loss: 0.58, TEST accuracy: 0.21\n",
      "epoch 161 --> TRAIN loss: 1.42, TRAIN accuracy: 0.43\n"
     ]
    },
    {
     "name": "stderr",
     "output_type": "stream",
     "text": [
      " 65%|██████▍   | 162/250 [14:25<08:29,  5.79s/it]"
     ]
    },
    {
     "name": "stdout",
     "output_type": "stream",
     "text": [
      "epoch 161 --> TEST loss: 0.58, TEST accuracy: 0.21\n",
      "epoch 162 --> TRAIN loss: 1.42, TRAIN accuracy: 0.43\n"
     ]
    },
    {
     "name": "stderr",
     "output_type": "stream",
     "text": [
      " 65%|██████▌   | 163/250 [14:31<08:20,  5.75s/it]"
     ]
    },
    {
     "name": "stdout",
     "output_type": "stream",
     "text": [
      "epoch 162 --> TEST loss: 0.56, TEST accuracy: 0.21\n",
      "epoch 163 --> TRAIN loss: 1.41, TRAIN accuracy: 0.43\n"
     ]
    },
    {
     "name": "stderr",
     "output_type": "stream",
     "text": [
      " 66%|██████▌   | 164/250 [14:36<08:18,  5.80s/it]"
     ]
    },
    {
     "name": "stdout",
     "output_type": "stream",
     "text": [
      "epoch 163 --> TEST loss: 0.58, TEST accuracy: 0.21\n",
      "epoch 164 --> TRAIN loss: 1.42, TRAIN accuracy: 0.43\n"
     ]
    },
    {
     "name": "stderr",
     "output_type": "stream",
     "text": [
      " 66%|██████▌   | 165/250 [14:42<08:12,  5.79s/it]"
     ]
    },
    {
     "name": "stdout",
     "output_type": "stream",
     "text": [
      "epoch 164 --> TEST loss: 0.57, TEST accuracy: 0.21\n",
      "epoch 165 --> TRAIN loss: 1.41, TRAIN accuracy: 0.43\n"
     ]
    },
    {
     "name": "stderr",
     "output_type": "stream",
     "text": [
      " 66%|██████▋   | 166/250 [14:48<08:06,  5.80s/it]"
     ]
    },
    {
     "name": "stdout",
     "output_type": "stream",
     "text": [
      "epoch 165 --> TEST loss: 0.57, TEST accuracy: 0.21\n",
      "epoch 166 --> TRAIN loss: 1.41, TRAIN accuracy: 0.43\n"
     ]
    },
    {
     "name": "stderr",
     "output_type": "stream",
     "text": [
      " 67%|██████▋   | 167/250 [14:53<07:44,  5.59s/it]"
     ]
    },
    {
     "name": "stdout",
     "output_type": "stream",
     "text": [
      "epoch 166 --> TEST loss: 0.58, TEST accuracy: 0.21\n",
      "epoch 167 --> TRAIN loss: 1.40, TRAIN accuracy: 0.43\n"
     ]
    },
    {
     "name": "stderr",
     "output_type": "stream",
     "text": [
      " 67%|██████▋   | 168/250 [14:58<07:25,  5.43s/it]"
     ]
    },
    {
     "name": "stdout",
     "output_type": "stream",
     "text": [
      "epoch 167 --> TEST loss: 0.58, TEST accuracy: 0.21\n",
      "epoch 168 --> TRAIN loss: 1.41, TRAIN accuracy: 0.43\n"
     ]
    },
    {
     "name": "stderr",
     "output_type": "stream",
     "text": [
      " 68%|██████▊   | 169/250 [15:03<07:14,  5.36s/it]"
     ]
    },
    {
     "name": "stdout",
     "output_type": "stream",
     "text": [
      "epoch 168 --> TEST loss: 0.57, TEST accuracy: 0.21\n",
      "epoch 169 --> TRAIN loss: 1.41, TRAIN accuracy: 0.43\n"
     ]
    },
    {
     "name": "stderr",
     "output_type": "stream",
     "text": [
      " 68%|██████▊   | 170/250 [15:09<07:03,  5.29s/it]"
     ]
    },
    {
     "name": "stdout",
     "output_type": "stream",
     "text": [
      "epoch 169 --> TEST loss: 0.56, TEST accuracy: 0.21\n"
     ]
    },
    {
     "name": "stderr",
     "output_type": "stream",
     "text": [
      " 68%|██████▊   | 170/250 [15:13<07:09,  5.37s/it]\n"
     ]
    },
    {
     "ename": "KeyboardInterrupt",
     "evalue": "",
     "output_type": "error",
     "traceback": [
      "\u001b[31m---------------------------------------------------------------------------\u001b[39m",
      "\u001b[31mKeyboardInterrupt\u001b[39m                         Traceback (most recent call last)",
      "\u001b[36mCell\u001b[39m\u001b[36m \u001b[39m\u001b[32mIn[8]\u001b[39m\u001b[32m, line 2\u001b[39m\n\u001b[32m      1\u001b[39m net=Net()\n\u001b[32m----> \u001b[39m\u001b[32m2\u001b[39m train_loss,train_acc,test_loss,test_acc=\u001b[43mtrain_test\u001b[49m\u001b[43m(\u001b[49m\u001b[43mnet\u001b[49m\u001b[43m,\u001b[49m\u001b[32;43m250\u001b[39;49m\u001b[43m,\u001b[49m\u001b[43mtrain_loader\u001b[49m\u001b[43m=\u001b[49m\u001b[43mtrain_loader\u001b[49m\u001b[43m,\u001b[49m\u001b[43mtest_loader\u001b[49m\u001b[43m=\u001b[49m\u001b[43mtest_loader\u001b[49m\u001b[43m,\u001b[49m\u001b[43mdevice\u001b[49m\u001b[43m=\u001b[49m\u001b[43mDEVICE\u001b[49m\u001b[43m)\u001b[49m\n",
      "\u001b[36mCell\u001b[39m\u001b[36m \u001b[39m\u001b[32mIn[7]\u001b[39m\u001b[32m, line 66\u001b[39m, in \u001b[36mtrain_test\u001b[39m\u001b[34m(net, epochs, train_loader, test_loader, device)\u001b[39m\n\u001b[32m     64\u001b[39m outputs=net.forward(inputs)\n\u001b[32m     65\u001b[39m loss=criterion(outputs,labels)\n\u001b[32m---> \u001b[39m\u001b[32m66\u001b[39m \u001b[43mloss\u001b[49m\u001b[43m.\u001b[49m\u001b[43mbackward\u001b[49m\u001b[43m(\u001b[49m\u001b[43m)\u001b[49m\n\u001b[32m     67\u001b[39m optimizer.step()\n\u001b[32m     69\u001b[39m running_loss+=loss.item()\n",
      "\u001b[36mFile \u001b[39m\u001b[32mc:\\Users\\malco\\Documents\\cmn-templates\\sandbox\\.venv\\Lib\\site-packages\\torch\\_tensor.py:648\u001b[39m, in \u001b[36mTensor.backward\u001b[39m\u001b[34m(self, gradient, retain_graph, create_graph, inputs)\u001b[39m\n\u001b[32m    638\u001b[39m \u001b[38;5;28;01mif\u001b[39;00m has_torch_function_unary(\u001b[38;5;28mself\u001b[39m):\n\u001b[32m    639\u001b[39m     \u001b[38;5;28;01mreturn\u001b[39;00m handle_torch_function(\n\u001b[32m    640\u001b[39m         Tensor.backward,\n\u001b[32m    641\u001b[39m         (\u001b[38;5;28mself\u001b[39m,),\n\u001b[32m   (...)\u001b[39m\u001b[32m    646\u001b[39m         inputs=inputs,\n\u001b[32m    647\u001b[39m     )\n\u001b[32m--> \u001b[39m\u001b[32m648\u001b[39m \u001b[43mtorch\u001b[49m\u001b[43m.\u001b[49m\u001b[43mautograd\u001b[49m\u001b[43m.\u001b[49m\u001b[43mbackward\u001b[49m\u001b[43m(\u001b[49m\n\u001b[32m    649\u001b[39m \u001b[43m    \u001b[49m\u001b[38;5;28;43mself\u001b[39;49m\u001b[43m,\u001b[49m\u001b[43m \u001b[49m\u001b[43mgradient\u001b[49m\u001b[43m,\u001b[49m\u001b[43m \u001b[49m\u001b[43mretain_graph\u001b[49m\u001b[43m,\u001b[49m\u001b[43m \u001b[49m\u001b[43mcreate_graph\u001b[49m\u001b[43m,\u001b[49m\u001b[43m \u001b[49m\u001b[43minputs\u001b[49m\u001b[43m=\u001b[49m\u001b[43minputs\u001b[49m\n\u001b[32m    650\u001b[39m \u001b[43m\u001b[49m\u001b[43m)\u001b[49m\n",
      "\u001b[36mFile \u001b[39m\u001b[32mc:\\Users\\malco\\Documents\\cmn-templates\\sandbox\\.venv\\Lib\\site-packages\\torch\\autograd\\__init__.py:353\u001b[39m, in \u001b[36mbackward\u001b[39m\u001b[34m(tensors, grad_tensors, retain_graph, create_graph, grad_variables, inputs)\u001b[39m\n\u001b[32m    348\u001b[39m     retain_graph = create_graph\n\u001b[32m    350\u001b[39m \u001b[38;5;66;03m# The reason we repeat the same comment below is that\u001b[39;00m\n\u001b[32m    351\u001b[39m \u001b[38;5;66;03m# some Python versions print out the first line of a multi-line function\u001b[39;00m\n\u001b[32m    352\u001b[39m \u001b[38;5;66;03m# calls in the traceback and some print out the last line\u001b[39;00m\n\u001b[32m--> \u001b[39m\u001b[32m353\u001b[39m \u001b[43m_engine_run_backward\u001b[49m\u001b[43m(\u001b[49m\n\u001b[32m    354\u001b[39m \u001b[43m    \u001b[49m\u001b[43mtensors\u001b[49m\u001b[43m,\u001b[49m\n\u001b[32m    355\u001b[39m \u001b[43m    \u001b[49m\u001b[43mgrad_tensors_\u001b[49m\u001b[43m,\u001b[49m\n\u001b[32m    356\u001b[39m \u001b[43m    \u001b[49m\u001b[43mretain_graph\u001b[49m\u001b[43m,\u001b[49m\n\u001b[32m    357\u001b[39m \u001b[43m    \u001b[49m\u001b[43mcreate_graph\u001b[49m\u001b[43m,\u001b[49m\n\u001b[32m    358\u001b[39m \u001b[43m    \u001b[49m\u001b[43minputs\u001b[49m\u001b[43m,\u001b[49m\n\u001b[32m    359\u001b[39m \u001b[43m    \u001b[49m\u001b[43mallow_unreachable\u001b[49m\u001b[43m=\u001b[49m\u001b[38;5;28;43;01mTrue\u001b[39;49;00m\u001b[43m,\u001b[49m\n\u001b[32m    360\u001b[39m \u001b[43m    \u001b[49m\u001b[43maccumulate_grad\u001b[49m\u001b[43m=\u001b[49m\u001b[38;5;28;43;01mTrue\u001b[39;49;00m\u001b[43m,\u001b[49m\n\u001b[32m    361\u001b[39m \u001b[43m\u001b[49m\u001b[43m)\u001b[49m\n",
      "\u001b[36mFile \u001b[39m\u001b[32mc:\\Users\\malco\\Documents\\cmn-templates\\sandbox\\.venv\\Lib\\site-packages\\torch\\autograd\\graph.py:824\u001b[39m, in \u001b[36m_engine_run_backward\u001b[39m\u001b[34m(t_outputs, *args, **kwargs)\u001b[39m\n\u001b[32m    822\u001b[39m     unregister_hooks = _register_logging_hooks_on_whole_graph(t_outputs)\n\u001b[32m    823\u001b[39m \u001b[38;5;28;01mtry\u001b[39;00m:\n\u001b[32m--> \u001b[39m\u001b[32m824\u001b[39m     \u001b[38;5;28;01mreturn\u001b[39;00m \u001b[43mVariable\u001b[49m\u001b[43m.\u001b[49m\u001b[43m_execution_engine\u001b[49m\u001b[43m.\u001b[49m\u001b[43mrun_backward\u001b[49m\u001b[43m(\u001b[49m\u001b[43m  \u001b[49m\u001b[38;5;66;43;03m# Calls into the C++ engine to run the backward pass\u001b[39;49;00m\n\u001b[32m    825\u001b[39m \u001b[43m        \u001b[49m\u001b[43mt_outputs\u001b[49m\u001b[43m,\u001b[49m\u001b[43m \u001b[49m\u001b[43m*\u001b[49m\u001b[43margs\u001b[49m\u001b[43m,\u001b[49m\u001b[43m \u001b[49m\u001b[43m*\u001b[49m\u001b[43m*\u001b[49m\u001b[43mkwargs\u001b[49m\n\u001b[32m    826\u001b[39m \u001b[43m    \u001b[49m\u001b[43m)\u001b[49m  \u001b[38;5;66;03m# Calls into the C++ engine to run the backward pass\u001b[39;00m\n\u001b[32m    827\u001b[39m \u001b[38;5;28;01mfinally\u001b[39;00m:\n\u001b[32m    828\u001b[39m     \u001b[38;5;28;01mif\u001b[39;00m attach_logging_hooks:\n",
      "\u001b[31mKeyboardInterrupt\u001b[39m: "
     ]
    }
   ],
   "source": [
    "net=Net()\n",
    "train_loss,train_acc,test_loss,test_acc=train_test(net,250,train_loader=train_loader,test_loader=test_loader,device=DEVICE)"
   ]
  }
 ],
 "metadata": {
  "kernelspec": {
   "display_name": ".venv",
   "language": "python",
   "name": "python3"
  },
  "language_info": {
   "codemirror_mode": {
    "name": "ipython",
    "version": 3
   },
   "file_extension": ".py",
   "mimetype": "text/x-python",
   "name": "python",
   "nbconvert_exporter": "python",
   "pygments_lexer": "ipython3",
   "version": "3.13.5"
  }
 },
 "nbformat": 4,
 "nbformat_minor": 5
}
