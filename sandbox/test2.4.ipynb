{
 "cells": [
  {
   "cell_type": "code",
   "execution_count": 13,
   "id": "95be4606",
   "metadata": {},
   "outputs": [],
   "source": [
    "import random\n",
    "import time\n",
    "import numpy as np\n",
    "import matplotlib.pyplot as plt\n",
    "import pandas as pd\n",
    "import scipy as sk\n",
    "import pickle\n",
    "import mne\n",
    "import tqdm\n",
    "from tqdm import trange\n",
    "import os\n",
    "\n",
    "DEVICE='cuda'\n",
    "os.environ['CUDA_LAUNCH_BLOCKING'] = \"1\"\n",
    "import torch\n",
    "from torch.utils.data import DataLoader, TensorDataset\n",
    "import torch.optim as optim\n",
    "\n",
    "from torch import nn"
   ]
  },
  {
   "cell_type": "code",
   "execution_count": 14,
   "id": "658f9e62",
   "metadata": {},
   "outputs": [
    {
     "name": "stderr",
     "output_type": "stream",
     "text": [
      "<>:8: SyntaxWarning: invalid escape sequence '\\d'\n",
      "<>:8: SyntaxWarning: invalid escape sequence '\\s'\n",
      "<>:10: SyntaxWarning: invalid escape sequence '\\d'\n",
      "<>:10: SyntaxWarning: invalid escape sequence '\\s'\n",
      "<>:8: SyntaxWarning: invalid escape sequence '\\d'\n",
      "<>:8: SyntaxWarning: invalid escape sequence '\\s'\n",
      "<>:10: SyntaxWarning: invalid escape sequence '\\d'\n",
      "<>:10: SyntaxWarning: invalid escape sequence '\\s'\n",
      "C:\\Users\\malco\\AppData\\Local\\Temp\\ipykernel_13100\\2464512495.py:8: SyntaxWarning: invalid escape sequence '\\d'\n",
      "  path=f'ds005540\\derivatives\\sub-0{sub}\\ses-vid\\eeg\\sub-0{sub}_ses-vid_task-emotion_reorder.npy'\n",
      "C:\\Users\\malco\\AppData\\Local\\Temp\\ipykernel_13100\\2464512495.py:8: SyntaxWarning: invalid escape sequence '\\s'\n",
      "  path=f'ds005540\\derivatives\\sub-0{sub}\\ses-vid\\eeg\\sub-0{sub}_ses-vid_task-emotion_reorder.npy'\n",
      "C:\\Users\\malco\\AppData\\Local\\Temp\\ipykernel_13100\\2464512495.py:10: SyntaxWarning: invalid escape sequence '\\d'\n",
      "  path=f'ds005540\\derivatives\\sub-{sub}\\ses-vid\\eeg\\sub-{sub}_ses-vid_task-emotion_reorder.npy'\n",
      "C:\\Users\\malco\\AppData\\Local\\Temp\\ipykernel_13100\\2464512495.py:10: SyntaxWarning: invalid escape sequence '\\s'\n",
      "  path=f'ds005540\\derivatives\\sub-{sub}\\ses-vid\\eeg\\sub-{sub}_ses-vid_task-emotion_reorder.npy'\n"
     ]
    }
   ],
   "source": [
    "def extract_data(sub_range,verbose=False,feature_func=None,**kwargs):\n",
    "    first=sub_range[0]\n",
    "    last=sub_range[-1]\n",
    "\n",
    "    for sub in trange(first,last+1): \n",
    "        #read data\n",
    "        if sub <=9:\n",
    "            path=f'ds005540\\derivatives\\sub-0{sub}\\ses-vid\\eeg\\sub-0{sub}_ses-vid_task-emotion_reorder.npy'\n",
    "        else:\n",
    "            path=f'ds005540\\derivatives\\sub-{sub}\\ses-vid\\eeg\\sub-{sub}_ses-vid_task-emotion_reorder.npy'\n",
    "        datatemp=np.load(path,allow_pickle=True)\n",
    "        datatemp=np.permute_dims(datatemp,[1,0,2])\n",
    "\n",
    "        #if we want to convert features\n",
    "        if not feature_func==None:\n",
    "            datatemp=feature_func(datatemp,info=info)\n",
    "\n",
    "        #cat data along new dimension\n",
    "        datatemp=torch.tensor(datatemp).unsqueeze(0)\n",
    "        if sub==first:\n",
    "            data=datatemp\n",
    "        else:\n",
    "            data=torch.cat([data,datatemp],axis=0)\n",
    "\n",
    "        if verbose:\n",
    "            print(f'subject {sub} data extracted, vector size: {data.shape}')\n",
    "    return data\n",
    "\n",
    "def shuffle_and_split_data(X,y):\n",
    "    \"\"\"\n",
    "    Helper function to shuffle and split data\n",
    "\n",
    "    Args:\n",
    "        X: torch.tensor\n",
    "        Input data\n",
    "        y: torch.tensor\n",
    "        Corresponding target variables\n",
    "        seed: int\n",
    "        Set seed for reproducibility\n",
    "\n",
    "    Returns:\n",
    "        X_test: torch.tensor\n",
    "        Test data [20% of X]\n",
    "        y_test: torch.tensor\n",
    "        Labels corresponding to above mentioned test data\n",
    "        X_train: torch.tensor\n",
    "        Train data [80% of X]\n",
    "        y_train: torch.tensor\n",
    "        Labels corresponding to above mentioned train data\n",
    "    \"\"\"\n",
    "    \n",
    "    N=X.size(0)\n",
    "    shuffled_indices=torch.randperm(N) #get shuffled indices\n",
    "    X=X[shuffled_indices]\n",
    "    y=y[shuffled_indices]\n",
    "\n",
    "    # split by 20% into train-test set\n",
    "    test_size=int(0.2*N)\n",
    "    X_train=X[test_size:]\n",
    "    y_train=y[test_size:]\n",
    "    X_test=X[:test_size]\n",
    "    y_test=y[:test_size]\n",
    "\n",
    "    return X_test,y_test,X_train,y_train\n",
    "\n",
    "#create labels\n",
    "#sad-dis-fear-neu-joy-ten-ins correspond to 0-6 respectively, each sample has 21 trials, for (7 emotions x 3 trials)\n",
    "labels=np.array([])\n",
    "for i in range(0,7):\n",
    "    for n in range(0,3):\n",
    "        labels=np.concatenate([labels,np.array([i])],axis=0)\n",
    "labels=torch.tensor(labels)"
   ]
  },
  {
   "cell_type": "code",
   "execution_count": 15,
   "id": "706e6638",
   "metadata": {},
   "outputs": [
    {
     "name": "stderr",
     "output_type": "stream",
     "text": [
      "100%|██████████| 20/20 [00:03<00:00,  5.70it/s]\n"
     ]
    }
   ],
   "source": [
    "data=extract_data([1,20])"
   ]
  },
  {
   "cell_type": "code",
   "execution_count": 16,
   "id": "adc522c1",
   "metadata": {},
   "outputs": [],
   "source": [
    "def process_data(data):\n",
    "    '''0-10s, 5-15s, 10-20s, 15-25, 20-30s ---> 5 samples per trial'''\n",
    "    for interval in tqdm.tqdm(range(0,5)):\n",
    "        datatrial=data[:,:,:,interval*1000:(interval+2)*1000]\n",
    "        datatrial=torch.unsqueeze(datatrial,2)\n",
    "        if interval==0:\n",
    "            newdata=datatrial\n",
    "        else:\n",
    "            newdata=torch.concatenate((newdata,datatrial),2)\n",
    "    return newdata"
   ]
  },
  {
   "cell_type": "code",
   "execution_count": 17,
   "id": "44552c36",
   "metadata": {},
   "outputs": [
    {
     "name": "stderr",
     "output_type": "stream",
     "text": [
      "100%|██████████| 5/5 [00:01<00:00,  3.93it/s]\n"
     ]
    },
    {
     "data": {
      "text/plain": [
       "torch.Size([20, 21, 5, 64, 2000])"
      ]
     },
     "execution_count": 17,
     "metadata": {},
     "output_type": "execute_result"
    }
   ],
   "source": [
    "data=process_data(data)\n",
    "data.shape #subject,label,trials,electrodes,timepoints"
   ]
  },
  {
   "cell_type": "code",
   "execution_count": 18,
   "id": "3c3b8400",
   "metadata": {},
   "outputs": [
    {
     "name": "stderr",
     "output_type": "stream",
     "text": [
      "100%|██████████| 21/21 [00:04<00:00,  4.88it/s]\n",
      "100%|██████████| 20/20 [00:12<00:00,  1.61it/s]\n"
     ]
    },
    {
     "name": "stdout",
     "output_type": "stream",
     "text": [
      "torch.Size([2100, 64, 2000])\n",
      "torch.Size([2100, 1])\n",
      "torch.Size([420, 64, 2000]) torch.Size([420]) torch.Size([1680, 64, 2000]) torch.Size([1680])\n"
     ]
    }
   ],
   "source": [
    "for label in tqdm.tqdm(range(21)): #combine labels and trials\n",
    "    temp=data[:,label,:,:,:]\n",
    "    if label==0:\n",
    "        X=temp\n",
    "        y=labels[label]*torch.ones(5,1)\n",
    "    else:\n",
    "        X=torch.concatenate((X,temp),dim=1)\n",
    "        y=torch.concatenate((y,labels[label]*torch.ones(5,1)),dim=0)\n",
    "\n",
    "#combine subjects\n",
    "for subject in tqdm.tqdm(range(X.size(0))):\n",
    "    temp=X[subject,:,:,:]\n",
    "    if subject==0:\n",
    "        X_full=temp\n",
    "        y_full=y\n",
    "    else:\n",
    "        X_full=torch.concatenate((X_full,temp),dim=0)\n",
    "        y_full=torch.concatenate((y_full,y),dim=0)\n",
    "\n",
    "print(X_full.shape)\n",
    "print(y_full.shape)\n",
    "\n",
    "#split data\n",
    "X_test,y_test,X_train,y_train=shuffle_and_split_data(X_full,y_full.squeeze())\n",
    "\n",
    "print(X_test.shape,y_test.shape,\n",
    "      X_train.shape,y_train.shape)"
   ]
  },
  {
   "cell_type": "code",
   "execution_count": 21,
   "id": "8ff9f70b",
   "metadata": {},
   "outputs": [],
   "source": [
    "#now the model\n",
    "class Net(nn.Module):\n",
    "    def __init__(self,dropout):\n",
    "        super(Net,self).__init__()\n",
    "        self.conv1=nn.Conv1d(64,128,kernel_size=7,padding=3)\n",
    "        self.conv2=nn.Conv1d(128,96,kernel_size=9,padding=4)\n",
    "        self.conv3=nn.Conv1d(96,64,kernel_size=5,padding=2)\n",
    "        self.conv4=nn.Conv1d(64,8,kernel_size=3,padding=1)\n",
    "        self.pool=nn.MaxPool1d(2)\n",
    "        self.fc1=nn.Linear(8000,4000)\n",
    "        self.fc2=nn.Linear(4000,4000)\n",
    "        self.fc3=nn.Linear(4000,7)\n",
    "        self.dropoutlayer=nn.Dropout1d(0.4)\n",
    "        self.batchnorm1=nn.BatchNorm1d(128)\n",
    "        self.batchnorm2=nn.BatchNorm1d(96)\n",
    "        self.batchnorm3=nn.BatchNorm1d(64)\n",
    "        self.batchnorm4=nn.BatchNorm1d(8)\n",
    "\n",
    "    def forward(self,x):\n",
    "        x=self.conv1(x)\n",
    "        x=self.batchnorm1(x)\n",
    "        x=self.dropoutlayer(x)\n",
    "        x=nn.functional.relu(x)\n",
    "\n",
    "        x=self.conv2(x)\n",
    "        x=self.batchnorm2(x)\n",
    "        x=self.dropoutlayer(x) \n",
    "        x=nn.functional.relu(x)       \n",
    "\n",
    "        x=self.conv3(x)\n",
    "        x=self.batchnorm3(x)\n",
    "        x=self.dropoutlayer(x) \n",
    "        x=nn.functional.relu(x)       \n",
    "\n",
    "        x=self.conv4(x)\n",
    "        x=self.batchnorm4(x)\n",
    "        x=self.dropoutlayer(x)\n",
    "        x=nn.functional.relu(x)\n",
    "        x=self.pool(x)\n",
    "        \n",
    "        x=torch.flatten(x,1)\n",
    "\n",
    "        x=self.fc1(x)\n",
    "        x=self.dropoutlayer(x)\n",
    "        x=nn.functional.relu(x)\n",
    "\n",
    "        x=self.fc2(x)\n",
    "        x=self.dropoutlayer(x)\n",
    "        x=nn.functional.relu(x)\n",
    "\n",
    "        x=self.fc3(x)\n",
    "\n",
    "\n",
    "        return x\n",
    "    \n",
    "\n",
    "\n",
    "def train_test(net,epochs,train_loader,test_loader,device):\n",
    "    criterion=nn.CrossEntropyLoss()\n",
    "    optimizer=optim.Adam(net.parameters(),lr=1e-3,weight_decay=1e-4)\n",
    "    train_acc=[]\n",
    "    train_loss=[]\n",
    "    test_acc=[]\n",
    "    test_loss=[]\n",
    "    net.to(device)\n",
    "    for epoch in tqdm.tqdm(range(epochs)):\n",
    "        net.train()\n",
    "        running_loss=0.0\n",
    "        correct,total=0,0\n",
    "        for i,data in enumerate(train_loader,start=0):\n",
    "            inputs,labels=data\n",
    "            inputs=inputs.to(device).float()\n",
    "            labels=labels.to(device).long()\n",
    "            \n",
    "            #train\n",
    "            optimizer.zero_grad()\n",
    "            outputs=net.forward(inputs)\n",
    "            loss=criterion(outputs,labels)\n",
    "            loss.backward()\n",
    "            optimizer.step()\n",
    "\n",
    "            running_loss+=loss.item()\n",
    "            #training accuracy\n",
    "            _,predicted=torch.max(outputs,1)\n",
    "            total+=labels.size(0)\n",
    "            correct+=(predicted==labels).sum()\n",
    "        train_loss.append(running_loss/len(train_loader))\n",
    "        train_acc.append(correct/total)\n",
    "        print(f\"epoch {epoch} --> TRAIN loss: {running_loss/len(train_loader):.5f}, TRAIN accuracy: {correct/total:.2f}\")\n",
    "\n",
    "        #eval on test\n",
    "        net.eval()\n",
    "        running_loss=0.0\n",
    "        correct,total=0,0\n",
    "        for inputs,labels in test_loader:\n",
    "            inputs,labels=inputs.to(device).float(),labels.to(device).long()\n",
    "            outputs=net.forward(inputs)\n",
    "            loss=criterion(outputs,labels)\n",
    "            running_loss+=loss.item()\n",
    "\n",
    "            #test acc\n",
    "            _,predicted=torch.max(outputs,1)\n",
    "            total+=labels.size(0)\n",
    "            correct+=(predicted==labels).sum()\n",
    "        test_loss.append(running_loss/len(test_loader))\n",
    "        test_acc.append(correct/total)\n",
    "        print(f\"epoch {epoch} --> TEST loss: {running_loss/len(train_loader):.2f}, TEST accuracy: {correct/total:.2f}\")\n",
    "\n",
    "    return train_loss,train_acc,test_loss,test_acc\n",
    "\n",
    "\n",
    "batch_size=300\n",
    "test_data = TensorDataset(X_test, y_test)\n",
    "test_loader = DataLoader(test_data, batch_size=batch_size,\n",
    "                         shuffle=False,num_workers=0\n",
    "                         )\n",
    "\n",
    "train_data = TensorDataset(X_train, y_train)\n",
    "train_loader = DataLoader(train_data,\n",
    "                          batch_size=batch_size,\n",
    "                          drop_last=False,\n",
    "                          shuffle=True,num_workers=0\n",
    "                          )"
   ]
  },
  {
   "cell_type": "code",
   "execution_count": 23,
   "id": "08785fe5",
   "metadata": {},
   "outputs": [
    {
     "name": "stderr",
     "output_type": "stream",
     "text": [
      "  0%|          | 1/200 [00:01<05:22,  1.62s/it]"
     ]
    },
    {
     "name": "stdout",
     "output_type": "stream",
     "text": [
      "epoch 0 --> TRAIN loss: 5.77678, TRAIN accuracy: 0.14\n",
      "epoch 0 --> TEST loss: 0.67, TEST accuracy: 0.15\n"
     ]
    },
    {
     "name": "stderr",
     "output_type": "stream",
     "text": [
      "  1%|          | 2/200 [00:02<04:43,  1.43s/it]"
     ]
    },
    {
     "name": "stdout",
     "output_type": "stream",
     "text": [
      "epoch 1 --> TRAIN loss: 1.96149, TRAIN accuracy: 0.13\n",
      "epoch 1 --> TEST loss: 0.65, TEST accuracy: 0.15\n"
     ]
    },
    {
     "name": "stderr",
     "output_type": "stream",
     "text": [
      "  2%|▏         | 3/200 [00:04<04:31,  1.38s/it]"
     ]
    },
    {
     "name": "stdout",
     "output_type": "stream",
     "text": [
      "epoch 2 --> TRAIN loss: 1.95742, TRAIN accuracy: 0.14\n",
      "epoch 2 --> TEST loss: 0.65, TEST accuracy: 0.17\n"
     ]
    },
    {
     "name": "stderr",
     "output_type": "stream",
     "text": [
      "  2%|▏         | 4/200 [00:05<04:24,  1.35s/it]"
     ]
    },
    {
     "name": "stdout",
     "output_type": "stream",
     "text": [
      "epoch 3 --> TRAIN loss: 1.95246, TRAIN accuracy: 0.14\n",
      "epoch 3 --> TEST loss: 0.65, TEST accuracy: 0.14\n"
     ]
    },
    {
     "name": "stderr",
     "output_type": "stream",
     "text": [
      "  2%|▎         | 5/200 [00:06<04:19,  1.33s/it]"
     ]
    },
    {
     "name": "stdout",
     "output_type": "stream",
     "text": [
      "epoch 4 --> TRAIN loss: 1.94639, TRAIN accuracy: 0.14\n",
      "epoch 4 --> TEST loss: 0.65, TEST accuracy: 0.12\n"
     ]
    },
    {
     "name": "stderr",
     "output_type": "stream",
     "text": [
      "  3%|▎         | 6/200 [00:08<04:17,  1.33s/it]"
     ]
    },
    {
     "name": "stdout",
     "output_type": "stream",
     "text": [
      "epoch 5 --> TRAIN loss: 1.94790, TRAIN accuracy: 0.14\n",
      "epoch 5 --> TEST loss: 0.65, TEST accuracy: 0.12\n"
     ]
    },
    {
     "name": "stderr",
     "output_type": "stream",
     "text": [
      "  4%|▎         | 7/200 [00:09<04:15,  1.32s/it]"
     ]
    },
    {
     "name": "stdout",
     "output_type": "stream",
     "text": [
      "epoch 6 --> TRAIN loss: 1.94574, TRAIN accuracy: 0.15\n",
      "epoch 6 --> TEST loss: 0.65, TEST accuracy: 0.12\n"
     ]
    },
    {
     "name": "stderr",
     "output_type": "stream",
     "text": [
      "  4%|▍         | 8/200 [00:10<04:14,  1.33s/it]"
     ]
    },
    {
     "name": "stdout",
     "output_type": "stream",
     "text": [
      "epoch 7 --> TRAIN loss: 1.95113, TRAIN accuracy: 0.15\n",
      "epoch 7 --> TEST loss: 0.65, TEST accuracy: 0.12\n"
     ]
    },
    {
     "name": "stderr",
     "output_type": "stream",
     "text": [
      "  4%|▍         | 9/200 [00:12<04:14,  1.33s/it]"
     ]
    },
    {
     "name": "stdout",
     "output_type": "stream",
     "text": [
      "epoch 8 --> TRAIN loss: 1.93769, TRAIN accuracy: 0.17\n",
      "epoch 8 --> TEST loss: 0.65, TEST accuracy: 0.13\n"
     ]
    },
    {
     "name": "stderr",
     "output_type": "stream",
     "text": [
      "  5%|▌         | 10/200 [00:13<04:20,  1.37s/it]"
     ]
    },
    {
     "name": "stdout",
     "output_type": "stream",
     "text": [
      "epoch 9 --> TRAIN loss: 1.93543, TRAIN accuracy: 0.16\n",
      "epoch 9 --> TEST loss: 0.65, TEST accuracy: 0.12\n"
     ]
    },
    {
     "name": "stderr",
     "output_type": "stream",
     "text": [
      "  6%|▌         | 11/200 [00:15<04:21,  1.38s/it]"
     ]
    },
    {
     "name": "stdout",
     "output_type": "stream",
     "text": [
      "epoch 10 --> TRAIN loss: 1.93897, TRAIN accuracy: 0.15\n",
      "epoch 10 --> TEST loss: 0.65, TEST accuracy: 0.12\n"
     ]
    },
    {
     "name": "stderr",
     "output_type": "stream",
     "text": [
      "  6%|▌         | 12/200 [00:16<04:18,  1.37s/it]"
     ]
    },
    {
     "name": "stdout",
     "output_type": "stream",
     "text": [
      "epoch 11 --> TRAIN loss: 1.94320, TRAIN accuracy: 0.16\n",
      "epoch 11 --> TEST loss: 0.65, TEST accuracy: 0.12\n"
     ]
    },
    {
     "name": "stderr",
     "output_type": "stream",
     "text": [
      "  6%|▋         | 13/200 [00:17<04:15,  1.36s/it]"
     ]
    },
    {
     "name": "stdout",
     "output_type": "stream",
     "text": [
      "epoch 12 --> TRAIN loss: 1.94844, TRAIN accuracy: 0.17\n",
      "epoch 12 --> TEST loss: 0.65, TEST accuracy: 0.13\n"
     ]
    },
    {
     "name": "stderr",
     "output_type": "stream",
     "text": [
      "  7%|▋         | 14/200 [00:19<04:12,  1.36s/it]"
     ]
    },
    {
     "name": "stdout",
     "output_type": "stream",
     "text": [
      "epoch 13 --> TRAIN loss: 1.94744, TRAIN accuracy: 0.15\n",
      "epoch 13 --> TEST loss: 0.66, TEST accuracy: 0.15\n"
     ]
    },
    {
     "name": "stderr",
     "output_type": "stream",
     "text": [
      "  8%|▊         | 15/200 [00:20<04:11,  1.36s/it]"
     ]
    },
    {
     "name": "stdout",
     "output_type": "stream",
     "text": [
      "epoch 14 --> TRAIN loss: 1.93776, TRAIN accuracy: 0.16\n",
      "epoch 14 --> TEST loss: 0.66, TEST accuracy: 0.15\n"
     ]
    },
    {
     "name": "stderr",
     "output_type": "stream",
     "text": [
      "  8%|▊         | 16/200 [00:21<04:09,  1.36s/it]"
     ]
    },
    {
     "name": "stdout",
     "output_type": "stream",
     "text": [
      "epoch 15 --> TRAIN loss: 1.93351, TRAIN accuracy: 0.15\n",
      "epoch 15 --> TEST loss: 0.65, TEST accuracy: 0.13\n"
     ]
    },
    {
     "name": "stderr",
     "output_type": "stream",
     "text": [
      "  8%|▊         | 17/200 [00:23<04:09,  1.37s/it]"
     ]
    },
    {
     "name": "stdout",
     "output_type": "stream",
     "text": [
      "epoch 16 --> TRAIN loss: 1.93990, TRAIN accuracy: 0.16\n",
      "epoch 16 --> TEST loss: 0.65, TEST accuracy: 0.14\n"
     ]
    },
    {
     "name": "stderr",
     "output_type": "stream",
     "text": [
      "  9%|▉         | 18/200 [00:24<04:11,  1.38s/it]"
     ]
    },
    {
     "name": "stdout",
     "output_type": "stream",
     "text": [
      "epoch 17 --> TRAIN loss: 1.94135, TRAIN accuracy: 0.15\n",
      "epoch 17 --> TEST loss: 0.65, TEST accuracy: 0.15\n"
     ]
    },
    {
     "name": "stderr",
     "output_type": "stream",
     "text": [
      " 10%|▉         | 19/200 [00:25<04:10,  1.38s/it]"
     ]
    },
    {
     "name": "stdout",
     "output_type": "stream",
     "text": [
      "epoch 18 --> TRAIN loss: 1.92842, TRAIN accuracy: 0.17\n",
      "epoch 18 --> TEST loss: 0.65, TEST accuracy: 0.16\n"
     ]
    },
    {
     "name": "stderr",
     "output_type": "stream",
     "text": [
      " 10%|█         | 20/200 [00:27<04:11,  1.40s/it]"
     ]
    },
    {
     "name": "stdout",
     "output_type": "stream",
     "text": [
      "epoch 19 --> TRAIN loss: 1.93528, TRAIN accuracy: 0.17\n",
      "epoch 19 --> TEST loss: 0.65, TEST accuracy: 0.12\n"
     ]
    },
    {
     "name": "stderr",
     "output_type": "stream",
     "text": [
      " 10%|█         | 21/200 [00:28<04:08,  1.39s/it]"
     ]
    },
    {
     "name": "stdout",
     "output_type": "stream",
     "text": [
      "epoch 20 --> TRAIN loss: 1.94063, TRAIN accuracy: 0.17\n",
      "epoch 20 --> TEST loss: 0.65, TEST accuracy: 0.11\n"
     ]
    },
    {
     "name": "stderr",
     "output_type": "stream",
     "text": [
      " 11%|█         | 22/200 [00:30<04:06,  1.38s/it]"
     ]
    },
    {
     "name": "stdout",
     "output_type": "stream",
     "text": [
      "epoch 21 --> TRAIN loss: 1.93546, TRAIN accuracy: 0.17\n",
      "epoch 21 --> TEST loss: 0.65, TEST accuracy: 0.14\n"
     ]
    },
    {
     "name": "stderr",
     "output_type": "stream",
     "text": [
      " 12%|█▏        | 23/200 [00:31<04:03,  1.38s/it]"
     ]
    },
    {
     "name": "stdout",
     "output_type": "stream",
     "text": [
      "epoch 22 --> TRAIN loss: 1.93537, TRAIN accuracy: 0.16\n",
      "epoch 22 --> TEST loss: 0.65, TEST accuracy: 0.12\n"
     ]
    },
    {
     "name": "stderr",
     "output_type": "stream",
     "text": [
      " 12%|█▏        | 24/200 [00:32<04:03,  1.39s/it]"
     ]
    },
    {
     "name": "stdout",
     "output_type": "stream",
     "text": [
      "epoch 23 --> TRAIN loss: 1.93385, TRAIN accuracy: 0.16\n",
      "epoch 23 --> TEST loss: 0.66, TEST accuracy: 0.12\n"
     ]
    },
    {
     "name": "stderr",
     "output_type": "stream",
     "text": [
      " 12%|█▎        | 25/200 [00:34<04:02,  1.38s/it]"
     ]
    },
    {
     "name": "stdout",
     "output_type": "stream",
     "text": [
      "epoch 24 --> TRAIN loss: 1.93916, TRAIN accuracy: 0.16\n",
      "epoch 24 --> TEST loss: 0.65, TEST accuracy: 0.13\n"
     ]
    },
    {
     "name": "stderr",
     "output_type": "stream",
     "text": [
      " 13%|█▎        | 26/200 [00:35<04:00,  1.38s/it]"
     ]
    },
    {
     "name": "stdout",
     "output_type": "stream",
     "text": [
      "epoch 25 --> TRAIN loss: 1.92153, TRAIN accuracy: 0.17\n",
      "epoch 25 --> TEST loss: 0.65, TEST accuracy: 0.14\n"
     ]
    },
    {
     "name": "stderr",
     "output_type": "stream",
     "text": [
      " 14%|█▎        | 27/200 [00:37<03:59,  1.39s/it]"
     ]
    },
    {
     "name": "stdout",
     "output_type": "stream",
     "text": [
      "epoch 26 --> TRAIN loss: 1.93189, TRAIN accuracy: 0.16\n",
      "epoch 26 --> TEST loss: 0.66, TEST accuracy: 0.11\n"
     ]
    },
    {
     "name": "stderr",
     "output_type": "stream",
     "text": [
      " 14%|█▍        | 28/200 [00:38<03:58,  1.39s/it]"
     ]
    },
    {
     "name": "stdout",
     "output_type": "stream",
     "text": [
      "epoch 27 --> TRAIN loss: 1.91830, TRAIN accuracy: 0.17\n",
      "epoch 27 --> TEST loss: 0.66, TEST accuracy: 0.11\n"
     ]
    },
    {
     "name": "stderr",
     "output_type": "stream",
     "text": [
      " 14%|█▍        | 29/200 [00:39<03:57,  1.39s/it]"
     ]
    },
    {
     "name": "stdout",
     "output_type": "stream",
     "text": [
      "epoch 28 --> TRAIN loss: 1.92406, TRAIN accuracy: 0.17\n",
      "epoch 28 --> TEST loss: 0.65, TEST accuracy: 0.15\n"
     ]
    },
    {
     "name": "stderr",
     "output_type": "stream",
     "text": [
      " 15%|█▌        | 30/200 [00:41<03:56,  1.39s/it]"
     ]
    },
    {
     "name": "stdout",
     "output_type": "stream",
     "text": [
      "epoch 29 --> TRAIN loss: 1.91716, TRAIN accuracy: 0.18\n",
      "epoch 29 --> TEST loss: 0.66, TEST accuracy: 0.15\n"
     ]
    },
    {
     "name": "stderr",
     "output_type": "stream",
     "text": [
      " 16%|█▌        | 31/200 [00:42<03:55,  1.39s/it]"
     ]
    },
    {
     "name": "stdout",
     "output_type": "stream",
     "text": [
      "epoch 30 --> TRAIN loss: 1.93328, TRAIN accuracy: 0.17\n",
      "epoch 30 --> TEST loss: 0.66, TEST accuracy: 0.11\n"
     ]
    },
    {
     "name": "stderr",
     "output_type": "stream",
     "text": [
      " 16%|█▌        | 32/200 [00:44<03:53,  1.39s/it]"
     ]
    },
    {
     "name": "stdout",
     "output_type": "stream",
     "text": [
      "epoch 31 --> TRAIN loss: 1.91969, TRAIN accuracy: 0.17\n",
      "epoch 31 --> TEST loss: 0.66, TEST accuracy: 0.11\n"
     ]
    },
    {
     "name": "stderr",
     "output_type": "stream",
     "text": [
      " 16%|█▋        | 33/200 [00:45<03:52,  1.39s/it]"
     ]
    },
    {
     "name": "stdout",
     "output_type": "stream",
     "text": [
      "epoch 32 --> TRAIN loss: 1.91157, TRAIN accuracy: 0.17\n",
      "epoch 32 --> TEST loss: 0.66, TEST accuracy: 0.11\n"
     ]
    },
    {
     "name": "stderr",
     "output_type": "stream",
     "text": [
      " 17%|█▋        | 34/200 [00:46<03:50,  1.39s/it]"
     ]
    },
    {
     "name": "stdout",
     "output_type": "stream",
     "text": [
      "epoch 33 --> TRAIN loss: 1.92430, TRAIN accuracy: 0.17\n",
      "epoch 33 --> TEST loss: 0.66, TEST accuracy: 0.13\n"
     ]
    },
    {
     "name": "stderr",
     "output_type": "stream",
     "text": [
      " 18%|█▊        | 35/200 [00:48<03:49,  1.39s/it]"
     ]
    },
    {
     "name": "stdout",
     "output_type": "stream",
     "text": [
      "epoch 34 --> TRAIN loss: 1.91535, TRAIN accuracy: 0.17\n",
      "epoch 34 --> TEST loss: 0.67, TEST accuracy: 0.13\n"
     ]
    },
    {
     "name": "stderr",
     "output_type": "stream",
     "text": [
      " 18%|█▊        | 36/200 [00:49<03:48,  1.39s/it]"
     ]
    },
    {
     "name": "stdout",
     "output_type": "stream",
     "text": [
      "epoch 35 --> TRAIN loss: 1.93001, TRAIN accuracy: 0.17\n",
      "epoch 35 --> TEST loss: 0.66, TEST accuracy: 0.12\n"
     ]
    },
    {
     "name": "stderr",
     "output_type": "stream",
     "text": [
      " 18%|█▊        | 37/200 [00:50<03:47,  1.40s/it]"
     ]
    },
    {
     "name": "stdout",
     "output_type": "stream",
     "text": [
      "epoch 36 --> TRAIN loss: 1.90329, TRAIN accuracy: 0.19\n",
      "epoch 36 --> TEST loss: 0.66, TEST accuracy: 0.13\n"
     ]
    },
    {
     "name": "stderr",
     "output_type": "stream",
     "text": [
      " 19%|█▉        | 38/200 [00:52<03:46,  1.40s/it]"
     ]
    },
    {
     "name": "stdout",
     "output_type": "stream",
     "text": [
      "epoch 37 --> TRAIN loss: 1.92698, TRAIN accuracy: 0.17\n",
      "epoch 37 --> TEST loss: 0.66, TEST accuracy: 0.14\n"
     ]
    },
    {
     "name": "stderr",
     "output_type": "stream",
     "text": [
      " 20%|█▉        | 39/200 [00:53<03:44,  1.40s/it]"
     ]
    },
    {
     "name": "stdout",
     "output_type": "stream",
     "text": [
      "epoch 38 --> TRAIN loss: 1.92519, TRAIN accuracy: 0.16\n",
      "epoch 38 --> TEST loss: 0.67, TEST accuracy: 0.13\n"
     ]
    },
    {
     "name": "stderr",
     "output_type": "stream",
     "text": [
      " 20%|██        | 40/200 [00:55<03:43,  1.40s/it]"
     ]
    },
    {
     "name": "stdout",
     "output_type": "stream",
     "text": [
      "epoch 39 --> TRAIN loss: 1.91137, TRAIN accuracy: 0.18\n",
      "epoch 39 --> TEST loss: 0.67, TEST accuracy: 0.13\n"
     ]
    },
    {
     "name": "stderr",
     "output_type": "stream",
     "text": [
      " 20%|██        | 41/200 [00:56<03:42,  1.40s/it]"
     ]
    },
    {
     "name": "stdout",
     "output_type": "stream",
     "text": [
      "epoch 40 --> TRAIN loss: 1.90466, TRAIN accuracy: 0.17\n",
      "epoch 40 --> TEST loss: 0.68, TEST accuracy: 0.14\n"
     ]
    },
    {
     "name": "stderr",
     "output_type": "stream",
     "text": [
      " 21%|██        | 42/200 [00:57<03:40,  1.39s/it]"
     ]
    },
    {
     "name": "stdout",
     "output_type": "stream",
     "text": [
      "epoch 41 --> TRAIN loss: 1.89085, TRAIN accuracy: 0.18\n",
      "epoch 41 --> TEST loss: 0.68, TEST accuracy: 0.14\n"
     ]
    },
    {
     "name": "stderr",
     "output_type": "stream",
     "text": [
      " 22%|██▏       | 43/200 [00:59<03:38,  1.39s/it]"
     ]
    },
    {
     "name": "stdout",
     "output_type": "stream",
     "text": [
      "epoch 42 --> TRAIN loss: 1.91612, TRAIN accuracy: 0.18\n",
      "epoch 42 --> TEST loss: 0.70, TEST accuracy: 0.11\n"
     ]
    },
    {
     "name": "stderr",
     "output_type": "stream",
     "text": [
      " 22%|██▏       | 44/200 [01:00<03:37,  1.39s/it]"
     ]
    },
    {
     "name": "stdout",
     "output_type": "stream",
     "text": [
      "epoch 43 --> TRAIN loss: 1.90016, TRAIN accuracy: 0.19\n",
      "epoch 43 --> TEST loss: 0.70, TEST accuracy: 0.16\n"
     ]
    },
    {
     "name": "stderr",
     "output_type": "stream",
     "text": [
      " 22%|██▎       | 45/200 [01:02<03:35,  1.39s/it]"
     ]
    },
    {
     "name": "stdout",
     "output_type": "stream",
     "text": [
      "epoch 44 --> TRAIN loss: 1.88381, TRAIN accuracy: 0.19\n",
      "epoch 44 --> TEST loss: 0.71, TEST accuracy: 0.16\n"
     ]
    },
    {
     "name": "stderr",
     "output_type": "stream",
     "text": [
      " 23%|██▎       | 46/200 [01:03<03:33,  1.39s/it]"
     ]
    },
    {
     "name": "stdout",
     "output_type": "stream",
     "text": [
      "epoch 45 --> TRAIN loss: 1.92230, TRAIN accuracy: 0.17\n",
      "epoch 45 --> TEST loss: 0.70, TEST accuracy: 0.14\n"
     ]
    },
    {
     "name": "stderr",
     "output_type": "stream",
     "text": [
      " 24%|██▎       | 47/200 [01:04<03:33,  1.39s/it]"
     ]
    },
    {
     "name": "stdout",
     "output_type": "stream",
     "text": [
      "epoch 46 --> TRAIN loss: 1.88860, TRAIN accuracy: 0.20\n",
      "epoch 46 --> TEST loss: 0.69, TEST accuracy: 0.15\n"
     ]
    },
    {
     "name": "stderr",
     "output_type": "stream",
     "text": [
      " 24%|██▍       | 48/200 [01:06<03:31,  1.39s/it]"
     ]
    },
    {
     "name": "stdout",
     "output_type": "stream",
     "text": [
      "epoch 47 --> TRAIN loss: 1.89596, TRAIN accuracy: 0.18\n",
      "epoch 47 --> TEST loss: 0.68, TEST accuracy: 0.13\n"
     ]
    },
    {
     "name": "stderr",
     "output_type": "stream",
     "text": [
      " 24%|██▍       | 49/200 [01:07<03:29,  1.39s/it]"
     ]
    },
    {
     "name": "stdout",
     "output_type": "stream",
     "text": [
      "epoch 48 --> TRAIN loss: 1.89162, TRAIN accuracy: 0.18\n",
      "epoch 48 --> TEST loss: 0.68, TEST accuracy: 0.13\n"
     ]
    },
    {
     "name": "stderr",
     "output_type": "stream",
     "text": [
      " 25%|██▌       | 50/200 [01:09<03:28,  1.39s/it]"
     ]
    },
    {
     "name": "stdout",
     "output_type": "stream",
     "text": [
      "epoch 49 --> TRAIN loss: 1.89442, TRAIN accuracy: 0.19\n",
      "epoch 49 --> TEST loss: 0.68, TEST accuracy: 0.16\n"
     ]
    },
    {
     "name": "stderr",
     "output_type": "stream",
     "text": [
      " 26%|██▌       | 51/200 [01:10<03:27,  1.39s/it]"
     ]
    },
    {
     "name": "stdout",
     "output_type": "stream",
     "text": [
      "epoch 50 --> TRAIN loss: 1.89342, TRAIN accuracy: 0.19\n",
      "epoch 50 --> TEST loss: 0.68, TEST accuracy: 0.14\n"
     ]
    },
    {
     "name": "stderr",
     "output_type": "stream",
     "text": [
      " 26%|██▌       | 52/200 [01:11<03:25,  1.39s/it]"
     ]
    },
    {
     "name": "stdout",
     "output_type": "stream",
     "text": [
      "epoch 51 --> TRAIN loss: 1.87385, TRAIN accuracy: 0.21\n",
      "epoch 51 --> TEST loss: 0.68, TEST accuracy: 0.11\n"
     ]
    },
    {
     "name": "stderr",
     "output_type": "stream",
     "text": [
      " 26%|██▋       | 53/200 [01:13<03:24,  1.39s/it]"
     ]
    },
    {
     "name": "stdout",
     "output_type": "stream",
     "text": [
      "epoch 52 --> TRAIN loss: 1.85150, TRAIN accuracy: 0.21\n",
      "epoch 52 --> TEST loss: 0.68, TEST accuracy: 0.14\n"
     ]
    },
    {
     "name": "stderr",
     "output_type": "stream",
     "text": [
      " 27%|██▋       | 54/200 [01:14<03:22,  1.39s/it]"
     ]
    },
    {
     "name": "stdout",
     "output_type": "stream",
     "text": [
      "epoch 53 --> TRAIN loss: 1.89029, TRAIN accuracy: 0.20\n",
      "epoch 53 --> TEST loss: 0.68, TEST accuracy: 0.16\n"
     ]
    },
    {
     "name": "stderr",
     "output_type": "stream",
     "text": [
      " 28%|██▊       | 55/200 [01:16<03:21,  1.39s/it]"
     ]
    },
    {
     "name": "stdout",
     "output_type": "stream",
     "text": [
      "epoch 54 --> TRAIN loss: 1.86403, TRAIN accuracy: 0.21\n",
      "epoch 54 --> TEST loss: 0.69, TEST accuracy: 0.13\n"
     ]
    },
    {
     "name": "stderr",
     "output_type": "stream",
     "text": [
      " 28%|██▊       | 56/200 [01:17<03:20,  1.39s/it]"
     ]
    },
    {
     "name": "stdout",
     "output_type": "stream",
     "text": [
      "epoch 55 --> TRAIN loss: 1.86596, TRAIN accuracy: 0.21\n",
      "epoch 55 --> TEST loss: 0.69, TEST accuracy: 0.13\n"
     ]
    },
    {
     "name": "stderr",
     "output_type": "stream",
     "text": [
      " 28%|██▊       | 57/200 [01:18<03:19,  1.39s/it]"
     ]
    },
    {
     "name": "stdout",
     "output_type": "stream",
     "text": [
      "epoch 56 --> TRAIN loss: 1.86072, TRAIN accuracy: 0.20\n",
      "epoch 56 --> TEST loss: 0.68, TEST accuracy: 0.15\n"
     ]
    },
    {
     "name": "stderr",
     "output_type": "stream",
     "text": [
      " 29%|██▉       | 58/200 [01:20<03:17,  1.39s/it]"
     ]
    },
    {
     "name": "stdout",
     "output_type": "stream",
     "text": [
      "epoch 57 --> TRAIN loss: 1.84373, TRAIN accuracy: 0.21\n",
      "epoch 57 --> TEST loss: 0.68, TEST accuracy: 0.14\n"
     ]
    },
    {
     "name": "stderr",
     "output_type": "stream",
     "text": [
      " 30%|██▉       | 59/200 [01:21<03:16,  1.39s/it]"
     ]
    },
    {
     "name": "stdout",
     "output_type": "stream",
     "text": [
      "epoch 58 --> TRAIN loss: 1.82168, TRAIN accuracy: 0.23\n",
      "epoch 58 --> TEST loss: 0.69, TEST accuracy: 0.18\n"
     ]
    },
    {
     "name": "stderr",
     "output_type": "stream",
     "text": [
      " 30%|███       | 60/200 [01:23<03:15,  1.39s/it]"
     ]
    },
    {
     "name": "stdout",
     "output_type": "stream",
     "text": [
      "epoch 59 --> TRAIN loss: 1.84978, TRAIN accuracy: 0.21\n",
      "epoch 59 --> TEST loss: 0.69, TEST accuracy: 0.15\n"
     ]
    },
    {
     "name": "stderr",
     "output_type": "stream",
     "text": [
      " 30%|███       | 61/200 [01:24<03:15,  1.40s/it]"
     ]
    },
    {
     "name": "stdout",
     "output_type": "stream",
     "text": [
      "epoch 60 --> TRAIN loss: 1.83966, TRAIN accuracy: 0.22\n",
      "epoch 60 --> TEST loss: 0.70, TEST accuracy: 0.15\n"
     ]
    },
    {
     "name": "stderr",
     "output_type": "stream",
     "text": [
      " 31%|███       | 62/200 [01:25<03:13,  1.40s/it]"
     ]
    },
    {
     "name": "stdout",
     "output_type": "stream",
     "text": [
      "epoch 61 --> TRAIN loss: 1.86541, TRAIN accuracy: 0.21\n",
      "epoch 61 --> TEST loss: 0.69, TEST accuracy: 0.12\n"
     ]
    },
    {
     "name": "stderr",
     "output_type": "stream",
     "text": [
      " 32%|███▏      | 63/200 [01:27<03:13,  1.41s/it]"
     ]
    },
    {
     "name": "stdout",
     "output_type": "stream",
     "text": [
      "epoch 62 --> TRAIN loss: 1.83807, TRAIN accuracy: 0.23\n",
      "epoch 62 --> TEST loss: 0.68, TEST accuracy: 0.16\n"
     ]
    },
    {
     "name": "stderr",
     "output_type": "stream",
     "text": [
      " 32%|███▏      | 64/200 [01:28<03:10,  1.40s/it]"
     ]
    },
    {
     "name": "stdout",
     "output_type": "stream",
     "text": [
      "epoch 63 --> TRAIN loss: 1.83954, TRAIN accuracy: 0.23\n",
      "epoch 63 --> TEST loss: 0.68, TEST accuracy: 0.15\n"
     ]
    },
    {
     "name": "stderr",
     "output_type": "stream",
     "text": [
      " 32%|███▎      | 65/200 [01:30<03:09,  1.40s/it]"
     ]
    },
    {
     "name": "stdout",
     "output_type": "stream",
     "text": [
      "epoch 64 --> TRAIN loss: 1.83508, TRAIN accuracy: 0.22\n",
      "epoch 64 --> TEST loss: 0.68, TEST accuracy: 0.15\n"
     ]
    },
    {
     "name": "stderr",
     "output_type": "stream",
     "text": [
      " 33%|███▎      | 66/200 [01:31<03:07,  1.40s/it]"
     ]
    },
    {
     "name": "stdout",
     "output_type": "stream",
     "text": [
      "epoch 65 --> TRAIN loss: 1.79707, TRAIN accuracy: 0.24\n",
      "epoch 65 --> TEST loss: 0.68, TEST accuracy: 0.15\n"
     ]
    },
    {
     "name": "stderr",
     "output_type": "stream",
     "text": [
      " 34%|███▎      | 67/200 [01:32<03:05,  1.39s/it]"
     ]
    },
    {
     "name": "stdout",
     "output_type": "stream",
     "text": [
      "epoch 66 --> TRAIN loss: 1.81037, TRAIN accuracy: 0.23\n",
      "epoch 66 --> TEST loss: 0.69, TEST accuracy: 0.17\n"
     ]
    },
    {
     "name": "stderr",
     "output_type": "stream",
     "text": [
      " 34%|███▍      | 68/200 [01:34<03:03,  1.39s/it]"
     ]
    },
    {
     "name": "stdout",
     "output_type": "stream",
     "text": [
      "epoch 67 --> TRAIN loss: 1.80641, TRAIN accuracy: 0.24\n",
      "epoch 67 --> TEST loss: 0.70, TEST accuracy: 0.14\n"
     ]
    },
    {
     "name": "stderr",
     "output_type": "stream",
     "text": [
      " 34%|███▍      | 69/200 [01:35<03:01,  1.38s/it]"
     ]
    },
    {
     "name": "stdout",
     "output_type": "stream",
     "text": [
      "epoch 68 --> TRAIN loss: 1.79976, TRAIN accuracy: 0.23\n",
      "epoch 68 --> TEST loss: 0.69, TEST accuracy: 0.16\n"
     ]
    },
    {
     "name": "stderr",
     "output_type": "stream",
     "text": [
      " 35%|███▌      | 70/200 [01:36<02:59,  1.38s/it]"
     ]
    },
    {
     "name": "stdout",
     "output_type": "stream",
     "text": [
      "epoch 69 --> TRAIN loss: 1.78048, TRAIN accuracy: 0.27\n",
      "epoch 69 --> TEST loss: 0.69, TEST accuracy: 0.13\n"
     ]
    },
    {
     "name": "stderr",
     "output_type": "stream",
     "text": [
      " 36%|███▌      | 71/200 [01:38<02:57,  1.38s/it]"
     ]
    },
    {
     "name": "stdout",
     "output_type": "stream",
     "text": [
      "epoch 70 --> TRAIN loss: 1.76052, TRAIN accuracy: 0.26\n",
      "epoch 70 --> TEST loss: 0.70, TEST accuracy: 0.16\n"
     ]
    },
    {
     "name": "stderr",
     "output_type": "stream",
     "text": [
      " 36%|███▌      | 72/200 [01:39<02:55,  1.37s/it]"
     ]
    },
    {
     "name": "stdout",
     "output_type": "stream",
     "text": [
      "epoch 71 --> TRAIN loss: 1.78394, TRAIN accuracy: 0.24\n",
      "epoch 71 --> TEST loss: 0.69, TEST accuracy: 0.14\n"
     ]
    },
    {
     "name": "stderr",
     "output_type": "stream",
     "text": [
      " 36%|███▋      | 73/200 [01:41<02:55,  1.38s/it]"
     ]
    },
    {
     "name": "stdout",
     "output_type": "stream",
     "text": [
      "epoch 72 --> TRAIN loss: 1.75254, TRAIN accuracy: 0.26\n",
      "epoch 72 --> TEST loss: 0.69, TEST accuracy: 0.14\n"
     ]
    },
    {
     "name": "stderr",
     "output_type": "stream",
     "text": [
      " 37%|███▋      | 74/200 [01:42<02:53,  1.38s/it]"
     ]
    },
    {
     "name": "stdout",
     "output_type": "stream",
     "text": [
      "epoch 73 --> TRAIN loss: 1.75401, TRAIN accuracy: 0.27\n",
      "epoch 73 --> TEST loss: 0.71, TEST accuracy: 0.11\n"
     ]
    },
    {
     "name": "stderr",
     "output_type": "stream",
     "text": [
      " 38%|███▊      | 75/200 [01:43<02:52,  1.38s/it]"
     ]
    },
    {
     "name": "stdout",
     "output_type": "stream",
     "text": [
      "epoch 74 --> TRAIN loss: 1.71221, TRAIN accuracy: 0.28\n",
      "epoch 74 --> TEST loss: 0.72, TEST accuracy: 0.15\n"
     ]
    },
    {
     "name": "stderr",
     "output_type": "stream",
     "text": [
      " 38%|███▊      | 76/200 [01:45<02:50,  1.38s/it]"
     ]
    },
    {
     "name": "stdout",
     "output_type": "stream",
     "text": [
      "epoch 75 --> TRAIN loss: 1.73168, TRAIN accuracy: 0.27\n",
      "epoch 75 --> TEST loss: 0.72, TEST accuracy: 0.13\n"
     ]
    },
    {
     "name": "stderr",
     "output_type": "stream",
     "text": [
      " 38%|███▊      | 77/200 [01:46<02:49,  1.38s/it]"
     ]
    },
    {
     "name": "stdout",
     "output_type": "stream",
     "text": [
      "epoch 76 --> TRAIN loss: 1.76492, TRAIN accuracy: 0.27\n",
      "epoch 76 --> TEST loss: 0.72, TEST accuracy: 0.13\n"
     ]
    },
    {
     "name": "stderr",
     "output_type": "stream",
     "text": [
      " 39%|███▉      | 78/200 [01:47<02:48,  1.38s/it]"
     ]
    },
    {
     "name": "stdout",
     "output_type": "stream",
     "text": [
      "epoch 77 --> TRAIN loss: 1.71736, TRAIN accuracy: 0.27\n",
      "epoch 77 --> TEST loss: 0.72, TEST accuracy: 0.16\n"
     ]
    },
    {
     "name": "stderr",
     "output_type": "stream",
     "text": [
      " 40%|███▉      | 79/200 [01:49<02:46,  1.38s/it]"
     ]
    },
    {
     "name": "stdout",
     "output_type": "stream",
     "text": [
      "epoch 78 --> TRAIN loss: 1.74321, TRAIN accuracy: 0.28\n",
      "epoch 78 --> TEST loss: 0.72, TEST accuracy: 0.14\n"
     ]
    },
    {
     "name": "stderr",
     "output_type": "stream",
     "text": [
      " 40%|████      | 80/200 [01:50<02:45,  1.38s/it]"
     ]
    },
    {
     "name": "stdout",
     "output_type": "stream",
     "text": [
      "epoch 79 --> TRAIN loss: 1.72037, TRAIN accuracy: 0.27\n",
      "epoch 79 --> TEST loss: 0.72, TEST accuracy: 0.16\n"
     ]
    },
    {
     "name": "stderr",
     "output_type": "stream",
     "text": [
      " 40%|████      | 81/200 [01:52<02:44,  1.38s/it]"
     ]
    },
    {
     "name": "stdout",
     "output_type": "stream",
     "text": [
      "epoch 80 --> TRAIN loss: 1.69398, TRAIN accuracy: 0.29\n",
      "epoch 80 --> TEST loss: 0.73, TEST accuracy: 0.14\n"
     ]
    },
    {
     "name": "stderr",
     "output_type": "stream",
     "text": [
      " 41%|████      | 82/200 [01:53<02:42,  1.38s/it]"
     ]
    },
    {
     "name": "stdout",
     "output_type": "stream",
     "text": [
      "epoch 81 --> TRAIN loss: 1.75853, TRAIN accuracy: 0.29\n",
      "epoch 81 --> TEST loss: 0.74, TEST accuracy: 0.14\n"
     ]
    },
    {
     "name": "stderr",
     "output_type": "stream",
     "text": [
      " 42%|████▏     | 83/200 [01:54<02:41,  1.38s/it]"
     ]
    },
    {
     "name": "stdout",
     "output_type": "stream",
     "text": [
      "epoch 82 --> TRAIN loss: 1.68864, TRAIN accuracy: 0.30\n",
      "epoch 82 --> TEST loss: 0.75, TEST accuracy: 0.15\n"
     ]
    },
    {
     "name": "stderr",
     "output_type": "stream",
     "text": [
      " 42%|████▏     | 84/200 [01:56<02:39,  1.38s/it]"
     ]
    },
    {
     "name": "stdout",
     "output_type": "stream",
     "text": [
      "epoch 83 --> TRAIN loss: 1.73355, TRAIN accuracy: 0.28\n",
      "epoch 83 --> TEST loss: 0.75, TEST accuracy: 0.15\n"
     ]
    },
    {
     "name": "stderr",
     "output_type": "stream",
     "text": [
      " 42%|████▎     | 85/200 [01:57<02:38,  1.38s/it]"
     ]
    },
    {
     "name": "stdout",
     "output_type": "stream",
     "text": [
      "epoch 84 --> TRAIN loss: 1.69950, TRAIN accuracy: 0.29\n",
      "epoch 84 --> TEST loss: 0.76, TEST accuracy: 0.15\n"
     ]
    },
    {
     "name": "stderr",
     "output_type": "stream",
     "text": [
      " 43%|████▎     | 86/200 [01:58<02:36,  1.38s/it]"
     ]
    },
    {
     "name": "stdout",
     "output_type": "stream",
     "text": [
      "epoch 85 --> TRAIN loss: 1.71563, TRAIN accuracy: 0.29\n",
      "epoch 85 --> TEST loss: 0.75, TEST accuracy: 0.14\n"
     ]
    },
    {
     "name": "stderr",
     "output_type": "stream",
     "text": [
      " 44%|████▎     | 87/200 [02:00<02:35,  1.37s/it]"
     ]
    },
    {
     "name": "stdout",
     "output_type": "stream",
     "text": [
      "epoch 86 --> TRAIN loss: 1.65882, TRAIN accuracy: 0.31\n",
      "epoch 86 --> TEST loss: 0.77, TEST accuracy: 0.14\n"
     ]
    },
    {
     "name": "stderr",
     "output_type": "stream",
     "text": [
      " 44%|████▍     | 88/200 [02:01<02:33,  1.37s/it]"
     ]
    },
    {
     "name": "stdout",
     "output_type": "stream",
     "text": [
      "epoch 87 --> TRAIN loss: 1.62566, TRAIN accuracy: 0.33\n",
      "epoch 87 --> TEST loss: 0.77, TEST accuracy: 0.16\n"
     ]
    },
    {
     "name": "stderr",
     "output_type": "stream",
     "text": [
      " 44%|████▍     | 89/200 [02:03<02:33,  1.38s/it]"
     ]
    },
    {
     "name": "stdout",
     "output_type": "stream",
     "text": [
      "epoch 88 --> TRAIN loss: 1.62729, TRAIN accuracy: 0.33\n",
      "epoch 88 --> TEST loss: 0.76, TEST accuracy: 0.12\n"
     ]
    },
    {
     "name": "stderr",
     "output_type": "stream",
     "text": [
      " 45%|████▌     | 90/200 [02:04<02:31,  1.37s/it]"
     ]
    },
    {
     "name": "stdout",
     "output_type": "stream",
     "text": [
      "epoch 89 --> TRAIN loss: 1.63845, TRAIN accuracy: 0.34\n",
      "epoch 89 --> TEST loss: 0.73, TEST accuracy: 0.15\n"
     ]
    },
    {
     "name": "stderr",
     "output_type": "stream",
     "text": [
      " 46%|████▌     | 91/200 [02:05<02:29,  1.37s/it]"
     ]
    },
    {
     "name": "stdout",
     "output_type": "stream",
     "text": [
      "epoch 90 --> TRAIN loss: 1.63677, TRAIN accuracy: 0.33\n",
      "epoch 90 --> TEST loss: 0.75, TEST accuracy: 0.12\n"
     ]
    },
    {
     "name": "stderr",
     "output_type": "stream",
     "text": [
      " 46%|████▌     | 92/200 [02:07<02:28,  1.37s/it]"
     ]
    },
    {
     "name": "stdout",
     "output_type": "stream",
     "text": [
      "epoch 91 --> TRAIN loss: 1.59582, TRAIN accuracy: 0.33\n",
      "epoch 91 --> TEST loss: 0.77, TEST accuracy: 0.15\n"
     ]
    },
    {
     "name": "stderr",
     "output_type": "stream",
     "text": [
      " 46%|████▋     | 93/200 [02:08<02:26,  1.37s/it]"
     ]
    },
    {
     "name": "stdout",
     "output_type": "stream",
     "text": [
      "epoch 92 --> TRAIN loss: 1.66147, TRAIN accuracy: 0.32\n",
      "epoch 92 --> TEST loss: 0.77, TEST accuracy: 0.14\n"
     ]
    },
    {
     "name": "stderr",
     "output_type": "stream",
     "text": [
      " 47%|████▋     | 94/200 [02:09<02:25,  1.37s/it]"
     ]
    },
    {
     "name": "stdout",
     "output_type": "stream",
     "text": [
      "epoch 93 --> TRAIN loss: 1.58009, TRAIN accuracy: 0.34\n",
      "epoch 93 --> TEST loss: 0.78, TEST accuracy: 0.15\n"
     ]
    },
    {
     "name": "stderr",
     "output_type": "stream",
     "text": [
      " 48%|████▊     | 95/200 [02:11<02:23,  1.37s/it]"
     ]
    },
    {
     "name": "stdout",
     "output_type": "stream",
     "text": [
      "epoch 94 --> TRAIN loss: 1.58832, TRAIN accuracy: 0.33\n",
      "epoch 94 --> TEST loss: 0.78, TEST accuracy: 0.16\n"
     ]
    },
    {
     "name": "stderr",
     "output_type": "stream",
     "text": [
      " 48%|████▊     | 96/200 [02:12<02:22,  1.37s/it]"
     ]
    },
    {
     "name": "stdout",
     "output_type": "stream",
     "text": [
      "epoch 95 --> TRAIN loss: 1.55796, TRAIN accuracy: 0.34\n",
      "epoch 95 --> TEST loss: 0.79, TEST accuracy: 0.13\n"
     ]
    },
    {
     "name": "stderr",
     "output_type": "stream",
     "text": [
      " 48%|████▊     | 97/200 [02:14<02:21,  1.37s/it]"
     ]
    },
    {
     "name": "stdout",
     "output_type": "stream",
     "text": [
      "epoch 96 --> TRAIN loss: 1.54435, TRAIN accuracy: 0.35\n",
      "epoch 96 --> TEST loss: 0.78, TEST accuracy: 0.14\n"
     ]
    },
    {
     "name": "stderr",
     "output_type": "stream",
     "text": [
      " 49%|████▉     | 98/200 [02:15<02:19,  1.37s/it]"
     ]
    },
    {
     "name": "stdout",
     "output_type": "stream",
     "text": [
      "epoch 97 --> TRAIN loss: 1.55299, TRAIN accuracy: 0.34\n",
      "epoch 97 --> TEST loss: 0.83, TEST accuracy: 0.14\n"
     ]
    },
    {
     "name": "stderr",
     "output_type": "stream",
     "text": [
      " 50%|████▉     | 99/200 [02:16<02:18,  1.37s/it]"
     ]
    },
    {
     "name": "stdout",
     "output_type": "stream",
     "text": [
      "epoch 98 --> TRAIN loss: 1.53670, TRAIN accuracy: 0.37\n",
      "epoch 98 --> TEST loss: 0.84, TEST accuracy: 0.15\n"
     ]
    },
    {
     "name": "stderr",
     "output_type": "stream",
     "text": [
      " 50%|█████     | 100/200 [02:18<02:17,  1.37s/it]"
     ]
    },
    {
     "name": "stdout",
     "output_type": "stream",
     "text": [
      "epoch 99 --> TRAIN loss: 1.55485, TRAIN accuracy: 0.36\n",
      "epoch 99 --> TEST loss: 0.82, TEST accuracy: 0.14\n"
     ]
    },
    {
     "name": "stderr",
     "output_type": "stream",
     "text": [
      " 50%|█████     | 101/200 [02:19<02:16,  1.37s/it]"
     ]
    },
    {
     "name": "stdout",
     "output_type": "stream",
     "text": [
      "epoch 100 --> TRAIN loss: 1.52008, TRAIN accuracy: 0.37\n",
      "epoch 100 --> TEST loss: 0.81, TEST accuracy: 0.16\n"
     ]
    },
    {
     "name": "stderr",
     "output_type": "stream",
     "text": [
      " 51%|█████     | 102/200 [02:20<02:14,  1.37s/it]"
     ]
    },
    {
     "name": "stdout",
     "output_type": "stream",
     "text": [
      "epoch 101 --> TRAIN loss: 1.46214, TRAIN accuracy: 0.38\n",
      "epoch 101 --> TEST loss: 0.81, TEST accuracy: 0.15\n"
     ]
    },
    {
     "name": "stderr",
     "output_type": "stream",
     "text": [
      " 52%|█████▏    | 103/200 [02:22<02:12,  1.37s/it]"
     ]
    },
    {
     "name": "stdout",
     "output_type": "stream",
     "text": [
      "epoch 102 --> TRAIN loss: 1.45655, TRAIN accuracy: 0.39\n",
      "epoch 102 --> TEST loss: 0.82, TEST accuracy: 0.14\n"
     ]
    },
    {
     "name": "stderr",
     "output_type": "stream",
     "text": [
      " 52%|█████▏    | 104/200 [02:23<02:12,  1.38s/it]"
     ]
    },
    {
     "name": "stdout",
     "output_type": "stream",
     "text": [
      "epoch 103 --> TRAIN loss: 1.53964, TRAIN accuracy: 0.35\n",
      "epoch 103 --> TEST loss: 0.81, TEST accuracy: 0.14\n"
     ]
    },
    {
     "name": "stderr",
     "output_type": "stream",
     "text": [
      " 52%|█████▎    | 105/200 [02:25<02:10,  1.38s/it]"
     ]
    },
    {
     "name": "stdout",
     "output_type": "stream",
     "text": [
      "epoch 104 --> TRAIN loss: 1.50439, TRAIN accuracy: 0.36\n",
      "epoch 104 --> TEST loss: 0.80, TEST accuracy: 0.15\n"
     ]
    },
    {
     "name": "stderr",
     "output_type": "stream",
     "text": [
      " 53%|█████▎    | 106/200 [02:26<02:08,  1.37s/it]"
     ]
    },
    {
     "name": "stdout",
     "output_type": "stream",
     "text": [
      "epoch 105 --> TRAIN loss: 1.45561, TRAIN accuracy: 0.39\n",
      "epoch 105 --> TEST loss: 0.82, TEST accuracy: 0.13\n"
     ]
    },
    {
     "name": "stderr",
     "output_type": "stream",
     "text": [
      " 54%|█████▎    | 107/200 [02:27<02:07,  1.37s/it]"
     ]
    },
    {
     "name": "stdout",
     "output_type": "stream",
     "text": [
      "epoch 106 --> TRAIN loss: 1.43556, TRAIN accuracy: 0.38\n",
      "epoch 106 --> TEST loss: 0.85, TEST accuracy: 0.14\n"
     ]
    },
    {
     "name": "stderr",
     "output_type": "stream",
     "text": [
      " 54%|█████▍    | 108/200 [02:29<02:05,  1.37s/it]"
     ]
    },
    {
     "name": "stdout",
     "output_type": "stream",
     "text": [
      "epoch 107 --> TRAIN loss: 1.45420, TRAIN accuracy: 0.39\n",
      "epoch 107 --> TEST loss: 0.85, TEST accuracy: 0.16\n"
     ]
    },
    {
     "name": "stderr",
     "output_type": "stream",
     "text": [
      " 55%|█████▍    | 109/200 [02:30<02:04,  1.37s/it]"
     ]
    },
    {
     "name": "stdout",
     "output_type": "stream",
     "text": [
      "epoch 108 --> TRAIN loss: 1.42299, TRAIN accuracy: 0.41\n",
      "epoch 108 --> TEST loss: 0.86, TEST accuracy: 0.15\n"
     ]
    },
    {
     "name": "stderr",
     "output_type": "stream",
     "text": [
      " 55%|█████▌    | 110/200 [02:31<02:03,  1.37s/it]"
     ]
    },
    {
     "name": "stdout",
     "output_type": "stream",
     "text": [
      "epoch 109 --> TRAIN loss: 1.41988, TRAIN accuracy: 0.40\n",
      "epoch 109 --> TEST loss: 0.87, TEST accuracy: 0.14\n"
     ]
    },
    {
     "name": "stderr",
     "output_type": "stream",
     "text": [
      " 56%|█████▌    | 111/200 [02:33<02:01,  1.37s/it]"
     ]
    },
    {
     "name": "stdout",
     "output_type": "stream",
     "text": [
      "epoch 110 --> TRAIN loss: 1.43583, TRAIN accuracy: 0.39\n",
      "epoch 110 --> TEST loss: 0.86, TEST accuracy: 0.15\n"
     ]
    },
    {
     "name": "stderr",
     "output_type": "stream",
     "text": [
      " 56%|█████▌    | 112/200 [02:34<02:00,  1.37s/it]"
     ]
    },
    {
     "name": "stdout",
     "output_type": "stream",
     "text": [
      "epoch 111 --> TRAIN loss: 1.39935, TRAIN accuracy: 0.41\n",
      "epoch 111 --> TEST loss: 0.88, TEST accuracy: 0.14\n"
     ]
    },
    {
     "name": "stderr",
     "output_type": "stream",
     "text": [
      " 56%|█████▋    | 113/200 [02:36<01:59,  1.37s/it]"
     ]
    },
    {
     "name": "stdout",
     "output_type": "stream",
     "text": [
      "epoch 112 --> TRAIN loss: 1.43531, TRAIN accuracy: 0.39\n",
      "epoch 112 --> TEST loss: 0.85, TEST accuracy: 0.15\n"
     ]
    },
    {
     "name": "stderr",
     "output_type": "stream",
     "text": [
      " 57%|█████▋    | 114/200 [02:37<01:57,  1.37s/it]"
     ]
    },
    {
     "name": "stdout",
     "output_type": "stream",
     "text": [
      "epoch 113 --> TRAIN loss: 1.35995, TRAIN accuracy: 0.43\n",
      "epoch 113 --> TEST loss: 0.86, TEST accuracy: 0.14\n"
     ]
    },
    {
     "name": "stderr",
     "output_type": "stream",
     "text": [
      " 57%|█████▊    | 115/200 [02:38<01:56,  1.37s/it]"
     ]
    },
    {
     "name": "stdout",
     "output_type": "stream",
     "text": [
      "epoch 114 --> TRAIN loss: 1.42089, TRAIN accuracy: 0.40\n",
      "epoch 114 --> TEST loss: 0.84, TEST accuracy: 0.15\n"
     ]
    },
    {
     "name": "stderr",
     "output_type": "stream",
     "text": [
      " 58%|█████▊    | 116/200 [02:40<01:54,  1.37s/it]"
     ]
    },
    {
     "name": "stdout",
     "output_type": "stream",
     "text": [
      "epoch 115 --> TRAIN loss: 1.39755, TRAIN accuracy: 0.40\n",
      "epoch 115 --> TEST loss: 0.85, TEST accuracy: 0.16\n"
     ]
    },
    {
     "name": "stderr",
     "output_type": "stream",
     "text": [
      " 58%|█████▊    | 117/200 [02:41<01:53,  1.37s/it]"
     ]
    },
    {
     "name": "stdout",
     "output_type": "stream",
     "text": [
      "epoch 116 --> TRAIN loss: 1.38210, TRAIN accuracy: 0.42\n",
      "epoch 116 --> TEST loss: 0.88, TEST accuracy: 0.14\n"
     ]
    },
    {
     "name": "stderr",
     "output_type": "stream",
     "text": [
      " 59%|█████▉    | 118/200 [02:42<01:52,  1.37s/it]"
     ]
    },
    {
     "name": "stdout",
     "output_type": "stream",
     "text": [
      "epoch 117 --> TRAIN loss: 1.40529, TRAIN accuracy: 0.40\n",
      "epoch 117 --> TEST loss: 0.89, TEST accuracy: 0.15\n"
     ]
    },
    {
     "name": "stderr",
     "output_type": "stream",
     "text": [
      " 60%|█████▉    | 119/200 [02:44<01:51,  1.37s/it]"
     ]
    },
    {
     "name": "stdout",
     "output_type": "stream",
     "text": [
      "epoch 118 --> TRAIN loss: 1.43284, TRAIN accuracy: 0.38\n",
      "epoch 118 --> TEST loss: 0.90, TEST accuracy: 0.12\n"
     ]
    },
    {
     "name": "stderr",
     "output_type": "stream",
     "text": [
      " 60%|██████    | 120/200 [02:45<01:49,  1.37s/it]"
     ]
    },
    {
     "name": "stdout",
     "output_type": "stream",
     "text": [
      "epoch 119 --> TRAIN loss: 1.39057, TRAIN accuracy: 0.41\n",
      "epoch 119 --> TEST loss: 0.90, TEST accuracy: 0.14\n"
     ]
    },
    {
     "name": "stderr",
     "output_type": "stream",
     "text": [
      " 60%|██████    | 121/200 [02:46<01:49,  1.38s/it]"
     ]
    },
    {
     "name": "stdout",
     "output_type": "stream",
     "text": [
      "epoch 120 --> TRAIN loss: 1.38102, TRAIN accuracy: 0.42\n",
      "epoch 120 --> TEST loss: 0.87, TEST accuracy: 0.14\n"
     ]
    },
    {
     "name": "stderr",
     "output_type": "stream",
     "text": [
      " 61%|██████    | 122/200 [02:48<01:47,  1.38s/it]"
     ]
    },
    {
     "name": "stdout",
     "output_type": "stream",
     "text": [
      "epoch 121 --> TRAIN loss: 1.33702, TRAIN accuracy: 0.43\n",
      "epoch 121 --> TEST loss: 0.88, TEST accuracy: 0.15\n"
     ]
    },
    {
     "name": "stderr",
     "output_type": "stream",
     "text": [
      " 62%|██████▏   | 123/200 [02:49<01:47,  1.40s/it]"
     ]
    },
    {
     "name": "stdout",
     "output_type": "stream",
     "text": [
      "epoch 122 --> TRAIN loss: 1.32433, TRAIN accuracy: 0.44\n",
      "epoch 122 --> TEST loss: 0.89, TEST accuracy: 0.13\n"
     ]
    },
    {
     "name": "stderr",
     "output_type": "stream",
     "text": [
      " 62%|██████▏   | 124/200 [02:51<01:45,  1.39s/it]"
     ]
    },
    {
     "name": "stdout",
     "output_type": "stream",
     "text": [
      "epoch 123 --> TRAIN loss: 1.39381, TRAIN accuracy: 0.42\n",
      "epoch 123 --> TEST loss: 0.90, TEST accuracy: 0.16\n"
     ]
    },
    {
     "name": "stderr",
     "output_type": "stream",
     "text": [
      " 62%|██████▎   | 125/200 [02:52<01:44,  1.39s/it]"
     ]
    },
    {
     "name": "stdout",
     "output_type": "stream",
     "text": [
      "epoch 124 --> TRAIN loss: 1.33768, TRAIN accuracy: 0.43\n",
      "epoch 124 --> TEST loss: 0.93, TEST accuracy: 0.15\n"
     ]
    },
    {
     "name": "stderr",
     "output_type": "stream",
     "text": [
      " 63%|██████▎   | 126/200 [02:53<01:43,  1.39s/it]"
     ]
    },
    {
     "name": "stdout",
     "output_type": "stream",
     "text": [
      "epoch 125 --> TRAIN loss: 1.34614, TRAIN accuracy: 0.43\n",
      "epoch 125 --> TEST loss: 0.91, TEST accuracy: 0.15\n"
     ]
    },
    {
     "name": "stderr",
     "output_type": "stream",
     "text": [
      " 64%|██████▎   | 127/200 [02:55<01:41,  1.39s/it]"
     ]
    },
    {
     "name": "stdout",
     "output_type": "stream",
     "text": [
      "epoch 126 --> TRAIN loss: 1.34527, TRAIN accuracy: 0.42\n",
      "epoch 126 --> TEST loss: 0.92, TEST accuracy: 0.15\n"
     ]
    },
    {
     "name": "stderr",
     "output_type": "stream",
     "text": [
      " 64%|██████▍   | 128/200 [02:56<01:39,  1.38s/it]"
     ]
    },
    {
     "name": "stdout",
     "output_type": "stream",
     "text": [
      "epoch 127 --> TRAIN loss: 1.36391, TRAIN accuracy: 0.41\n",
      "epoch 127 --> TEST loss: 0.92, TEST accuracy: 0.16\n"
     ]
    },
    {
     "name": "stderr",
     "output_type": "stream",
     "text": [
      " 64%|██████▍   | 129/200 [02:58<01:38,  1.38s/it]"
     ]
    },
    {
     "name": "stdout",
     "output_type": "stream",
     "text": [
      "epoch 128 --> TRAIN loss: 1.37216, TRAIN accuracy: 0.41\n",
      "epoch 128 --> TEST loss: 0.94, TEST accuracy: 0.16\n"
     ]
    },
    {
     "name": "stderr",
     "output_type": "stream",
     "text": [
      " 65%|██████▌   | 130/200 [02:59<01:36,  1.38s/it]"
     ]
    },
    {
     "name": "stdout",
     "output_type": "stream",
     "text": [
      "epoch 129 --> TRAIN loss: 1.34541, TRAIN accuracy: 0.43\n",
      "epoch 129 --> TEST loss: 0.93, TEST accuracy: 0.14\n"
     ]
    },
    {
     "name": "stderr",
     "output_type": "stream",
     "text": [
      " 66%|██████▌   | 131/200 [03:00<01:34,  1.38s/it]"
     ]
    },
    {
     "name": "stdout",
     "output_type": "stream",
     "text": [
      "epoch 130 --> TRAIN loss: 1.30220, TRAIN accuracy: 0.45\n",
      "epoch 130 --> TEST loss: 0.95, TEST accuracy: 0.15\n"
     ]
    },
    {
     "name": "stderr",
     "output_type": "stream",
     "text": [
      " 66%|██████▌   | 132/200 [03:02<01:34,  1.39s/it]"
     ]
    },
    {
     "name": "stdout",
     "output_type": "stream",
     "text": [
      "epoch 131 --> TRAIN loss: 1.34105, TRAIN accuracy: 0.42\n",
      "epoch 131 --> TEST loss: 0.97, TEST accuracy: 0.15\n"
     ]
    },
    {
     "name": "stderr",
     "output_type": "stream",
     "text": [
      " 66%|██████▋   | 133/200 [03:03<01:32,  1.38s/it]"
     ]
    },
    {
     "name": "stdout",
     "output_type": "stream",
     "text": [
      "epoch 132 --> TRAIN loss: 1.34868, TRAIN accuracy: 0.42\n",
      "epoch 132 --> TEST loss: 0.98, TEST accuracy: 0.15\n"
     ]
    },
    {
     "name": "stderr",
     "output_type": "stream",
     "text": [
      " 67%|██████▋   | 134/200 [03:05<01:31,  1.38s/it]"
     ]
    },
    {
     "name": "stdout",
     "output_type": "stream",
     "text": [
      "epoch 133 --> TRAIN loss: 1.36774, TRAIN accuracy: 0.41\n",
      "epoch 133 --> TEST loss: 0.95, TEST accuracy: 0.15\n"
     ]
    },
    {
     "name": "stderr",
     "output_type": "stream",
     "text": [
      " 68%|██████▊   | 135/200 [03:06<01:29,  1.38s/it]"
     ]
    },
    {
     "name": "stdout",
     "output_type": "stream",
     "text": [
      "epoch 134 --> TRAIN loss: 1.34030, TRAIN accuracy: 0.43\n",
      "epoch 134 --> TEST loss: 0.95, TEST accuracy: 0.15\n"
     ]
    },
    {
     "name": "stderr",
     "output_type": "stream",
     "text": [
      " 68%|██████▊   | 136/200 [03:07<01:27,  1.37s/it]"
     ]
    },
    {
     "name": "stdout",
     "output_type": "stream",
     "text": [
      "epoch 135 --> TRAIN loss: 1.37178, TRAIN accuracy: 0.41\n",
      "epoch 135 --> TEST loss: 1.00, TEST accuracy: 0.14\n"
     ]
    },
    {
     "name": "stderr",
     "output_type": "stream",
     "text": [
      " 68%|██████▊   | 137/200 [03:09<01:26,  1.37s/it]"
     ]
    },
    {
     "name": "stdout",
     "output_type": "stream",
     "text": [
      "epoch 136 --> TRAIN loss: 1.31096, TRAIN accuracy: 0.44\n",
      "epoch 136 --> TEST loss: 0.95, TEST accuracy: 0.15\n"
     ]
    },
    {
     "name": "stderr",
     "output_type": "stream",
     "text": [
      " 69%|██████▉   | 138/200 [03:10<01:24,  1.37s/it]"
     ]
    },
    {
     "name": "stdout",
     "output_type": "stream",
     "text": [
      "epoch 137 --> TRAIN loss: 1.37916, TRAIN accuracy: 0.39\n",
      "epoch 137 --> TEST loss: 0.97, TEST accuracy: 0.13\n"
     ]
    },
    {
     "name": "stderr",
     "output_type": "stream",
     "text": [
      " 70%|██████▉   | 139/200 [03:11<01:23,  1.37s/it]"
     ]
    },
    {
     "name": "stdout",
     "output_type": "stream",
     "text": [
      "epoch 138 --> TRAIN loss: 1.34518, TRAIN accuracy: 0.41\n",
      "epoch 138 --> TEST loss: 0.97, TEST accuracy: 0.15\n"
     ]
    },
    {
     "name": "stderr",
     "output_type": "stream",
     "text": [
      " 70%|███████   | 140/200 [03:13<01:21,  1.37s/it]"
     ]
    },
    {
     "name": "stdout",
     "output_type": "stream",
     "text": [
      "epoch 139 --> TRAIN loss: 1.33876, TRAIN accuracy: 0.41\n",
      "epoch 139 --> TEST loss: 0.96, TEST accuracy: 0.15\n"
     ]
    },
    {
     "name": "stderr",
     "output_type": "stream",
     "text": [
      " 70%|███████   | 141/200 [03:14<01:20,  1.37s/it]"
     ]
    },
    {
     "name": "stdout",
     "output_type": "stream",
     "text": [
      "epoch 140 --> TRAIN loss: 1.30385, TRAIN accuracy: 0.45\n",
      "epoch 140 --> TEST loss: 1.00, TEST accuracy: 0.15\n"
     ]
    },
    {
     "name": "stderr",
     "output_type": "stream",
     "text": [
      " 71%|███████   | 142/200 [03:15<01:19,  1.37s/it]"
     ]
    },
    {
     "name": "stdout",
     "output_type": "stream",
     "text": [
      "epoch 141 --> TRAIN loss: 1.35352, TRAIN accuracy: 0.41\n",
      "epoch 141 --> TEST loss: 0.97, TEST accuracy: 0.17\n"
     ]
    },
    {
     "name": "stderr",
     "output_type": "stream",
     "text": [
      " 72%|███████▏  | 143/200 [03:17<01:17,  1.37s/it]"
     ]
    },
    {
     "name": "stdout",
     "output_type": "stream",
     "text": [
      "epoch 142 --> TRAIN loss: 1.34814, TRAIN accuracy: 0.42\n",
      "epoch 142 --> TEST loss: 1.00, TEST accuracy: 0.15\n"
     ]
    },
    {
     "name": "stderr",
     "output_type": "stream",
     "text": [
      " 72%|███████▏  | 144/200 [03:18<01:16,  1.37s/it]"
     ]
    },
    {
     "name": "stdout",
     "output_type": "stream",
     "text": [
      "epoch 143 --> TRAIN loss: 1.33395, TRAIN accuracy: 0.43\n",
      "epoch 143 --> TEST loss: 0.99, TEST accuracy: 0.16\n"
     ]
    },
    {
     "name": "stderr",
     "output_type": "stream",
     "text": [
      " 72%|███████▎  | 145/200 [03:20<01:15,  1.37s/it]"
     ]
    },
    {
     "name": "stdout",
     "output_type": "stream",
     "text": [
      "epoch 144 --> TRAIN loss: 1.35496, TRAIN accuracy: 0.42\n",
      "epoch 144 --> TEST loss: 1.07, TEST accuracy: 0.14\n"
     ]
    },
    {
     "name": "stderr",
     "output_type": "stream",
     "text": [
      " 73%|███████▎  | 146/200 [03:21<01:14,  1.38s/it]"
     ]
    },
    {
     "name": "stdout",
     "output_type": "stream",
     "text": [
      "epoch 145 --> TRAIN loss: 1.35539, TRAIN accuracy: 0.43\n",
      "epoch 145 --> TEST loss: 1.05, TEST accuracy: 0.15\n"
     ]
    },
    {
     "name": "stderr",
     "output_type": "stream",
     "text": [
      " 74%|███████▎  | 147/200 [03:22<01:13,  1.39s/it]"
     ]
    },
    {
     "name": "stdout",
     "output_type": "stream",
     "text": [
      "epoch 146 --> TRAIN loss: 1.36740, TRAIN accuracy: 0.42\n",
      "epoch 146 --> TEST loss: 1.00, TEST accuracy: 0.15\n"
     ]
    },
    {
     "name": "stderr",
     "output_type": "stream",
     "text": [
      " 74%|███████▍  | 148/200 [03:24<01:12,  1.40s/it]"
     ]
    },
    {
     "name": "stdout",
     "output_type": "stream",
     "text": [
      "epoch 147 --> TRAIN loss: 1.31942, TRAIN accuracy: 0.43\n",
      "epoch 147 --> TEST loss: 1.00, TEST accuracy: 0.13\n"
     ]
    },
    {
     "name": "stderr",
     "output_type": "stream",
     "text": [
      " 74%|███████▍  | 149/200 [03:25<01:10,  1.39s/it]"
     ]
    },
    {
     "name": "stdout",
     "output_type": "stream",
     "text": [
      "epoch 148 --> TRAIN loss: 1.35003, TRAIN accuracy: 0.42\n",
      "epoch 148 --> TEST loss: 0.99, TEST accuracy: 0.16\n"
     ]
    },
    {
     "name": "stderr",
     "output_type": "stream",
     "text": [
      " 75%|███████▌  | 150/200 [03:27<01:09,  1.38s/it]"
     ]
    },
    {
     "name": "stdout",
     "output_type": "stream",
     "text": [
      "epoch 149 --> TRAIN loss: 1.33187, TRAIN accuracy: 0.43\n",
      "epoch 149 --> TEST loss: 1.02, TEST accuracy: 0.14\n"
     ]
    },
    {
     "name": "stderr",
     "output_type": "stream",
     "text": [
      " 76%|███████▌  | 151/200 [03:28<01:07,  1.38s/it]"
     ]
    },
    {
     "name": "stdout",
     "output_type": "stream",
     "text": [
      "epoch 150 --> TRAIN loss: 1.30394, TRAIN accuracy: 0.44\n",
      "epoch 150 --> TEST loss: 1.04, TEST accuracy: 0.15\n"
     ]
    },
    {
     "name": "stderr",
     "output_type": "stream",
     "text": [
      " 76%|███████▌  | 152/200 [03:29<01:05,  1.37s/it]"
     ]
    },
    {
     "name": "stdout",
     "output_type": "stream",
     "text": [
      "epoch 151 --> TRAIN loss: 1.32136, TRAIN accuracy: 0.44\n",
      "epoch 151 --> TEST loss: 1.00, TEST accuracy: 0.15\n"
     ]
    },
    {
     "name": "stderr",
     "output_type": "stream",
     "text": [
      " 76%|███████▋  | 153/200 [03:31<01:04,  1.37s/it]"
     ]
    },
    {
     "name": "stdout",
     "output_type": "stream",
     "text": [
      "epoch 152 --> TRAIN loss: 1.33482, TRAIN accuracy: 0.45\n",
      "epoch 152 --> TEST loss: 0.98, TEST accuracy: 0.15\n"
     ]
    },
    {
     "name": "stderr",
     "output_type": "stream",
     "text": [
      " 77%|███████▋  | 154/200 [03:32<01:03,  1.37s/it]"
     ]
    },
    {
     "name": "stdout",
     "output_type": "stream",
     "text": [
      "epoch 153 --> TRAIN loss: 1.31928, TRAIN accuracy: 0.44\n",
      "epoch 153 --> TEST loss: 0.99, TEST accuracy: 0.13\n"
     ]
    },
    {
     "name": "stderr",
     "output_type": "stream",
     "text": [
      " 78%|███████▊  | 155/200 [03:33<01:01,  1.36s/it]"
     ]
    },
    {
     "name": "stdout",
     "output_type": "stream",
     "text": [
      "epoch 154 --> TRAIN loss: 1.35577, TRAIN accuracy: 0.41\n",
      "epoch 154 --> TEST loss: 0.97, TEST accuracy: 0.14\n"
     ]
    },
    {
     "name": "stderr",
     "output_type": "stream",
     "text": [
      " 78%|███████▊  | 156/200 [03:35<01:00,  1.37s/it]"
     ]
    },
    {
     "name": "stdout",
     "output_type": "stream",
     "text": [
      "epoch 155 --> TRAIN loss: 1.34138, TRAIN accuracy: 0.42\n",
      "epoch 155 --> TEST loss: 0.96, TEST accuracy: 0.16\n"
     ]
    },
    {
     "name": "stderr",
     "output_type": "stream",
     "text": [
      " 78%|███████▊  | 157/200 [03:36<00:59,  1.38s/it]"
     ]
    },
    {
     "name": "stdout",
     "output_type": "stream",
     "text": [
      "epoch 156 --> TRAIN loss: 1.36919, TRAIN accuracy: 0.41\n",
      "epoch 156 --> TEST loss: 0.97, TEST accuracy: 0.15\n"
     ]
    },
    {
     "name": "stderr",
     "output_type": "stream",
     "text": [
      " 79%|███████▉  | 158/200 [03:37<00:57,  1.38s/it]"
     ]
    },
    {
     "name": "stdout",
     "output_type": "stream",
     "text": [
      "epoch 157 --> TRAIN loss: 1.28337, TRAIN accuracy: 0.45\n",
      "epoch 157 --> TEST loss: 1.00, TEST accuracy: 0.14\n"
     ]
    },
    {
     "name": "stderr",
     "output_type": "stream",
     "text": [
      " 80%|███████▉  | 159/200 [03:39<00:56,  1.38s/it]"
     ]
    },
    {
     "name": "stdout",
     "output_type": "stream",
     "text": [
      "epoch 158 --> TRAIN loss: 1.33060, TRAIN accuracy: 0.44\n",
      "epoch 158 --> TEST loss: 0.99, TEST accuracy: 0.15\n"
     ]
    },
    {
     "name": "stderr",
     "output_type": "stream",
     "text": [
      " 80%|████████  | 160/200 [03:40<00:55,  1.38s/it]"
     ]
    },
    {
     "name": "stdout",
     "output_type": "stream",
     "text": [
      "epoch 159 --> TRAIN loss: 1.31657, TRAIN accuracy: 0.44\n",
      "epoch 159 --> TEST loss: 0.96, TEST accuracy: 0.14\n"
     ]
    },
    {
     "name": "stderr",
     "output_type": "stream",
     "text": [
      " 80%|████████  | 161/200 [03:42<00:54,  1.39s/it]"
     ]
    },
    {
     "name": "stdout",
     "output_type": "stream",
     "text": [
      "epoch 160 --> TRAIN loss: 1.33126, TRAIN accuracy: 0.42\n",
      "epoch 160 --> TEST loss: 0.97, TEST accuracy: 0.14\n"
     ]
    },
    {
     "name": "stderr",
     "output_type": "stream",
     "text": [
      " 81%|████████  | 162/200 [03:43<00:52,  1.38s/it]"
     ]
    },
    {
     "name": "stdout",
     "output_type": "stream",
     "text": [
      "epoch 161 --> TRAIN loss: 1.29816, TRAIN accuracy: 0.44\n",
      "epoch 161 --> TEST loss: 0.97, TEST accuracy: 0.14\n"
     ]
    },
    {
     "name": "stderr",
     "output_type": "stream",
     "text": [
      " 82%|████████▏ | 163/200 [03:44<00:51,  1.39s/it]"
     ]
    },
    {
     "name": "stdout",
     "output_type": "stream",
     "text": [
      "epoch 162 --> TRAIN loss: 1.33512, TRAIN accuracy: 0.44\n",
      "epoch 162 --> TEST loss: 0.99, TEST accuracy: 0.13\n"
     ]
    },
    {
     "name": "stderr",
     "output_type": "stream",
     "text": [
      " 82%|████████▏ | 164/200 [03:46<00:49,  1.39s/it]"
     ]
    },
    {
     "name": "stdout",
     "output_type": "stream",
     "text": [
      "epoch 163 --> TRAIN loss: 1.30359, TRAIN accuracy: 0.44\n",
      "epoch 163 --> TEST loss: 0.99, TEST accuracy: 0.13\n"
     ]
    },
    {
     "name": "stderr",
     "output_type": "stream",
     "text": [
      " 82%|████████▎ | 165/200 [03:47<00:48,  1.38s/it]"
     ]
    },
    {
     "name": "stdout",
     "output_type": "stream",
     "text": [
      "epoch 164 --> TRAIN loss: 1.30720, TRAIN accuracy: 0.44\n",
      "epoch 164 --> TEST loss: 1.03, TEST accuracy: 0.13\n"
     ]
    },
    {
     "name": "stderr",
     "output_type": "stream",
     "text": [
      " 83%|████████▎ | 166/200 [03:49<00:46,  1.37s/it]"
     ]
    },
    {
     "name": "stdout",
     "output_type": "stream",
     "text": [
      "epoch 165 --> TRAIN loss: 1.31962, TRAIN accuracy: 0.43\n",
      "epoch 165 --> TEST loss: 1.05, TEST accuracy: 0.14\n"
     ]
    },
    {
     "name": "stderr",
     "output_type": "stream",
     "text": [
      " 84%|████████▎ | 167/200 [03:50<00:45,  1.37s/it]"
     ]
    },
    {
     "name": "stdout",
     "output_type": "stream",
     "text": [
      "epoch 166 --> TRAIN loss: 1.30030, TRAIN accuracy: 0.44\n",
      "epoch 166 --> TEST loss: 1.05, TEST accuracy: 0.15\n"
     ]
    },
    {
     "name": "stderr",
     "output_type": "stream",
     "text": [
      " 84%|████████▍ | 168/200 [03:51<00:43,  1.37s/it]"
     ]
    },
    {
     "name": "stdout",
     "output_type": "stream",
     "text": [
      "epoch 167 --> TRAIN loss: 1.29063, TRAIN accuracy: 0.45\n",
      "epoch 167 --> TEST loss: 1.02, TEST accuracy: 0.14\n"
     ]
    },
    {
     "name": "stderr",
     "output_type": "stream",
     "text": [
      " 84%|████████▍ | 169/200 [03:53<00:42,  1.36s/it]"
     ]
    },
    {
     "name": "stdout",
     "output_type": "stream",
     "text": [
      "epoch 168 --> TRAIN loss: 1.31749, TRAIN accuracy: 0.44\n",
      "epoch 168 --> TEST loss: 0.98, TEST accuracy: 0.16\n"
     ]
    },
    {
     "name": "stderr",
     "output_type": "stream",
     "text": [
      " 85%|████████▌ | 170/200 [03:54<00:40,  1.35s/it]"
     ]
    },
    {
     "name": "stdout",
     "output_type": "stream",
     "text": [
      "epoch 169 --> TRAIN loss: 1.30609, TRAIN accuracy: 0.43\n",
      "epoch 169 --> TEST loss: 1.00, TEST accuracy: 0.14\n"
     ]
    },
    {
     "name": "stderr",
     "output_type": "stream",
     "text": [
      " 86%|████████▌ | 171/200 [03:55<00:39,  1.35s/it]"
     ]
    },
    {
     "name": "stdout",
     "output_type": "stream",
     "text": [
      "epoch 170 --> TRAIN loss: 1.30730, TRAIN accuracy: 0.44\n",
      "epoch 170 --> TEST loss: 1.00, TEST accuracy: 0.14\n"
     ]
    },
    {
     "name": "stderr",
     "output_type": "stream",
     "text": [
      " 86%|████████▌ | 172/200 [03:57<00:37,  1.35s/it]"
     ]
    },
    {
     "name": "stdout",
     "output_type": "stream",
     "text": [
      "epoch 171 --> TRAIN loss: 1.32657, TRAIN accuracy: 0.44\n",
      "epoch 171 --> TEST loss: 1.01, TEST accuracy: 0.15\n"
     ]
    },
    {
     "name": "stderr",
     "output_type": "stream",
     "text": [
      " 86%|████████▋ | 173/200 [03:58<00:36,  1.35s/it]"
     ]
    },
    {
     "name": "stdout",
     "output_type": "stream",
     "text": [
      "epoch 172 --> TRAIN loss: 1.33501, TRAIN accuracy: 0.43\n",
      "epoch 172 --> TEST loss: 1.00, TEST accuracy: 0.16\n"
     ]
    },
    {
     "name": "stderr",
     "output_type": "stream",
     "text": [
      " 87%|████████▋ | 174/200 [03:59<00:35,  1.35s/it]"
     ]
    },
    {
     "name": "stdout",
     "output_type": "stream",
     "text": [
      "epoch 173 --> TRAIN loss: 1.29000, TRAIN accuracy: 0.45\n",
      "epoch 173 --> TEST loss: 1.01, TEST accuracy: 0.16\n"
     ]
    },
    {
     "name": "stderr",
     "output_type": "stream",
     "text": [
      " 88%|████████▊ | 175/200 [04:01<00:33,  1.35s/it]"
     ]
    },
    {
     "name": "stdout",
     "output_type": "stream",
     "text": [
      "epoch 174 --> TRAIN loss: 1.33007, TRAIN accuracy: 0.43\n",
      "epoch 174 --> TEST loss: 0.98, TEST accuracy: 0.12\n"
     ]
    },
    {
     "name": "stderr",
     "output_type": "stream",
     "text": [
      " 88%|████████▊ | 176/200 [04:02<00:32,  1.36s/it]"
     ]
    },
    {
     "name": "stdout",
     "output_type": "stream",
     "text": [
      "epoch 175 --> TRAIN loss: 1.31957, TRAIN accuracy: 0.43\n",
      "epoch 175 --> TEST loss: 0.96, TEST accuracy: 0.15\n"
     ]
    },
    {
     "name": "stderr",
     "output_type": "stream",
     "text": [
      " 88%|████████▊ | 177/200 [04:03<00:31,  1.35s/it]"
     ]
    },
    {
     "name": "stdout",
     "output_type": "stream",
     "text": [
      "epoch 176 --> TRAIN loss: 1.34703, TRAIN accuracy: 0.43\n",
      "epoch 176 --> TEST loss: 0.97, TEST accuracy: 0.14\n"
     ]
    },
    {
     "name": "stderr",
     "output_type": "stream",
     "text": [
      " 89%|████████▉ | 178/200 [04:05<00:29,  1.35s/it]"
     ]
    },
    {
     "name": "stdout",
     "output_type": "stream",
     "text": [
      "epoch 177 --> TRAIN loss: 1.31363, TRAIN accuracy: 0.44\n",
      "epoch 177 --> TEST loss: 1.01, TEST accuracy: 0.14\n"
     ]
    },
    {
     "name": "stderr",
     "output_type": "stream",
     "text": [
      " 90%|████████▉ | 179/200 [04:06<00:28,  1.35s/it]"
     ]
    },
    {
     "name": "stdout",
     "output_type": "stream",
     "text": [
      "epoch 178 --> TRAIN loss: 1.28556, TRAIN accuracy: 0.44\n",
      "epoch 178 --> TEST loss: 1.02, TEST accuracy: 0.16\n"
     ]
    },
    {
     "name": "stderr",
     "output_type": "stream",
     "text": [
      " 90%|█████████ | 180/200 [04:07<00:26,  1.35s/it]"
     ]
    },
    {
     "name": "stdout",
     "output_type": "stream",
     "text": [
      "epoch 179 --> TRAIN loss: 1.31693, TRAIN accuracy: 0.42\n",
      "epoch 179 --> TEST loss: 1.05, TEST accuracy: 0.16\n"
     ]
    },
    {
     "name": "stderr",
     "output_type": "stream",
     "text": [
      " 90%|█████████ | 181/200 [04:09<00:25,  1.35s/it]"
     ]
    },
    {
     "name": "stdout",
     "output_type": "stream",
     "text": [
      "epoch 180 --> TRAIN loss: 1.33425, TRAIN accuracy: 0.43\n",
      "epoch 180 --> TEST loss: 1.06, TEST accuracy: 0.17\n"
     ]
    },
    {
     "name": "stderr",
     "output_type": "stream",
     "text": [
      " 91%|█████████ | 182/200 [04:10<00:24,  1.34s/it]"
     ]
    },
    {
     "name": "stdout",
     "output_type": "stream",
     "text": [
      "epoch 181 --> TRAIN loss: 1.36364, TRAIN accuracy: 0.41\n",
      "epoch 181 --> TEST loss: 1.08, TEST accuracy: 0.16\n"
     ]
    },
    {
     "name": "stderr",
     "output_type": "stream",
     "text": [
      " 92%|█████████▏| 183/200 [04:11<00:22,  1.35s/it]"
     ]
    },
    {
     "name": "stdout",
     "output_type": "stream",
     "text": [
      "epoch 182 --> TRAIN loss: 1.28751, TRAIN accuracy: 0.45\n",
      "epoch 182 --> TEST loss: 1.11, TEST accuracy: 0.15\n"
     ]
    },
    {
     "name": "stderr",
     "output_type": "stream",
     "text": [
      " 92%|█████████▏| 184/200 [04:13<00:21,  1.35s/it]"
     ]
    },
    {
     "name": "stdout",
     "output_type": "stream",
     "text": [
      "epoch 183 --> TRAIN loss: 1.34925, TRAIN accuracy: 0.41\n",
      "epoch 183 --> TEST loss: 1.08, TEST accuracy: 0.15\n"
     ]
    },
    {
     "name": "stderr",
     "output_type": "stream",
     "text": [
      " 92%|█████████▎| 185/200 [04:14<00:20,  1.35s/it]"
     ]
    },
    {
     "name": "stdout",
     "output_type": "stream",
     "text": [
      "epoch 184 --> TRAIN loss: 1.29366, TRAIN accuracy: 0.45\n",
      "epoch 184 --> TEST loss: 1.07, TEST accuracy: 0.14\n"
     ]
    },
    {
     "name": "stderr",
     "output_type": "stream",
     "text": [
      " 93%|█████████▎| 186/200 [04:16<00:18,  1.35s/it]"
     ]
    },
    {
     "name": "stdout",
     "output_type": "stream",
     "text": [
      "epoch 185 --> TRAIN loss: 1.32893, TRAIN accuracy: 0.44\n",
      "epoch 185 --> TEST loss: 1.00, TEST accuracy: 0.14\n"
     ]
    },
    {
     "name": "stderr",
     "output_type": "stream",
     "text": [
      " 94%|█████████▎| 187/200 [04:17<00:17,  1.35s/it]"
     ]
    },
    {
     "name": "stdout",
     "output_type": "stream",
     "text": [
      "epoch 186 --> TRAIN loss: 1.27263, TRAIN accuracy: 0.44\n",
      "epoch 186 --> TEST loss: 0.96, TEST accuracy: 0.14\n"
     ]
    },
    {
     "name": "stderr",
     "output_type": "stream",
     "text": [
      " 94%|█████████▍| 188/200 [04:18<00:16,  1.36s/it]"
     ]
    },
    {
     "name": "stdout",
     "output_type": "stream",
     "text": [
      "epoch 187 --> TRAIN loss: 1.29916, TRAIN accuracy: 0.44\n",
      "epoch 187 --> TEST loss: 0.99, TEST accuracy: 0.14\n"
     ]
    },
    {
     "name": "stderr",
     "output_type": "stream",
     "text": [
      " 94%|█████████▍| 189/200 [04:20<00:14,  1.36s/it]"
     ]
    },
    {
     "name": "stdout",
     "output_type": "stream",
     "text": [
      "epoch 188 --> TRAIN loss: 1.29499, TRAIN accuracy: 0.45\n",
      "epoch 188 --> TEST loss: 1.01, TEST accuracy: 0.14\n"
     ]
    },
    {
     "name": "stderr",
     "output_type": "stream",
     "text": [
      " 95%|█████████▌| 190/200 [04:21<00:13,  1.35s/it]"
     ]
    },
    {
     "name": "stdout",
     "output_type": "stream",
     "text": [
      "epoch 189 --> TRAIN loss: 1.30110, TRAIN accuracy: 0.44\n",
      "epoch 189 --> TEST loss: 1.00, TEST accuracy: 0.13\n"
     ]
    },
    {
     "name": "stderr",
     "output_type": "stream",
     "text": [
      " 96%|█████████▌| 191/200 [04:22<00:12,  1.35s/it]"
     ]
    },
    {
     "name": "stdout",
     "output_type": "stream",
     "text": [
      "epoch 190 --> TRAIN loss: 1.30328, TRAIN accuracy: 0.44\n",
      "epoch 190 --> TEST loss: 1.01, TEST accuracy: 0.13\n"
     ]
    },
    {
     "name": "stderr",
     "output_type": "stream",
     "text": [
      " 96%|█████████▌| 192/200 [04:24<00:10,  1.36s/it]"
     ]
    },
    {
     "name": "stdout",
     "output_type": "stream",
     "text": [
      "epoch 191 --> TRAIN loss: 1.26396, TRAIN accuracy: 0.46\n",
      "epoch 191 --> TEST loss: 1.04, TEST accuracy: 0.14\n"
     ]
    },
    {
     "name": "stderr",
     "output_type": "stream",
     "text": [
      " 96%|█████████▋| 193/200 [04:25<00:09,  1.35s/it]"
     ]
    },
    {
     "name": "stdout",
     "output_type": "stream",
     "text": [
      "epoch 192 --> TRAIN loss: 1.27385, TRAIN accuracy: 0.45\n",
      "epoch 192 --> TEST loss: 1.07, TEST accuracy: 0.14\n"
     ]
    },
    {
     "name": "stderr",
     "output_type": "stream",
     "text": [
      " 97%|█████████▋| 194/200 [04:26<00:08,  1.35s/it]"
     ]
    },
    {
     "name": "stdout",
     "output_type": "stream",
     "text": [
      "epoch 193 --> TRAIN loss: 1.27442, TRAIN accuracy: 0.45\n",
      "epoch 193 --> TEST loss: 1.06, TEST accuracy: 0.15\n"
     ]
    },
    {
     "name": "stderr",
     "output_type": "stream",
     "text": [
      " 98%|█████████▊| 195/200 [04:28<00:06,  1.35s/it]"
     ]
    },
    {
     "name": "stdout",
     "output_type": "stream",
     "text": [
      "epoch 194 --> TRAIN loss: 1.27967, TRAIN accuracy: 0.44\n",
      "epoch 194 --> TEST loss: 1.07, TEST accuracy: 0.16\n"
     ]
    },
    {
     "name": "stderr",
     "output_type": "stream",
     "text": [
      " 98%|█████████▊| 196/200 [04:29<00:05,  1.35s/it]"
     ]
    },
    {
     "name": "stdout",
     "output_type": "stream",
     "text": [
      "epoch 195 --> TRAIN loss: 1.28319, TRAIN accuracy: 0.46\n",
      "epoch 195 --> TEST loss: 1.01, TEST accuracy: 0.15\n"
     ]
    },
    {
     "name": "stderr",
     "output_type": "stream",
     "text": [
      " 98%|█████████▊| 197/200 [04:30<00:04,  1.36s/it]"
     ]
    },
    {
     "name": "stdout",
     "output_type": "stream",
     "text": [
      "epoch 196 --> TRAIN loss: 1.33278, TRAIN accuracy: 0.42\n",
      "epoch 196 --> TEST loss: 1.02, TEST accuracy: 0.16\n"
     ]
    },
    {
     "name": "stderr",
     "output_type": "stream",
     "text": [
      " 99%|█████████▉| 198/200 [04:32<00:02,  1.36s/it]"
     ]
    },
    {
     "name": "stdout",
     "output_type": "stream",
     "text": [
      "epoch 197 --> TRAIN loss: 1.32304, TRAIN accuracy: 0.44\n",
      "epoch 197 --> TEST loss: 1.06, TEST accuracy: 0.15\n"
     ]
    },
    {
     "name": "stderr",
     "output_type": "stream",
     "text": [
      "100%|█████████▉| 199/200 [04:33<00:01,  1.36s/it]"
     ]
    },
    {
     "name": "stdout",
     "output_type": "stream",
     "text": [
      "epoch 198 --> TRAIN loss: 1.32428, TRAIN accuracy: 0.44\n",
      "epoch 198 --> TEST loss: 1.03, TEST accuracy: 0.12\n"
     ]
    },
    {
     "name": "stderr",
     "output_type": "stream",
     "text": [
      "100%|██████████| 200/200 [04:35<00:00,  1.38s/it]"
     ]
    },
    {
     "name": "stdout",
     "output_type": "stream",
     "text": [
      "epoch 199 --> TRAIN loss: 1.35226, TRAIN accuracy: 0.44\n",
      "epoch 199 --> TEST loss: 0.98, TEST accuracy: 0.16\n"
     ]
    },
    {
     "name": "stderr",
     "output_type": "stream",
     "text": [
      "\n"
     ]
    }
   ],
   "source": [
    "net=Net(dropout=0.3)\n",
    "train_loss,train_acc,test_loss,test_acc=train_test(net,200,train_loader=train_loader,test_loader=test_loader,device=DEVICE)"
   ]
  },
  {
   "cell_type": "code",
   "execution_count": null,
   "id": "3f848f01",
   "metadata": {},
   "outputs": [
    {
     "data": {
      "text/plain": [
       "[<matplotlib.lines.Line2D at 0x28707223390>]"
      ]
     },
     "execution_count": 14,
     "metadata": {},
     "output_type": "execute_result"
    },
    {
     "data": {
      "image/png": "[encoded data removed]",
      "text/plain": [
       "<Figure size 640x480 with 1 Axes>"
      ]
     },
     "metadata": {},
     "output_type": "display_data"
    }
   ],
   "source": [
    "plt.plot(train_loss)\n",
    "plt.plot(test_loss)"
   ]
  },
  {
   "cell_type": "code",
   "execution_count": null,
   "id": "8c3d3671",
   "metadata": {},
   "outputs": [
    {
     "name": "stdout",
     "output_type": "stream",
     "text": [
      "[tensor(0.1413), tensor(0.1425), tensor(0.1462), tensor(0.1456), tensor(0.1500), tensor(0.1500), tensor(0.1500), tensor(0.1500), tensor(0.1500), tensor(0.1341), tensor(0.1496), tensor(0.1534), tensor(0.1488), tensor(0.1540), tensor(0.1619), tensor(0.1653), tensor(0.1560), tensor(0.1569), tensor(0.1639), tensor(0.1528), tensor(0.1504), tensor(0.1780), tensor(0.1740), tensor(0.1607), tensor(0.1702), tensor(0.1633), tensor(0.1665), tensor(0.1633), tensor(0.1696), tensor(0.1736), tensor(0.1720), tensor(0.1726), tensor(0.1778), tensor(0.1712), tensor(0.1659), tensor(0.1774), tensor(0.1730), tensor(0.1796), tensor(0.1639), tensor(0.1683), tensor(0.1752), tensor(0.1746), tensor(0.1812), tensor(0.1810), tensor(0.1812), tensor(0.1708), tensor(0.1774), tensor(0.1798), tensor(0.1833), tensor(0.1812), tensor(0.1847), tensor(0.1800), tensor(0.1756), tensor(0.1808), tensor(0.1810), tensor(0.1786), tensor(0.1677), tensor(0.1829), tensor(0.1738), tensor(0.1722), tensor(0.1784), tensor(0.1867), tensor(0.1746), tensor(0.1851), tensor(0.1790), tensor(0.1698), tensor(0.1714), tensor(0.1893), tensor(0.1825), tensor(0.1869), tensor(0.1877), tensor(0.1891), tensor(0.1873), tensor(0.1905), tensor(0.1923), tensor(0.1933), tensor(0.1919), tensor(0.1968), tensor(0.1938), tensor(0.1823), tensor(0.1899), tensor(0.1998), tensor(0.2004), tensor(0.1962), tensor(0.1897), tensor(0.1859), tensor(0.1919), tensor(0.1990), tensor(0.1942), tensor(0.1944), tensor(0.2008), tensor(0.1901), tensor(0.1891), tensor(0.2030), tensor(0.1921), tensor(0.1982), tensor(0.1919), tensor(0.2022), tensor(0.1970), tensor(0.2020), tensor(0.1885), tensor(0.1960), tensor(0.2020), tensor(0.1849), tensor(0.2024), tensor(0.1885), tensor(0.1954), tensor(0.1919), tensor(0.1927), tensor(0.1897), tensor(0.1937), tensor(0.1990), tensor(0.2091), tensor(0.1937), tensor(0.2006), tensor(0.1988), tensor(0.1996), tensor(0.2032), tensor(0.2024), tensor(0.2063), tensor(0.2026), tensor(0.2006), tensor(0.1956), tensor(0.1952), tensor(0.2083), tensor(0.1956), tensor(0.2040), tensor(0.2010), tensor(0.2006), tensor(0.2028), tensor(0.1984), tensor(0.1952), tensor(0.1917), tensor(0.1980), tensor(0.2048), tensor(0.1966), tensor(0.2020), tensor(0.2018), tensor(0.2030), tensor(0.2022), tensor(0.2022), tensor(0.1982), tensor(0.2065), tensor(0.2089), tensor(0.1966), tensor(0.2073), tensor(0.1994), tensor(0.1988), tensor(0.1958), tensor(0.1970), tensor(0.2008), tensor(0.1994), tensor(0.2018), tensor(0.2044), tensor(0.2002), tensor(0.1966), tensor(0.2056), tensor(0.1986), tensor(0.2067), tensor(0.1972), tensor(0.1976), tensor(0.1990), tensor(0.1996), tensor(0.2022), tensor(0.1921), tensor(0.2121), tensor(0.2012), tensor(0.2093), tensor(0.2026), tensor(0.2079), tensor(0.2046), tensor(0.2032), tensor(0.1978), tensor(0.2044), tensor(0.2121), tensor(0.1952), tensor(0.2056), tensor(0.1998), tensor(0.2099), tensor(0.2046), tensor(0.2012), tensor(0.2089), tensor(0.2034), tensor(0.2071), tensor(0.2008), tensor(0.2129), tensor(0.2087), tensor(0.2065), tensor(0.2032), tensor(0.2036), tensor(0.2101), tensor(0.2151), tensor(0.2111), tensor(0.2119), tensor(0.2103), tensor(0.2095), tensor(0.2073), tensor(0.2075), tensor(0.2060), tensor(0.2020), tensor(0.2091), tensor(0.2014), tensor(0.2133), tensor(0.2063), tensor(0.2038), tensor(0.2058), tensor(0.2004), tensor(0.1972), tensor(0.2127), tensor(0.2087), tensor(0.2099), tensor(0.2071), tensor(0.2081), tensor(0.2109), tensor(0.2101), tensor(0.1998), tensor(0.2081), tensor(0.2109), tensor(0.1986), tensor(0.2087), tensor(0.2048), tensor(0.2058), tensor(0.2030), tensor(0.2024), tensor(0.2038), tensor(0.2091), tensor(0.2139), tensor(0.2089), tensor(0.2032), tensor(0.2042), tensor(0.2093), tensor(0.1998), tensor(0.2075), tensor(0.2083), tensor(0.2050), tensor(0.2089), tensor(0.2018), tensor(0.2085), tensor(0.2075), tensor(0.2077), tensor(0.2071), tensor(0.2099), tensor(0.2093), tensor(0.2020), tensor(0.2054), tensor(0.2099), tensor(0.2065), tensor(0.2085), tensor(0.2067), tensor(0.1994), tensor(0.2139), tensor(0.2010), tensor(0.2135), tensor(0.2127), tensor(0.2081), tensor(0.2133), tensor(0.2099), tensor(0.2103), tensor(0.2089), tensor(0.2117), tensor(0.2095), tensor(0.2026), tensor(0.2155), tensor(0.2054), tensor(0.2115), tensor(0.2093), tensor(0.2139), tensor(0.2004), tensor(0.2147), tensor(0.2091), tensor(0.2058), tensor(0.2190), tensor(0.2095), tensor(0.2044), tensor(0.2141), tensor(0.2125), tensor(0.2062), tensor(0.2111), tensor(0.2048), tensor(0.2079), tensor(0.2097), tensor(0.2181), tensor(0.2097), tensor(0.2113), tensor(0.2099), tensor(0.2077), tensor(0.2165), tensor(0.2139), tensor(0.2159), tensor(0.2157), tensor(0.2095), tensor(0.2056), tensor(0.2129), tensor(0.2141), tensor(0.2153), tensor(0.2103), tensor(0.2077), tensor(0.2063), tensor(0.2212), tensor(0.2149), tensor(0.2111), tensor(0.2145), tensor(0.2216), tensor(0.2250), tensor(0.2107), tensor(0.2103), tensor(0.2139), tensor(0.2105), tensor(0.2143), tensor(0.2065), tensor(0.2048), tensor(0.2099), tensor(0.2242), tensor(0.2095), tensor(0.2242), tensor(0.2105), tensor(0.2115), tensor(0.2145), tensor(0.2165), tensor(0.2137), tensor(0.2109), tensor(0.2050), tensor(0.2157), tensor(0.2093), tensor(0.2081), tensor(0.2099), tensor(0.2095), tensor(0.2101), tensor(0.2159), tensor(0.2117), tensor(0.2155), tensor(0.2093), tensor(0.2107), tensor(0.2097), tensor(0.2109), tensor(0.2109), tensor(0.2123), tensor(0.2153), tensor(0.2117), tensor(0.2131), tensor(0.2135), tensor(0.2256), tensor(0.2188), tensor(0.2093), tensor(0.2063), tensor(0.2183), tensor(0.2187), tensor(0.2131), tensor(0.2151), tensor(0.2093), tensor(0.2234), tensor(0.2103), tensor(0.2071), tensor(0.2107), tensor(0.2127), tensor(0.2113), tensor(0.2069), tensor(0.2141), tensor(0.2111), tensor(0.2109), tensor(0.2081), tensor(0.2188), tensor(0.2048), tensor(0.2101), tensor(0.2159), tensor(0.2097), tensor(0.2060), tensor(0.2133), tensor(0.2163), tensor(0.2123), tensor(0.2105), tensor(0.2071), tensor(0.2141), tensor(0.2149), tensor(0.2145), tensor(0.2117), tensor(0.2163), tensor(0.2115), tensor(0.2105), tensor(0.2127), tensor(0.2125), tensor(0.2103), tensor(0.2040), tensor(0.2111), tensor(0.2046), tensor(0.2089), tensor(0.2052), tensor(0.2131), tensor(0.2204), tensor(0.2183), tensor(0.2085), tensor(0.2127), tensor(0.2123), tensor(0.2101), tensor(0.2117), tensor(0.2056), tensor(0.2103), tensor(0.2115), tensor(0.2109), tensor(0.2069), tensor(0.2139), tensor(0.2159), tensor(0.2091), tensor(0.2135), tensor(0.2119), tensor(0.2054), tensor(0.2083), tensor(0.2073), tensor(0.2137), tensor(0.2115), tensor(0.2083), tensor(0.2095), tensor(0.2048), tensor(0.2135), tensor(0.2149), tensor(0.2081), tensor(0.2210), tensor(0.2123), tensor(0.2081), tensor(0.2137), tensor(0.2194), tensor(0.2139), tensor(0.2147), tensor(0.2141), tensor(0.2190), tensor(0.2117), tensor(0.2161), tensor(0.2177), tensor(0.2058), tensor(0.2113), tensor(0.2151), tensor(0.2115), tensor(0.2095), tensor(0.2060), tensor(0.2179), tensor(0.2171), tensor(0.2117), tensor(0.2183), tensor(0.2141), tensor(0.2145), tensor(0.2107), tensor(0.2034), tensor(0.2141), tensor(0.2230), tensor(0.2139), tensor(0.2085), tensor(0.2091), tensor(0.2129), tensor(0.2187), tensor(0.2107), tensor(0.2097), tensor(0.2169), tensor(0.2183), tensor(0.2111), tensor(0.2097), tensor(0.2159), tensor(0.2147), tensor(0.2244), tensor(0.2071), tensor(0.2069), tensor(0.2155), tensor(0.2137), tensor(0.2095), tensor(0.2149), tensor(0.2115), tensor(0.2117), tensor(0.2111), tensor(0.2196), tensor(0.2135), tensor(0.2099), tensor(0.2169), tensor(0.2137), tensor(0.2147), tensor(0.2129), tensor(0.2099), tensor(0.2117), tensor(0.2073), tensor(0.2163), tensor(0.2190), tensor(0.2073), tensor(0.2121), tensor(0.2141), tensor(0.2079), tensor(0.2163), tensor(0.2179), tensor(0.2127), tensor(0.2123), tensor(0.2022), tensor(0.2111), tensor(0.2169), tensor(0.2099), tensor(0.2099), tensor(0.2105), tensor(0.2179), tensor(0.2056), tensor(0.2177), tensor(0.2103), tensor(0.2127), tensor(0.2155), tensor(0.2159), tensor(0.2165), tensor(0.2188), tensor(0.2107), tensor(0.2192), tensor(0.2137), tensor(0.2103), tensor(0.2143), tensor(0.2161), tensor(0.2149), tensor(0.2103), tensor(0.2188), tensor(0.2097), tensor(0.2046), tensor(0.2101), tensor(0.2153), tensor(0.2163), tensor(0.2169), tensor(0.2077), tensor(0.2185), tensor(0.2097), tensor(0.2151), tensor(0.2073), tensor(0.2141), tensor(0.2137), tensor(0.2143), tensor(0.2157), tensor(0.2125), tensor(0.2036), tensor(0.2169), tensor(0.2145), tensor(0.2091), tensor(0.2073), tensor(0.2171), tensor(0.2085), tensor(0.2099), tensor(0.2054), tensor(0.2175), tensor(0.2040), tensor(0.2125), tensor(0.2081), tensor(0.2155), tensor(0.2151), tensor(0.2135), tensor(0.2085), tensor(0.2060), tensor(0.2105), tensor(0.2159), tensor(0.2268), tensor(0.2127), tensor(0.2115), tensor(0.2183), tensor(0.2151), tensor(0.2054), tensor(0.2161), tensor(0.2058), tensor(0.2123), tensor(0.2141), tensor(0.2091), tensor(0.2050), tensor(0.2137), tensor(0.2139), tensor(0.2123), tensor(0.2127), tensor(0.2085), tensor(0.2058), tensor(0.2069), tensor(0.2145), tensor(0.2222), tensor(0.2071), tensor(0.2173), tensor(0.2117), tensor(0.2123), tensor(0.2175), tensor(0.2085), tensor(0.2131), tensor(0.2159), tensor(0.2167), tensor(0.2192), tensor(0.2115), tensor(0.2147), tensor(0.2159), tensor(0.2163), tensor(0.2091), tensor(0.2149), tensor(0.2173), tensor(0.2081), tensor(0.2190), tensor(0.2167), tensor(0.2202), tensor(0.2125), tensor(0.2091), tensor(0.2113), tensor(0.2091), tensor(0.2139), tensor(0.2163), tensor(0.2159), tensor(0.2147), tensor(0.2145), tensor(0.2115), tensor(0.2105), tensor(0.2117), tensor(0.2119), tensor(0.2097), tensor(0.2125), tensor(0.2125), tensor(0.2085), tensor(0.2137), tensor(0.2123), tensor(0.2081), tensor(0.2143), tensor(0.2115), tensor(0.2121), tensor(0.2119), tensor(0.2119), tensor(0.2181), tensor(0.2141), tensor(0.2065), tensor(0.2141), tensor(0.2115), tensor(0.2129), tensor(0.2058), tensor(0.2081), tensor(0.2091), tensor(0.2143), tensor(0.2149), tensor(0.2139), tensor(0.2167), tensor(0.2137), tensor(0.2117), tensor(0.2165), tensor(0.2143), tensor(0.2214), tensor(0.2139), tensor(0.2135), tensor(0.2121), tensor(0.2204), tensor(0.2155), tensor(0.2200), tensor(0.2161), tensor(0.2159), tensor(0.2234), tensor(0.2179), tensor(0.2145), tensor(0.2145), tensor(0.2212), tensor(0.2234), tensor(0.2218), tensor(0.2206), tensor(0.2151), tensor(0.2141), tensor(0.2175), tensor(0.2175), tensor(0.2165), tensor(0.2196), tensor(0.2113), tensor(0.2113), tensor(0.2153), tensor(0.2161), tensor(0.2151), tensor(0.2107), tensor(0.2179), tensor(0.2127), tensor(0.2274), tensor(0.2185), tensor(0.2117), tensor(0.2179), tensor(0.2165), tensor(0.2161), tensor(0.2153), tensor(0.2131), tensor(0.2135), tensor(0.2190), tensor(0.2167), tensor(0.2115), tensor(0.2105), tensor(0.2202), tensor(0.2105), tensor(0.2145), tensor(0.2139), tensor(0.2137), tensor(0.2133), tensor(0.2183), tensor(0.2137), tensor(0.2181), tensor(0.2222), tensor(0.2236), tensor(0.2175), tensor(0.2202), tensor(0.2153), tensor(0.2200), tensor(0.2115), tensor(0.2175), tensor(0.2135), tensor(0.2153), tensor(0.2177), tensor(0.2133), tensor(0.2063), tensor(0.2125), tensor(0.2107), tensor(0.2224), tensor(0.2173), tensor(0.2185), tensor(0.2260), tensor(0.2149), tensor(0.2175), tensor(0.2190), tensor(0.2188), tensor(0.2115), tensor(0.2169), tensor(0.2175), tensor(0.2163), tensor(0.2153), tensor(0.2121), tensor(0.2169), tensor(0.2181), tensor(0.2194), tensor(0.2190), tensor(0.2159), tensor(0.2133), tensor(0.2099), tensor(0.2220), tensor(0.2187), tensor(0.2139), tensor(0.2081), tensor(0.2157), tensor(0.2046), tensor(0.2125), tensor(0.2204), tensor(0.2183), tensor(0.2224), tensor(0.2109), tensor(0.2187), tensor(0.2099), tensor(0.2115), tensor(0.2173), tensor(0.2139), tensor(0.2159), tensor(0.2127), tensor(0.2095), tensor(0.2179), tensor(0.2137), tensor(0.2127), tensor(0.2169), tensor(0.2212), tensor(0.2200), tensor(0.2167), tensor(0.2133), tensor(0.2117), tensor(0.2204), tensor(0.2198), tensor(0.2149), tensor(0.2200), tensor(0.2240), tensor(0.2220), tensor(0.2155), tensor(0.2175), tensor(0.2155), tensor(0.2159), tensor(0.2109), tensor(0.2163), tensor(0.2139), tensor(0.2083), tensor(0.2026), tensor(0.2117), tensor(0.2206), tensor(0.2230), tensor(0.2131), tensor(0.2183), tensor(0.2175), tensor(0.2183), tensor(0.2149), tensor(0.2153), tensor(0.2167), tensor(0.2196), tensor(0.2169), tensor(0.2218), tensor(0.2234), tensor(0.2113), tensor(0.2101), tensor(0.2133), tensor(0.2087), tensor(0.2183), tensor(0.2121), tensor(0.2131), tensor(0.2169), tensor(0.2161), tensor(0.2198), tensor(0.2183), tensor(0.2200), tensor(0.2169), tensor(0.2183), tensor(0.2153), tensor(0.2147), tensor(0.2192), tensor(0.2188), tensor(0.2224), tensor(0.2163), tensor(0.2188), tensor(0.2151), tensor(0.2149), tensor(0.2226), tensor(0.2194), tensor(0.2192), tensor(0.2194), tensor(0.2177), tensor(0.2248), tensor(0.2179), tensor(0.2175), tensor(0.2131), tensor(0.2163), tensor(0.2165), tensor(0.2113), tensor(0.2212), tensor(0.2113), tensor(0.2139), tensor(0.2177), tensor(0.2153), tensor(0.2188), tensor(0.2200), tensor(0.2095), tensor(0.2185), tensor(0.2185), tensor(0.2169), tensor(0.2157), tensor(0.2192), tensor(0.2111), tensor(0.2147), tensor(0.2135), tensor(0.2171), tensor(0.2083), tensor(0.2155), tensor(0.2173), tensor(0.2190), tensor(0.2210), tensor(0.2244), tensor(0.2198), tensor(0.2188), tensor(0.2127), tensor(0.2103), tensor(0.2087), tensor(0.2149), tensor(0.2183), tensor(0.2165), tensor(0.2155), tensor(0.2125), tensor(0.2190), tensor(0.2208), tensor(0.2103), tensor(0.2179), tensor(0.2196), tensor(0.2206), tensor(0.2121), tensor(0.2165), tensor(0.2157), tensor(0.2242), tensor(0.2224), tensor(0.2179), tensor(0.2123), tensor(0.2159), tensor(0.2167), tensor(0.2149), tensor(0.2133), tensor(0.2091), tensor(0.2151), tensor(0.2179), tensor(0.2194), tensor(0.2228), tensor(0.2188), tensor(0.2121), tensor(0.2153), tensor(0.2119), tensor(0.2177), tensor(0.2208), tensor(0.2192), tensor(0.2196), tensor(0.2139), tensor(0.2181), tensor(0.2185), tensor(0.2131), tensor(0.2145), tensor(0.2125), tensor(0.2147), tensor(0.2187), tensor(0.2163), tensor(0.2147), tensor(0.2228), tensor(0.2206), tensor(0.2179), tensor(0.2177), tensor(0.2113), tensor(0.2107), tensor(0.2175), tensor(0.2187), tensor(0.2200), tensor(0.2153), tensor(0.2192), tensor(0.2161), tensor(0.2185), tensor(0.2161), tensor(0.2175), tensor(0.2248), tensor(0.2157), tensor(0.2177), tensor(0.2131), tensor(0.2137), tensor(0.2175), tensor(0.2163), tensor(0.2210), tensor(0.2149), tensor(0.2179), tensor(0.2214), tensor(0.2097), tensor(0.2190), tensor(0.2206), tensor(0.2183), tensor(0.2167), tensor(0.2153), tensor(0.2179), tensor(0.2216), tensor(0.2167), tensor(0.2157), tensor(0.2194), tensor(0.2234), tensor(0.2073), tensor(0.2222), tensor(0.2149), tensor(0.2169), tensor(0.2159), tensor(0.2153), tensor(0.2192), tensor(0.2141), tensor(0.2192), tensor(0.2198), tensor(0.2113), tensor(0.2183), tensor(0.2190), tensor(0.2125), tensor(0.2147), tensor(0.2157), tensor(0.2194), tensor(0.2187), tensor(0.2187), tensor(0.2153), tensor(0.2173), tensor(0.2194), tensor(0.2143), tensor(0.2117), tensor(0.2089), tensor(0.2179), tensor(0.2183), tensor(0.2149), tensor(0.2155), tensor(0.2117), tensor(0.2147), tensor(0.2161), tensor(0.2181), tensor(0.2175), tensor(0.2171), tensor(0.2175), tensor(0.2185), tensor(0.2167), tensor(0.2109), tensor(0.2165), tensor(0.2187), tensor(0.2175), tensor(0.2181), tensor(0.2105), tensor(0.2192), tensor(0.2145), tensor(0.2210), tensor(0.2202), tensor(0.2188), tensor(0.2135), tensor(0.2202), tensor(0.2206), tensor(0.2177), tensor(0.2149), tensor(0.2240), tensor(0.2187), tensor(0.2157), tensor(0.2173), tensor(0.2135), tensor(0.2155), tensor(0.2181), tensor(0.2169), tensor(0.2204), tensor(0.2185), tensor(0.2220), tensor(0.2173), tensor(0.2224), tensor(0.2224), tensor(0.2216), tensor(0.2220), tensor(0.2171), tensor(0.2131), tensor(0.2200), tensor(0.2153), tensor(0.2198), tensor(0.2179), tensor(0.2167)]\n",
      "[tensor(0.1445), tensor(0.1452), tensor(0.1479), tensor(0.1498), tensor(0.1431), tensor(0.1478), tensor(0.1457), tensor(0.1475), tensor(0.1478), tensor(0.1486), tensor(0.1501), tensor(0.1526), tensor(0.1540), tensor(0.1588), tensor(0.1599), tensor(0.1628), tensor(0.1616), tensor(0.1668), tensor(0.1676), tensor(0.1695), tensor(0.1697), tensor(0.1698), tensor(0.1703), tensor(0.1752), tensor(0.1745), tensor(0.1707), tensor(0.1772), tensor(0.1759), tensor(0.1808), tensor(0.1806), tensor(0.1854), tensor(0.1853), tensor(0.1843), tensor(0.1846), tensor(0.1841), tensor(0.1860), tensor(0.1908), tensor(0.1862), tensor(0.1934), tensor(0.1885), tensor(0.1955), tensor(0.1966), tensor(0.1985), tensor(0.1994), tensor(0.2001), tensor(0.1993), tensor(0.1971), tensor(0.2043), tensor(0.2068), tensor(0.2055), tensor(0.2004), tensor(0.2054), tensor(0.2058), tensor(0.2063), tensor(0.2067), tensor(0.2074), tensor(0.2056), tensor(0.2098), tensor(0.2103), tensor(0.2081), tensor(0.2095), tensor(0.2097), tensor(0.2127), tensor(0.2137), tensor(0.2115), tensor(0.2207), tensor(0.2177), tensor(0.2166), tensor(0.2162), tensor(0.2187), tensor(0.2161), tensor(0.2200), tensor(0.2186), tensor(0.2201), tensor(0.2294), tensor(0.2226), tensor(0.2246), tensor(0.2261), tensor(0.2268), tensor(0.2296), tensor(0.2237), tensor(0.2275), tensor(0.2282), tensor(0.2272), tensor(0.2277), tensor(0.2273), tensor(0.2297), tensor(0.2302), tensor(0.2299), tensor(0.2295), tensor(0.2270), tensor(0.2294), tensor(0.2286), tensor(0.2331), tensor(0.2395), tensor(0.2358), tensor(0.2331), tensor(0.2304), tensor(0.2383), tensor(0.2345), tensor(0.2314), tensor(0.2370), tensor(0.2359), tensor(0.2356), tensor(0.2325), tensor(0.2386), tensor(0.2382), tensor(0.2376), tensor(0.2371), tensor(0.2419), tensor(0.2431), tensor(0.2436), tensor(0.2359), tensor(0.2423), tensor(0.2393), tensor(0.2485), tensor(0.2416), tensor(0.2431), tensor(0.2446), tensor(0.2447), tensor(0.2436), tensor(0.2479), tensor(0.2492), tensor(0.2476), tensor(0.2441), tensor(0.2450), tensor(0.2447), tensor(0.2496), tensor(0.2470), tensor(0.2479), tensor(0.2427), tensor(0.2507), tensor(0.2487), tensor(0.2494), tensor(0.2453), tensor(0.2448), tensor(0.2494), tensor(0.2467), tensor(0.2530), tensor(0.2478), tensor(0.2461), tensor(0.2526), tensor(0.2492), tensor(0.2538), tensor(0.2505), tensor(0.2517), tensor(0.2502), tensor(0.2468), tensor(0.2553), tensor(0.2564), tensor(0.2521), tensor(0.2539), tensor(0.2564), tensor(0.2559), tensor(0.2564), tensor(0.2573), tensor(0.2531), tensor(0.2537), tensor(0.2579), tensor(0.2547), tensor(0.2559), tensor(0.2598), tensor(0.2582), tensor(0.2604), tensor(0.2583), tensor(0.2561), tensor(0.2591), tensor(0.2565), tensor(0.2553), tensor(0.2560), tensor(0.2571), tensor(0.2640), tensor(0.2562), tensor(0.2605), tensor(0.2598), tensor(0.2594), tensor(0.2631), tensor(0.2593), tensor(0.2628), tensor(0.2525), tensor(0.2670), tensor(0.2596), tensor(0.2608), tensor(0.2657), tensor(0.2600), tensor(0.2628), tensor(0.2624), tensor(0.2666), tensor(0.2663), tensor(0.2603), tensor(0.2598), tensor(0.2720), tensor(0.2638), tensor(0.2691), tensor(0.2634), tensor(0.2690), tensor(0.2643), tensor(0.2662), tensor(0.2648), tensor(0.2667), tensor(0.2662), tensor(0.2695), tensor(0.2661), tensor(0.2648), tensor(0.2653), tensor(0.2679), tensor(0.2699), tensor(0.2664), tensor(0.2709), tensor(0.2669), tensor(0.2685), tensor(0.2662), tensor(0.2676), tensor(0.2727), tensor(0.2667), tensor(0.2684), tensor(0.2623), tensor(0.2677), tensor(0.2723), tensor(0.2708), tensor(0.2690), tensor(0.2685), tensor(0.2719), tensor(0.2669), tensor(0.2696), tensor(0.2656), tensor(0.2656), tensor(0.2690), tensor(0.2673), tensor(0.2718), tensor(0.2738), tensor(0.2719), tensor(0.2705), tensor(0.2665), tensor(0.2751), tensor(0.2756), tensor(0.2739), tensor(0.2736), tensor(0.2729), tensor(0.2714), tensor(0.2760), tensor(0.2711), tensor(0.2722), tensor(0.2715), tensor(0.2736), tensor(0.2690), tensor(0.2754), tensor(0.2731), tensor(0.2718), tensor(0.2721), tensor(0.2712), tensor(0.2736), tensor(0.2707), tensor(0.2757), tensor(0.2768), tensor(0.2717), tensor(0.2720), tensor(0.2720), tensor(0.2712), tensor(0.2685), tensor(0.2750), tensor(0.2737), tensor(0.2760), tensor(0.2747), tensor(0.2737), tensor(0.2727), tensor(0.2759), tensor(0.2772), tensor(0.2746), tensor(0.2769), tensor(0.2725), tensor(0.2751), tensor(0.2762), tensor(0.2714), tensor(0.2784), tensor(0.2737), tensor(0.2786), tensor(0.2734), tensor(0.2733), tensor(0.2732), tensor(0.2765), tensor(0.2757), tensor(0.2787), tensor(0.2753), tensor(0.2810), tensor(0.2746), tensor(0.2798), tensor(0.2801), tensor(0.2808), tensor(0.2792), tensor(0.2806), tensor(0.2798), tensor(0.2815), tensor(0.2784), tensor(0.2767), tensor(0.2805), tensor(0.2823), tensor(0.2828), tensor(0.2794), tensor(0.2831), tensor(0.2746), tensor(0.2798), tensor(0.2782), tensor(0.2814), tensor(0.2794), tensor(0.2812), tensor(0.2792), tensor(0.2818), tensor(0.2844), tensor(0.2779), tensor(0.2745), tensor(0.2773), tensor(0.2820), tensor(0.2777), tensor(0.2803), tensor(0.2839), tensor(0.2828), tensor(0.2808), tensor(0.2798), tensor(0.2826), tensor(0.2819), tensor(0.2816), tensor(0.2741), tensor(0.2827), tensor(0.2855), tensor(0.2792), tensor(0.2849), tensor(0.2867), tensor(0.2808), tensor(0.2786), tensor(0.2857), tensor(0.2810), tensor(0.2805), tensor(0.2838), tensor(0.2867), tensor(0.2827), tensor(0.2807), tensor(0.2807), tensor(0.2781), tensor(0.2823), tensor(0.2807), tensor(0.2812), tensor(0.2820), tensor(0.2781), tensor(0.2820), tensor(0.2819), tensor(0.2849), tensor(0.2822), tensor(0.2836), tensor(0.2821), tensor(0.2831), tensor(0.2865), tensor(0.2861), tensor(0.2838), tensor(0.2830), tensor(0.2901), tensor(0.2786), tensor(0.2846), tensor(0.2873), tensor(0.2880), tensor(0.2797), tensor(0.2885), tensor(0.2815), tensor(0.2846), tensor(0.2825), tensor(0.2832), tensor(0.2851), tensor(0.2844), tensor(0.2830), tensor(0.2892), tensor(0.2820), tensor(0.2915), tensor(0.2834), tensor(0.2857), tensor(0.2831), tensor(0.2885), tensor(0.2853), tensor(0.2798), tensor(0.2810), tensor(0.2909), tensor(0.2815), tensor(0.2844), tensor(0.2878), tensor(0.2856), tensor(0.2866), tensor(0.2861), tensor(0.2868), tensor(0.2892), tensor(0.2851), tensor(0.2857), tensor(0.2895), tensor(0.2888), tensor(0.2863), tensor(0.2798), tensor(0.2874), tensor(0.2911), tensor(0.2914), tensor(0.2812), tensor(0.2858), tensor(0.2892), tensor(0.2882), tensor(0.2886), tensor(0.2897), tensor(0.2899), tensor(0.2891), tensor(0.2902), tensor(0.2902), tensor(0.2922), tensor(0.2880), tensor(0.2894), tensor(0.2856), tensor(0.2874), tensor(0.2911), tensor(0.2905), tensor(0.2888), tensor(0.2919), tensor(0.2845), tensor(0.2917), tensor(0.2878), tensor(0.2922), tensor(0.2897), tensor(0.2926), tensor(0.2906), tensor(0.2907), tensor(0.2893), tensor(0.2920), tensor(0.2940), tensor(0.2932), tensor(0.2920), tensor(0.2875), tensor(0.2876), tensor(0.2935), tensor(0.2929), tensor(0.2885), tensor(0.2954), tensor(0.2866), tensor(0.2933), tensor(0.2921), tensor(0.2922), tensor(0.2859), tensor(0.2942), tensor(0.2943), tensor(0.2918), tensor(0.2880), tensor(0.2900), tensor(0.2987), tensor(0.2939), tensor(0.2958), tensor(0.2909), tensor(0.2891), tensor(0.2898), tensor(0.2920), tensor(0.2841), tensor(0.2909), tensor(0.2901), tensor(0.2911), tensor(0.2902), tensor(0.2900), tensor(0.2958), tensor(0.2913), tensor(0.2914), tensor(0.2895), tensor(0.2948), tensor(0.2882), tensor(0.2976), tensor(0.2954), tensor(0.2949), tensor(0.2946), tensor(0.2917), tensor(0.2976), tensor(0.2961), tensor(0.2955), tensor(0.2945), tensor(0.2970), tensor(0.2967), tensor(0.2925), tensor(0.2950), tensor(0.2978), tensor(0.2947), tensor(0.2975), tensor(0.2905), tensor(0.2953), tensor(0.2948), tensor(0.2884), tensor(0.2912), tensor(0.2929), tensor(0.2953), tensor(0.2956), tensor(0.2938), tensor(0.2884), tensor(0.2938), tensor(0.2958), tensor(0.2975), tensor(0.2942), tensor(0.2948), tensor(0.2952), tensor(0.2954), tensor(0.2938), tensor(0.2950), tensor(0.2914), tensor(0.2978), tensor(0.2959), tensor(0.2968), tensor(0.3001), tensor(0.2912), tensor(0.2977), tensor(0.2978), tensor(0.2951), tensor(0.2937), tensor(0.3015), tensor(0.2949), tensor(0.3001), tensor(0.3027), tensor(0.2955), tensor(0.2942), tensor(0.2981), tensor(0.2990), tensor(0.2952), tensor(0.2981), tensor(0.2938), tensor(0.2927), tensor(0.2914), tensor(0.2963), tensor(0.2962), tensor(0.2984), tensor(0.2962), tensor(0.2965), tensor(0.2990), tensor(0.2989), tensor(0.2980), tensor(0.2967), tensor(0.2976), tensor(0.2989), tensor(0.2949), tensor(0.3016), tensor(0.2967), tensor(0.2958), tensor(0.2965), tensor(0.3003), tensor(0.2933), tensor(0.2971), tensor(0.2957), tensor(0.3017), tensor(0.3015), tensor(0.2977), tensor(0.3008), tensor(0.2978), tensor(0.2959), tensor(0.2967), tensor(0.3009), tensor(0.2989), tensor(0.2974), tensor(0.2990), tensor(0.2970), tensor(0.2925), tensor(0.3031), tensor(0.2978), tensor(0.3024), tensor(0.2978), tensor(0.2947), tensor(0.2981), tensor(0.3015), tensor(0.2952), tensor(0.3012), tensor(0.3009), tensor(0.3052), tensor(0.2999), tensor(0.2990), tensor(0.2994), tensor(0.2957), tensor(0.3001), tensor(0.2969), tensor(0.2994), tensor(0.2963), tensor(0.2983), tensor(0.3000), tensor(0.3033), tensor(0.2979), tensor(0.3006), tensor(0.2978), tensor(0.3023), tensor(0.2972), tensor(0.2939), tensor(0.3001), tensor(0.3047), tensor(0.3011), tensor(0.2990), tensor(0.3008), tensor(0.2981), tensor(0.3012), tensor(0.2968), tensor(0.3026), tensor(0.2996), tensor(0.3014), tensor(0.3022), tensor(0.3033), tensor(0.3008), tensor(0.2972), tensor(0.2978), tensor(0.2984), tensor(0.3006), tensor(0.2982), tensor(0.2963), tensor(0.2979), tensor(0.3014), tensor(0.3009), tensor(0.3007), tensor(0.3022), tensor(0.2976), tensor(0.3005), tensor(0.2988), tensor(0.3074), tensor(0.3035), tensor(0.2970), tensor(0.3059), tensor(0.3079), tensor(0.2951), tensor(0.3017), tensor(0.3069), tensor(0.3022), tensor(0.3016), tensor(0.3040), tensor(0.2977), tensor(0.3059), tensor(0.3068), tensor(0.3011), tensor(0.2997), tensor(0.2957), tensor(0.2984), tensor(0.2964), tensor(0.3051), tensor(0.2979), tensor(0.3018), tensor(0.3029), tensor(0.3000), tensor(0.3037), tensor(0.3070), tensor(0.3037), tensor(0.3032), tensor(0.3038), tensor(0.3017), tensor(0.3037), tensor(0.3002), tensor(0.2987), tensor(0.3062), tensor(0.3013), tensor(0.2987), tensor(0.2994), tensor(0.3041), tensor(0.2976), tensor(0.3001), tensor(0.2997), tensor(0.3031), tensor(0.3029), tensor(0.3053), tensor(0.3017), tensor(0.3028), tensor(0.3048), tensor(0.3070), tensor(0.3035), tensor(0.3003), tensor(0.3022), tensor(0.3026), tensor(0.3062), tensor(0.3015), tensor(0.3030), tensor(0.3034), tensor(0.3049), tensor(0.3082), tensor(0.3033), tensor(0.3032), tensor(0.3004), tensor(0.3044), tensor(0.3026), tensor(0.3046), tensor(0.3013), tensor(0.3044), tensor(0.2990), tensor(0.3024), tensor(0.3041), tensor(0.3049), tensor(0.3050), tensor(0.3011), tensor(0.3044), tensor(0.3007), tensor(0.3113), tensor(0.3008), tensor(0.2998), tensor(0.3051), tensor(0.3068), tensor(0.3033), tensor(0.3058), tensor(0.3023), tensor(0.3018), tensor(0.3002), tensor(0.3026), tensor(0.3038), tensor(0.3026), tensor(0.3021), tensor(0.3051), tensor(0.3074), tensor(0.3071), tensor(0.3011), tensor(0.3092), tensor(0.3077), tensor(0.3063), tensor(0.3014), tensor(0.3025), tensor(0.3063), tensor(0.3066), tensor(0.3048), tensor(0.3079), tensor(0.3060), tensor(0.3050), tensor(0.3027), tensor(0.3062), tensor(0.3123), tensor(0.3059), tensor(0.3023), tensor(0.3053), tensor(0.3055), tensor(0.3090), tensor(0.3083), tensor(0.3064), tensor(0.3093), tensor(0.3061), tensor(0.3063), tensor(0.3041), tensor(0.3000), tensor(0.3048), tensor(0.3056), tensor(0.3086), tensor(0.3075), tensor(0.3100), tensor(0.3011), tensor(0.3052), tensor(0.3058), tensor(0.3100), tensor(0.3046), tensor(0.3063), tensor(0.3024), tensor(0.3065), tensor(0.3116), tensor(0.3036), tensor(0.3075), tensor(0.3084), tensor(0.3064), tensor(0.3066), tensor(0.3124), tensor(0.3044), tensor(0.3070), tensor(0.3101), tensor(0.3052), tensor(0.3104), tensor(0.3076), tensor(0.3117), tensor(0.3077), tensor(0.3030), tensor(0.3056), tensor(0.3102), tensor(0.3070), tensor(0.3094), tensor(0.3069), tensor(0.3098), tensor(0.3015), tensor(0.3073), tensor(0.3040), tensor(0.3052), tensor(0.3067), tensor(0.3057), tensor(0.3072), tensor(0.3070), tensor(0.3089), tensor(0.3089), tensor(0.3053), tensor(0.3080), tensor(0.3088), tensor(0.3071), tensor(0.3102), tensor(0.3095), tensor(0.3022), tensor(0.3087), tensor(0.3052), tensor(0.3096), tensor(0.3031), tensor(0.3110), tensor(0.3115), tensor(0.3085), tensor(0.3067), tensor(0.3115), tensor(0.3059), tensor(0.3117), tensor(0.3081), tensor(0.3088), tensor(0.3049), tensor(0.3073), tensor(0.3056), tensor(0.3027), tensor(0.3075), tensor(0.3059), tensor(0.3026), tensor(0.3071), tensor(0.3067), tensor(0.3081), tensor(0.3090), tensor(0.3082), tensor(0.3040), tensor(0.3049), tensor(0.3042), tensor(0.3049), tensor(0.3044), tensor(0.3090), tensor(0.3064), tensor(0.3078), tensor(0.3126), tensor(0.3078), tensor(0.3103), tensor(0.3063), tensor(0.3068), tensor(0.3092), tensor(0.3063), tensor(0.3079), tensor(0.3084), tensor(0.3068), tensor(0.3106), tensor(0.3079), tensor(0.3097), tensor(0.3056), tensor(0.3100), tensor(0.3104), tensor(0.3086), tensor(0.3170), tensor(0.3066), tensor(0.3110), tensor(0.3129), tensor(0.3098), tensor(0.3115), tensor(0.3061), tensor(0.3111), tensor(0.3049), tensor(0.3124), tensor(0.3068), tensor(0.3022), tensor(0.3081), tensor(0.3156), tensor(0.3075), tensor(0.3048), tensor(0.3096), tensor(0.3156), tensor(0.3065), tensor(0.3139), tensor(0.3075), tensor(0.3110), tensor(0.3122), tensor(0.3092), tensor(0.3126), tensor(0.3118), tensor(0.3150), tensor(0.3124), tensor(0.3065), tensor(0.3130), tensor(0.3133), tensor(0.3076), tensor(0.3131), tensor(0.3113), tensor(0.3107), tensor(0.3165), tensor(0.3117), tensor(0.3119), tensor(0.3114), tensor(0.3152), tensor(0.3080), tensor(0.3118), tensor(0.3117), tensor(0.3108), tensor(0.3109), tensor(0.3131), tensor(0.3111), tensor(0.3087), tensor(0.3173), tensor(0.3083), tensor(0.3120), tensor(0.3099), tensor(0.3094), tensor(0.3087), tensor(0.3074), tensor(0.3082), tensor(0.3124), tensor(0.3027), tensor(0.3133), tensor(0.3158), tensor(0.3162), tensor(0.3144), tensor(0.3125), tensor(0.3098), tensor(0.3112), tensor(0.3107), tensor(0.3118), tensor(0.3152), tensor(0.3104), tensor(0.3118), tensor(0.3122), tensor(0.3076), tensor(0.3070), tensor(0.3099), tensor(0.3133), tensor(0.3142), tensor(0.3107), tensor(0.3145), tensor(0.3168), tensor(0.3100), tensor(0.3132), tensor(0.3132), tensor(0.3096), tensor(0.3146), tensor(0.3098), tensor(0.3114), tensor(0.3158), tensor(0.3125), tensor(0.3169), tensor(0.3149), tensor(0.3116), tensor(0.3188), tensor(0.3039), tensor(0.3098), tensor(0.3154), tensor(0.3119), tensor(0.3134), tensor(0.3121), tensor(0.3130), tensor(0.3165), tensor(0.3101), tensor(0.3150), tensor(0.3078), tensor(0.3147), tensor(0.3083), tensor(0.3108), tensor(0.3137), tensor(0.3103), tensor(0.3066), tensor(0.3114), tensor(0.3169), tensor(0.3159), tensor(0.3141), tensor(0.3172), tensor(0.3048), tensor(0.3178), tensor(0.3129), tensor(0.3124), tensor(0.3161), tensor(0.3143), tensor(0.3105), tensor(0.3140), tensor(0.3132), tensor(0.3131), tensor(0.3151), tensor(0.3124), tensor(0.3138), tensor(0.3108), tensor(0.3163), tensor(0.3113), tensor(0.3130), tensor(0.3136), tensor(0.3101), tensor(0.3099), tensor(0.3141), tensor(0.3131), tensor(0.3085), tensor(0.3155), tensor(0.3098), tensor(0.3167), tensor(0.3154), tensor(0.3176), tensor(0.3134), tensor(0.3183), tensor(0.3107), tensor(0.3156), tensor(0.3162), tensor(0.3185), tensor(0.3129), tensor(0.3196), tensor(0.3117), tensor(0.3121), tensor(0.3053), tensor(0.3188), tensor(0.3163), tensor(0.3113), tensor(0.3104), tensor(0.3125), tensor(0.3163), tensor(0.3168), tensor(0.3148), tensor(0.3125), tensor(0.3168), tensor(0.3140), tensor(0.3122), tensor(0.3111), tensor(0.3184), tensor(0.3122), tensor(0.3172)]\n"
     ]
    }
   ],
   "source": [
    "test=[]\n",
    "train=[]\n",
    "for i in range(len(train_acc)):\n",
    "    train.append(train_acc[i].to('cpu'))\n",
    "    test.append(test_acc[i].to('cpu'))\n",
    "print(test)\n",
    "print(train)"
   ]
  },
  {
   "cell_type": "code",
   "execution_count": null,
   "id": "dfc4122a",
   "metadata": {},
   "outputs": [
    {
     "data": {
      "text/plain": [
       "[<matplotlib.lines.Line2D at 0x2870fc6cb90>]"
      ]
     },
     "execution_count": 26,
     "metadata": {},
     "output_type": "execute_result"
    },
    {
     "data": {
      "image/png": "[encoded data removed]",
      "text/plain": [
       "<Figure size 640x480 with 1 Axes>"
      ]
     },
     "metadata": {},
     "output_type": "display_data"
    }
   ],
   "source": [
    "plt.plot(train)\n",
    "plt.plot(test)"
   ]
  }
 ],
 "metadata": {
  "kernelspec": {
   "display_name": ".venv",
   "language": "python",
   "name": "python3"
  },
  "language_info": {
   "codemirror_mode": {
    "name": "ipython",
    "version": 3
   },
   "file_extension": ".py",
   "mimetype": "text/x-python",
   "name": "python",
   "nbconvert_exporter": "python",
   "pygments_lexer": "ipython3",
   "version": "3.13.5"
  }
 },
 "nbformat": 4,
 "nbformat_minor": 5
}
